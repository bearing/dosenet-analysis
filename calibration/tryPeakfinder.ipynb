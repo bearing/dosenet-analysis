{
 "cells": [
  {
   "cell_type": "code",
   "execution_count": 1,
   "metadata": {
    "collapsed": true
   },
   "outputs": [],
   "source": [
    "import numpy as np\n",
    "import matplotlib.pyplot as plt\n",
    "from scipy.optimize import curve_fit\n",
    "\n",
    "csv = np.genfromtxt('uranium_test_2019-02-19_D3S.csv', delimiter= \",\").T"
   ]
  },
  {
   "cell_type": "code",
   "execution_count": 19,
   "metadata": {},
   "outputs": [
    {
     "data": {
      "image/png": "[encoded data removed]",
      "text/plain": [
       "<matplotlib.figure.Figure at 0x1f7c1183f28>"
      ]
     },
     "metadata": {},
     "output_type": "display_data"
    }
   ],
   "source": [
    "summed = np.sum(csv, axis=1)\n",
    "plt.plot(summed)\n",
    "plt.yscale('log')\n",
    "plt.show()"
   ]
  },
  {
   "cell_type": "code",
   "execution_count": 72,
   "metadata": {},
   "outputs": [
    {
     "name": "stdout",
     "output_type": "stream",
     "text": [
      "[3, 6, 9, 12, 15, 18, 21, 24, 27, 30, 33, 36, 39, 42, 45, 48, 51, 54, 57, 60, 63, 66, 69, 72, 75, 78, 81, 84, 111, 114, 117, 3053, 3061, 3064, 3235, 3333, 3399, 3411, 3423, 3499, 3531, 3620, 3623, 3719, 3751, 3760, 3773, 3794, 3797, 3816, 3819, 3829, 3837, 3840, 3843, 3846, 3853, 3864, 3867, 3870, 3893, 3896, 3926, 3929, 3932, 3935, 3943, 3946, 3953, 3956, 3964, 3972, 3975, 3983, 3992, 3995, 3998, 4001, 4008, 4011, 4014, 4017, 4020, 4027, 4030, 4056, 4059, 4062, 4077]\n"
     ]
    }
   ],
   "source": [
    "def reset(r1, r2, c, l1, l2):\n",
    "    r1, r2, c, l1, l2 = float('-inf'), float('-inf'), float('-inf'), float('-inf'), float('-inf')\n",
    "\n",
    "def checkShape(i, data, r=5):\n",
    "    sweep = [data[i + dx] for dx in range(-r, r+1)]\n",
    "    prev=sweep[r]\n",
    "    for k in range(1, r+1):\n",
    "        if sweep[r-k] > prev:\n",
    "            return False\n",
    "        prev = sweep[r-k]\n",
    "    prev=sweep[r]\n",
    "    for k in range(1, r+1):\n",
    "        if sweep[r+k] < prev:\n",
    "            return False\n",
    "        prev = sweep[r+k]\n",
    "    return True\n",
    "def sweepRight(data):\n",
    "    bubbles = []\n",
    "    l2 = float('-inf')\n",
    "    l1 = float('-inf')\n",
    "    c = float('-inf')\n",
    "    r1 = float('-inf')\n",
    "    r2 = float('-inf')\n",
    "    for i in range(4, len(data)):\n",
    "        r2=data[i]\n",
    "        r1=data[i-1]\n",
    "        c=data[i-2]\n",
    "        l1=data[i-3]\n",
    "        l2=data[i-4]\n",
    "        if l2 < l1 and l1 < c and c > r1 and r1 > r2:\n",
    "            bubbles.append(i-2)\n",
    "            reset(r1, r2, c, l1, l2)\n",
    "    return bubbles\n",
    "def sweepLeft(data, r=2):\n",
    "    bubbles = []\n",
    "    index = r\n",
    "    while index < len(data) - r:\n",
    "        if checkShape(index, data, r):\n",
    "            bubbles.append(index)\n",
    "            index = index + r\n",
    "        else:\n",
    "            index += 1\n",
    "    return bubbles\n",
    "    \n",
    "rdots = sweepRight(summed)\n",
    "ldots = sweepLeft(summed, 3)\n",
    "print(ldots)"
   ]
  },
  {
   "cell_type": "code",
   "execution_count": null,
   "metadata": {
    "collapsed": true
   },
   "outputs": [],
   "source": []
  },
  {
   "cell_type": "code",
   "execution_count": 79,
   "metadata": {},
   "outputs": [
    {
     "name": "stdout",
     "output_type": "stream",
     "text": [
      "[2, 4, 6, 8, 10, 12, 14, 16, 18, 20, 22, 24, 26, 28, 30, 32, 34, 36, 38, 40, 42, 44, 46, 48, 50, 52, 54, 56, 58, 60, 62, 64, 66, 68, 70, 72, 74, 76, 78, 80, 82, 84, 86, 96, 110, 112, 114, 116, 118, 120, 312, 319, 481, 492, 581, 634, 730, 896, 923, 959, 1083, 1109, 1175, 1228, 1328, 1420, 1567, 1631, 1784, 1807, 2156, 2185, 2248, 2369, 2433, 2582, 2653, 2705, 2820, 2881, 2902, 2947, 3002, 3014, 3052, 3054, 3060, 3062, 3064, 3136, 3158, 3176, 3228, 3234, 3236, 3332, 3334, 3340, 3348, 3373, 3383, 3398, 3400, 3405, 3410, 3412, 3422, 3424, 3431, 3453, 3463, 3475, 3483, 3498, 3500, 3515, 3523, 3530, 3532, 3534, 3542, 3574, 3589, 3597, 3613, 3619, 3621, 3623, 3629, 3650, 3702, 3712, 3718, 3720, 3731, 3741, 3750, 3752, 3754, 3759, 3761, 3766, 3772, 3774, 3783, 3788, 3793, 3795, 3797, 3803, 3815, 3817, 3819, 3828, 3830, 3836, 3838, 3840, 3842, 3844, 3846, 3852, 3854, 3863, 3865, 3867, 3869, 3871, 3876, 3886, 3892, 3894, 3896, 3902, 3919, 3925, 3927, 3929, 3931, 3933, 3935, 3937, 3942, 3944, 3946, 3952, 3954, 3956, 3958, 3963, 3965, 3971, 3973, 3975, 3977, 3982, 3984, 3991, 3993, 3995, 3997, 3999, 4001, 4007, 4009, 4011, 4013, 4015, 4017, 4019, 4021, 4026, 4028, 4030, 4040, 4046, 4055, 4057, 4059, 4061, 4063, 4070, 4076, 4078, 4086, 4092]\n"
     ]
    },
    {
     "data": {
      "image/png": "[encoded data removed]",
      "text/plain": [
       "<matplotlib.figure.Figure at 0x1f7c1137748>"
      ]
     },
     "metadata": {},
     "output_type": "display_data"
    }
   ],
   "source": [
    "ldots = sweepLeft(summed,2)\n",
    "print(ldots)\n",
    "plt.plot(summed)\n",
    "#plt.plot(rdots, summed[rdots], 'r.')\n",
    "plt.plot(ldots, summed[ldots], 'r.')\n",
    "plt.yscale('log')\n",
    "plt.show()"
   ]
  },
  {
   "cell_type": "code",
   "execution_count": 34,
   "metadata": {},
   "outputs": [
    {
     "name": "stdout",
     "output_type": "stream",
     "text": [
      "1302 1276 1060\n"
     ]
    }
   ],
   "source": [
    "print(len(rdots), len(ldots), len(inter))\n"
   ]
  },
  {
   "cell_type": "code",
   "execution_count": null,
   "metadata": {
    "collapsed": true
   },
   "outputs": [],
   "source": []
  }
 ],
 "metadata": {
  "kernelspec": {
   "display_name": "Python 3",
   "language": "python",
   "name": "python3"
  },
  "language_info": {
   "codemirror_mode": {
    "name": "ipython",
    "version": 3
   },
   "file_extension": ".py",
   "mimetype": "text/x-python",
   "name": "python",
   "nbconvert_exporter": "python",
   "pygments_lexer": "ipython3",
   "version": "3.6.3"
  }
 },
 "nbformat": 4,
 "nbformat_minor": 2
}
