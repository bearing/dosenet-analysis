{
 "cells": [
  {
   "cell_type": "code",
   "execution_count": 1,
   "metadata": {},
   "outputs": [],
   "source": [
    "import plotly.graph_objects as go\n",
    "import plotly\n",
    "import plotly.io as pio\n",
    "import pandas as pd\n",
    "import numpy as np\n",
    "import io\n",
    "import os\n",
    "import requests\n",
    "from itertools import accumulate\n",
    "import datetime\n",
    "from scipy.stats import pearsonr\n",
    "from scipy.stats import spearmanr"
   ]
  },
  {
   "cell_type": "code",
   "execution_count": 2,
   "metadata": {},
   "outputs": [],
   "source": [
    "def get_url(location_name):\n",
    "    '''Gets the csv location data from radwatch downloads. '''\n",
    "    \n",
    "    url = 'https://radwatch.berkeley.edu/test/dosenet/' + location_name + '.csv'\n",
    "\n",
    "    header = {\n",
    "      \"User-Agent\": \"Mozilla/5.0 (X11; Linux x86_64) AppleWebKit/537.36 (KHTML, like Gecko) Chrome/50.0.2661.75 Safari/537.36\",\n",
    "      \"X-Requested-With\": \"XMLHttpRequest\"\n",
    "    }\n",
    "    \n",
    "    s=requests.get(url,headers=header).text\n",
    "    raw_cpm_data = pd.read_csv(io.StringIO(s))\n",
    "    \n",
    "    return raw_cpm_data"
   ]
  },
  {
   "cell_type": "code",
   "execution_count": 3,
   "metadata": {},
   "outputs": [],
   "source": [
    "def compare_length(dataset1, dataset2):\n",
    "    max1 = max(dataset1)\n",
    "    min1 = min(dataset1)\n",
    "    max2 = max(dataset2)\n",
    "    min2 = min(dataset2)\n",
    "    fmax = None\n",
    "    fmin = None\n",
    "    \n",
    "    if max1 > max2:\n",
    "        if min1 > min2:\n",
    "            fmin = min1\n",
    "            fmax = max2\n",
    "        if min1 < min2:\n",
    "            fmin = min2\n",
    "            fmax = max2\n",
    "        if min1 == min2:\n",
    "            fmin = min1\n",
    "            fmax = max2\n",
    "    if max1 < max2:\n",
    "        if min1 > min2:\n",
    "            fmin = min1\n",
    "            fmax = max1\n",
    "        if min1 < min2:\n",
    "            fmin = min2\n",
    "            fmax = max1\n",
    "        if min1 == min2:\n",
    "            fmin = min2\n",
    "            fmax = max1\n",
    "    if max1 == max2:\n",
    "        if min1 > min2:\n",
    "            fmin = min1\n",
    "            fmax = max1\n",
    "        if min1 < min2:\n",
    "            fmin = min2\n",
    "            fmax = max1\n",
    "        if min1 == min2:\n",
    "            fmin = min1\n",
    "            fmax = max2\n",
    "        \n",
    "    return fmin, fmax"
   ]
  },
  {
   "cell_type": "code",
   "execution_count": 4,
   "metadata": {},
   "outputs": [],
   "source": [
    "explor_data = get_url('exploratorium_adc')"
   ]
  },
  {
   "cell_type": "code",
   "execution_count": 5,
   "metadata": {},
   "outputs": [
    {
     "data": {
      "text/html": [
       "<div>\n",
       "<style scoped>\n",
       "    .dataframe tbody tr th:only-of-type {\n",
       "        vertical-align: middle;\n",
       "    }\n",
       "\n",
       "    .dataframe tbody tr th {\n",
       "        vertical-align: top;\n",
       "    }\n",
       "\n",
       "    .dataframe thead th {\n",
       "        text-align: right;\n",
       "    }\n",
       "</style>\n",
       "<table border=\"1\" class=\"dataframe\">\n",
       "  <thead>\n",
       "    <tr style=\"text-align: right;\">\n",
       "      <th></th>\n",
       "      <th>deviceTime_utc</th>\n",
       "      <th>deviceTime_local</th>\n",
       "      <th>deviceTime_unix</th>\n",
       "      <th>co2_ppm</th>\n",
       "      <th>noise</th>\n",
       "      <th>error_flag</th>\n",
       "    </tr>\n",
       "  </thead>\n",
       "  <tbody>\n",
       "    <tr>\n",
       "      <th>0</th>\n",
       "      <td>2020-02-25 02:06:29+00:00</td>\n",
       "      <td>2020-02-24 18:06:29-08:00</td>\n",
       "      <td>1.582596e+09</td>\n",
       "      <td>763.73</td>\n",
       "      <td>1.38</td>\n",
       "      <td>NaN</td>\n",
       "    </tr>\n",
       "    <tr>\n",
       "      <th>1</th>\n",
       "      <td>2020-02-25 02:01:29+00:00</td>\n",
       "      <td>2020-02-24 18:01:29-08:00</td>\n",
       "      <td>1.582596e+09</td>\n",
       "      <td>720.23</td>\n",
       "      <td>1.41</td>\n",
       "      <td>NaN</td>\n",
       "    </tr>\n",
       "    <tr>\n",
       "      <th>2</th>\n",
       "      <td>2020-02-25 01:56:34+00:00</td>\n",
       "      <td>2020-02-24 17:56:34-08:00</td>\n",
       "      <td>1.582596e+09</td>\n",
       "      <td>749.06</td>\n",
       "      <td>1.40</td>\n",
       "      <td>NaN</td>\n",
       "    </tr>\n",
       "    <tr>\n",
       "      <th>3</th>\n",
       "      <td>2020-02-25 01:56:29+00:00</td>\n",
       "      <td>2020-02-24 17:56:29-08:00</td>\n",
       "      <td>1.582596e+09</td>\n",
       "      <td>749.06</td>\n",
       "      <td>1.40</td>\n",
       "      <td>NaN</td>\n",
       "    </tr>\n",
       "    <tr>\n",
       "      <th>4</th>\n",
       "      <td>2020-02-25 01:51:34+00:00</td>\n",
       "      <td>2020-02-24 17:51:34-08:00</td>\n",
       "      <td>1.582595e+09</td>\n",
       "      <td>750.13</td>\n",
       "      <td>1.38</td>\n",
       "      <td>NaN</td>\n",
       "    </tr>\n",
       "    <tr>\n",
       "      <th>...</th>\n",
       "      <td>...</td>\n",
       "      <td>...</td>\n",
       "      <td>...</td>\n",
       "      <td>...</td>\n",
       "      <td>...</td>\n",
       "      <td>...</td>\n",
       "    </tr>\n",
       "    <tr>\n",
       "      <th>123373</th>\n",
       "      <td>2020-06-16 23:41:22+0000</td>\n",
       "      <td>2020-06-16 16:41:22-0700</td>\n",
       "      <td>1.592351e+09</td>\n",
       "      <td>625.92</td>\n",
       "      <td>1.32</td>\n",
       "      <td>0.0</td>\n",
       "    </tr>\n",
       "    <tr>\n",
       "      <th>123374</th>\n",
       "      <td>2020-06-16 23:46:22+0000</td>\n",
       "      <td>2020-06-16 16:46:22-0700</td>\n",
       "      <td>1.592351e+09</td>\n",
       "      <td>626.40</td>\n",
       "      <td>1.34</td>\n",
       "      <td>0.0</td>\n",
       "    </tr>\n",
       "    <tr>\n",
       "      <th>123375</th>\n",
       "      <td>2020-06-16 23:51:22+0000</td>\n",
       "      <td>2020-06-16 16:51:22-0700</td>\n",
       "      <td>1.592351e+09</td>\n",
       "      <td>630.16</td>\n",
       "      <td>1.33</td>\n",
       "      <td>0.0</td>\n",
       "    </tr>\n",
       "    <tr>\n",
       "      <th>123376</th>\n",
       "      <td>2020-06-16 23:56:22+0000</td>\n",
       "      <td>2020-06-16 16:56:22-0700</td>\n",
       "      <td>1.592352e+09</td>\n",
       "      <td>624.89</td>\n",
       "      <td>1.35</td>\n",
       "      <td>0.0</td>\n",
       "    </tr>\n",
       "    <tr>\n",
       "      <th>123377</th>\n",
       "      <td>2020-06-17 00:01:22+0000</td>\n",
       "      <td>2020-06-16 17:01:22-0700</td>\n",
       "      <td>1.592352e+09</td>\n",
       "      <td>624.38</td>\n",
       "      <td>1.33</td>\n",
       "      <td>0.0</td>\n",
       "    </tr>\n",
       "  </tbody>\n",
       "</table>\n",
       "<p>123378 rows × 6 columns</p>\n",
       "</div>"
      ],
      "text/plain": [
       "                   deviceTime_utc           deviceTime_local  deviceTime_unix  \\\n",
       "0       2020-02-25 02:06:29+00:00  2020-02-24 18:06:29-08:00     1.582596e+09   \n",
       "1       2020-02-25 02:01:29+00:00  2020-02-24 18:01:29-08:00     1.582596e+09   \n",
       "2       2020-02-25 01:56:34+00:00  2020-02-24 17:56:34-08:00     1.582596e+09   \n",
       "3       2020-02-25 01:56:29+00:00  2020-02-24 17:56:29-08:00     1.582596e+09   \n",
       "4       2020-02-25 01:51:34+00:00  2020-02-24 17:51:34-08:00     1.582595e+09   \n",
       "...                           ...                        ...              ...   \n",
       "123373   2020-06-16 23:41:22+0000   2020-06-16 16:41:22-0700     1.592351e+09   \n",
       "123374   2020-06-16 23:46:22+0000   2020-06-16 16:46:22-0700     1.592351e+09   \n",
       "123375   2020-06-16 23:51:22+0000   2020-06-16 16:51:22-0700     1.592351e+09   \n",
       "123376   2020-06-16 23:56:22+0000   2020-06-16 16:56:22-0700     1.592352e+09   \n",
       "123377   2020-06-17 00:01:22+0000   2020-06-16 17:01:22-0700     1.592352e+09   \n",
       "\n",
       "        co2_ppm  noise  error_flag  \n",
       "0        763.73   1.38         NaN  \n",
       "1        720.23   1.41         NaN  \n",
       "2        749.06   1.40         NaN  \n",
       "3        749.06   1.40         NaN  \n",
       "4        750.13   1.38         NaN  \n",
       "...         ...    ...         ...  \n",
       "123373   625.92   1.32         0.0  \n",
       "123374   626.40   1.34         0.0  \n",
       "123375   630.16   1.33         0.0  \n",
       "123376   624.89   1.35         0.0  \n",
       "123377   624.38   1.33         0.0  \n",
       "\n",
       "[123378 rows x 6 columns]"
      ]
     },
     "execution_count": 5,
     "metadata": {},
     "output_type": "execute_result"
    }
   ],
   "source": [
    "explor_data"
   ]
  },
  {
   "cell_type": "code",
   "execution_count": 6,
   "metadata": {},
   "outputs": [],
   "source": [
    "explor_data.sort_values('deviceTime_utc', inplace = True)"
   ]
  },
  {
   "cell_type": "code",
   "execution_count": 7,
   "metadata": {},
   "outputs": [],
   "source": [
    "indexNames = explor_data[explor_data['co2_ppm'] >= 4000].index"
   ]
  },
  {
   "cell_type": "code",
   "execution_count": 8,
   "metadata": {},
   "outputs": [],
   "source": [
    "explor_data.drop(indexNames, inplace = True)"
   ]
  },
  {
   "cell_type": "code",
   "execution_count": 9,
   "metadata": {},
   "outputs": [],
   "source": [
    "beacon = pd.read_csv(r'testing_explor_co2.csv')"
   ]
  },
  {
   "cell_type": "code",
   "execution_count": 10,
   "metadata": {},
   "outputs": [
    {
     "data": {
      "text/html": [
       "<div>\n",
       "<style scoped>\n",
       "    .dataframe tbody tr th:only-of-type {\n",
       "        vertical-align: middle;\n",
       "    }\n",
       "\n",
       "    .dataframe tbody tr th {\n",
       "        vertical-align: top;\n",
       "    }\n",
       "\n",
       "    .dataframe thead th {\n",
       "        text-align: right;\n",
       "    }\n",
       "</style>\n",
       "<table border=\"1\" class=\"dataframe\">\n",
       "  <thead>\n",
       "    <tr style=\"text-align: right;\">\n",
       "      <th></th>\n",
       "      <th>local_timestamp</th>\n",
       "      <th>datetime</th>\n",
       "      <th>node_id</th>\n",
       "      <th>pm_pct_fs</th>\n",
       "      <th>epoch</th>\n",
       "      <th>julian_day</th>\n",
       "      <th>CO2_QC_level</th>\n",
       "      <th>PM_QC_level</th>\n",
       "      <th>CO2_ppm</th>\n",
       "      <th>PM_ug/m3</th>\n",
       "    </tr>\n",
       "  </thead>\n",
       "  <tbody>\n",
       "    <tr>\n",
       "      <th>0</th>\n",
       "      <td>2019-10-06 00:00:00</td>\n",
       "      <td>2019-10-06 07:00:00</td>\n",
       "      <td>48</td>\n",
       "      <td>1.039950</td>\n",
       "      <td>1.570345e+09</td>\n",
       "      <td>279.291667</td>\n",
       "      <td>1a</td>\n",
       "      <td>2</td>\n",
       "      <td>454.0</td>\n",
       "      <td>14.299968</td>\n",
       "    </tr>\n",
       "    <tr>\n",
       "      <th>1</th>\n",
       "      <td>2019-10-06 01:00:00</td>\n",
       "      <td>2019-10-06 08:00:00</td>\n",
       "      <td>48</td>\n",
       "      <td>1.306160</td>\n",
       "      <td>1.570349e+09</td>\n",
       "      <td>279.333333</td>\n",
       "      <td>1a</td>\n",
       "      <td>2</td>\n",
       "      <td>461.9</td>\n",
       "      <td>19.366831</td>\n",
       "    </tr>\n",
       "    <tr>\n",
       "      <th>2</th>\n",
       "      <td>2019-10-06 02:00:00</td>\n",
       "      <td>2019-10-06 09:00:00</td>\n",
       "      <td>48</td>\n",
       "      <td>0.604510</td>\n",
       "      <td>1.570352e+09</td>\n",
       "      <td>279.375000</td>\n",
       "      <td>1a</td>\n",
       "      <td>2</td>\n",
       "      <td>439.6</td>\n",
       "      <td>6.178931</td>\n",
       "    </tr>\n",
       "    <tr>\n",
       "      <th>3</th>\n",
       "      <td>2019-10-06 03:00:00</td>\n",
       "      <td>2019-10-06 10:00:00</td>\n",
       "      <td>48</td>\n",
       "      <td>0.459710</td>\n",
       "      <td>1.570356e+09</td>\n",
       "      <td>279.416667</td>\n",
       "      <td>1a</td>\n",
       "      <td>2</td>\n",
       "      <td>439.8</td>\n",
       "      <td>3.364179</td>\n",
       "    </tr>\n",
       "    <tr>\n",
       "      <th>4</th>\n",
       "      <td>2019-10-06 04:00:00</td>\n",
       "      <td>2019-10-06 11:00:00</td>\n",
       "      <td>48</td>\n",
       "      <td>0.497530</td>\n",
       "      <td>1.570360e+09</td>\n",
       "      <td>279.458333</td>\n",
       "      <td>1a</td>\n",
       "      <td>2</td>\n",
       "      <td>437.1</td>\n",
       "      <td>4.067568</td>\n",
       "    </tr>\n",
       "    <tr>\n",
       "      <th>...</th>\n",
       "      <td>...</td>\n",
       "      <td>...</td>\n",
       "      <td>...</td>\n",
       "      <td>...</td>\n",
       "      <td>...</td>\n",
       "      <td>...</td>\n",
       "      <td>...</td>\n",
       "      <td>...</td>\n",
       "      <td>...</td>\n",
       "      <td>...</td>\n",
       "    </tr>\n",
       "    <tr>\n",
       "      <th>6997</th>\n",
       "      <td>2020-07-28 06:00:00</td>\n",
       "      <td>2020-07-28 13:00:00</td>\n",
       "      <td>48</td>\n",
       "      <td>1.104736</td>\n",
       "      <td>1.595941e+09</td>\n",
       "      <td>210.541667</td>\n",
       "      <td>1a</td>\n",
       "      <td>1a</td>\n",
       "      <td>410.4</td>\n",
       "      <td>15.769889</td>\n",
       "    </tr>\n",
       "    <tr>\n",
       "      <th>6998</th>\n",
       "      <td>2020-07-28 07:00:00</td>\n",
       "      <td>2020-07-28 14:00:00</td>\n",
       "      <td>48</td>\n",
       "      <td>1.201766</td>\n",
       "      <td>1.595945e+09</td>\n",
       "      <td>210.583333</td>\n",
       "      <td>1a</td>\n",
       "      <td>1a</td>\n",
       "      <td>411.5</td>\n",
       "      <td>17.603759</td>\n",
       "    </tr>\n",
       "    <tr>\n",
       "      <th>6999</th>\n",
       "      <td>2020-07-28 08:00:00</td>\n",
       "      <td>2020-07-28 15:00:00</td>\n",
       "      <td>48</td>\n",
       "      <td>1.131931</td>\n",
       "      <td>1.595948e+09</td>\n",
       "      <td>210.625000</td>\n",
       "      <td>1a</td>\n",
       "      <td>1a</td>\n",
       "      <td>409.1</td>\n",
       "      <td>16.283887</td>\n",
       "    </tr>\n",
       "    <tr>\n",
       "      <th>7000</th>\n",
       "      <td>2020-07-28 09:00:00</td>\n",
       "      <td>2020-07-28 16:00:00</td>\n",
       "      <td>48</td>\n",
       "      <td>0.609216</td>\n",
       "      <td>1.595952e+09</td>\n",
       "      <td>210.666667</td>\n",
       "      <td>1a</td>\n",
       "      <td>1a</td>\n",
       "      <td>408.7</td>\n",
       "      <td>6.404558</td>\n",
       "    </tr>\n",
       "    <tr>\n",
       "      <th>7001</th>\n",
       "      <td>2020-07-28 10:00:00</td>\n",
       "      <td>2020-07-28 17:00:00</td>\n",
       "      <td>48</td>\n",
       "      <td>0.381059</td>\n",
       "      <td>1.595956e+09</td>\n",
       "      <td>210.708333</td>\n",
       "      <td>1a</td>\n",
       "      <td>1a</td>\n",
       "      <td>406.5</td>\n",
       "      <td>2.092406</td>\n",
       "    </tr>\n",
       "  </tbody>\n",
       "</table>\n",
       "<p>7002 rows × 10 columns</p>\n",
       "</div>"
      ],
      "text/plain": [
       "          local_timestamp             datetime  node_id  pm_pct_fs  \\\n",
       "0     2019-10-06 00:00:00  2019-10-06 07:00:00       48   1.039950   \n",
       "1     2019-10-06 01:00:00  2019-10-06 08:00:00       48   1.306160   \n",
       "2     2019-10-06 02:00:00  2019-10-06 09:00:00       48   0.604510   \n",
       "3     2019-10-06 03:00:00  2019-10-06 10:00:00       48   0.459710   \n",
       "4     2019-10-06 04:00:00  2019-10-06 11:00:00       48   0.497530   \n",
       "...                   ...                  ...      ...        ...   \n",
       "6997  2020-07-28 06:00:00  2020-07-28 13:00:00       48   1.104736   \n",
       "6998  2020-07-28 07:00:00  2020-07-28 14:00:00       48   1.201766   \n",
       "6999  2020-07-28 08:00:00  2020-07-28 15:00:00       48   1.131931   \n",
       "7000  2020-07-28 09:00:00  2020-07-28 16:00:00       48   0.609216   \n",
       "7001  2020-07-28 10:00:00  2020-07-28 17:00:00       48   0.381059   \n",
       "\n",
       "             epoch  julian_day CO2_QC_level PM_QC_level  CO2_ppm   PM_ug/m3  \n",
       "0     1.570345e+09  279.291667           1a           2    454.0  14.299968  \n",
       "1     1.570349e+09  279.333333           1a           2    461.9  19.366831  \n",
       "2     1.570352e+09  279.375000           1a           2    439.6   6.178931  \n",
       "3     1.570356e+09  279.416667           1a           2    439.8   3.364179  \n",
       "4     1.570360e+09  279.458333           1a           2    437.1   4.067568  \n",
       "...            ...         ...          ...         ...      ...        ...  \n",
       "6997  1.595941e+09  210.541667           1a          1a    410.4  15.769889  \n",
       "6998  1.595945e+09  210.583333           1a          1a    411.5  17.603759  \n",
       "6999  1.595948e+09  210.625000           1a          1a    409.1  16.283887  \n",
       "7000  1.595952e+09  210.666667           1a          1a    408.7   6.404558  \n",
       "7001  1.595956e+09  210.708333           1a          1a    406.5   2.092406  \n",
       "\n",
       "[7002 rows x 10 columns]"
      ]
     },
     "execution_count": 10,
     "metadata": {},
     "output_type": "execute_result"
    }
   ],
   "source": [
    "beacon"
   ]
  },
  {
   "cell_type": "code",
   "execution_count": 11,
   "metadata": {},
   "outputs": [
    {
     "data": {
      "text/plain": [
       "'fig = go.Figure()\\nfig.add_scatter(\\n        x = explor_data[\\'deviceTime_local\\'],\\n        y = explor_data[\\'co2_ppm\\'],\\n        name = \\'explor\\')\\nfig.add_scatter(\\n        x = beacon[\\'local_timestamp\\'],\\n        y = beacon[\\'CO2_ppm\\'],\\n        name = \\'beacon\\')\\nfig.update_layout(plot_bgcolor=\\'white\\',width=1000, height=450, title = \\'Line chart\\')\\nfig.update_yaxes(title=\"air quality\",titlefont=dict(color=\\'black\\', size=20),\\n                showgrid=False,tickcolor=\\'black\\',\\n                tickfont=dict(color=\\'black\\', size=16))\\nfig.update_xaxes(title=\"Time (local) \",titlefont=dict(color=\\'black\\', size=20),\\n                linecolor=\\'black\\',tickfont=dict(color=\\'black\\',size=12))\\nfig.update_layout(legend_orientation=\"h\",\\n                legend=dict(x=0,y=-.2, font=dict(size=13)))\\nfig.update_layout(barmode=\\'group\\')\\n    \\nfig'"
      ]
     },
     "execution_count": 11,
     "metadata": {},
     "output_type": "execute_result"
    }
   ],
   "source": [
    "\"\"\"fig = go.Figure()\n",
    "fig.add_scatter(\n",
    "        x = explor_data['deviceTime_local'],\n",
    "        y = explor_data['co2_ppm'],\n",
    "        name = 'explor')\n",
    "fig.add_scatter(\n",
    "        x = beacon['local_timestamp'],\n",
    "        y = beacon['CO2_ppm'],\n",
    "        name = 'beacon')\n",
    "fig.update_layout(plot_bgcolor='white',width=1000, height=450, title = 'Line chart')\n",
    "fig.update_yaxes(title=\"air quality\",titlefont=dict(color='black', size=20),\n",
    "                showgrid=False,tickcolor='black',\n",
    "                tickfont=dict(color='black', size=16))\n",
    "fig.update_xaxes(title=\"Time (local) \",titlefont=dict(color='black', size=20),\n",
    "                linecolor='black',tickfont=dict(color='black',size=12))\n",
    "fig.update_layout(legend_orientation=\"h\",\n",
    "                legend=dict(x=0,y=-.2, font=dict(size=13)))\n",
    "fig.update_layout(barmode='group')\n",
    "    \n",
    "fig\"\"\""
   ]
  },
  {
   "cell_type": "code",
   "execution_count": 12,
   "metadata": {},
   "outputs": [],
   "source": [
    "etch_roof = get_url('etch_roof_adc')"
   ]
  },
  {
   "cell_type": "code",
   "execution_count": 13,
   "metadata": {},
   "outputs": [
    {
     "data": {
      "text/html": [
       "<div>\n",
       "<style scoped>\n",
       "    .dataframe tbody tr th:only-of-type {\n",
       "        vertical-align: middle;\n",
       "    }\n",
       "\n",
       "    .dataframe tbody tr th {\n",
       "        vertical-align: top;\n",
       "    }\n",
       "\n",
       "    .dataframe thead th {\n",
       "        text-align: right;\n",
       "    }\n",
       "</style>\n",
       "<table border=\"1\" class=\"dataframe\">\n",
       "  <thead>\n",
       "    <tr style=\"text-align: right;\">\n",
       "      <th></th>\n",
       "      <th>deviceTime_utc</th>\n",
       "      <th>deviceTime_local</th>\n",
       "      <th>deviceTime_unix</th>\n",
       "      <th>co2_ppm</th>\n",
       "      <th>noise</th>\n",
       "      <th>error_flag</th>\n",
       "    </tr>\n",
       "  </thead>\n",
       "  <tbody>\n",
       "    <tr>\n",
       "      <th>0</th>\n",
       "      <td>2020-02-24 23:15:40+00:00</td>\n",
       "      <td>2020-02-24 15:15:40-08:00</td>\n",
       "      <td>1582586140</td>\n",
       "      <td>489.59</td>\n",
       "      <td>3.28</td>\n",
       "      <td>NaN</td>\n",
       "    </tr>\n",
       "    <tr>\n",
       "      <th>1</th>\n",
       "      <td>2020-02-24 23:10:40+00:00</td>\n",
       "      <td>2020-02-24 15:10:40-08:00</td>\n",
       "      <td>1582585840</td>\n",
       "      <td>504.69</td>\n",
       "      <td>3.32</td>\n",
       "      <td>NaN</td>\n",
       "    </tr>\n",
       "    <tr>\n",
       "      <th>2</th>\n",
       "      <td>2020-02-24 23:05:40+00:00</td>\n",
       "      <td>2020-02-24 15:05:40-08:00</td>\n",
       "      <td>1582585540</td>\n",
       "      <td>502.81</td>\n",
       "      <td>3.27</td>\n",
       "      <td>NaN</td>\n",
       "    </tr>\n",
       "    <tr>\n",
       "      <th>3</th>\n",
       "      <td>2020-02-24 23:00:45+00:00</td>\n",
       "      <td>2020-02-24 15:00:45-08:00</td>\n",
       "      <td>1582585245</td>\n",
       "      <td>508.80</td>\n",
       "      <td>3.18</td>\n",
       "      <td>NaN</td>\n",
       "    </tr>\n",
       "    <tr>\n",
       "      <th>4</th>\n",
       "      <td>2020-02-24 23:00:40+00:00</td>\n",
       "      <td>2020-02-24 15:00:40-08:00</td>\n",
       "      <td>1582585240</td>\n",
       "      <td>508.80</td>\n",
       "      <td>3.18</td>\n",
       "      <td>NaN</td>\n",
       "    </tr>\n",
       "    <tr>\n",
       "      <th>...</th>\n",
       "      <td>...</td>\n",
       "      <td>...</td>\n",
       "      <td>...</td>\n",
       "      <td>...</td>\n",
       "      <td>...</td>\n",
       "      <td>...</td>\n",
       "    </tr>\n",
       "    <tr>\n",
       "      <th>145835</th>\n",
       "      <td>2017-11-17 19:00:49+00:00</td>\n",
       "      <td>2017-11-17 11:00:49-08:00</td>\n",
       "      <td>1510945249</td>\n",
       "      <td>563.10</td>\n",
       "      <td>3.04</td>\n",
       "      <td>NaN</td>\n",
       "    </tr>\n",
       "    <tr>\n",
       "      <th>145836</th>\n",
       "      <td>2017-11-17 18:55:49+00:00</td>\n",
       "      <td>2017-11-17 10:55:49-08:00</td>\n",
       "      <td>1510944949</td>\n",
       "      <td>563.72</td>\n",
       "      <td>3.04</td>\n",
       "      <td>NaN</td>\n",
       "    </tr>\n",
       "    <tr>\n",
       "      <th>145837</th>\n",
       "      <td>2017-11-17 18:50:49+00:00</td>\n",
       "      <td>2017-11-17 10:50:49-08:00</td>\n",
       "      <td>1510944649</td>\n",
       "      <td>572.51</td>\n",
       "      <td>2.98</td>\n",
       "      <td>NaN</td>\n",
       "    </tr>\n",
       "    <tr>\n",
       "      <th>145838</th>\n",
       "      <td>2017-11-17 18:45:49+00:00</td>\n",
       "      <td>2017-11-17 10:45:49-08:00</td>\n",
       "      <td>1510944349</td>\n",
       "      <td>580.67</td>\n",
       "      <td>2.91</td>\n",
       "      <td>NaN</td>\n",
       "    </tr>\n",
       "    <tr>\n",
       "      <th>145839</th>\n",
       "      <td>2017-11-17 18:40:49+00:00</td>\n",
       "      <td>2017-11-17 10:40:49-08:00</td>\n",
       "      <td>1510944049</td>\n",
       "      <td>544.68</td>\n",
       "      <td>2.99</td>\n",
       "      <td>NaN</td>\n",
       "    </tr>\n",
       "  </tbody>\n",
       "</table>\n",
       "<p>145840 rows × 6 columns</p>\n",
       "</div>"
      ],
      "text/plain": [
       "                   deviceTime_utc           deviceTime_local  deviceTime_unix  \\\n",
       "0       2020-02-24 23:15:40+00:00  2020-02-24 15:15:40-08:00       1582586140   \n",
       "1       2020-02-24 23:10:40+00:00  2020-02-24 15:10:40-08:00       1582585840   \n",
       "2       2020-02-24 23:05:40+00:00  2020-02-24 15:05:40-08:00       1582585540   \n",
       "3       2020-02-24 23:00:45+00:00  2020-02-24 15:00:45-08:00       1582585245   \n",
       "4       2020-02-24 23:00:40+00:00  2020-02-24 15:00:40-08:00       1582585240   \n",
       "...                           ...                        ...              ...   \n",
       "145835  2017-11-17 19:00:49+00:00  2017-11-17 11:00:49-08:00       1510945249   \n",
       "145836  2017-11-17 18:55:49+00:00  2017-11-17 10:55:49-08:00       1510944949   \n",
       "145837  2017-11-17 18:50:49+00:00  2017-11-17 10:50:49-08:00       1510944649   \n",
       "145838  2017-11-17 18:45:49+00:00  2017-11-17 10:45:49-08:00       1510944349   \n",
       "145839  2017-11-17 18:40:49+00:00  2017-11-17 10:40:49-08:00       1510944049   \n",
       "\n",
       "        co2_ppm  noise  error_flag  \n",
       "0        489.59   3.28         NaN  \n",
       "1        504.69   3.32         NaN  \n",
       "2        502.81   3.27         NaN  \n",
       "3        508.80   3.18         NaN  \n",
       "4        508.80   3.18         NaN  \n",
       "...         ...    ...         ...  \n",
       "145835   563.10   3.04         NaN  \n",
       "145836   563.72   3.04         NaN  \n",
       "145837   572.51   2.98         NaN  \n",
       "145838   580.67   2.91         NaN  \n",
       "145839   544.68   2.99         NaN  \n",
       "\n",
       "[145840 rows x 6 columns]"
      ]
     },
     "execution_count": 13,
     "metadata": {},
     "output_type": "execute_result"
    }
   ],
   "source": [
    "etch_roof"
   ]
  },
  {
   "cell_type": "code",
   "execution_count": 14,
   "metadata": {},
   "outputs": [
    {
     "data": {
      "text/html": [
       "<div>\n",
       "<style scoped>\n",
       "    .dataframe tbody tr th:only-of-type {\n",
       "        vertical-align: middle;\n",
       "    }\n",
       "\n",
       "    .dataframe tbody tr th {\n",
       "        vertical-align: top;\n",
       "    }\n",
       "\n",
       "    .dataframe thead th {\n",
       "        text-align: right;\n",
       "    }\n",
       "</style>\n",
       "<table border=\"1\" class=\"dataframe\">\n",
       "  <thead>\n",
       "    <tr style=\"text-align: right;\">\n",
       "      <th></th>\n",
       "      <th>deviceTime_utc</th>\n",
       "      <th>deviceTime_local</th>\n",
       "      <th>deviceTime_unix</th>\n",
       "      <th>co2_ppm</th>\n",
       "      <th>noise</th>\n",
       "      <th>error_flag</th>\n",
       "    </tr>\n",
       "  </thead>\n",
       "  <tbody>\n",
       "    <tr>\n",
       "      <th>145839</th>\n",
       "      <td>2017-11-17 18:40:49+00:00</td>\n",
       "      <td>2017-11-17 10:40:49-08:00</td>\n",
       "      <td>1510944049</td>\n",
       "      <td>544.68</td>\n",
       "      <td>2.99</td>\n",
       "      <td>NaN</td>\n",
       "    </tr>\n",
       "    <tr>\n",
       "      <th>145838</th>\n",
       "      <td>2017-11-17 18:45:49+00:00</td>\n",
       "      <td>2017-11-17 10:45:49-08:00</td>\n",
       "      <td>1510944349</td>\n",
       "      <td>580.67</td>\n",
       "      <td>2.91</td>\n",
       "      <td>NaN</td>\n",
       "    </tr>\n",
       "    <tr>\n",
       "      <th>145837</th>\n",
       "      <td>2017-11-17 18:50:49+00:00</td>\n",
       "      <td>2017-11-17 10:50:49-08:00</td>\n",
       "      <td>1510944649</td>\n",
       "      <td>572.51</td>\n",
       "      <td>2.98</td>\n",
       "      <td>NaN</td>\n",
       "    </tr>\n",
       "    <tr>\n",
       "      <th>145836</th>\n",
       "      <td>2017-11-17 18:55:49+00:00</td>\n",
       "      <td>2017-11-17 10:55:49-08:00</td>\n",
       "      <td>1510944949</td>\n",
       "      <td>563.72</td>\n",
       "      <td>3.04</td>\n",
       "      <td>NaN</td>\n",
       "    </tr>\n",
       "    <tr>\n",
       "      <th>145835</th>\n",
       "      <td>2017-11-17 19:00:49+00:00</td>\n",
       "      <td>2017-11-17 11:00:49-08:00</td>\n",
       "      <td>1510945249</td>\n",
       "      <td>563.10</td>\n",
       "      <td>3.04</td>\n",
       "      <td>NaN</td>\n",
       "    </tr>\n",
       "    <tr>\n",
       "      <th>...</th>\n",
       "      <td>...</td>\n",
       "      <td>...</td>\n",
       "      <td>...</td>\n",
       "      <td>...</td>\n",
       "      <td>...</td>\n",
       "      <td>...</td>\n",
       "    </tr>\n",
       "    <tr>\n",
       "      <th>4</th>\n",
       "      <td>2020-02-24 23:00:40+00:00</td>\n",
       "      <td>2020-02-24 15:00:40-08:00</td>\n",
       "      <td>1582585240</td>\n",
       "      <td>508.80</td>\n",
       "      <td>3.18</td>\n",
       "      <td>NaN</td>\n",
       "    </tr>\n",
       "    <tr>\n",
       "      <th>3</th>\n",
       "      <td>2020-02-24 23:00:45+00:00</td>\n",
       "      <td>2020-02-24 15:00:45-08:00</td>\n",
       "      <td>1582585245</td>\n",
       "      <td>508.80</td>\n",
       "      <td>3.18</td>\n",
       "      <td>NaN</td>\n",
       "    </tr>\n",
       "    <tr>\n",
       "      <th>2</th>\n",
       "      <td>2020-02-24 23:05:40+00:00</td>\n",
       "      <td>2020-02-24 15:05:40-08:00</td>\n",
       "      <td>1582585540</td>\n",
       "      <td>502.81</td>\n",
       "      <td>3.27</td>\n",
       "      <td>NaN</td>\n",
       "    </tr>\n",
       "    <tr>\n",
       "      <th>1</th>\n",
       "      <td>2020-02-24 23:10:40+00:00</td>\n",
       "      <td>2020-02-24 15:10:40-08:00</td>\n",
       "      <td>1582585840</td>\n",
       "      <td>504.69</td>\n",
       "      <td>3.32</td>\n",
       "      <td>NaN</td>\n",
       "    </tr>\n",
       "    <tr>\n",
       "      <th>0</th>\n",
       "      <td>2020-02-24 23:15:40+00:00</td>\n",
       "      <td>2020-02-24 15:15:40-08:00</td>\n",
       "      <td>1582586140</td>\n",
       "      <td>489.59</td>\n",
       "      <td>3.28</td>\n",
       "      <td>NaN</td>\n",
       "    </tr>\n",
       "  </tbody>\n",
       "</table>\n",
       "<p>145840 rows × 6 columns</p>\n",
       "</div>"
      ],
      "text/plain": [
       "                   deviceTime_utc           deviceTime_local  deviceTime_unix  \\\n",
       "145839  2017-11-17 18:40:49+00:00  2017-11-17 10:40:49-08:00       1510944049   \n",
       "145838  2017-11-17 18:45:49+00:00  2017-11-17 10:45:49-08:00       1510944349   \n",
       "145837  2017-11-17 18:50:49+00:00  2017-11-17 10:50:49-08:00       1510944649   \n",
       "145836  2017-11-17 18:55:49+00:00  2017-11-17 10:55:49-08:00       1510944949   \n",
       "145835  2017-11-17 19:00:49+00:00  2017-11-17 11:00:49-08:00       1510945249   \n",
       "...                           ...                        ...              ...   \n",
       "4       2020-02-24 23:00:40+00:00  2020-02-24 15:00:40-08:00       1582585240   \n",
       "3       2020-02-24 23:00:45+00:00  2020-02-24 15:00:45-08:00       1582585245   \n",
       "2       2020-02-24 23:05:40+00:00  2020-02-24 15:05:40-08:00       1582585540   \n",
       "1       2020-02-24 23:10:40+00:00  2020-02-24 15:10:40-08:00       1582585840   \n",
       "0       2020-02-24 23:15:40+00:00  2020-02-24 15:15:40-08:00       1582586140   \n",
       "\n",
       "        co2_ppm  noise  error_flag  \n",
       "145839   544.68   2.99         NaN  \n",
       "145838   580.67   2.91         NaN  \n",
       "145837   572.51   2.98         NaN  \n",
       "145836   563.72   3.04         NaN  \n",
       "145835   563.10   3.04         NaN  \n",
       "...         ...    ...         ...  \n",
       "4        508.80   3.18         NaN  \n",
       "3        508.80   3.18         NaN  \n",
       "2        502.81   3.27         NaN  \n",
       "1        504.69   3.32         NaN  \n",
       "0        489.59   3.28         NaN  \n",
       "\n",
       "[145840 rows x 6 columns]"
      ]
     },
     "execution_count": 14,
     "metadata": {},
     "output_type": "execute_result"
    }
   ],
   "source": [
    "etch_roof.sort_values('deviceTime_utc')"
   ]
  },
  {
   "cell_type": "code",
   "execution_count": 15,
   "metadata": {},
   "outputs": [],
   "source": [
    "etch_roof_beacon = pd.read_csv('etch_roof_beacon.csv')"
   ]
  },
  {
   "cell_type": "code",
   "execution_count": 16,
   "metadata": {},
   "outputs": [],
   "source": [
    "indexNames = etch_roof_beacon[etch_roof_beacon['CO2_ppm'] == -999].index"
   ]
  },
  {
   "cell_type": "code",
   "execution_count": 17,
   "metadata": {},
   "outputs": [],
   "source": [
    "etch_roof_beacon.drop(indexNames, inplace = True)"
   ]
  },
  {
   "cell_type": "code",
   "execution_count": 18,
   "metadata": {},
   "outputs": [],
   "source": [
    "etch_roof_beacon.drop(['local_timestamp', 'datetime', 'node_id', 'pm_pct_fs', 'julian_day', 'CO2_QC_level', \"PM_QC_level\", 'PM_ug/m3'], axis = 1, inplace = True)"
   ]
  },
  {
   "cell_type": "code",
   "execution_count": 19,
   "metadata": {},
   "outputs": [],
   "source": [
    "etch_roof.drop(['deviceTime_utc', 'deviceTime_local', 'error_flag', 'noise'], axis = 1, inplace = True)"
   ]
  },
  {
   "cell_type": "code",
   "execution_count": 20,
   "metadata": {},
   "outputs": [],
   "source": [
    "etch_roof_beacon.dropna(axis = 0, inplace = True)"
   ]
  },
  {
   "cell_type": "code",
   "execution_count": 21,
   "metadata": {},
   "outputs": [],
   "source": [
    "etch_roof.dropna(axis = 0, inplace = True)"
   ]
  },
  {
   "cell_type": "code",
   "execution_count": 22,
   "metadata": {},
   "outputs": [
    {
     "data": {
      "text/html": [
       "<div>\n",
       "<style scoped>\n",
       "    .dataframe tbody tr th:only-of-type {\n",
       "        vertical-align: middle;\n",
       "    }\n",
       "\n",
       "    .dataframe tbody tr th {\n",
       "        vertical-align: top;\n",
       "    }\n",
       "\n",
       "    .dataframe thead th {\n",
       "        text-align: right;\n",
       "    }\n",
       "</style>\n",
       "<table border=\"1\" class=\"dataframe\">\n",
       "  <thead>\n",
       "    <tr style=\"text-align: right;\">\n",
       "      <th></th>\n",
       "      <th>epoch</th>\n",
       "      <th>CO2_ppm</th>\n",
       "    </tr>\n",
       "  </thead>\n",
       "  <tbody>\n",
       "    <tr>\n",
       "      <th>0</th>\n",
       "      <td>1.510906e+09</td>\n",
       "      <td>410.6</td>\n",
       "    </tr>\n",
       "    <tr>\n",
       "      <th>1</th>\n",
       "      <td>1.510909e+09</td>\n",
       "      <td>411.0</td>\n",
       "    </tr>\n",
       "    <tr>\n",
       "      <th>2</th>\n",
       "      <td>1.510913e+09</td>\n",
       "      <td>411.3</td>\n",
       "    </tr>\n",
       "    <tr>\n",
       "      <th>3</th>\n",
       "      <td>1.510916e+09</td>\n",
       "      <td>408.7</td>\n",
       "    </tr>\n",
       "    <tr>\n",
       "      <th>4</th>\n",
       "      <td>1.510920e+09</td>\n",
       "      <td>408.2</td>\n",
       "    </tr>\n",
       "    <tr>\n",
       "      <th>...</th>\n",
       "      <td>...</td>\n",
       "      <td>...</td>\n",
       "    </tr>\n",
       "    <tr>\n",
       "      <th>12146</th>\n",
       "      <td>1.566047e+09</td>\n",
       "      <td>408.9</td>\n",
       "    </tr>\n",
       "    <tr>\n",
       "      <th>12147</th>\n",
       "      <td>1.566050e+09</td>\n",
       "      <td>409.1</td>\n",
       "    </tr>\n",
       "    <tr>\n",
       "      <th>12149</th>\n",
       "      <td>1.566061e+09</td>\n",
       "      <td>413.3</td>\n",
       "    </tr>\n",
       "    <tr>\n",
       "      <th>12151</th>\n",
       "      <td>1.568657e+09</td>\n",
       "      <td>457.3</td>\n",
       "    </tr>\n",
       "    <tr>\n",
       "      <th>12152</th>\n",
       "      <td>1.568660e+09</td>\n",
       "      <td>454.0</td>\n",
       "    </tr>\n",
       "  </tbody>\n",
       "</table>\n",
       "<p>9292 rows × 2 columns</p>\n",
       "</div>"
      ],
      "text/plain": [
       "              epoch  CO2_ppm\n",
       "0      1.510906e+09    410.6\n",
       "1      1.510909e+09    411.0\n",
       "2      1.510913e+09    411.3\n",
       "3      1.510916e+09    408.7\n",
       "4      1.510920e+09    408.2\n",
       "...             ...      ...\n",
       "12146  1.566047e+09    408.9\n",
       "12147  1.566050e+09    409.1\n",
       "12149  1.566061e+09    413.3\n",
       "12151  1.568657e+09    457.3\n",
       "12152  1.568660e+09    454.0\n",
       "\n",
       "[9292 rows x 2 columns]"
      ]
     },
     "execution_count": 22,
     "metadata": {},
     "output_type": "execute_result"
    }
   ],
   "source": [
    "etch_roof_beacon"
   ]
  },
  {
   "cell_type": "code",
   "execution_count": 23,
   "metadata": {},
   "outputs": [
    {
     "data": {
      "text/html": [
       "<div>\n",
       "<style scoped>\n",
       "    .dataframe tbody tr th:only-of-type {\n",
       "        vertical-align: middle;\n",
       "    }\n",
       "\n",
       "    .dataframe tbody tr th {\n",
       "        vertical-align: top;\n",
       "    }\n",
       "\n",
       "    .dataframe thead th {\n",
       "        text-align: right;\n",
       "    }\n",
       "</style>\n",
       "<table border=\"1\" class=\"dataframe\">\n",
       "  <thead>\n",
       "    <tr style=\"text-align: right;\">\n",
       "      <th></th>\n",
       "      <th>deviceTime_unix</th>\n",
       "      <th>co2_ppm</th>\n",
       "    </tr>\n",
       "  </thead>\n",
       "  <tbody>\n",
       "    <tr>\n",
       "      <th>0</th>\n",
       "      <td>1582586140</td>\n",
       "      <td>489.59</td>\n",
       "    </tr>\n",
       "    <tr>\n",
       "      <th>1</th>\n",
       "      <td>1582585840</td>\n",
       "      <td>504.69</td>\n",
       "    </tr>\n",
       "    <tr>\n",
       "      <th>2</th>\n",
       "      <td>1582585540</td>\n",
       "      <td>502.81</td>\n",
       "    </tr>\n",
       "    <tr>\n",
       "      <th>3</th>\n",
       "      <td>1582585245</td>\n",
       "      <td>508.80</td>\n",
       "    </tr>\n",
       "    <tr>\n",
       "      <th>4</th>\n",
       "      <td>1582585240</td>\n",
       "      <td>508.80</td>\n",
       "    </tr>\n",
       "    <tr>\n",
       "      <th>...</th>\n",
       "      <td>...</td>\n",
       "      <td>...</td>\n",
       "    </tr>\n",
       "    <tr>\n",
       "      <th>145835</th>\n",
       "      <td>1510945249</td>\n",
       "      <td>563.10</td>\n",
       "    </tr>\n",
       "    <tr>\n",
       "      <th>145836</th>\n",
       "      <td>1510944949</td>\n",
       "      <td>563.72</td>\n",
       "    </tr>\n",
       "    <tr>\n",
       "      <th>145837</th>\n",
       "      <td>1510944649</td>\n",
       "      <td>572.51</td>\n",
       "    </tr>\n",
       "    <tr>\n",
       "      <th>145838</th>\n",
       "      <td>1510944349</td>\n",
       "      <td>580.67</td>\n",
       "    </tr>\n",
       "    <tr>\n",
       "      <th>145839</th>\n",
       "      <td>1510944049</td>\n",
       "      <td>544.68</td>\n",
       "    </tr>\n",
       "  </tbody>\n",
       "</table>\n",
       "<p>145840 rows × 2 columns</p>\n",
       "</div>"
      ],
      "text/plain": [
       "        deviceTime_unix  co2_ppm\n",
       "0            1582586140   489.59\n",
       "1            1582585840   504.69\n",
       "2            1582585540   502.81\n",
       "3            1582585245   508.80\n",
       "4            1582585240   508.80\n",
       "...                 ...      ...\n",
       "145835       1510945249   563.10\n",
       "145836       1510944949   563.72\n",
       "145837       1510944649   572.51\n",
       "145838       1510944349   580.67\n",
       "145839       1510944049   544.68\n",
       "\n",
       "[145840 rows x 2 columns]"
      ]
     },
     "execution_count": 23,
     "metadata": {},
     "output_type": "execute_result"
    }
   ],
   "source": [
    "etch_roof"
   ]
  },
  {
   "cell_type": "code",
   "execution_count": 24,
   "metadata": {},
   "outputs": [],
   "source": [
    "d_unix_list = etch_roof['deviceTime_unix']\n",
    "f_unix_list = etch_roof_beacon['epoch']"
   ]
  },
  {
   "cell_type": "code",
   "execution_count": 25,
   "metadata": {},
   "outputs": [],
   "source": [
    "fmin, fmax = compare_length(d_unix_list, f_unix_list)\n",
    "d_unix_list = [x for x in d_unix_list if x <= fmax and x >= fmin]\n",
    "f_unix_list = [x for x in f_unix_list if x <= fmax and x >= fmin]"
   ]
  },
  {
   "cell_type": "code",
   "execution_count": 26,
   "metadata": {},
   "outputs": [],
   "source": [
    "etch_roof = etch_roof[etch_roof['deviceTime_unix'].isin(d_unix_list)]\n",
    "etch_roof_beacon = etch_roof_beacon[etch_roof_beacon['epoch'].isin(f_unix_list)]"
   ]
  },
  {
   "cell_type": "code",
   "execution_count": 27,
   "metadata": {},
   "outputs": [],
   "source": [
    "d_list = pd.to_datetime(etch_roof['deviceTime_unix'], unit = 's')\n",
    "etch_roof.insert(loc = 0, column = 'unix_time', value = d_list)"
   ]
  },
  {
   "cell_type": "code",
   "execution_count": 28,
   "metadata": {},
   "outputs": [],
   "source": [
    "f_list = pd.to_datetime(etch_roof_beacon['epoch'], unit = 's')\n",
    "etch_roof_beacon.insert(loc = 0, column = 'unix_time', value = f_list)"
   ]
  },
  {
   "cell_type": "code",
   "execution_count": 29,
   "metadata": {},
   "outputs": [],
   "source": [
    "etch_roof = etch_roof.reset_index(drop=True)\n",
    "etch_roof_beacon = etch_roof_beacon.reset_index(drop=True)"
   ]
  },
  {
   "cell_type": "code",
   "execution_count": 30,
   "metadata": {},
   "outputs": [],
   "source": [
    "etch_roof['date_time'] = pd.to_datetime(etch_roof['unix_time'],unit='s')\n",
    "etch_roof_beacon['date_time'] = pd.to_datetime(etch_roof_beacon['unix_time'],unit='s')"
   ]
  },
  {
   "cell_type": "code",
   "execution_count": 31,
   "metadata": {},
   "outputs": [
    {
     "data": {
      "text/html": [
       "<div>\n",
       "<style scoped>\n",
       "    .dataframe tbody tr th:only-of-type {\n",
       "        vertical-align: middle;\n",
       "    }\n",
       "\n",
       "    .dataframe tbody tr th {\n",
       "        vertical-align: top;\n",
       "    }\n",
       "\n",
       "    .dataframe thead th {\n",
       "        text-align: right;\n",
       "    }\n",
       "</style>\n",
       "<table border=\"1\" class=\"dataframe\">\n",
       "  <thead>\n",
       "    <tr style=\"text-align: right;\">\n",
       "      <th></th>\n",
       "      <th>unix_time</th>\n",
       "      <th>deviceTime_unix</th>\n",
       "      <th>co2_ppm</th>\n",
       "      <th>date_time</th>\n",
       "    </tr>\n",
       "  </thead>\n",
       "  <tbody>\n",
       "    <tr>\n",
       "      <th>0</th>\n",
       "      <td>2019-09-09 18:55:40</td>\n",
       "      <td>1568055340</td>\n",
       "      <td>465.90</td>\n",
       "      <td>2019-09-09 18:55:40</td>\n",
       "    </tr>\n",
       "    <tr>\n",
       "      <th>1</th>\n",
       "      <td>2019-09-09 18:50:40</td>\n",
       "      <td>1568055040</td>\n",
       "      <td>464.63</td>\n",
       "      <td>2019-09-09 18:50:40</td>\n",
       "    </tr>\n",
       "    <tr>\n",
       "      <th>2</th>\n",
       "      <td>2019-09-09 18:45:40</td>\n",
       "      <td>1568054740</td>\n",
       "      <td>465.52</td>\n",
       "      <td>2019-09-09 18:45:40</td>\n",
       "    </tr>\n",
       "    <tr>\n",
       "      <th>3</th>\n",
       "      <td>2019-09-09 18:40:40</td>\n",
       "      <td>1568054440</td>\n",
       "      <td>461.59</td>\n",
       "      <td>2019-09-09 18:40:40</td>\n",
       "    </tr>\n",
       "    <tr>\n",
       "      <th>4</th>\n",
       "      <td>2019-09-09 18:35:40</td>\n",
       "      <td>1568054140</td>\n",
       "      <td>460.69</td>\n",
       "      <td>2019-09-09 18:35:40</td>\n",
       "    </tr>\n",
       "    <tr>\n",
       "      <th>...</th>\n",
       "      <td>...</td>\n",
       "      <td>...</td>\n",
       "      <td>...</td>\n",
       "      <td>...</td>\n",
       "    </tr>\n",
       "    <tr>\n",
       "      <th>145476</th>\n",
       "      <td>2017-11-17 19:00:49</td>\n",
       "      <td>1510945249</td>\n",
       "      <td>563.10</td>\n",
       "      <td>2017-11-17 19:00:49</td>\n",
       "    </tr>\n",
       "    <tr>\n",
       "      <th>145477</th>\n",
       "      <td>2017-11-17 18:55:49</td>\n",
       "      <td>1510944949</td>\n",
       "      <td>563.72</td>\n",
       "      <td>2017-11-17 18:55:49</td>\n",
       "    </tr>\n",
       "    <tr>\n",
       "      <th>145478</th>\n",
       "      <td>2017-11-17 18:50:49</td>\n",
       "      <td>1510944649</td>\n",
       "      <td>572.51</td>\n",
       "      <td>2017-11-17 18:50:49</td>\n",
       "    </tr>\n",
       "    <tr>\n",
       "      <th>145479</th>\n",
       "      <td>2017-11-17 18:45:49</td>\n",
       "      <td>1510944349</td>\n",
       "      <td>580.67</td>\n",
       "      <td>2017-11-17 18:45:49</td>\n",
       "    </tr>\n",
       "    <tr>\n",
       "      <th>145480</th>\n",
       "      <td>2017-11-17 18:40:49</td>\n",
       "      <td>1510944049</td>\n",
       "      <td>544.68</td>\n",
       "      <td>2017-11-17 18:40:49</td>\n",
       "    </tr>\n",
       "  </tbody>\n",
       "</table>\n",
       "<p>145481 rows × 4 columns</p>\n",
       "</div>"
      ],
      "text/plain": [
       "                 unix_time  deviceTime_unix  co2_ppm           date_time\n",
       "0      2019-09-09 18:55:40       1568055340   465.90 2019-09-09 18:55:40\n",
       "1      2019-09-09 18:50:40       1568055040   464.63 2019-09-09 18:50:40\n",
       "2      2019-09-09 18:45:40       1568054740   465.52 2019-09-09 18:45:40\n",
       "3      2019-09-09 18:40:40       1568054440   461.59 2019-09-09 18:40:40\n",
       "4      2019-09-09 18:35:40       1568054140   460.69 2019-09-09 18:35:40\n",
       "...                    ...              ...      ...                 ...\n",
       "145476 2017-11-17 19:00:49       1510945249   563.10 2017-11-17 19:00:49\n",
       "145477 2017-11-17 18:55:49       1510944949   563.72 2017-11-17 18:55:49\n",
       "145478 2017-11-17 18:50:49       1510944649   572.51 2017-11-17 18:50:49\n",
       "145479 2017-11-17 18:45:49       1510944349   580.67 2017-11-17 18:45:49\n",
       "145480 2017-11-17 18:40:49       1510944049   544.68 2017-11-17 18:40:49\n",
       "\n",
       "[145481 rows x 4 columns]"
      ]
     },
     "execution_count": 31,
     "metadata": {},
     "output_type": "execute_result"
    }
   ],
   "source": [
    "etch_roof"
   ]
  },
  {
   "cell_type": "code",
   "execution_count": 32,
   "metadata": {},
   "outputs": [
    {
     "data": {
      "text/html": [
       "<div>\n",
       "<style scoped>\n",
       "    .dataframe tbody tr th:only-of-type {\n",
       "        vertical-align: middle;\n",
       "    }\n",
       "\n",
       "    .dataframe tbody tr th {\n",
       "        vertical-align: top;\n",
       "    }\n",
       "\n",
       "    .dataframe thead th {\n",
       "        text-align: right;\n",
       "    }\n",
       "</style>\n",
       "<table border=\"1\" class=\"dataframe\">\n",
       "  <thead>\n",
       "    <tr style=\"text-align: right;\">\n",
       "      <th></th>\n",
       "      <th>unix_time</th>\n",
       "      <th>epoch</th>\n",
       "      <th>CO2_ppm</th>\n",
       "      <th>date_time</th>\n",
       "    </tr>\n",
       "  </thead>\n",
       "  <tbody>\n",
       "    <tr>\n",
       "      <th>0</th>\n",
       "      <td>2017-11-17 19:00:00</td>\n",
       "      <td>1.510945e+09</td>\n",
       "      <td>420.9</td>\n",
       "      <td>2017-11-17 19:00:00</td>\n",
       "    </tr>\n",
       "    <tr>\n",
       "      <th>1</th>\n",
       "      <td>2017-11-17 20:00:00</td>\n",
       "      <td>1.510949e+09</td>\n",
       "      <td>421.9</td>\n",
       "      <td>2017-11-17 20:00:00</td>\n",
       "    </tr>\n",
       "    <tr>\n",
       "      <th>2</th>\n",
       "      <td>2017-11-17 21:00:00</td>\n",
       "      <td>1.510952e+09</td>\n",
       "      <td>421.7</td>\n",
       "      <td>2017-11-17 21:00:00</td>\n",
       "    </tr>\n",
       "    <tr>\n",
       "      <th>3</th>\n",
       "      <td>2017-11-17 23:00:00</td>\n",
       "      <td>1.510960e+09</td>\n",
       "      <td>419.0</td>\n",
       "      <td>2017-11-17 23:00:00</td>\n",
       "    </tr>\n",
       "    <tr>\n",
       "      <th>4</th>\n",
       "      <td>2017-11-18 00:00:00</td>\n",
       "      <td>1.510963e+09</td>\n",
       "      <td>413.7</td>\n",
       "      <td>2017-11-18 00:00:00</td>\n",
       "    </tr>\n",
       "    <tr>\n",
       "      <th>...</th>\n",
       "      <td>...</td>\n",
       "      <td>...</td>\n",
       "      <td>...</td>\n",
       "      <td>...</td>\n",
       "    </tr>\n",
       "    <tr>\n",
       "      <th>9277</th>\n",
       "      <td>2019-08-17 13:00:00</td>\n",
       "      <td>1.566047e+09</td>\n",
       "      <td>408.9</td>\n",
       "      <td>2019-08-17 13:00:00</td>\n",
       "    </tr>\n",
       "    <tr>\n",
       "      <th>9278</th>\n",
       "      <td>2019-08-17 14:00:00</td>\n",
       "      <td>1.566050e+09</td>\n",
       "      <td>409.1</td>\n",
       "      <td>2019-08-17 14:00:00</td>\n",
       "    </tr>\n",
       "    <tr>\n",
       "      <th>9279</th>\n",
       "      <td>2019-08-17 17:00:00</td>\n",
       "      <td>1.566061e+09</td>\n",
       "      <td>413.3</td>\n",
       "      <td>2019-08-17 17:00:00</td>\n",
       "    </tr>\n",
       "    <tr>\n",
       "      <th>9280</th>\n",
       "      <td>2019-09-16 18:00:00</td>\n",
       "      <td>1.568657e+09</td>\n",
       "      <td>457.3</td>\n",
       "      <td>2019-09-16 18:00:00</td>\n",
       "    </tr>\n",
       "    <tr>\n",
       "      <th>9281</th>\n",
       "      <td>2019-09-16 19:00:00</td>\n",
       "      <td>1.568660e+09</td>\n",
       "      <td>454.0</td>\n",
       "      <td>2019-09-16 19:00:00</td>\n",
       "    </tr>\n",
       "  </tbody>\n",
       "</table>\n",
       "<p>9282 rows × 4 columns</p>\n",
       "</div>"
      ],
      "text/plain": [
       "               unix_time         epoch  CO2_ppm           date_time\n",
       "0    2017-11-17 19:00:00  1.510945e+09    420.9 2017-11-17 19:00:00\n",
       "1    2017-11-17 20:00:00  1.510949e+09    421.9 2017-11-17 20:00:00\n",
       "2    2017-11-17 21:00:00  1.510952e+09    421.7 2017-11-17 21:00:00\n",
       "3    2017-11-17 23:00:00  1.510960e+09    419.0 2017-11-17 23:00:00\n",
       "4    2017-11-18 00:00:00  1.510963e+09    413.7 2017-11-18 00:00:00\n",
       "...                  ...           ...      ...                 ...\n",
       "9277 2019-08-17 13:00:00  1.566047e+09    408.9 2019-08-17 13:00:00\n",
       "9278 2019-08-17 14:00:00  1.566050e+09    409.1 2019-08-17 14:00:00\n",
       "9279 2019-08-17 17:00:00  1.566061e+09    413.3 2019-08-17 17:00:00\n",
       "9280 2019-09-16 18:00:00  1.568657e+09    457.3 2019-09-16 18:00:00\n",
       "9281 2019-09-16 19:00:00  1.568660e+09    454.0 2019-09-16 19:00:00\n",
       "\n",
       "[9282 rows x 4 columns]"
      ]
     },
     "execution_count": 32,
     "metadata": {},
     "output_type": "execute_result"
    }
   ],
   "source": [
    "etch_roof_beacon"
   ]
  },
  {
   "cell_type": "code",
   "execution_count": 33,
   "metadata": {},
   "outputs": [],
   "source": [
    "etch_roof = etch_roof.resample('d', on='date_time')['co2_ppm'].mean().reset_index()\n",
    "etch_roof_beacon = etch_roof_beacon.resample('d', on='date_time')['CO2_ppm'].mean().reset_index()"
   ]
  },
  {
   "cell_type": "code",
   "execution_count": 34,
   "metadata": {},
   "outputs": [
    {
     "data": {
      "text/html": [
       "<div>\n",
       "<style scoped>\n",
       "    .dataframe tbody tr th:only-of-type {\n",
       "        vertical-align: middle;\n",
       "    }\n",
       "\n",
       "    .dataframe tbody tr th {\n",
       "        vertical-align: top;\n",
       "    }\n",
       "\n",
       "    .dataframe thead th {\n",
       "        text-align: right;\n",
       "    }\n",
       "</style>\n",
       "<table border=\"1\" class=\"dataframe\">\n",
       "  <thead>\n",
       "    <tr style=\"text-align: right;\">\n",
       "      <th></th>\n",
       "      <th>date_time</th>\n",
       "      <th>co2_ppm</th>\n",
       "    </tr>\n",
       "  </thead>\n",
       "  <tbody>\n",
       "    <tr>\n",
       "      <th>0</th>\n",
       "      <td>2017-11-17</td>\n",
       "      <td>420.369048</td>\n",
       "    </tr>\n",
       "    <tr>\n",
       "      <th>1</th>\n",
       "      <td>2017-11-18</td>\n",
       "      <td>457.382635</td>\n",
       "    </tr>\n",
       "    <tr>\n",
       "      <th>2</th>\n",
       "      <td>2017-11-19</td>\n",
       "      <td>462.949514</td>\n",
       "    </tr>\n",
       "    <tr>\n",
       "      <th>3</th>\n",
       "      <td>2017-11-20</td>\n",
       "      <td>624.208259</td>\n",
       "    </tr>\n",
       "    <tr>\n",
       "      <th>4</th>\n",
       "      <td>2017-11-21</td>\n",
       "      <td>661.599110</td>\n",
       "    </tr>\n",
       "    <tr>\n",
       "      <th>...</th>\n",
       "      <td>...</td>\n",
       "      <td>...</td>\n",
       "    </tr>\n",
       "    <tr>\n",
       "      <th>657</th>\n",
       "      <td>2019-09-05</td>\n",
       "      <td>574.697292</td>\n",
       "    </tr>\n",
       "    <tr>\n",
       "      <th>658</th>\n",
       "      <td>2019-09-06</td>\n",
       "      <td>585.114236</td>\n",
       "    </tr>\n",
       "    <tr>\n",
       "      <th>659</th>\n",
       "      <td>2019-09-07</td>\n",
       "      <td>588.940868</td>\n",
       "    </tr>\n",
       "    <tr>\n",
       "      <th>660</th>\n",
       "      <td>2019-09-08</td>\n",
       "      <td>577.558658</td>\n",
       "    </tr>\n",
       "    <tr>\n",
       "      <th>661</th>\n",
       "      <td>2019-09-09</td>\n",
       "      <td>547.688114</td>\n",
       "    </tr>\n",
       "  </tbody>\n",
       "</table>\n",
       "<p>662 rows × 2 columns</p>\n",
       "</div>"
      ],
      "text/plain": [
       "     date_time     co2_ppm\n",
       "0   2017-11-17  420.369048\n",
       "1   2017-11-18  457.382635\n",
       "2   2017-11-19  462.949514\n",
       "3   2017-11-20  624.208259\n",
       "4   2017-11-21  661.599110\n",
       "..         ...         ...\n",
       "657 2019-09-05  574.697292\n",
       "658 2019-09-06  585.114236\n",
       "659 2019-09-07  588.940868\n",
       "660 2019-09-08  577.558658\n",
       "661 2019-09-09  547.688114\n",
       "\n",
       "[662 rows x 2 columns]"
      ]
     },
     "execution_count": 34,
     "metadata": {},
     "output_type": "execute_result"
    }
   ],
   "source": [
    "etch_roof"
   ]
  },
  {
   "cell_type": "code",
   "execution_count": 35,
   "metadata": {},
   "outputs": [
    {
     "data": {
      "text/html": [
       "<div>\n",
       "<style scoped>\n",
       "    .dataframe tbody tr th:only-of-type {\n",
       "        vertical-align: middle;\n",
       "    }\n",
       "\n",
       "    .dataframe tbody tr th {\n",
       "        vertical-align: top;\n",
       "    }\n",
       "\n",
       "    .dataframe thead th {\n",
       "        text-align: right;\n",
       "    }\n",
       "</style>\n",
       "<table border=\"1\" class=\"dataframe\">\n",
       "  <thead>\n",
       "    <tr style=\"text-align: right;\">\n",
       "      <th></th>\n",
       "      <th>date_time</th>\n",
       "      <th>CO2_ppm</th>\n",
       "    </tr>\n",
       "  </thead>\n",
       "  <tbody>\n",
       "    <tr>\n",
       "      <th>0</th>\n",
       "      <td>2017-11-17</td>\n",
       "      <td>420.875000</td>\n",
       "    </tr>\n",
       "    <tr>\n",
       "      <th>1</th>\n",
       "      <td>2017-11-18</td>\n",
       "      <td>421.370000</td>\n",
       "    </tr>\n",
       "    <tr>\n",
       "      <th>2</th>\n",
       "      <td>2017-11-19</td>\n",
       "      <td>437.280952</td>\n",
       "    </tr>\n",
       "    <tr>\n",
       "      <th>3</th>\n",
       "      <td>2017-11-20</td>\n",
       "      <td>445.422727</td>\n",
       "    </tr>\n",
       "    <tr>\n",
       "      <th>4</th>\n",
       "      <td>2017-11-21</td>\n",
       "      <td>452.352632</td>\n",
       "    </tr>\n",
       "    <tr>\n",
       "      <th>...</th>\n",
       "      <td>...</td>\n",
       "      <td>...</td>\n",
       "    </tr>\n",
       "    <tr>\n",
       "      <th>664</th>\n",
       "      <td>2019-09-12</td>\n",
       "      <td>NaN</td>\n",
       "    </tr>\n",
       "    <tr>\n",
       "      <th>665</th>\n",
       "      <td>2019-09-13</td>\n",
       "      <td>NaN</td>\n",
       "    </tr>\n",
       "    <tr>\n",
       "      <th>666</th>\n",
       "      <td>2019-09-14</td>\n",
       "      <td>NaN</td>\n",
       "    </tr>\n",
       "    <tr>\n",
       "      <th>667</th>\n",
       "      <td>2019-09-15</td>\n",
       "      <td>NaN</td>\n",
       "    </tr>\n",
       "    <tr>\n",
       "      <th>668</th>\n",
       "      <td>2019-09-16</td>\n",
       "      <td>455.650000</td>\n",
       "    </tr>\n",
       "  </tbody>\n",
       "</table>\n",
       "<p>669 rows × 2 columns</p>\n",
       "</div>"
      ],
      "text/plain": [
       "     date_time     CO2_ppm\n",
       "0   2017-11-17  420.875000\n",
       "1   2017-11-18  421.370000\n",
       "2   2017-11-19  437.280952\n",
       "3   2017-11-20  445.422727\n",
       "4   2017-11-21  452.352632\n",
       "..         ...         ...\n",
       "664 2019-09-12         NaN\n",
       "665 2019-09-13         NaN\n",
       "666 2019-09-14         NaN\n",
       "667 2019-09-15         NaN\n",
       "668 2019-09-16  455.650000\n",
       "\n",
       "[669 rows x 2 columns]"
      ]
     },
     "execution_count": 35,
     "metadata": {},
     "output_type": "execute_result"
    }
   ],
   "source": [
    "etch_roof_beacon"
   ]
  },
  {
   "cell_type": "code",
   "execution_count": 36,
   "metadata": {},
   "outputs": [],
   "source": [
    "all_data = pd.merge(etch_roof, etch_roof_beacon)"
   ]
  },
  {
   "cell_type": "code",
   "execution_count": 37,
   "metadata": {},
   "outputs": [],
   "source": [
    "all_data.dropna(axis=0, inplace = True)"
   ]
  },
  {
   "cell_type": "code",
   "execution_count": 51,
   "metadata": {},
   "outputs": [
    {
     "data": {
      "application/vnd.plotly.v1+json": {
       "config": {
        "plotlyServerURL": "https://plot.ly"
       },
       "data": [
        {
         "mode": "markers",
         "type": "scatter",
         "x": [
          420.875,
          421.37,
          437.2809523809524,
          445.4227272727272,
          452.3526315789474,
          450.2882352941176,
          455.51578947368415,
          432.57619047619056,
          432.225,
          426.1681818181818,
          419.41578947368413,
          423.9947368421052,
          424.33809523809515,
          432.8117647058823,
          432.7578947368421,
          449.40000000000003,
          422.8454545454546,
          412.1238095238094,
          415.00952380952367,
          421.5681818181819,
          423.3666666666667,
          432.95416666666665,
          442.84999999999997,
          439.8476190476191,
          449.70000000000005,
          440.4799999999999,
          437.0894736842105,
          439.54499999999996,
          454.70500000000004,
          425.78999999999996,
          410.7818181818182,
          440.53478260869576,
          443.6499999999999,
          418.109090909091,
          411.275,
          430.88500000000005,
          429.2312500000001,
          439.90000000000003,
          449.9444444444444,
          446.1826086956522,
          439.74736842105267,
          448.035,
          446.2499999999999,
          456.5833333333333,
          442.4,
          429.1578947368421,
          450.0285714285713,
          456.975,
          424.0909090909092,
          435.43636363636364,
          422.30555555555554,
          416.52727272727276,
          431.33529411764704,
          426.03000000000003,
          430.195,
          446.95238095238085,
          458.4166666666666,
          448.47272727272724,
          450.4545454545454,
          452.45909090909083,
          415.7315789473684,
          411.01363636363635,
          416,
          418.4,
          427.43,
          426.2904761904762,
          416.4555555555555,
          427.05217391304353,
          419.75909090909096,
          423.1047619047619,
          436.88,
          444.6833333333333,
          443.904761904762,
          434.1391304347825,
          427.21999999999997,
          422.07777777777784,
          427.93500000000006,
          440.0909090909092,
          420.31428571428575,
          419.7684210526316,
          444.1952380952382,
          438.31428571428563,
          417.08095238095234,
          411.91999999999996,
          407.84285714285716,
          411.49090909090916,
          429.35238095238094,
          412.91499999999996,
          425.73999999999995,
          427.73999999999995,
          412.84545454545463,
          409.78500000000014,
          416.99090909090904,
          419.13684210526316,
          415.1157894736842,
          410.53999999999996,
          418.64499999999987,
          417.5761904761905,
          422.16315789473686,
          410.89499999999987,
          423.1882352941177,
          419.8476190476191,
          418.5352941176471,
          421.34499999999997,
          420.3047619047619,
          414.15909090909093,
          423.6391304347827,
          437.1142857142857,
          419.56000000000006,
          428.85,
          437.3166666666668,
          442.975,
          438.4999999999999,
          421.17272727272723,
          417.85999999999996,
          421.44736842105266,
          421.7380952380951,
          422.36956521739137,
          416.26500000000004,
          418.6136363636364,
          417.10476190476186,
          421.13809523809533,
          420,
          411.6111111111111,
          417.69565217391306,
          432.8300000000001,
          435.9300000000001,
          439.4799999999999,
          427.3809523809524,
          415.46250000000003,
          415.675,
          419.515,
          416.90588235294115,
          419.89523809523814,
          411.0045454545454,
          417.409090909091,
          415.904761904762,
          423.3277777777778,
          421.6499999999999,
          419.00434782608687,
          415.645,
          418.06499999999994,
          420.01818181818174,
          420.88499999999993,
          416.947619047619,
          422.8045454545454,
          422.64374999999995,
          422.99000000000007,
          421.20526315789465,
          429.8095238095238,
          425.61499999999995,
          416.17999999999995,
          419.21999999999997,
          422.85454545454553,
          423.8285714285714,
          419.5541666666666,
          417.28095238095244,
          421.66999999999996,
          419.4826086956523,
          415.17058823529413,
          424.58500000000004,
          418.5684210526316,
          421.0380952380952,
          424.4200000000001,
          422.41428571428565,
          420.19047619047626,
          422.25263157894744,
          421.81904761904764,
          419.6454545454546,
          419.69473684210527,
          415.93499999999995,
          418.62380952380954,
          421.24444444444447,
          418.25,
          415.05909090909086,
          421.6190476190476,
          420.83157894736837,
          419.2375,
          424.8222222222223,
          422.85,
          421.0750000000001,
          424.3545454545454,
          421.2347826086957,
          419.89,
          425.02608695652174,
          430.6333333333334,
          417,
          420.18095238095236,
          421.2949999999999,
          429.50869565217386,
          424.65999999999997,
          421.66315789473697,
          413.3250000000001,
          412.27916666666664,
          416.504347826087,
          416.58333333333326,
          417.5208333333334,
          413.1833333333332,
          418.4583333333334,
          426.21666666666675,
          422.31666666666666,
          414.96250000000003,
          414.4083333333333,
          413.55,
          414.21666666666664,
          409.3875,
          411.3291666666666,
          412.5250000000001,
          412.8416666666667,
          419.2625,
          426.5208333333333,
          412.6958333333334,
          412.6708333333334,
          413.8916666666666,
          418.6125000000001,
          411.5833333333334,
          414.78333333333336,
          421.6958333333334,
          405.75,
          406.7166666666667,
          411.49166666666673,
          410.1875,
          410.66250000000014,
          426.1333333333334,
          421.2916666666666,
          410.7583333333334,
          413.88750000000005,
          419.9875,
          408.78749999999997,
          404.70416666666665,
          406.89166666666665,
          407.1041666666666,
          407.8208333333332,
          408.9416666666668,
          409.575,
          412.5916666666667,
          408.57083333333327,
          407.7583333333334,
          408.22499999999997,
          409.0375000000001,
          408.82500000000005,
          406.7291666666666,
          408.9708333333333,
          406.3291666666667,
          406.95000000000005,
          406.8958333333334,
          408.89166666666665,
          410.0416666666667,
          408.7,
          407.4708333333333,
          409.66249999999997,
          410.4958333333334,
          419.1833333333334,
          412.7458333333334,
          417.99166666666673,
          416.15833333333325,
          410.19166666666666,
          417.20416666666665,
          418.0249999999999,
          421.8624999999999,
          411.63750000000005,
          407.12916666666666,
          404.99166666666673,
          409.5125,
          409.24166666666673,
          409.9916666666666,
          413.70000000000005,
          409.95416666666665,
          408.0333333333333,
          408.9708333333333,
          408.92916666666673,
          407.34999999999997,
          410.70833333333326,
          404.50833333333327,
          402.2666666666666,
          408.54583333333335,
          410.2166666666665,
          404.18750000000006,
          407.4833333333333,
          406.82083333333327,
          405.6291666666668,
          404.4208333333333,
          402.63750000000005,
          401.5583333333332,
          401.63333333333327,
          410.5,
          496.04347826086973,
          484.40000000000003,
          482.57916666666665,
          481.475,
          488.95,
          424.74545454545455,
          415.94666666666666,
          432.9923076923077,
          435.9347826086956,
          433.65,
          431.5722222222223,
          432.7235294117647,
          418.72499999999997,
          417.88666666666666,
          420.2388888888888,
          416.6411764705883,
          421.93500000000006,
          416.93157894736845,
          419.49090909090916,
          419.6714285714286,
          420.51428571428585,
          422.9809523809524,
          417.1095238095239,
          424.7913043478261,
          425.3130434782609,
          420.0681818181818,
          418.2166666666665,
          422.9083333333335,
          414.775,
          413.1714285714286,
          412.9904761904762,
          412.85238095238094,
          425.73333333333335,
          417.27142857142854,
          421.7266666666667,
          411.85333333333335,
          412.43124999999986,
          412.5411764705883,
          411.69374999999997,
          409.6764705882353,
          407.2933333333333,
          406.6642857142857,
          405.7153846153846,
          407.53333333333336,
          408.3933333333334,
          409.0625,
          410.22499999999997,
          408.49375,
          414.20588235294116,
          414.45625,
          411.41999999999996,
          411.6928571428572,
          414.43125000000003,
          415.61249999999995,
          404.7823529411765,
          409.0882352941177,
          411.87647058823535,
          409.11428571428576,
          411.7722222222222,
          406.66250000000014,
          403.2400000000001,
          406.14444444444445,
          402.1058823529412,
          401.0499999999999,
          409.1166666666667,
          414.45294117647063,
          412.74736842105256,
          417.2315789473685,
          418.0736842105263,
          414.4777777777777,
          406.2384615384616
         ],
         "y": [
          420.3690476190476,
          457.3826351351353,
          462.9495138888889,
          624.2082593856657,
          661.5991095890415,
          659.2405841924395,
          682.5439100346015,
          661.5233217993074,
          622.6337931034483,
          496.49945205479463,
          404.3739930555558,
          544.6993814432986,
          587.8535738831608,
          565.7547750865056,
          566.0058477508651,
          577.1424652777785,
          524.1621107266432,
          434.6337024221454,
          408.59655172413795,
          474.55770547945207,
          471.04058823529414,
          559.1321799307958,
          578.2195172413798,
          587.4252595155713,
          574.6397577854669,
          559.4516955017294,
          538.9208333333332,
          537.4964930555556,
          529.8254166666668,
          492.6162152777775,
          408.0583275261319,
          486.25034722222244,
          496.4348263888891,
          494.08034843205604,
          434.243598615917,
          450.3249999999996,
          663.5737254901962,
          680.0990909090909,
          710.8197916666666,
          695.9142013888895,
          726.5651202749135,
          734.4260069444447,
          681.277326388889,
          655.8018402777776,
          605.946213592233,
          552.1694791666667,
          517.5940291262137,
          516.81,
          525.7536363636364,
          558.8308333333333,
          543.4991319444446,
          490.7950347222217,
          543.6843598615911,
          532.375847750865,
          491.6857291666663,
          451.15693379790974,
          498.59013840830477,
          500.48878472222236,
          506.053135888502,
          517.3247916666666,
          422.7336458333334,
          399.46149305555554,
          456.2157142857145,
          508.0888888888893,
          506.94624999999996,
          518.1212456747401,
          485.37812500000007,
          491.52069444444413,
          473.6400347222222,
          552.4410104529615,
          555.6233333333334,
          575.0690344827586,
          584.4377083333338,
          582.9492708333328,
          619.424586206897,
          589.2809688581316,
          544.2715331010454,
          469.35567474048446,
          417.0618466898955,
          495.7152397260275,
          627.6269097222226,
          622.8467361111117,
          582.2020138888888,
          461.74261324041856,
          500.598923611111,
          453.7686458333333,
          458.4555555555553,
          445.421172413793,
          426.52813148788897,
          476.7668041237111,
          568.6693079584775,
          494.3604498269897,
          494.06875000000014,
          497.4638675958187,
          498.54252595155714,
          464.32309027777774,
          494.4988541666665,
          540.8934722222223,
          544.9157241379311,
          489.0608650519032,
          480.7197569444444,
          616.9781597222222,
          600.2718620689656,
          595.5119031141866,
          590.550694444444,
          566.6149305555557,
          564.3897916666662,
          590.8707849829347,
          503.3196896551723,
          525.3058965517237,
          548.2536805555553,
          569.6698257839719,
          551.6299652777775,
          555.6286111111109,
          518.0512222222223,
          631.3672727272727,
          595.7105172413796,
          607.5777027027032,
          649.9814383561642,
          653.6615202702711,
          591.3683333333331,
          575.6740476190479,
          496.1549664429531,
          462.5168600682596,
          457.8970000000001,
          509.3545263157896,
          535.8495422535212,
          535.1012727272722,
          555.5244982698964,
          537.3314982578396,
          518.4364604810997,
          517.1675086505193,
          502.0827681660899,
          551.8219444444441,
          605.4376816608999,
          630.5584775086503,
          608.432160278746,
          598.3513541666666,
          578.7151736111109,
          576.6158680555559,
          571.8563194444446,
          558.3449769585253,
          568.1736363636363,
          488.7400714285715,
          514.9445614035083,
          583.0248160535118,
          592.4460207612457,
          624.4881597222225,
          631.3466319444447,
          640.0892334494769,
          632.7477430555555,
          595.9494791666675,
          580.4698611111111,
          641.7479513888889,
          651.1321527777774,
          651.4992708333335,
          641.0799999999999,
          650.102569444445,
          629.8506920415223,
          574.6052430555566,
          459.2206944444445,
          420.6563541666669,
          505.82024305555547,
          577.6551567944248,
          580.8127777777777,
          579.7003460207612,
          598.5984375,
          574.0072222222218,
          562.9721180555554,
          535.3995486111115,
          575.2044599303134,
          567.174583333333,
          556.9259861591701,
          465.35378472222175,
          446.83301038062297,
          545.1837931034484,
          527.1981818181818,
          527.9816608996541,
          532.2715916955018,
          547.2808620689656,
          556.165482758621,
          579.6820833333339,
          590.3270833333328,
          500.74505226480824,
          435.5322569444443,
          430.9347750865054,
          417.23572916666666,
          407.38910344827605,
          514.3833217993077,
          526.1700000000001,
          510.8165156794427,
          519.3161245674739,
          504.4603472222221,
          506.95933797909413,
          554.9304513888884,
          618.0929757785462,
          573.6103819444444,
          459.3253535353534,
          453.09400000000016,
          473.7456478405318,
          462.7489236111109,
          544.0540624999996,
          581.7051388888882,
          577.4887978142076,
          408.35636363636365,
          414.71176470588205,
          479.6634589041095,
          559.9489160839166,
          554.3048474576277,
          560.5236824324326,
          540.0470796460177,
          556.2654545454545,
          563.3275,
          535.567335640138,
          525.1092733564019,
          517.5893402777775,
          519.805017301038,
          432.88274305555524,
          439.19578397212535,
          450.02659722222234,
          444.5759861591694,
          460.3113494809689,
          569.190309278351,
          589.9852595155706,
          576.8705190311418,
          544.9337282229967,
          544.0465051903111,
          538.7665517241379,
          536.4659861591699,
          495.3401041666665,
          435.1000000000001,
          423.19670138888904,
          425.2624041811844,
          421.59434027777763,
          423.1329513888888,
          548.5813194444443,
          552.6365277777778,
          552.4929513888887,
          561.7537500000002,
          562.464634146342,
          551.8892361111111,
          515.8666666666664,
          451.42843749999975,
          517.4240277777781,
          579.77,
          577.3868055555553,
          578.6301742160279,
          585.7087499999998,
          575.4762500000003,
          571.8203472222228,
          488.019826388889,
          541.0528472222218,
          564.1610416666668,
          546.671951219512,
          554.5131249999998,
          546.7262152777774,
          557.6479166666663,
          562.9652430555561,
          569.3916666666669,
          571.4936458333334,
          549.5210801393727,
          515.1602777777778,
          521.2442361111114,
          523.5614236111107,
          494.99055555555543,
          482.4820833333331,
          493.26208333333375,
          489.37324041811837,
          481.23736111111094,
          490.61402777777795,
          500.7473611111109,
          485.3109027777777,
          462.14718750000003,
          461.40006944444485,
          448.4723344947733,
          418.3688194444444,
          441.9272569444442,
          497.04256944444427,
          490.79121527777767,
          491.0620486111111,
          482.3109027777777,
          480.0835888501742,
          474.26173611111074,
          537.4539236111109,
          583.8778819444443,
          590.5390625000001,
          427.7926898734175,
          458.13489583333364,
          487.7625783972128,
          504.2307266435984,
          467.25402777777776,
          468.6557291666667,
          505.3442361111112,
          629.1998611111111,
          616.7409027777777,
          634.0976655052266,
          607.6036111111105,
          639.351145833333,
          629.5771527777778,
          638.4028819444446,
          505.3815972222221,
          442.04600694444457,
          422.0528571428568,
          413.1897569444445,
          487.553854166667,
          474.49454861111127,
          476.18194444444475,
          489.3921874999995,
          470.2284722222225,
          461.1314285714284,
          467.83940972222234,
          473.95464864864863,
          468.09727272727264,
          476.8544097222223,
          424.7475347222226,
          419.64680555555555,
          420.069236111111,
          537.5704861111112,
          568.5639583333333,
          562.1338675958194,
          559.4990476190476,
          446.266,
          442.72687500000006,
          452.1635763888886,
          455.0281533101045,
          466.56413194444445,
          516.1939583333334,
          582.6433680555555,
          586.902118055556,
          596.8949305555557,
          593.1138194444451,
          588.4380836236932,
          602.600520833333,
          480.78295138888853,
          441.0170833333333,
          430.2962847222224,
          424.9356944444445,
          436.4441666666666,
          433.534599303136,
          417.99994565217384,
          619.685,
          602.6300000000001,
          562.5263636363635,
          553.3011235955056,
          640.5,
          487.4136363636364,
          496.1333101045295,
          490.6249999999999,
          491.88075675675714,
          475.88384615384615,
          405.9463636363636,
          427.4102430555556,
          428.39260416666684,
          547.2377430555557,
          558.406423611111,
          540.970625,
          585.0920138888882
         ]
        }
       ],
       "layout": {
        "barmode": "group",
        "height": 450,
        "legend": {
         "font": {
          "size": 13
         },
         "orientation": "h",
         "x": 0,
         "y": -0.2
        },
        "plot_bgcolor": "white",
        "template": {
         "data": {
          "bar": [
           {
            "error_x": {
             "color": "#2a3f5f"
            },
            "error_y": {
             "color": "#2a3f5f"
            },
            "marker": {
             "line": {
              "color": "#E5ECF6",
              "width": 0.5
             }
            },
            "type": "bar"
           }
          ],
          "barpolar": [
           {
            "marker": {
             "line": {
              "color": "#E5ECF6",
              "width": 0.5
             }
            },
            "type": "barpolar"
           }
          ],
          "carpet": [
           {
            "aaxis": {
             "endlinecolor": "#2a3f5f",
             "gridcolor": "white",
             "linecolor": "white",
             "minorgridcolor": "white",
             "startlinecolor": "#2a3f5f"
            },
            "baxis": {
             "endlinecolor": "#2a3f5f",
             "gridcolor": "white",
             "linecolor": "white",
             "minorgridcolor": "white",
             "startlinecolor": "#2a3f5f"
            },
            "type": "carpet"
           }
          ],
          "choropleth": [
           {
            "colorbar": {
             "outlinewidth": 0,
             "ticks": ""
            },
            "type": "choropleth"
           }
          ],
          "contour": [
           {
            "colorbar": {
             "outlinewidth": 0,
             "ticks": ""
            },
            "colorscale": [
             [
              0,
              "#0d0887"
             ],
             [
              0.1111111111111111,
              "#46039f"
             ],
             [
              0.2222222222222222,
              "#7201a8"
             ],
             [
              0.3333333333333333,
              "#9c179e"
             ],
             [
              0.4444444444444444,
              "#bd3786"
             ],
             [
              0.5555555555555556,
              "#d8576b"
             ],
             [
              0.6666666666666666,
              "#ed7953"
             ],
             [
              0.7777777777777778,
              "#fb9f3a"
             ],
             [
              0.8888888888888888,
              "#fdca26"
             ],
             [
              1,
              "#f0f921"
             ]
            ],
            "type": "contour"
           }
          ],
          "contourcarpet": [
           {
            "colorbar": {
             "outlinewidth": 0,
             "ticks": ""
            },
            "type": "contourcarpet"
           }
          ],
          "heatmap": [
           {
            "colorbar": {
             "outlinewidth": 0,
             "ticks": ""
            },
            "colorscale": [
             [
              0,
              "#0d0887"
             ],
             [
              0.1111111111111111,
              "#46039f"
             ],
             [
              0.2222222222222222,
              "#7201a8"
             ],
             [
              0.3333333333333333,
              "#9c179e"
             ],
             [
              0.4444444444444444,
              "#bd3786"
             ],
             [
              0.5555555555555556,
              "#d8576b"
             ],
             [
              0.6666666666666666,
              "#ed7953"
             ],
             [
              0.7777777777777778,
              "#fb9f3a"
             ],
             [
              0.8888888888888888,
              "#fdca26"
             ],
             [
              1,
              "#f0f921"
             ]
            ],
            "type": "heatmap"
           }
          ],
          "heatmapgl": [
           {
            "colorbar": {
             "outlinewidth": 0,
             "ticks": ""
            },
            "colorscale": [
             [
              0,
              "#0d0887"
             ],
             [
              0.1111111111111111,
              "#46039f"
             ],
             [
              0.2222222222222222,
              "#7201a8"
             ],
             [
              0.3333333333333333,
              "#9c179e"
             ],
             [
              0.4444444444444444,
              "#bd3786"
             ],
             [
              0.5555555555555556,
              "#d8576b"
             ],
             [
              0.6666666666666666,
              "#ed7953"
             ],
             [
              0.7777777777777778,
              "#fb9f3a"
             ],
             [
              0.8888888888888888,
              "#fdca26"
             ],
             [
              1,
              "#f0f921"
             ]
            ],
            "type": "heatmapgl"
           }
          ],
          "histogram": [
           {
            "marker": {
             "colorbar": {
              "outlinewidth": 0,
              "ticks": ""
             }
            },
            "type": "histogram"
           }
          ],
          "histogram2d": [
           {
            "colorbar": {
             "outlinewidth": 0,
             "ticks": ""
            },
            "colorscale": [
             [
              0,
              "#0d0887"
             ],
             [
              0.1111111111111111,
              "#46039f"
             ],
             [
              0.2222222222222222,
              "#7201a8"
             ],
             [
              0.3333333333333333,
              "#9c179e"
             ],
             [
              0.4444444444444444,
              "#bd3786"
             ],
             [
              0.5555555555555556,
              "#d8576b"
             ],
             [
              0.6666666666666666,
              "#ed7953"
             ],
             [
              0.7777777777777778,
              "#fb9f3a"
             ],
             [
              0.8888888888888888,
              "#fdca26"
             ],
             [
              1,
              "#f0f921"
             ]
            ],
            "type": "histogram2d"
           }
          ],
          "histogram2dcontour": [
           {
            "colorbar": {
             "outlinewidth": 0,
             "ticks": ""
            },
            "colorscale": [
             [
              0,
              "#0d0887"
             ],
             [
              0.1111111111111111,
              "#46039f"
             ],
             [
              0.2222222222222222,
              "#7201a8"
             ],
             [
              0.3333333333333333,
              "#9c179e"
             ],
             [
              0.4444444444444444,
              "#bd3786"
             ],
             [
              0.5555555555555556,
              "#d8576b"
             ],
             [
              0.6666666666666666,
              "#ed7953"
             ],
             [
              0.7777777777777778,
              "#fb9f3a"
             ],
             [
              0.8888888888888888,
              "#fdca26"
             ],
             [
              1,
              "#f0f921"
             ]
            ],
            "type": "histogram2dcontour"
           }
          ],
          "mesh3d": [
           {
            "colorbar": {
             "outlinewidth": 0,
             "ticks": ""
            },
            "type": "mesh3d"
           }
          ],
          "parcoords": [
           {
            "line": {
             "colorbar": {
              "outlinewidth": 0,
              "ticks": ""
             }
            },
            "type": "parcoords"
           }
          ],
          "pie": [
           {
            "automargin": true,
            "type": "pie"
           }
          ],
          "scatter": [
           {
            "marker": {
             "colorbar": {
              "outlinewidth": 0,
              "ticks": ""
             }
            },
            "type": "scatter"
           }
          ],
          "scatter3d": [
           {
            "line": {
             "colorbar": {
              "outlinewidth": 0,
              "ticks": ""
             }
            },
            "marker": {
             "colorbar": {
              "outlinewidth": 0,
              "ticks": ""
             }
            },
            "type": "scatter3d"
           }
          ],
          "scattercarpet": [
           {
            "marker": {
             "colorbar": {
              "outlinewidth": 0,
              "ticks": ""
             }
            },
            "type": "scattercarpet"
           }
          ],
          "scattergeo": [
           {
            "marker": {
             "colorbar": {
              "outlinewidth": 0,
              "ticks": ""
             }
            },
            "type": "scattergeo"
           }
          ],
          "scattergl": [
           {
            "marker": {
             "colorbar": {
              "outlinewidth": 0,
              "ticks": ""
             }
            },
            "type": "scattergl"
           }
          ],
          "scattermapbox": [
           {
            "marker": {
             "colorbar": {
              "outlinewidth": 0,
              "ticks": ""
             }
            },
            "type": "scattermapbox"
           }
          ],
          "scatterpolar": [
           {
            "marker": {
             "colorbar": {
              "outlinewidth": 0,
              "ticks": ""
             }
            },
            "type": "scatterpolar"
           }
          ],
          "scatterpolargl": [
           {
            "marker": {
             "colorbar": {
              "outlinewidth": 0,
              "ticks": ""
             }
            },
            "type": "scatterpolargl"
           }
          ],
          "scatterternary": [
           {
            "marker": {
             "colorbar": {
              "outlinewidth": 0,
              "ticks": ""
             }
            },
            "type": "scatterternary"
           }
          ],
          "surface": [
           {
            "colorbar": {
             "outlinewidth": 0,
             "ticks": ""
            },
            "colorscale": [
             [
              0,
              "#0d0887"
             ],
             [
              0.1111111111111111,
              "#46039f"
             ],
             [
              0.2222222222222222,
              "#7201a8"
             ],
             [
              0.3333333333333333,
              "#9c179e"
             ],
             [
              0.4444444444444444,
              "#bd3786"
             ],
             [
              0.5555555555555556,
              "#d8576b"
             ],
             [
              0.6666666666666666,
              "#ed7953"
             ],
             [
              0.7777777777777778,
              "#fb9f3a"
             ],
             [
              0.8888888888888888,
              "#fdca26"
             ],
             [
              1,
              "#f0f921"
             ]
            ],
            "type": "surface"
           }
          ],
          "table": [
           {
            "cells": {
             "fill": {
              "color": "#EBF0F8"
             },
             "line": {
              "color": "white"
             }
            },
            "header": {
             "fill": {
              "color": "#C8D4E3"
             },
             "line": {
              "color": "white"
             }
            },
            "type": "table"
           }
          ]
         },
         "layout": {
          "annotationdefaults": {
           "arrowcolor": "#2a3f5f",
           "arrowhead": 0,
           "arrowwidth": 1
          },
          "coloraxis": {
           "colorbar": {
            "outlinewidth": 0,
            "ticks": ""
           }
          },
          "colorscale": {
           "diverging": [
            [
             0,
             "#8e0152"
            ],
            [
             0.1,
             "#c51b7d"
            ],
            [
             0.2,
             "#de77ae"
            ],
            [
             0.3,
             "#f1b6da"
            ],
            [
             0.4,
             "#fde0ef"
            ],
            [
             0.5,
             "#f7f7f7"
            ],
            [
             0.6,
             "#e6f5d0"
            ],
            [
             0.7,
             "#b8e186"
            ],
            [
             0.8,
             "#7fbc41"
            ],
            [
             0.9,
             "#4d9221"
            ],
            [
             1,
             "#276419"
            ]
           ],
           "sequential": [
            [
             0,
             "#0d0887"
            ],
            [
             0.1111111111111111,
             "#46039f"
            ],
            [
             0.2222222222222222,
             "#7201a8"
            ],
            [
             0.3333333333333333,
             "#9c179e"
            ],
            [
             0.4444444444444444,
             "#bd3786"
            ],
            [
             0.5555555555555556,
             "#d8576b"
            ],
            [
             0.6666666666666666,
             "#ed7953"
            ],
            [
             0.7777777777777778,
             "#fb9f3a"
            ],
            [
             0.8888888888888888,
             "#fdca26"
            ],
            [
             1,
             "#f0f921"
            ]
           ],
           "sequentialminus": [
            [
             0,
             "#0d0887"
            ],
            [
             0.1111111111111111,
             "#46039f"
            ],
            [
             0.2222222222222222,
             "#7201a8"
            ],
            [
             0.3333333333333333,
             "#9c179e"
            ],
            [
             0.4444444444444444,
             "#bd3786"
            ],
            [
             0.5555555555555556,
             "#d8576b"
            ],
            [
             0.6666666666666666,
             "#ed7953"
            ],
            [
             0.7777777777777778,
             "#fb9f3a"
            ],
            [
             0.8888888888888888,
             "#fdca26"
            ],
            [
             1,
             "#f0f921"
            ]
           ]
          },
          "colorway": [
           "#636efa",
           "#EF553B",
           "#00cc96",
           "#ab63fa",
           "#FFA15A",
           "#19d3f3",
           "#FF6692",
           "#B6E880",
           "#FF97FF",
           "#FECB52"
          ],
          "font": {
           "color": "#2a3f5f"
          },
          "geo": {
           "bgcolor": "white",
           "lakecolor": "white",
           "landcolor": "#E5ECF6",
           "showlakes": true,
           "showland": true,
           "subunitcolor": "white"
          },
          "hoverlabel": {
           "align": "left"
          },
          "hovermode": "closest",
          "mapbox": {
           "style": "light"
          },
          "paper_bgcolor": "white",
          "plot_bgcolor": "#E5ECF6",
          "polar": {
           "angularaxis": {
            "gridcolor": "white",
            "linecolor": "white",
            "ticks": ""
           },
           "bgcolor": "#E5ECF6",
           "radialaxis": {
            "gridcolor": "white",
            "linecolor": "white",
            "ticks": ""
           }
          },
          "scene": {
           "xaxis": {
            "backgroundcolor": "#E5ECF6",
            "gridcolor": "white",
            "gridwidth": 2,
            "linecolor": "white",
            "showbackground": true,
            "ticks": "",
            "zerolinecolor": "white"
           },
           "yaxis": {
            "backgroundcolor": "#E5ECF6",
            "gridcolor": "white",
            "gridwidth": 2,
            "linecolor": "white",
            "showbackground": true,
            "ticks": "",
            "zerolinecolor": "white"
           },
           "zaxis": {
            "backgroundcolor": "#E5ECF6",
            "gridcolor": "white",
            "gridwidth": 2,
            "linecolor": "white",
            "showbackground": true,
            "ticks": "",
            "zerolinecolor": "white"
           }
          },
          "shapedefaults": {
           "line": {
            "color": "#2a3f5f"
           }
          },
          "ternary": {
           "aaxis": {
            "gridcolor": "white",
            "linecolor": "white",
            "ticks": ""
           },
           "baxis": {
            "gridcolor": "white",
            "linecolor": "white",
            "ticks": ""
           },
           "bgcolor": "#E5ECF6",
           "caxis": {
            "gridcolor": "white",
            "linecolor": "white",
            "ticks": ""
           }
          },
          "title": {
           "x": 0.05
          },
          "xaxis": {
           "automargin": true,
           "gridcolor": "white",
           "linecolor": "white",
           "ticks": "",
           "title": {
            "standoff": 15
           },
           "zerolinecolor": "white",
           "zerolinewidth": 2
          },
          "yaxis": {
           "automargin": true,
           "gridcolor": "white",
           "linecolor": "white",
           "ticks": "",
           "title": {
            "standoff": 15
           },
           "zerolinecolor": "white",
           "zerolinewidth": 2
          }
         }
        },
        "title": {
         "text": "Beacon VS Dosenet Daily Averages, Pearson r = 0.23, Spearman r = 0.277"
        },
        "width": 1000,
        "xaxis": {
         "linecolor": "black",
         "tickfont": {
          "color": "black",
          "size": 12
         },
         "title": {
          "font": {
           "color": "black",
           "size": 20
          },
          "text": "BEACON Data "
         }
        },
        "yaxis": {
         "showgrid": false,
         "tickcolor": "black",
         "tickfont": {
          "color": "black",
          "size": 16
         },
         "title": {
          "font": {
           "color": "black",
           "size": 20
          },
          "text": "Dosenet Results"
         }
        }
       }
      },
      "text/html": [
       "<div>\n",
       "        \n",
       "        \n",
       "            <div id=\"f9e78273-21e6-4d0c-971e-881f7db3e9f1\" class=\"plotly-graph-div\" style=\"height:450px; width:1000px;\"></div>\n",
       "            <script type=\"text/javascript\">\n",
       "                require([\"plotly\"], function(Plotly) {\n",
       "                    window.PLOTLYENV=window.PLOTLYENV || {};\n",
       "                    \n",
       "                if (document.getElementById(\"f9e78273-21e6-4d0c-971e-881f7db3e9f1\")) {\n",
       "                    Plotly.newPlot(\n",
       "                        'f9e78273-21e6-4d0c-971e-881f7db3e9f1',\n",
       "                        [{\"mode\": \"markers\", \"type\": \"scatter\", \"x\": [420.875, 421.37, 437.2809523809524, 445.4227272727272, 452.3526315789474, 450.2882352941176, 455.51578947368415, 432.57619047619056, 432.225, 426.1681818181818, 419.41578947368413, 423.9947368421052, 424.33809523809515, 432.8117647058823, 432.7578947368421, 449.40000000000003, 422.8454545454546, 412.1238095238094, 415.00952380952367, 421.5681818181819, 423.3666666666667, 432.95416666666665, 442.84999999999997, 439.8476190476191, 449.70000000000005, 440.4799999999999, 437.0894736842105, 439.54499999999996, 454.70500000000004, 425.78999999999996, 410.7818181818182, 440.53478260869576, 443.6499999999999, 418.109090909091, 411.275, 430.88500000000005, 429.2312500000001, 439.90000000000003, 449.9444444444444, 446.1826086956522, 439.74736842105267, 448.035, 446.2499999999999, 456.5833333333333, 442.4, 429.1578947368421, 450.0285714285713, 456.975, 424.0909090909092, 435.43636363636364, 422.30555555555554, 416.52727272727276, 431.33529411764704, 426.03000000000003, 430.195, 446.95238095238085, 458.4166666666666, 448.47272727272724, 450.4545454545454, 452.45909090909083, 415.7315789473684, 411.01363636363635, 416.0, 418.4, 427.43, 426.2904761904762, 416.4555555555555, 427.05217391304353, 419.75909090909096, 423.1047619047619, 436.88, 444.6833333333333, 443.904761904762, 434.1391304347825, 427.21999999999997, 422.07777777777784, 427.93500000000006, 440.0909090909092, 420.31428571428575, 419.7684210526316, 444.1952380952382, 438.31428571428563, 417.08095238095234, 411.91999999999996, 407.84285714285716, 411.49090909090916, 429.35238095238094, 412.91499999999996, 425.73999999999995, 427.73999999999995, 412.84545454545463, 409.78500000000014, 416.99090909090904, 419.13684210526316, 415.1157894736842, 410.53999999999996, 418.64499999999987, 417.5761904761905, 422.16315789473686, 410.89499999999987, 423.1882352941177, 419.8476190476191, 418.5352941176471, 421.34499999999997, 420.3047619047619, 414.15909090909093, 423.6391304347827, 437.1142857142857, 419.56000000000006, 428.85, 437.3166666666668, 442.975, 438.4999999999999, 421.17272727272723, 417.85999999999996, 421.44736842105266, 421.7380952380951, 422.36956521739137, 416.26500000000004, 418.6136363636364, 417.10476190476186, 421.13809523809533, 420.0, 411.6111111111111, 417.69565217391306, 432.8300000000001, 435.9300000000001, 439.4799999999999, 427.3809523809524, 415.46250000000003, 415.675, 419.515, 416.90588235294115, 419.89523809523814, 411.0045454545454, 417.409090909091, 415.904761904762, 423.3277777777778, 421.6499999999999, 419.00434782608687, 415.645, 418.06499999999994, 420.01818181818174, 420.88499999999993, 416.947619047619, 422.8045454545454, 422.64374999999995, 422.99000000000007, 421.20526315789465, 429.8095238095238, 425.61499999999995, 416.17999999999995, 419.21999999999997, 422.85454545454553, 423.8285714285714, 419.5541666666666, 417.28095238095244, 421.66999999999996, 419.4826086956523, 415.17058823529413, 424.58500000000004, 418.5684210526316, 421.0380952380952, 424.4200000000001, 422.41428571428565, 420.19047619047626, 422.25263157894744, 421.81904761904764, 419.6454545454546, 419.69473684210527, 415.93499999999995, 418.62380952380954, 421.24444444444447, 418.25, 415.05909090909086, 421.6190476190476, 420.83157894736837, 419.2375, 424.8222222222223, 422.85, 421.0750000000001, 424.3545454545454, 421.2347826086957, 419.89, 425.02608695652174, 430.6333333333334, 417.0, 420.18095238095236, 421.2949999999999, 429.50869565217386, 424.65999999999997, 421.66315789473697, 413.3250000000001, 412.27916666666664, 416.504347826087, 416.58333333333326, 417.5208333333334, 413.1833333333332, 418.4583333333334, 426.21666666666675, 422.31666666666666, 414.96250000000003, 414.4083333333333, 413.55, 414.21666666666664, 409.3875, 411.3291666666666, 412.5250000000001, 412.8416666666667, 419.2625, 426.5208333333333, 412.6958333333334, 412.6708333333334, 413.8916666666666, 418.6125000000001, 411.5833333333334, 414.78333333333336, 421.6958333333334, 405.75, 406.7166666666667, 411.49166666666673, 410.1875, 410.66250000000014, 426.1333333333334, 421.2916666666666, 410.7583333333334, 413.88750000000005, 419.9875, 408.78749999999997, 404.70416666666665, 406.89166666666665, 407.1041666666666, 407.8208333333332, 408.9416666666668, 409.575, 412.5916666666667, 408.57083333333327, 407.7583333333334, 408.22499999999997, 409.0375000000001, 408.82500000000005, 406.7291666666666, 408.9708333333333, 406.3291666666667, 406.95000000000005, 406.8958333333334, 408.89166666666665, 410.0416666666667, 408.7, 407.4708333333333, 409.66249999999997, 410.4958333333334, 419.1833333333334, 412.7458333333334, 417.99166666666673, 416.15833333333325, 410.19166666666666, 417.20416666666665, 418.0249999999999, 421.8624999999999, 411.63750000000005, 407.12916666666666, 404.99166666666673, 409.5125, 409.24166666666673, 409.9916666666666, 413.70000000000005, 409.95416666666665, 408.0333333333333, 408.9708333333333, 408.92916666666673, 407.34999999999997, 410.70833333333326, 404.50833333333327, 402.2666666666666, 408.54583333333335, 410.2166666666665, 404.18750000000006, 407.4833333333333, 406.82083333333327, 405.6291666666668, 404.4208333333333, 402.63750000000005, 401.5583333333332, 401.63333333333327, 410.5, 496.04347826086973, 484.40000000000003, 482.57916666666665, 481.475, 488.95, 424.74545454545455, 415.94666666666666, 432.9923076923077, 435.9347826086956, 433.65, 431.5722222222223, 432.7235294117647, 418.72499999999997, 417.88666666666666, 420.2388888888888, 416.6411764705883, 421.93500000000006, 416.93157894736845, 419.49090909090916, 419.6714285714286, 420.51428571428585, 422.9809523809524, 417.1095238095239, 424.7913043478261, 425.3130434782609, 420.0681818181818, 418.2166666666665, 422.9083333333335, 414.775, 413.1714285714286, 412.9904761904762, 412.85238095238094, 425.73333333333335, 417.27142857142854, 421.7266666666667, 411.85333333333335, 412.43124999999986, 412.5411764705883, 411.69374999999997, 409.6764705882353, 407.2933333333333, 406.6642857142857, 405.7153846153846, 407.53333333333336, 408.3933333333334, 409.0625, 410.22499999999997, 408.49375, 414.20588235294116, 414.45625, 411.41999999999996, 411.6928571428572, 414.43125000000003, 415.61249999999995, 404.7823529411765, 409.0882352941177, 411.87647058823535, 409.11428571428576, 411.7722222222222, 406.66250000000014, 403.2400000000001, 406.14444444444445, 402.1058823529412, 401.0499999999999, 409.1166666666667, 414.45294117647063, 412.74736842105256, 417.2315789473685, 418.0736842105263, 414.4777777777777, 406.2384615384616], \"y\": [420.3690476190476, 457.3826351351353, 462.9495138888889, 624.2082593856657, 661.5991095890415, 659.2405841924395, 682.5439100346015, 661.5233217993074, 622.6337931034483, 496.49945205479463, 404.3739930555558, 544.6993814432986, 587.8535738831608, 565.7547750865056, 566.0058477508651, 577.1424652777785, 524.1621107266432, 434.6337024221454, 408.59655172413795, 474.55770547945207, 471.04058823529414, 559.1321799307958, 578.2195172413798, 587.4252595155713, 574.6397577854669, 559.4516955017294, 538.9208333333332, 537.4964930555556, 529.8254166666668, 492.6162152777775, 408.0583275261319, 486.25034722222244, 496.4348263888891, 494.08034843205604, 434.243598615917, 450.3249999999996, 663.5737254901962, 680.0990909090909, 710.8197916666666, 695.9142013888895, 726.5651202749135, 734.4260069444447, 681.277326388889, 655.8018402777776, 605.946213592233, 552.1694791666667, 517.5940291262137, 516.81, 525.7536363636364, 558.8308333333333, 543.4991319444446, 490.7950347222217, 543.6843598615911, 532.375847750865, 491.6857291666663, 451.15693379790974, 498.59013840830477, 500.48878472222236, 506.053135888502, 517.3247916666666, 422.7336458333334, 399.46149305555554, 456.2157142857145, 508.0888888888893, 506.94624999999996, 518.1212456747401, 485.37812500000007, 491.52069444444413, 473.6400347222222, 552.4410104529615, 555.6233333333334, 575.0690344827586, 584.4377083333338, 582.9492708333328, 619.424586206897, 589.2809688581316, 544.2715331010454, 469.35567474048446, 417.0618466898955, 495.7152397260275, 627.6269097222226, 622.8467361111117, 582.2020138888888, 461.74261324041856, 500.598923611111, 453.7686458333333, 458.4555555555553, 445.421172413793, 426.52813148788897, 476.7668041237111, 568.6693079584775, 494.3604498269897, 494.06875000000014, 497.4638675958187, 498.54252595155714, 464.32309027777774, 494.4988541666665, 540.8934722222223, 544.9157241379311, 489.0608650519032, 480.7197569444444, 616.9781597222222, 600.2718620689656, 595.5119031141866, 590.550694444444, 566.6149305555557, 564.3897916666662, 590.8707849829347, 503.3196896551723, 525.3058965517237, 548.2536805555553, 569.6698257839719, 551.6299652777775, 555.6286111111109, 518.0512222222223, 631.3672727272727, 595.7105172413796, 607.5777027027032, 649.9814383561642, 653.6615202702711, 591.3683333333331, 575.6740476190479, 496.1549664429531, 462.5168600682596, 457.8970000000001, 509.3545263157896, 535.8495422535212, 535.1012727272722, 555.5244982698964, 537.3314982578396, 518.4364604810997, 517.1675086505193, 502.0827681660899, 551.8219444444441, 605.4376816608999, 630.5584775086503, 608.432160278746, 598.3513541666666, 578.7151736111109, 576.6158680555559, 571.8563194444446, 558.3449769585253, 568.1736363636363, 488.7400714285715, 514.9445614035083, 583.0248160535118, 592.4460207612457, 624.4881597222225, 631.3466319444447, 640.0892334494769, 632.7477430555555, 595.9494791666675, 580.4698611111111, 641.7479513888889, 651.1321527777774, 651.4992708333335, 641.0799999999999, 650.102569444445, 629.8506920415223, 574.6052430555566, 459.2206944444445, 420.6563541666669, 505.82024305555547, 577.6551567944248, 580.8127777777777, 579.7003460207612, 598.5984375, 574.0072222222218, 562.9721180555554, 535.3995486111115, 575.2044599303134, 567.174583333333, 556.9259861591701, 465.35378472222175, 446.83301038062297, 545.1837931034484, 527.1981818181818, 527.9816608996541, 532.2715916955018, 547.2808620689656, 556.165482758621, 579.6820833333339, 590.3270833333328, 500.74505226480824, 435.5322569444443, 430.9347750865054, 417.23572916666666, 407.38910344827605, 514.3833217993077, 526.1700000000001, 510.8165156794427, 519.3161245674739, 504.4603472222221, 506.95933797909413, 554.9304513888884, 618.0929757785462, 573.6103819444444, 459.3253535353534, 453.09400000000016, 473.7456478405318, 462.7489236111109, 544.0540624999996, 581.7051388888882, 577.4887978142076, 408.35636363636365, 414.71176470588205, 479.6634589041095, 559.9489160839166, 554.3048474576277, 560.5236824324326, 540.0470796460177, 556.2654545454545, 563.3275, 535.567335640138, 525.1092733564019, 517.5893402777775, 519.805017301038, 432.88274305555524, 439.19578397212535, 450.02659722222234, 444.5759861591694, 460.3113494809689, 569.190309278351, 589.9852595155706, 576.8705190311418, 544.9337282229967, 544.0465051903111, 538.7665517241379, 536.4659861591699, 495.3401041666665, 435.1000000000001, 423.19670138888904, 425.2624041811844, 421.59434027777763, 423.1329513888888, 548.5813194444443, 552.6365277777778, 552.4929513888887, 561.7537500000002, 562.464634146342, 551.8892361111111, 515.8666666666664, 451.42843749999975, 517.4240277777781, 579.77, 577.3868055555553, 578.6301742160279, 585.7087499999998, 575.4762500000003, 571.8203472222228, 488.019826388889, 541.0528472222218, 564.1610416666668, 546.671951219512, 554.5131249999998, 546.7262152777774, 557.6479166666663, 562.9652430555561, 569.3916666666669, 571.4936458333334, 549.5210801393727, 515.1602777777778, 521.2442361111114, 523.5614236111107, 494.99055555555543, 482.4820833333331, 493.26208333333375, 489.37324041811837, 481.23736111111094, 490.61402777777795, 500.7473611111109, 485.3109027777777, 462.14718750000003, 461.40006944444485, 448.4723344947733, 418.3688194444444, 441.9272569444442, 497.04256944444427, 490.79121527777767, 491.0620486111111, 482.3109027777777, 480.0835888501742, 474.26173611111074, 537.4539236111109, 583.8778819444443, 590.5390625000001, 427.7926898734175, 458.13489583333364, 487.7625783972128, 504.2307266435984, 467.25402777777776, 468.6557291666667, 505.3442361111112, 629.1998611111111, 616.7409027777777, 634.0976655052266, 607.6036111111105, 639.351145833333, 629.5771527777778, 638.4028819444446, 505.3815972222221, 442.04600694444457, 422.0528571428568, 413.1897569444445, 487.553854166667, 474.49454861111127, 476.18194444444475, 489.3921874999995, 470.2284722222225, 461.1314285714284, 467.83940972222234, 473.95464864864863, 468.09727272727264, 476.8544097222223, 424.7475347222226, 419.64680555555555, 420.069236111111, 537.5704861111112, 568.5639583333333, 562.1338675958194, 559.4990476190476, 446.266, 442.72687500000006, 452.1635763888886, 455.0281533101045, 466.56413194444445, 516.1939583333334, 582.6433680555555, 586.902118055556, 596.8949305555557, 593.1138194444451, 588.4380836236932, 602.600520833333, 480.78295138888853, 441.0170833333333, 430.2962847222224, 424.9356944444445, 436.4441666666666, 433.534599303136, 417.99994565217384, 619.685, 602.6300000000001, 562.5263636363635, 553.3011235955056, 640.5, 487.4136363636364, 496.1333101045295, 490.6249999999999, 491.88075675675714, 475.88384615384615, 405.9463636363636, 427.4102430555556, 428.39260416666684, 547.2377430555557, 558.406423611111, 540.970625, 585.0920138888882]}],\n",
       "                        {\"barmode\": \"group\", \"height\": 450, \"legend\": {\"font\": {\"size\": 13}, \"orientation\": \"h\", \"x\": 0, \"y\": -0.2}, \"plot_bgcolor\": \"white\", \"template\": {\"data\": {\"bar\": [{\"error_x\": {\"color\": \"#2a3f5f\"}, \"error_y\": {\"color\": \"#2a3f5f\"}, \"marker\": {\"line\": {\"color\": \"#E5ECF6\", \"width\": 0.5}}, \"type\": \"bar\"}], \"barpolar\": [{\"marker\": {\"line\": {\"color\": \"#E5ECF6\", \"width\": 0.5}}, \"type\": \"barpolar\"}], \"carpet\": [{\"aaxis\": {\"endlinecolor\": \"#2a3f5f\", \"gridcolor\": \"white\", \"linecolor\": \"white\", \"minorgridcolor\": \"white\", \"startlinecolor\": \"#2a3f5f\"}, \"baxis\": {\"endlinecolor\": \"#2a3f5f\", \"gridcolor\": \"white\", \"linecolor\": \"white\", \"minorgridcolor\": \"white\", \"startlinecolor\": \"#2a3f5f\"}, \"type\": \"carpet\"}], \"choropleth\": [{\"colorbar\": {\"outlinewidth\": 0, \"ticks\": \"\"}, \"type\": \"choropleth\"}], \"contour\": [{\"colorbar\": {\"outlinewidth\": 0, \"ticks\": \"\"}, \"colorscale\": [[0.0, \"#0d0887\"], [0.1111111111111111, \"#46039f\"], [0.2222222222222222, \"#7201a8\"], [0.3333333333333333, \"#9c179e\"], [0.4444444444444444, \"#bd3786\"], [0.5555555555555556, \"#d8576b\"], [0.6666666666666666, \"#ed7953\"], [0.7777777777777778, \"#fb9f3a\"], [0.8888888888888888, \"#fdca26\"], [1.0, \"#f0f921\"]], \"type\": \"contour\"}], \"contourcarpet\": [{\"colorbar\": {\"outlinewidth\": 0, \"ticks\": \"\"}, \"type\": \"contourcarpet\"}], \"heatmap\": [{\"colorbar\": {\"outlinewidth\": 0, \"ticks\": \"\"}, \"colorscale\": [[0.0, \"#0d0887\"], [0.1111111111111111, \"#46039f\"], [0.2222222222222222, \"#7201a8\"], [0.3333333333333333, \"#9c179e\"], [0.4444444444444444, \"#bd3786\"], [0.5555555555555556, \"#d8576b\"], [0.6666666666666666, \"#ed7953\"], [0.7777777777777778, \"#fb9f3a\"], [0.8888888888888888, \"#fdca26\"], [1.0, \"#f0f921\"]], \"type\": \"heatmap\"}], \"heatmapgl\": [{\"colorbar\": {\"outlinewidth\": 0, \"ticks\": \"\"}, \"colorscale\": [[0.0, \"#0d0887\"], [0.1111111111111111, \"#46039f\"], [0.2222222222222222, \"#7201a8\"], [0.3333333333333333, \"#9c179e\"], [0.4444444444444444, \"#bd3786\"], [0.5555555555555556, \"#d8576b\"], [0.6666666666666666, \"#ed7953\"], [0.7777777777777778, \"#fb9f3a\"], [0.8888888888888888, \"#fdca26\"], [1.0, \"#f0f921\"]], \"type\": \"heatmapgl\"}], \"histogram\": [{\"marker\": {\"colorbar\": {\"outlinewidth\": 0, \"ticks\": \"\"}}, \"type\": \"histogram\"}], \"histogram2d\": [{\"colorbar\": {\"outlinewidth\": 0, \"ticks\": \"\"}, \"colorscale\": [[0.0, \"#0d0887\"], [0.1111111111111111, \"#46039f\"], [0.2222222222222222, \"#7201a8\"], [0.3333333333333333, \"#9c179e\"], [0.4444444444444444, \"#bd3786\"], [0.5555555555555556, \"#d8576b\"], [0.6666666666666666, \"#ed7953\"], [0.7777777777777778, \"#fb9f3a\"], [0.8888888888888888, \"#fdca26\"], [1.0, \"#f0f921\"]], \"type\": \"histogram2d\"}], \"histogram2dcontour\": [{\"colorbar\": {\"outlinewidth\": 0, \"ticks\": \"\"}, \"colorscale\": [[0.0, \"#0d0887\"], [0.1111111111111111, \"#46039f\"], [0.2222222222222222, \"#7201a8\"], [0.3333333333333333, \"#9c179e\"], [0.4444444444444444, \"#bd3786\"], [0.5555555555555556, \"#d8576b\"], [0.6666666666666666, \"#ed7953\"], [0.7777777777777778, \"#fb9f3a\"], [0.8888888888888888, \"#fdca26\"], [1.0, \"#f0f921\"]], \"type\": \"histogram2dcontour\"}], \"mesh3d\": [{\"colorbar\": {\"outlinewidth\": 0, \"ticks\": \"\"}, \"type\": \"mesh3d\"}], \"parcoords\": [{\"line\": {\"colorbar\": {\"outlinewidth\": 0, \"ticks\": \"\"}}, \"type\": \"parcoords\"}], \"pie\": [{\"automargin\": true, \"type\": \"pie\"}], \"scatter\": [{\"marker\": {\"colorbar\": {\"outlinewidth\": 0, \"ticks\": \"\"}}, \"type\": \"scatter\"}], \"scatter3d\": [{\"line\": {\"colorbar\": {\"outlinewidth\": 0, \"ticks\": \"\"}}, \"marker\": {\"colorbar\": {\"outlinewidth\": 0, \"ticks\": \"\"}}, \"type\": \"scatter3d\"}], \"scattercarpet\": [{\"marker\": {\"colorbar\": {\"outlinewidth\": 0, \"ticks\": \"\"}}, \"type\": \"scattercarpet\"}], \"scattergeo\": [{\"marker\": {\"colorbar\": {\"outlinewidth\": 0, \"ticks\": \"\"}}, \"type\": \"scattergeo\"}], \"scattergl\": [{\"marker\": {\"colorbar\": {\"outlinewidth\": 0, \"ticks\": \"\"}}, \"type\": \"scattergl\"}], \"scattermapbox\": [{\"marker\": {\"colorbar\": {\"outlinewidth\": 0, \"ticks\": \"\"}}, \"type\": \"scattermapbox\"}], \"scatterpolar\": [{\"marker\": {\"colorbar\": {\"outlinewidth\": 0, \"ticks\": \"\"}}, \"type\": \"scatterpolar\"}], \"scatterpolargl\": [{\"marker\": {\"colorbar\": {\"outlinewidth\": 0, \"ticks\": \"\"}}, \"type\": \"scatterpolargl\"}], \"scatterternary\": [{\"marker\": {\"colorbar\": {\"outlinewidth\": 0, \"ticks\": \"\"}}, \"type\": \"scatterternary\"}], \"surface\": [{\"colorbar\": {\"outlinewidth\": 0, \"ticks\": \"\"}, \"colorscale\": [[0.0, \"#0d0887\"], [0.1111111111111111, \"#46039f\"], [0.2222222222222222, \"#7201a8\"], [0.3333333333333333, \"#9c179e\"], [0.4444444444444444, \"#bd3786\"], [0.5555555555555556, \"#d8576b\"], [0.6666666666666666, \"#ed7953\"], [0.7777777777777778, \"#fb9f3a\"], [0.8888888888888888, \"#fdca26\"], [1.0, \"#f0f921\"]], \"type\": \"surface\"}], \"table\": [{\"cells\": {\"fill\": {\"color\": \"#EBF0F8\"}, \"line\": {\"color\": \"white\"}}, \"header\": {\"fill\": {\"color\": \"#C8D4E3\"}, \"line\": {\"color\": \"white\"}}, \"type\": \"table\"}]}, \"layout\": {\"annotationdefaults\": {\"arrowcolor\": \"#2a3f5f\", \"arrowhead\": 0, \"arrowwidth\": 1}, \"coloraxis\": {\"colorbar\": {\"outlinewidth\": 0, \"ticks\": \"\"}}, \"colorscale\": {\"diverging\": [[0, \"#8e0152\"], [0.1, \"#c51b7d\"], [0.2, \"#de77ae\"], [0.3, \"#f1b6da\"], [0.4, \"#fde0ef\"], [0.5, \"#f7f7f7\"], [0.6, \"#e6f5d0\"], [0.7, \"#b8e186\"], [0.8, \"#7fbc41\"], [0.9, \"#4d9221\"], [1, \"#276419\"]], \"sequential\": [[0.0, \"#0d0887\"], [0.1111111111111111, \"#46039f\"], [0.2222222222222222, \"#7201a8\"], [0.3333333333333333, \"#9c179e\"], [0.4444444444444444, \"#bd3786\"], [0.5555555555555556, \"#d8576b\"], [0.6666666666666666, \"#ed7953\"], [0.7777777777777778, \"#fb9f3a\"], [0.8888888888888888, \"#fdca26\"], [1.0, \"#f0f921\"]], \"sequentialminus\": [[0.0, \"#0d0887\"], [0.1111111111111111, \"#46039f\"], [0.2222222222222222, \"#7201a8\"], [0.3333333333333333, \"#9c179e\"], [0.4444444444444444, \"#bd3786\"], [0.5555555555555556, \"#d8576b\"], [0.6666666666666666, \"#ed7953\"], [0.7777777777777778, \"#fb9f3a\"], [0.8888888888888888, \"#fdca26\"], [1.0, \"#f0f921\"]]}, \"colorway\": [\"#636efa\", \"#EF553B\", \"#00cc96\", \"#ab63fa\", \"#FFA15A\", \"#19d3f3\", \"#FF6692\", \"#B6E880\", \"#FF97FF\", \"#FECB52\"], \"font\": {\"color\": \"#2a3f5f\"}, \"geo\": {\"bgcolor\": \"white\", \"lakecolor\": \"white\", \"landcolor\": \"#E5ECF6\", \"showlakes\": true, \"showland\": true, \"subunitcolor\": \"white\"}, \"hoverlabel\": {\"align\": \"left\"}, \"hovermode\": \"closest\", \"mapbox\": {\"style\": \"light\"}, \"paper_bgcolor\": \"white\", \"plot_bgcolor\": \"#E5ECF6\", \"polar\": {\"angularaxis\": {\"gridcolor\": \"white\", \"linecolor\": \"white\", \"ticks\": \"\"}, \"bgcolor\": \"#E5ECF6\", \"radialaxis\": {\"gridcolor\": \"white\", \"linecolor\": \"white\", \"ticks\": \"\"}}, \"scene\": {\"xaxis\": {\"backgroundcolor\": \"#E5ECF6\", \"gridcolor\": \"white\", \"gridwidth\": 2, \"linecolor\": \"white\", \"showbackground\": true, \"ticks\": \"\", \"zerolinecolor\": \"white\"}, \"yaxis\": {\"backgroundcolor\": \"#E5ECF6\", \"gridcolor\": \"white\", \"gridwidth\": 2, \"linecolor\": \"white\", \"showbackground\": true, \"ticks\": \"\", \"zerolinecolor\": \"white\"}, \"zaxis\": {\"backgroundcolor\": \"#E5ECF6\", \"gridcolor\": \"white\", \"gridwidth\": 2, \"linecolor\": \"white\", \"showbackground\": true, \"ticks\": \"\", \"zerolinecolor\": \"white\"}}, \"shapedefaults\": {\"line\": {\"color\": \"#2a3f5f\"}}, \"ternary\": {\"aaxis\": {\"gridcolor\": \"white\", \"linecolor\": \"white\", \"ticks\": \"\"}, \"baxis\": {\"gridcolor\": \"white\", \"linecolor\": \"white\", \"ticks\": \"\"}, \"bgcolor\": \"#E5ECF6\", \"caxis\": {\"gridcolor\": \"white\", \"linecolor\": \"white\", \"ticks\": \"\"}}, \"title\": {\"x\": 0.05}, \"xaxis\": {\"automargin\": true, \"gridcolor\": \"white\", \"linecolor\": \"white\", \"ticks\": \"\", \"title\": {\"standoff\": 15}, \"zerolinecolor\": \"white\", \"zerolinewidth\": 2}, \"yaxis\": {\"automargin\": true, \"gridcolor\": \"white\", \"linecolor\": \"white\", \"ticks\": \"\", \"title\": {\"standoff\": 15}, \"zerolinecolor\": \"white\", \"zerolinewidth\": 2}}}, \"title\": {\"text\": \"Beacon VS Dosenet Daily Averages, Pearson r = 0.23, Spearman r = 0.277\"}, \"width\": 1000, \"xaxis\": {\"linecolor\": \"black\", \"tickfont\": {\"color\": \"black\", \"size\": 12}, \"title\": {\"font\": {\"color\": \"black\", \"size\": 20}, \"text\": \"BEACON Data \"}}, \"yaxis\": {\"showgrid\": false, \"tickcolor\": \"black\", \"tickfont\": {\"color\": \"black\", \"size\": 16}, \"title\": {\"font\": {\"color\": \"black\", \"size\": 20}, \"text\": \"Dosenet Results\"}}},\n",
       "                        {\"responsive\": true}\n",
       "                    ).then(function(){\n",
       "                            \n",
       "var gd = document.getElementById('f9e78273-21e6-4d0c-971e-881f7db3e9f1');\n",
       "var x = new MutationObserver(function (mutations, observer) {{\n",
       "        var display = window.getComputedStyle(gd).display;\n",
       "        if (!display || display === 'none') {{\n",
       "            console.log([gd, 'removed!']);\n",
       "            Plotly.purge(gd);\n",
       "            observer.disconnect();\n",
       "        }}\n",
       "}});\n",
       "\n",
       "// Listen for the removal of the full notebook cells\n",
       "var notebookContainer = gd.closest('#notebook-container');\n",
       "if (notebookContainer) {{\n",
       "    x.observe(notebookContainer, {childList: true});\n",
       "}}\n",
       "\n",
       "// Listen for the clearing of the current output cell\n",
       "var outputEl = gd.closest('.output');\n",
       "if (outputEl) {{\n",
       "    x.observe(outputEl, {childList: true});\n",
       "}}\n",
       "\n",
       "                        })\n",
       "                };\n",
       "                });\n",
       "            </script>\n",
       "        </div>"
      ]
     },
     "metadata": {},
     "output_type": "display_data"
    }
   ],
   "source": [
    "fig = go.Figure()\n",
    "fig.add_scatter(\n",
    "        x = all_data['CO2_ppm'],\n",
    "        y = all_data['co2_ppm'], mode = 'markers')\n",
    "\n",
    "fig.update_layout(plot_bgcolor='white',width=1000, height=450, title = 'Beacon VS Dosenet Daily Averages, Pearson r = %s, Spearman r = %s'%(pcorr, spcorr))\n",
    "fig.update_yaxes(title=\"Dosenet Results\",titlefont=dict(color='black', size=20),\n",
    "                showgrid=False,tickcolor='black',\n",
    "                tickfont=dict(color='black', size=16))\n",
    "fig.update_xaxes(title=\"BEACON Data \",titlefont=dict(color='black', size=20),\n",
    "                linecolor='black',tickfont=dict(color='black',size=12))\n",
    "fig.update_layout(legend_orientation=\"h\",\n",
    "                legend=dict(x=0,y=-.2, font=dict(size=13)))\n",
    "fig.update_layout(barmode='group')\n",
    "    \n",
    "fig\n"
   ]
  },
  {
   "cell_type": "code",
   "execution_count": 50,
   "metadata": {},
   "outputs": [
    {
     "name": "stdout",
     "output_type": "stream",
     "text": [
      "Pearson r: 0.23\n",
      "Spearman r: 0.277\n"
     ]
    }
   ],
   "source": [
    "pcorr, _ = pearsonr(all_data['co2_ppm'], all_data['CO2_ppm'])\n",
    "spcorr, _ = spearmanr(all_data['co2_ppm'], all_data['CO2_ppm'])\n",
    "pcorr = round(pcorr, 3)\n",
    "spcorr = round(spcorr, 3)\n",
    "print('Pearson r: %s' %pcorr)\n",
    "print('Spearman r: %s' %spcorr)"
   ]
  },
  {
   "cell_type": "code",
   "execution_count": 48,
   "metadata": {},
   "outputs": [
    {
     "data": {
      "application/vnd.plotly.v1+json": {
       "config": {
        "plotlyServerURL": "https://plot.ly"
       },
       "data": [
        {
         "name": "beacon",
         "type": "histogram",
         "x": [
          420.875,
          421.37,
          437.2809523809524,
          445.4227272727272,
          452.3526315789474,
          450.2882352941176,
          455.51578947368415,
          432.57619047619056,
          432.225,
          426.1681818181818,
          419.41578947368413,
          423.9947368421052,
          424.33809523809515,
          432.8117647058823,
          432.7578947368421,
          449.40000000000003,
          422.8454545454546,
          412.1238095238094,
          415.00952380952367,
          421.5681818181819,
          423.3666666666667,
          432.95416666666665,
          442.84999999999997,
          439.8476190476191,
          449.70000000000005,
          440.4799999999999,
          437.0894736842105,
          439.54499999999996,
          454.70500000000004,
          425.78999999999996,
          410.7818181818182,
          440.53478260869576,
          443.6499999999999,
          418.109090909091,
          411.275,
          430.88500000000005,
          429.2312500000001,
          439.90000000000003,
          449.9444444444444,
          446.1826086956522,
          439.74736842105267,
          448.035,
          446.2499999999999,
          456.5833333333333,
          442.4,
          429.1578947368421,
          450.0285714285713,
          456.975,
          424.0909090909092,
          435.43636363636364,
          422.30555555555554,
          416.52727272727276,
          431.33529411764704,
          426.03000000000003,
          430.195,
          446.95238095238085,
          458.4166666666666,
          448.47272727272724,
          450.4545454545454,
          452.45909090909083,
          415.7315789473684,
          411.01363636363635,
          416,
          418.4,
          427.43,
          426.2904761904762,
          416.4555555555555,
          427.05217391304353,
          419.75909090909096,
          423.1047619047619,
          436.88,
          444.6833333333333,
          443.904761904762,
          434.1391304347825,
          427.21999999999997,
          422.07777777777784,
          427.93500000000006,
          440.0909090909092,
          420.31428571428575,
          419.7684210526316,
          444.1952380952382,
          438.31428571428563,
          417.08095238095234,
          411.91999999999996,
          407.84285714285716,
          411.49090909090916,
          429.35238095238094,
          412.91499999999996,
          425.73999999999995,
          427.73999999999995,
          412.84545454545463,
          409.78500000000014,
          416.99090909090904,
          419.13684210526316,
          415.1157894736842,
          410.53999999999996,
          418.64499999999987,
          417.5761904761905,
          422.16315789473686,
          410.89499999999987,
          423.1882352941177,
          419.8476190476191,
          418.5352941176471,
          421.34499999999997,
          420.3047619047619,
          414.15909090909093,
          423.6391304347827,
          437.1142857142857,
          419.56000000000006,
          428.85,
          437.3166666666668,
          442.975,
          438.4999999999999,
          421.17272727272723,
          417.85999999999996,
          421.44736842105266,
          421.7380952380951,
          422.36956521739137,
          416.26500000000004,
          418.6136363636364,
          417.10476190476186,
          421.13809523809533,
          420,
          411.6111111111111,
          417.69565217391306,
          432.8300000000001,
          435.9300000000001,
          439.4799999999999,
          427.3809523809524,
          415.46250000000003,
          415.675,
          419.515,
          416.90588235294115,
          419.89523809523814,
          411.0045454545454,
          417.409090909091,
          415.904761904762,
          423.3277777777778,
          421.6499999999999,
          419.00434782608687,
          415.645,
          418.06499999999994,
          420.01818181818174,
          420.88499999999993,
          416.947619047619,
          422.8045454545454,
          422.64374999999995,
          422.99000000000007,
          421.20526315789465,
          429.8095238095238,
          425.61499999999995,
          416.17999999999995,
          419.21999999999997,
          422.85454545454553,
          423.8285714285714,
          419.5541666666666,
          417.28095238095244,
          421.66999999999996,
          419.4826086956523,
          415.17058823529413,
          424.58500000000004,
          418.5684210526316,
          421.0380952380952,
          424.4200000000001,
          422.41428571428565,
          420.19047619047626,
          422.25263157894744,
          421.81904761904764,
          419.6454545454546,
          419.69473684210527,
          415.93499999999995,
          418.62380952380954,
          421.24444444444447,
          418.25,
          415.05909090909086,
          421.6190476190476,
          420.83157894736837,
          419.2375,
          424.8222222222223,
          422.85,
          421.0750000000001,
          424.3545454545454,
          421.2347826086957,
          419.89,
          425.02608695652174,
          430.6333333333334,
          417,
          420.18095238095236,
          421.2949999999999,
          429.50869565217386,
          424.65999999999997,
          421.66315789473697,
          413.3250000000001,
          412.27916666666664,
          416.504347826087,
          416.58333333333326,
          417.5208333333334,
          413.1833333333332,
          418.4583333333334,
          426.21666666666675,
          422.31666666666666,
          414.96250000000003,
          414.4083333333333,
          413.55,
          414.21666666666664,
          409.3875,
          411.3291666666666,
          412.5250000000001,
          412.8416666666667,
          419.2625,
          426.5208333333333,
          412.6958333333334,
          412.6708333333334,
          413.8916666666666,
          418.6125000000001,
          411.5833333333334,
          414.78333333333336,
          421.6958333333334,
          405.75,
          406.7166666666667,
          411.49166666666673,
          410.1875,
          410.66250000000014,
          426.1333333333334,
          421.2916666666666,
          410.7583333333334,
          413.88750000000005,
          419.9875,
          408.78749999999997,
          404.70416666666665,
          406.89166666666665,
          407.1041666666666,
          407.8208333333332,
          408.9416666666668,
          409.575,
          412.5916666666667,
          408.57083333333327,
          407.7583333333334,
          408.22499999999997,
          409.0375000000001,
          408.82500000000005,
          406.7291666666666,
          408.9708333333333,
          406.3291666666667,
          406.95000000000005,
          406.8958333333334,
          408.89166666666665,
          410.0416666666667,
          408.7,
          407.4708333333333,
          409.66249999999997,
          410.4958333333334,
          419.1833333333334,
          412.7458333333334,
          417.99166666666673,
          416.15833333333325,
          410.19166666666666,
          417.20416666666665,
          418.0249999999999,
          421.8624999999999,
          411.63750000000005,
          407.12916666666666,
          404.99166666666673,
          409.5125,
          409.24166666666673,
          409.9916666666666,
          413.70000000000005,
          409.95416666666665,
          408.0333333333333,
          408.9708333333333,
          408.92916666666673,
          407.34999999999997,
          410.70833333333326,
          404.50833333333327,
          402.2666666666666,
          408.54583333333335,
          410.2166666666665,
          404.18750000000006,
          407.4833333333333,
          406.82083333333327,
          405.6291666666668,
          404.4208333333333,
          402.63750000000005,
          401.5583333333332,
          401.63333333333327,
          410.5,
          496.04347826086973,
          484.40000000000003,
          482.57916666666665,
          481.475,
          488.95,
          424.74545454545455,
          415.94666666666666,
          432.9923076923077,
          435.9347826086956,
          433.65,
          431.5722222222223,
          432.7235294117647,
          418.72499999999997,
          417.88666666666666,
          420.2388888888888,
          416.6411764705883,
          421.93500000000006,
          416.93157894736845,
          419.49090909090916,
          419.6714285714286,
          420.51428571428585,
          422.9809523809524,
          417.1095238095239,
          424.7913043478261,
          425.3130434782609,
          420.0681818181818,
          418.2166666666665,
          422.9083333333335,
          414.775,
          413.1714285714286,
          412.9904761904762,
          412.85238095238094,
          425.73333333333335,
          417.27142857142854,
          421.7266666666667,
          411.85333333333335,
          412.43124999999986,
          412.5411764705883,
          411.69374999999997,
          409.6764705882353,
          407.2933333333333,
          406.6642857142857,
          405.7153846153846,
          407.53333333333336,
          408.3933333333334,
          409.0625,
          410.22499999999997,
          408.49375,
          414.20588235294116,
          414.45625,
          411.41999999999996,
          411.6928571428572,
          414.43125000000003,
          415.61249999999995,
          404.7823529411765,
          409.0882352941177,
          411.87647058823535,
          409.11428571428576,
          411.7722222222222,
          406.66250000000014,
          403.2400000000001,
          406.14444444444445,
          402.1058823529412,
          401.0499999999999,
          409.1166666666667,
          414.45294117647063,
          412.74736842105256,
          417.2315789473685,
          418.0736842105263,
          414.4777777777777,
          406.2384615384616
         ]
        },
        {
         "name": "doesnet",
         "type": "histogram",
         "x": [
          420.3690476190476,
          457.3826351351353,
          462.9495138888889,
          624.2082593856657,
          661.5991095890415,
          659.2405841924395,
          682.5439100346015,
          661.5233217993074,
          622.6337931034483,
          496.49945205479463,
          404.3739930555558,
          544.6993814432986,
          587.8535738831608,
          565.7547750865056,
          566.0058477508651,
          577.1424652777785,
          524.1621107266432,
          434.6337024221454,
          408.59655172413795,
          474.55770547945207,
          471.04058823529414,
          559.1321799307958,
          578.2195172413798,
          587.4252595155713,
          574.6397577854669,
          559.4516955017294,
          538.9208333333332,
          537.4964930555556,
          529.8254166666668,
          492.6162152777775,
          408.0583275261319,
          486.25034722222244,
          496.4348263888891,
          494.08034843205604,
          434.243598615917,
          450.3249999999996,
          663.5737254901962,
          680.0990909090909,
          710.8197916666666,
          695.9142013888895,
          726.5651202749135,
          734.4260069444447,
          681.277326388889,
          655.8018402777776,
          605.946213592233,
          552.1694791666667,
          517.5940291262137,
          516.81,
          525.7536363636364,
          558.8308333333333,
          543.4991319444446,
          490.7950347222217,
          543.6843598615911,
          532.375847750865,
          491.6857291666663,
          451.15693379790974,
          498.59013840830477,
          500.48878472222236,
          506.053135888502,
          517.3247916666666,
          422.7336458333334,
          399.46149305555554,
          456.2157142857145,
          508.0888888888893,
          506.94624999999996,
          518.1212456747401,
          485.37812500000007,
          491.52069444444413,
          473.6400347222222,
          552.4410104529615,
          555.6233333333334,
          575.0690344827586,
          584.4377083333338,
          582.9492708333328,
          619.424586206897,
          589.2809688581316,
          544.2715331010454,
          469.35567474048446,
          417.0618466898955,
          495.7152397260275,
          627.6269097222226,
          622.8467361111117,
          582.2020138888888,
          461.74261324041856,
          500.598923611111,
          453.7686458333333,
          458.4555555555553,
          445.421172413793,
          426.52813148788897,
          476.7668041237111,
          568.6693079584775,
          494.3604498269897,
          494.06875000000014,
          497.4638675958187,
          498.54252595155714,
          464.32309027777774,
          494.4988541666665,
          540.8934722222223,
          544.9157241379311,
          489.0608650519032,
          480.7197569444444,
          616.9781597222222,
          600.2718620689656,
          595.5119031141866,
          590.550694444444,
          566.6149305555557,
          564.3897916666662,
          590.8707849829347,
          503.3196896551723,
          525.3058965517237,
          548.2536805555553,
          569.6698257839719,
          551.6299652777775,
          555.6286111111109,
          518.0512222222223,
          631.3672727272727,
          595.7105172413796,
          607.5777027027032,
          649.9814383561642,
          653.6615202702711,
          591.3683333333331,
          575.6740476190479,
          496.1549664429531,
          462.5168600682596,
          457.8970000000001,
          509.3545263157896,
          535.8495422535212,
          535.1012727272722,
          555.5244982698964,
          537.3314982578396,
          518.4364604810997,
          517.1675086505193,
          502.0827681660899,
          551.8219444444441,
          605.4376816608999,
          630.5584775086503,
          608.432160278746,
          598.3513541666666,
          578.7151736111109,
          576.6158680555559,
          571.8563194444446,
          558.3449769585253,
          568.1736363636363,
          488.7400714285715,
          514.9445614035083,
          583.0248160535118,
          592.4460207612457,
          624.4881597222225,
          631.3466319444447,
          640.0892334494769,
          632.7477430555555,
          595.9494791666675,
          580.4698611111111,
          641.7479513888889,
          651.1321527777774,
          651.4992708333335,
          641.0799999999999,
          650.102569444445,
          629.8506920415223,
          574.6052430555566,
          459.2206944444445,
          420.6563541666669,
          505.82024305555547,
          577.6551567944248,
          580.8127777777777,
          579.7003460207612,
          598.5984375,
          574.0072222222218,
          562.9721180555554,
          535.3995486111115,
          575.2044599303134,
          567.174583333333,
          556.9259861591701,
          465.35378472222175,
          446.83301038062297,
          545.1837931034484,
          527.1981818181818,
          527.9816608996541,
          532.2715916955018,
          547.2808620689656,
          556.165482758621,
          579.6820833333339,
          590.3270833333328,
          500.74505226480824,
          435.5322569444443,
          430.9347750865054,
          417.23572916666666,
          407.38910344827605,
          514.3833217993077,
          526.1700000000001,
          510.8165156794427,
          519.3161245674739,
          504.4603472222221,
          506.95933797909413,
          554.9304513888884,
          618.0929757785462,
          573.6103819444444,
          459.3253535353534,
          453.09400000000016,
          473.7456478405318,
          462.7489236111109,
          544.0540624999996,
          581.7051388888882,
          577.4887978142076,
          408.35636363636365,
          414.71176470588205,
          479.6634589041095,
          559.9489160839166,
          554.3048474576277,
          560.5236824324326,
          540.0470796460177,
          556.2654545454545,
          563.3275,
          535.567335640138,
          525.1092733564019,
          517.5893402777775,
          519.805017301038,
          432.88274305555524,
          439.19578397212535,
          450.02659722222234,
          444.5759861591694,
          460.3113494809689,
          569.190309278351,
          589.9852595155706,
          576.8705190311418,
          544.9337282229967,
          544.0465051903111,
          538.7665517241379,
          536.4659861591699,
          495.3401041666665,
          435.1000000000001,
          423.19670138888904,
          425.2624041811844,
          421.59434027777763,
          423.1329513888888,
          548.5813194444443,
          552.6365277777778,
          552.4929513888887,
          561.7537500000002,
          562.464634146342,
          551.8892361111111,
          515.8666666666664,
          451.42843749999975,
          517.4240277777781,
          579.77,
          577.3868055555553,
          578.6301742160279,
          585.7087499999998,
          575.4762500000003,
          571.8203472222228,
          488.019826388889,
          541.0528472222218,
          564.1610416666668,
          546.671951219512,
          554.5131249999998,
          546.7262152777774,
          557.6479166666663,
          562.9652430555561,
          569.3916666666669,
          571.4936458333334,
          549.5210801393727,
          515.1602777777778,
          521.2442361111114,
          523.5614236111107,
          494.99055555555543,
          482.4820833333331,
          493.26208333333375,
          489.37324041811837,
          481.23736111111094,
          490.61402777777795,
          500.7473611111109,
          485.3109027777777,
          462.14718750000003,
          461.40006944444485,
          448.4723344947733,
          418.3688194444444,
          441.9272569444442,
          497.04256944444427,
          490.79121527777767,
          491.0620486111111,
          482.3109027777777,
          480.0835888501742,
          474.26173611111074,
          537.4539236111109,
          583.8778819444443,
          590.5390625000001,
          427.7926898734175,
          458.13489583333364,
          487.7625783972128,
          504.2307266435984,
          467.25402777777776,
          468.6557291666667,
          505.3442361111112,
          629.1998611111111,
          616.7409027777777,
          634.0976655052266,
          607.6036111111105,
          639.351145833333,
          629.5771527777778,
          638.4028819444446,
          505.3815972222221,
          442.04600694444457,
          422.0528571428568,
          413.1897569444445,
          487.553854166667,
          474.49454861111127,
          476.18194444444475,
          489.3921874999995,
          470.2284722222225,
          461.1314285714284,
          467.83940972222234,
          473.95464864864863,
          468.09727272727264,
          476.8544097222223,
          424.7475347222226,
          419.64680555555555,
          420.069236111111,
          537.5704861111112,
          568.5639583333333,
          562.1338675958194,
          559.4990476190476,
          446.266,
          442.72687500000006,
          452.1635763888886,
          455.0281533101045,
          466.56413194444445,
          516.1939583333334,
          582.6433680555555,
          586.902118055556,
          596.8949305555557,
          593.1138194444451,
          588.4380836236932,
          602.600520833333,
          480.78295138888853,
          441.0170833333333,
          430.2962847222224,
          424.9356944444445,
          436.4441666666666,
          433.534599303136,
          417.99994565217384,
          619.685,
          602.6300000000001,
          562.5263636363635,
          553.3011235955056,
          640.5,
          487.4136363636364,
          496.1333101045295,
          490.6249999999999,
          491.88075675675714,
          475.88384615384615,
          405.9463636363636,
          427.4102430555556,
          428.39260416666684,
          547.2377430555557,
          558.406423611111,
          540.970625,
          585.0920138888882
         ]
        }
       ],
       "layout": {
        "barmode": "group",
        "height": 450,
        "legend": {
         "font": {
          "size": 13
         },
         "orientation": "h",
         "x": 0,
         "y": -0.2
        },
        "plot_bgcolor": "white",
        "template": {
         "data": {
          "bar": [
           {
            "error_x": {
             "color": "#2a3f5f"
            },
            "error_y": {
             "color": "#2a3f5f"
            },
            "marker": {
             "line": {
              "color": "#E5ECF6",
              "width": 0.5
             }
            },
            "type": "bar"
           }
          ],
          "barpolar": [
           {
            "marker": {
             "line": {
              "color": "#E5ECF6",
              "width": 0.5
             }
            },
            "type": "barpolar"
           }
          ],
          "carpet": [
           {
            "aaxis": {
             "endlinecolor": "#2a3f5f",
             "gridcolor": "white",
             "linecolor": "white",
             "minorgridcolor": "white",
             "startlinecolor": "#2a3f5f"
            },
            "baxis": {
             "endlinecolor": "#2a3f5f",
             "gridcolor": "white",
             "linecolor": "white",
             "minorgridcolor": "white",
             "startlinecolor": "#2a3f5f"
            },
            "type": "carpet"
           }
          ],
          "choropleth": [
           {
            "colorbar": {
             "outlinewidth": 0,
             "ticks": ""
            },
            "type": "choropleth"
           }
          ],
          "contour": [
           {
            "colorbar": {
             "outlinewidth": 0,
             "ticks": ""
            },
            "colorscale": [
             [
              0,
              "#0d0887"
             ],
             [
              0.1111111111111111,
              "#46039f"
             ],
             [
              0.2222222222222222,
              "#7201a8"
             ],
             [
              0.3333333333333333,
              "#9c179e"
             ],
             [
              0.4444444444444444,
              "#bd3786"
             ],
             [
              0.5555555555555556,
              "#d8576b"
             ],
             [
              0.6666666666666666,
              "#ed7953"
             ],
             [
              0.7777777777777778,
              "#fb9f3a"
             ],
             [
              0.8888888888888888,
              "#fdca26"
             ],
             [
              1,
              "#f0f921"
             ]
            ],
            "type": "contour"
           }
          ],
          "contourcarpet": [
           {
            "colorbar": {
             "outlinewidth": 0,
             "ticks": ""
            },
            "type": "contourcarpet"
           }
          ],
          "heatmap": [
           {
            "colorbar": {
             "outlinewidth": 0,
             "ticks": ""
            },
            "colorscale": [
             [
              0,
              "#0d0887"
             ],
             [
              0.1111111111111111,
              "#46039f"
             ],
             [
              0.2222222222222222,
              "#7201a8"
             ],
             [
              0.3333333333333333,
              "#9c179e"
             ],
             [
              0.4444444444444444,
              "#bd3786"
             ],
             [
              0.5555555555555556,
              "#d8576b"
             ],
             [
              0.6666666666666666,
              "#ed7953"
             ],
             [
              0.7777777777777778,
              "#fb9f3a"
             ],
             [
              0.8888888888888888,
              "#fdca26"
             ],
             [
              1,
              "#f0f921"
             ]
            ],
            "type": "heatmap"
           }
          ],
          "heatmapgl": [
           {
            "colorbar": {
             "outlinewidth": 0,
             "ticks": ""
            },
            "colorscale": [
             [
              0,
              "#0d0887"
             ],
             [
              0.1111111111111111,
              "#46039f"
             ],
             [
              0.2222222222222222,
              "#7201a8"
             ],
             [
              0.3333333333333333,
              "#9c179e"
             ],
             [
              0.4444444444444444,
              "#bd3786"
             ],
             [
              0.5555555555555556,
              "#d8576b"
             ],
             [
              0.6666666666666666,
              "#ed7953"
             ],
             [
              0.7777777777777778,
              "#fb9f3a"
             ],
             [
              0.8888888888888888,
              "#fdca26"
             ],
             [
              1,
              "#f0f921"
             ]
            ],
            "type": "heatmapgl"
           }
          ],
          "histogram": [
           {
            "marker": {
             "colorbar": {
              "outlinewidth": 0,
              "ticks": ""
             }
            },
            "type": "histogram"
           }
          ],
          "histogram2d": [
           {
            "colorbar": {
             "outlinewidth": 0,
             "ticks": ""
            },
            "colorscale": [
             [
              0,
              "#0d0887"
             ],
             [
              0.1111111111111111,
              "#46039f"
             ],
             [
              0.2222222222222222,
              "#7201a8"
             ],
             [
              0.3333333333333333,
              "#9c179e"
             ],
             [
              0.4444444444444444,
              "#bd3786"
             ],
             [
              0.5555555555555556,
              "#d8576b"
             ],
             [
              0.6666666666666666,
              "#ed7953"
             ],
             [
              0.7777777777777778,
              "#fb9f3a"
             ],
             [
              0.8888888888888888,
              "#fdca26"
             ],
             [
              1,
              "#f0f921"
             ]
            ],
            "type": "histogram2d"
           }
          ],
          "histogram2dcontour": [
           {
            "colorbar": {
             "outlinewidth": 0,
             "ticks": ""
            },
            "colorscale": [
             [
              0,
              "#0d0887"
             ],
             [
              0.1111111111111111,
              "#46039f"
             ],
             [
              0.2222222222222222,
              "#7201a8"
             ],
             [
              0.3333333333333333,
              "#9c179e"
             ],
             [
              0.4444444444444444,
              "#bd3786"
             ],
             [
              0.5555555555555556,
              "#d8576b"
             ],
             [
              0.6666666666666666,
              "#ed7953"
             ],
             [
              0.7777777777777778,
              "#fb9f3a"
             ],
             [
              0.8888888888888888,
              "#fdca26"
             ],
             [
              1,
              "#f0f921"
             ]
            ],
            "type": "histogram2dcontour"
           }
          ],
          "mesh3d": [
           {
            "colorbar": {
             "outlinewidth": 0,
             "ticks": ""
            },
            "type": "mesh3d"
           }
          ],
          "parcoords": [
           {
            "line": {
             "colorbar": {
              "outlinewidth": 0,
              "ticks": ""
             }
            },
            "type": "parcoords"
           }
          ],
          "pie": [
           {
            "automargin": true,
            "type": "pie"
           }
          ],
          "scatter": [
           {
            "marker": {
             "colorbar": {
              "outlinewidth": 0,
              "ticks": ""
             }
            },
            "type": "scatter"
           }
          ],
          "scatter3d": [
           {
            "line": {
             "colorbar": {
              "outlinewidth": 0,
              "ticks": ""
             }
            },
            "marker": {
             "colorbar": {
              "outlinewidth": 0,
              "ticks": ""
             }
            },
            "type": "scatter3d"
           }
          ],
          "scattercarpet": [
           {
            "marker": {
             "colorbar": {
              "outlinewidth": 0,
              "ticks": ""
             }
            },
            "type": "scattercarpet"
           }
          ],
          "scattergeo": [
           {
            "marker": {
             "colorbar": {
              "outlinewidth": 0,
              "ticks": ""
             }
            },
            "type": "scattergeo"
           }
          ],
          "scattergl": [
           {
            "marker": {
             "colorbar": {
              "outlinewidth": 0,
              "ticks": ""
             }
            },
            "type": "scattergl"
           }
          ],
          "scattermapbox": [
           {
            "marker": {
             "colorbar": {
              "outlinewidth": 0,
              "ticks": ""
             }
            },
            "type": "scattermapbox"
           }
          ],
          "scatterpolar": [
           {
            "marker": {
             "colorbar": {
              "outlinewidth": 0,
              "ticks": ""
             }
            },
            "type": "scatterpolar"
           }
          ],
          "scatterpolargl": [
           {
            "marker": {
             "colorbar": {
              "outlinewidth": 0,
              "ticks": ""
             }
            },
            "type": "scatterpolargl"
           }
          ],
          "scatterternary": [
           {
            "marker": {
             "colorbar": {
              "outlinewidth": 0,
              "ticks": ""
             }
            },
            "type": "scatterternary"
           }
          ],
          "surface": [
           {
            "colorbar": {
             "outlinewidth": 0,
             "ticks": ""
            },
            "colorscale": [
             [
              0,
              "#0d0887"
             ],
             [
              0.1111111111111111,
              "#46039f"
             ],
             [
              0.2222222222222222,
              "#7201a8"
             ],
             [
              0.3333333333333333,
              "#9c179e"
             ],
             [
              0.4444444444444444,
              "#bd3786"
             ],
             [
              0.5555555555555556,
              "#d8576b"
             ],
             [
              0.6666666666666666,
              "#ed7953"
             ],
             [
              0.7777777777777778,
              "#fb9f3a"
             ],
             [
              0.8888888888888888,
              "#fdca26"
             ],
             [
              1,
              "#f0f921"
             ]
            ],
            "type": "surface"
           }
          ],
          "table": [
           {
            "cells": {
             "fill": {
              "color": "#EBF0F8"
             },
             "line": {
              "color": "white"
             }
            },
            "header": {
             "fill": {
              "color": "#C8D4E3"
             },
             "line": {
              "color": "white"
             }
            },
            "type": "table"
           }
          ]
         },
         "layout": {
          "annotationdefaults": {
           "arrowcolor": "#2a3f5f",
           "arrowhead": 0,
           "arrowwidth": 1
          },
          "coloraxis": {
           "colorbar": {
            "outlinewidth": 0,
            "ticks": ""
           }
          },
          "colorscale": {
           "diverging": [
            [
             0,
             "#8e0152"
            ],
            [
             0.1,
             "#c51b7d"
            ],
            [
             0.2,
             "#de77ae"
            ],
            [
             0.3,
             "#f1b6da"
            ],
            [
             0.4,
             "#fde0ef"
            ],
            [
             0.5,
             "#f7f7f7"
            ],
            [
             0.6,
             "#e6f5d0"
            ],
            [
             0.7,
             "#b8e186"
            ],
            [
             0.8,
             "#7fbc41"
            ],
            [
             0.9,
             "#4d9221"
            ],
            [
             1,
             "#276419"
            ]
           ],
           "sequential": [
            [
             0,
             "#0d0887"
            ],
            [
             0.1111111111111111,
             "#46039f"
            ],
            [
             0.2222222222222222,
             "#7201a8"
            ],
            [
             0.3333333333333333,
             "#9c179e"
            ],
            [
             0.4444444444444444,
             "#bd3786"
            ],
            [
             0.5555555555555556,
             "#d8576b"
            ],
            [
             0.6666666666666666,
             "#ed7953"
            ],
            [
             0.7777777777777778,
             "#fb9f3a"
            ],
            [
             0.8888888888888888,
             "#fdca26"
            ],
            [
             1,
             "#f0f921"
            ]
           ],
           "sequentialminus": [
            [
             0,
             "#0d0887"
            ],
            [
             0.1111111111111111,
             "#46039f"
            ],
            [
             0.2222222222222222,
             "#7201a8"
            ],
            [
             0.3333333333333333,
             "#9c179e"
            ],
            [
             0.4444444444444444,
             "#bd3786"
            ],
            [
             0.5555555555555556,
             "#d8576b"
            ],
            [
             0.6666666666666666,
             "#ed7953"
            ],
            [
             0.7777777777777778,
             "#fb9f3a"
            ],
            [
             0.8888888888888888,
             "#fdca26"
            ],
            [
             1,
             "#f0f921"
            ]
           ]
          },
          "colorway": [
           "#636efa",
           "#EF553B",
           "#00cc96",
           "#ab63fa",
           "#FFA15A",
           "#19d3f3",
           "#FF6692",
           "#B6E880",
           "#FF97FF",
           "#FECB52"
          ],
          "font": {
           "color": "#2a3f5f"
          },
          "geo": {
           "bgcolor": "white",
           "lakecolor": "white",
           "landcolor": "#E5ECF6",
           "showlakes": true,
           "showland": true,
           "subunitcolor": "white"
          },
          "hoverlabel": {
           "align": "left"
          },
          "hovermode": "closest",
          "mapbox": {
           "style": "light"
          },
          "paper_bgcolor": "white",
          "plot_bgcolor": "#E5ECF6",
          "polar": {
           "angularaxis": {
            "gridcolor": "white",
            "linecolor": "white",
            "ticks": ""
           },
           "bgcolor": "#E5ECF6",
           "radialaxis": {
            "gridcolor": "white",
            "linecolor": "white",
            "ticks": ""
           }
          },
          "scene": {
           "xaxis": {
            "backgroundcolor": "#E5ECF6",
            "gridcolor": "white",
            "gridwidth": 2,
            "linecolor": "white",
            "showbackground": true,
            "ticks": "",
            "zerolinecolor": "white"
           },
           "yaxis": {
            "backgroundcolor": "#E5ECF6",
            "gridcolor": "white",
            "gridwidth": 2,
            "linecolor": "white",
            "showbackground": true,
            "ticks": "",
            "zerolinecolor": "white"
           },
           "zaxis": {
            "backgroundcolor": "#E5ECF6",
            "gridcolor": "white",
            "gridwidth": 2,
            "linecolor": "white",
            "showbackground": true,
            "ticks": "",
            "zerolinecolor": "white"
           }
          },
          "shapedefaults": {
           "line": {
            "color": "#2a3f5f"
           }
          },
          "ternary": {
           "aaxis": {
            "gridcolor": "white",
            "linecolor": "white",
            "ticks": ""
           },
           "baxis": {
            "gridcolor": "white",
            "linecolor": "white",
            "ticks": ""
           },
           "bgcolor": "#E5ECF6",
           "caxis": {
            "gridcolor": "white",
            "linecolor": "white",
            "ticks": ""
           }
          },
          "title": {
           "x": 0.05
          },
          "xaxis": {
           "automargin": true,
           "gridcolor": "white",
           "linecolor": "white",
           "ticks": "",
           "title": {
            "standoff": 15
           },
           "zerolinecolor": "white",
           "zerolinewidth": 2
          },
          "yaxis": {
           "automargin": true,
           "gridcolor": "white",
           "linecolor": "white",
           "ticks": "",
           "title": {
            "standoff": 15
           },
           "zerolinecolor": "white",
           "zerolinewidth": 2
          }
         }
        },
        "title": {
         "text": "Beacon VS Dosenet Histogram"
        },
        "width": 1000,
        "xaxis": {
         "linecolor": "black",
         "tickfont": {
          "color": "black",
          "size": 12
         },
         "title": {
          "font": {
           "color": "black",
           "size": 20
          },
          "text": "PPM"
         }
        },
        "yaxis": {
         "showgrid": false,
         "tickcolor": "black",
         "tickfont": {
          "color": "black",
          "size": 16
         },
         "title": {
          "font": {
           "color": "black",
           "size": 20
          },
          "text": "Counts"
         }
        }
       }
      },
      "text/html": [
       "<div>\n",
       "        \n",
       "        \n",
       "            <div id=\"628dbabf-c6e1-49be-b241-191653dcb323\" class=\"plotly-graph-div\" style=\"height:450px; width:1000px;\"></div>\n",
       "            <script type=\"text/javascript\">\n",
       "                require([\"plotly\"], function(Plotly) {\n",
       "                    window.PLOTLYENV=window.PLOTLYENV || {};\n",
       "                    \n",
       "                if (document.getElementById(\"628dbabf-c6e1-49be-b241-191653dcb323\")) {\n",
       "                    Plotly.newPlot(\n",
       "                        '628dbabf-c6e1-49be-b241-191653dcb323',\n",
       "                        [{\"name\": \"beacon\", \"type\": \"histogram\", \"x\": [420.875, 421.37, 437.2809523809524, 445.4227272727272, 452.3526315789474, 450.2882352941176, 455.51578947368415, 432.57619047619056, 432.225, 426.1681818181818, 419.41578947368413, 423.9947368421052, 424.33809523809515, 432.8117647058823, 432.7578947368421, 449.40000000000003, 422.8454545454546, 412.1238095238094, 415.00952380952367, 421.5681818181819, 423.3666666666667, 432.95416666666665, 442.84999999999997, 439.8476190476191, 449.70000000000005, 440.4799999999999, 437.0894736842105, 439.54499999999996, 454.70500000000004, 425.78999999999996, 410.7818181818182, 440.53478260869576, 443.6499999999999, 418.109090909091, 411.275, 430.88500000000005, 429.2312500000001, 439.90000000000003, 449.9444444444444, 446.1826086956522, 439.74736842105267, 448.035, 446.2499999999999, 456.5833333333333, 442.4, 429.1578947368421, 450.0285714285713, 456.975, 424.0909090909092, 435.43636363636364, 422.30555555555554, 416.52727272727276, 431.33529411764704, 426.03000000000003, 430.195, 446.95238095238085, 458.4166666666666, 448.47272727272724, 450.4545454545454, 452.45909090909083, 415.7315789473684, 411.01363636363635, 416.0, 418.4, 427.43, 426.2904761904762, 416.4555555555555, 427.05217391304353, 419.75909090909096, 423.1047619047619, 436.88, 444.6833333333333, 443.904761904762, 434.1391304347825, 427.21999999999997, 422.07777777777784, 427.93500000000006, 440.0909090909092, 420.31428571428575, 419.7684210526316, 444.1952380952382, 438.31428571428563, 417.08095238095234, 411.91999999999996, 407.84285714285716, 411.49090909090916, 429.35238095238094, 412.91499999999996, 425.73999999999995, 427.73999999999995, 412.84545454545463, 409.78500000000014, 416.99090909090904, 419.13684210526316, 415.1157894736842, 410.53999999999996, 418.64499999999987, 417.5761904761905, 422.16315789473686, 410.89499999999987, 423.1882352941177, 419.8476190476191, 418.5352941176471, 421.34499999999997, 420.3047619047619, 414.15909090909093, 423.6391304347827, 437.1142857142857, 419.56000000000006, 428.85, 437.3166666666668, 442.975, 438.4999999999999, 421.17272727272723, 417.85999999999996, 421.44736842105266, 421.7380952380951, 422.36956521739137, 416.26500000000004, 418.6136363636364, 417.10476190476186, 421.13809523809533, 420.0, 411.6111111111111, 417.69565217391306, 432.8300000000001, 435.9300000000001, 439.4799999999999, 427.3809523809524, 415.46250000000003, 415.675, 419.515, 416.90588235294115, 419.89523809523814, 411.0045454545454, 417.409090909091, 415.904761904762, 423.3277777777778, 421.6499999999999, 419.00434782608687, 415.645, 418.06499999999994, 420.01818181818174, 420.88499999999993, 416.947619047619, 422.8045454545454, 422.64374999999995, 422.99000000000007, 421.20526315789465, 429.8095238095238, 425.61499999999995, 416.17999999999995, 419.21999999999997, 422.85454545454553, 423.8285714285714, 419.5541666666666, 417.28095238095244, 421.66999999999996, 419.4826086956523, 415.17058823529413, 424.58500000000004, 418.5684210526316, 421.0380952380952, 424.4200000000001, 422.41428571428565, 420.19047619047626, 422.25263157894744, 421.81904761904764, 419.6454545454546, 419.69473684210527, 415.93499999999995, 418.62380952380954, 421.24444444444447, 418.25, 415.05909090909086, 421.6190476190476, 420.83157894736837, 419.2375, 424.8222222222223, 422.85, 421.0750000000001, 424.3545454545454, 421.2347826086957, 419.89, 425.02608695652174, 430.6333333333334, 417.0, 420.18095238095236, 421.2949999999999, 429.50869565217386, 424.65999999999997, 421.66315789473697, 413.3250000000001, 412.27916666666664, 416.504347826087, 416.58333333333326, 417.5208333333334, 413.1833333333332, 418.4583333333334, 426.21666666666675, 422.31666666666666, 414.96250000000003, 414.4083333333333, 413.55, 414.21666666666664, 409.3875, 411.3291666666666, 412.5250000000001, 412.8416666666667, 419.2625, 426.5208333333333, 412.6958333333334, 412.6708333333334, 413.8916666666666, 418.6125000000001, 411.5833333333334, 414.78333333333336, 421.6958333333334, 405.75, 406.7166666666667, 411.49166666666673, 410.1875, 410.66250000000014, 426.1333333333334, 421.2916666666666, 410.7583333333334, 413.88750000000005, 419.9875, 408.78749999999997, 404.70416666666665, 406.89166666666665, 407.1041666666666, 407.8208333333332, 408.9416666666668, 409.575, 412.5916666666667, 408.57083333333327, 407.7583333333334, 408.22499999999997, 409.0375000000001, 408.82500000000005, 406.7291666666666, 408.9708333333333, 406.3291666666667, 406.95000000000005, 406.8958333333334, 408.89166666666665, 410.0416666666667, 408.7, 407.4708333333333, 409.66249999999997, 410.4958333333334, 419.1833333333334, 412.7458333333334, 417.99166666666673, 416.15833333333325, 410.19166666666666, 417.20416666666665, 418.0249999999999, 421.8624999999999, 411.63750000000005, 407.12916666666666, 404.99166666666673, 409.5125, 409.24166666666673, 409.9916666666666, 413.70000000000005, 409.95416666666665, 408.0333333333333, 408.9708333333333, 408.92916666666673, 407.34999999999997, 410.70833333333326, 404.50833333333327, 402.2666666666666, 408.54583333333335, 410.2166666666665, 404.18750000000006, 407.4833333333333, 406.82083333333327, 405.6291666666668, 404.4208333333333, 402.63750000000005, 401.5583333333332, 401.63333333333327, 410.5, 496.04347826086973, 484.40000000000003, 482.57916666666665, 481.475, 488.95, 424.74545454545455, 415.94666666666666, 432.9923076923077, 435.9347826086956, 433.65, 431.5722222222223, 432.7235294117647, 418.72499999999997, 417.88666666666666, 420.2388888888888, 416.6411764705883, 421.93500000000006, 416.93157894736845, 419.49090909090916, 419.6714285714286, 420.51428571428585, 422.9809523809524, 417.1095238095239, 424.7913043478261, 425.3130434782609, 420.0681818181818, 418.2166666666665, 422.9083333333335, 414.775, 413.1714285714286, 412.9904761904762, 412.85238095238094, 425.73333333333335, 417.27142857142854, 421.7266666666667, 411.85333333333335, 412.43124999999986, 412.5411764705883, 411.69374999999997, 409.6764705882353, 407.2933333333333, 406.6642857142857, 405.7153846153846, 407.53333333333336, 408.3933333333334, 409.0625, 410.22499999999997, 408.49375, 414.20588235294116, 414.45625, 411.41999999999996, 411.6928571428572, 414.43125000000003, 415.61249999999995, 404.7823529411765, 409.0882352941177, 411.87647058823535, 409.11428571428576, 411.7722222222222, 406.66250000000014, 403.2400000000001, 406.14444444444445, 402.1058823529412, 401.0499999999999, 409.1166666666667, 414.45294117647063, 412.74736842105256, 417.2315789473685, 418.0736842105263, 414.4777777777777, 406.2384615384616]}, {\"name\": \"doesnet\", \"type\": \"histogram\", \"x\": [420.3690476190476, 457.3826351351353, 462.9495138888889, 624.2082593856657, 661.5991095890415, 659.2405841924395, 682.5439100346015, 661.5233217993074, 622.6337931034483, 496.49945205479463, 404.3739930555558, 544.6993814432986, 587.8535738831608, 565.7547750865056, 566.0058477508651, 577.1424652777785, 524.1621107266432, 434.6337024221454, 408.59655172413795, 474.55770547945207, 471.04058823529414, 559.1321799307958, 578.2195172413798, 587.4252595155713, 574.6397577854669, 559.4516955017294, 538.9208333333332, 537.4964930555556, 529.8254166666668, 492.6162152777775, 408.0583275261319, 486.25034722222244, 496.4348263888891, 494.08034843205604, 434.243598615917, 450.3249999999996, 663.5737254901962, 680.0990909090909, 710.8197916666666, 695.9142013888895, 726.5651202749135, 734.4260069444447, 681.277326388889, 655.8018402777776, 605.946213592233, 552.1694791666667, 517.5940291262137, 516.81, 525.7536363636364, 558.8308333333333, 543.4991319444446, 490.7950347222217, 543.6843598615911, 532.375847750865, 491.6857291666663, 451.15693379790974, 498.59013840830477, 500.48878472222236, 506.053135888502, 517.3247916666666, 422.7336458333334, 399.46149305555554, 456.2157142857145, 508.0888888888893, 506.94624999999996, 518.1212456747401, 485.37812500000007, 491.52069444444413, 473.6400347222222, 552.4410104529615, 555.6233333333334, 575.0690344827586, 584.4377083333338, 582.9492708333328, 619.424586206897, 589.2809688581316, 544.2715331010454, 469.35567474048446, 417.0618466898955, 495.7152397260275, 627.6269097222226, 622.8467361111117, 582.2020138888888, 461.74261324041856, 500.598923611111, 453.7686458333333, 458.4555555555553, 445.421172413793, 426.52813148788897, 476.7668041237111, 568.6693079584775, 494.3604498269897, 494.06875000000014, 497.4638675958187, 498.54252595155714, 464.32309027777774, 494.4988541666665, 540.8934722222223, 544.9157241379311, 489.0608650519032, 480.7197569444444, 616.9781597222222, 600.2718620689656, 595.5119031141866, 590.550694444444, 566.6149305555557, 564.3897916666662, 590.8707849829347, 503.3196896551723, 525.3058965517237, 548.2536805555553, 569.6698257839719, 551.6299652777775, 555.6286111111109, 518.0512222222223, 631.3672727272727, 595.7105172413796, 607.5777027027032, 649.9814383561642, 653.6615202702711, 591.3683333333331, 575.6740476190479, 496.1549664429531, 462.5168600682596, 457.8970000000001, 509.3545263157896, 535.8495422535212, 535.1012727272722, 555.5244982698964, 537.3314982578396, 518.4364604810997, 517.1675086505193, 502.0827681660899, 551.8219444444441, 605.4376816608999, 630.5584775086503, 608.432160278746, 598.3513541666666, 578.7151736111109, 576.6158680555559, 571.8563194444446, 558.3449769585253, 568.1736363636363, 488.7400714285715, 514.9445614035083, 583.0248160535118, 592.4460207612457, 624.4881597222225, 631.3466319444447, 640.0892334494769, 632.7477430555555, 595.9494791666675, 580.4698611111111, 641.7479513888889, 651.1321527777774, 651.4992708333335, 641.0799999999999, 650.102569444445, 629.8506920415223, 574.6052430555566, 459.2206944444445, 420.6563541666669, 505.82024305555547, 577.6551567944248, 580.8127777777777, 579.7003460207612, 598.5984375, 574.0072222222218, 562.9721180555554, 535.3995486111115, 575.2044599303134, 567.174583333333, 556.9259861591701, 465.35378472222175, 446.83301038062297, 545.1837931034484, 527.1981818181818, 527.9816608996541, 532.2715916955018, 547.2808620689656, 556.165482758621, 579.6820833333339, 590.3270833333328, 500.74505226480824, 435.5322569444443, 430.9347750865054, 417.23572916666666, 407.38910344827605, 514.3833217993077, 526.1700000000001, 510.8165156794427, 519.3161245674739, 504.4603472222221, 506.95933797909413, 554.9304513888884, 618.0929757785462, 573.6103819444444, 459.3253535353534, 453.09400000000016, 473.7456478405318, 462.7489236111109, 544.0540624999996, 581.7051388888882, 577.4887978142076, 408.35636363636365, 414.71176470588205, 479.6634589041095, 559.9489160839166, 554.3048474576277, 560.5236824324326, 540.0470796460177, 556.2654545454545, 563.3275, 535.567335640138, 525.1092733564019, 517.5893402777775, 519.805017301038, 432.88274305555524, 439.19578397212535, 450.02659722222234, 444.5759861591694, 460.3113494809689, 569.190309278351, 589.9852595155706, 576.8705190311418, 544.9337282229967, 544.0465051903111, 538.7665517241379, 536.4659861591699, 495.3401041666665, 435.1000000000001, 423.19670138888904, 425.2624041811844, 421.59434027777763, 423.1329513888888, 548.5813194444443, 552.6365277777778, 552.4929513888887, 561.7537500000002, 562.464634146342, 551.8892361111111, 515.8666666666664, 451.42843749999975, 517.4240277777781, 579.77, 577.3868055555553, 578.6301742160279, 585.7087499999998, 575.4762500000003, 571.8203472222228, 488.019826388889, 541.0528472222218, 564.1610416666668, 546.671951219512, 554.5131249999998, 546.7262152777774, 557.6479166666663, 562.9652430555561, 569.3916666666669, 571.4936458333334, 549.5210801393727, 515.1602777777778, 521.2442361111114, 523.5614236111107, 494.99055555555543, 482.4820833333331, 493.26208333333375, 489.37324041811837, 481.23736111111094, 490.61402777777795, 500.7473611111109, 485.3109027777777, 462.14718750000003, 461.40006944444485, 448.4723344947733, 418.3688194444444, 441.9272569444442, 497.04256944444427, 490.79121527777767, 491.0620486111111, 482.3109027777777, 480.0835888501742, 474.26173611111074, 537.4539236111109, 583.8778819444443, 590.5390625000001, 427.7926898734175, 458.13489583333364, 487.7625783972128, 504.2307266435984, 467.25402777777776, 468.6557291666667, 505.3442361111112, 629.1998611111111, 616.7409027777777, 634.0976655052266, 607.6036111111105, 639.351145833333, 629.5771527777778, 638.4028819444446, 505.3815972222221, 442.04600694444457, 422.0528571428568, 413.1897569444445, 487.553854166667, 474.49454861111127, 476.18194444444475, 489.3921874999995, 470.2284722222225, 461.1314285714284, 467.83940972222234, 473.95464864864863, 468.09727272727264, 476.8544097222223, 424.7475347222226, 419.64680555555555, 420.069236111111, 537.5704861111112, 568.5639583333333, 562.1338675958194, 559.4990476190476, 446.266, 442.72687500000006, 452.1635763888886, 455.0281533101045, 466.56413194444445, 516.1939583333334, 582.6433680555555, 586.902118055556, 596.8949305555557, 593.1138194444451, 588.4380836236932, 602.600520833333, 480.78295138888853, 441.0170833333333, 430.2962847222224, 424.9356944444445, 436.4441666666666, 433.534599303136, 417.99994565217384, 619.685, 602.6300000000001, 562.5263636363635, 553.3011235955056, 640.5, 487.4136363636364, 496.1333101045295, 490.6249999999999, 491.88075675675714, 475.88384615384615, 405.9463636363636, 427.4102430555556, 428.39260416666684, 547.2377430555557, 558.406423611111, 540.970625, 585.0920138888882]}],\n",
       "                        {\"barmode\": \"group\", \"height\": 450, \"legend\": {\"font\": {\"size\": 13}, \"orientation\": \"h\", \"x\": 0, \"y\": -0.2}, \"plot_bgcolor\": \"white\", \"template\": {\"data\": {\"bar\": [{\"error_x\": {\"color\": \"#2a3f5f\"}, \"error_y\": {\"color\": \"#2a3f5f\"}, \"marker\": {\"line\": {\"color\": \"#E5ECF6\", \"width\": 0.5}}, \"type\": \"bar\"}], \"barpolar\": [{\"marker\": {\"line\": {\"color\": \"#E5ECF6\", \"width\": 0.5}}, \"type\": \"barpolar\"}], \"carpet\": [{\"aaxis\": {\"endlinecolor\": \"#2a3f5f\", \"gridcolor\": \"white\", \"linecolor\": \"white\", \"minorgridcolor\": \"white\", \"startlinecolor\": \"#2a3f5f\"}, \"baxis\": {\"endlinecolor\": \"#2a3f5f\", \"gridcolor\": \"white\", \"linecolor\": \"white\", \"minorgridcolor\": \"white\", \"startlinecolor\": \"#2a3f5f\"}, \"type\": \"carpet\"}], \"choropleth\": [{\"colorbar\": {\"outlinewidth\": 0, \"ticks\": \"\"}, \"type\": \"choropleth\"}], \"contour\": [{\"colorbar\": {\"outlinewidth\": 0, \"ticks\": \"\"}, \"colorscale\": [[0.0, \"#0d0887\"], [0.1111111111111111, \"#46039f\"], [0.2222222222222222, \"#7201a8\"], [0.3333333333333333, \"#9c179e\"], [0.4444444444444444, \"#bd3786\"], [0.5555555555555556, \"#d8576b\"], [0.6666666666666666, \"#ed7953\"], [0.7777777777777778, \"#fb9f3a\"], [0.8888888888888888, \"#fdca26\"], [1.0, \"#f0f921\"]], \"type\": \"contour\"}], \"contourcarpet\": [{\"colorbar\": {\"outlinewidth\": 0, \"ticks\": \"\"}, \"type\": \"contourcarpet\"}], \"heatmap\": [{\"colorbar\": {\"outlinewidth\": 0, \"ticks\": \"\"}, \"colorscale\": [[0.0, \"#0d0887\"], [0.1111111111111111, \"#46039f\"], [0.2222222222222222, \"#7201a8\"], [0.3333333333333333, \"#9c179e\"], [0.4444444444444444, \"#bd3786\"], [0.5555555555555556, \"#d8576b\"], [0.6666666666666666, \"#ed7953\"], [0.7777777777777778, \"#fb9f3a\"], [0.8888888888888888, \"#fdca26\"], [1.0, \"#f0f921\"]], \"type\": \"heatmap\"}], \"heatmapgl\": [{\"colorbar\": {\"outlinewidth\": 0, \"ticks\": \"\"}, \"colorscale\": [[0.0, \"#0d0887\"], [0.1111111111111111, \"#46039f\"], [0.2222222222222222, \"#7201a8\"], [0.3333333333333333, \"#9c179e\"], [0.4444444444444444, \"#bd3786\"], [0.5555555555555556, \"#d8576b\"], [0.6666666666666666, \"#ed7953\"], [0.7777777777777778, \"#fb9f3a\"], [0.8888888888888888, \"#fdca26\"], [1.0, \"#f0f921\"]], \"type\": \"heatmapgl\"}], \"histogram\": [{\"marker\": {\"colorbar\": {\"outlinewidth\": 0, \"ticks\": \"\"}}, \"type\": \"histogram\"}], \"histogram2d\": [{\"colorbar\": {\"outlinewidth\": 0, \"ticks\": \"\"}, \"colorscale\": [[0.0, \"#0d0887\"], [0.1111111111111111, \"#46039f\"], [0.2222222222222222, \"#7201a8\"], [0.3333333333333333, \"#9c179e\"], [0.4444444444444444, \"#bd3786\"], [0.5555555555555556, \"#d8576b\"], [0.6666666666666666, \"#ed7953\"], [0.7777777777777778, \"#fb9f3a\"], [0.8888888888888888, \"#fdca26\"], [1.0, \"#f0f921\"]], \"type\": \"histogram2d\"}], \"histogram2dcontour\": [{\"colorbar\": {\"outlinewidth\": 0, \"ticks\": \"\"}, \"colorscale\": [[0.0, \"#0d0887\"], [0.1111111111111111, \"#46039f\"], [0.2222222222222222, \"#7201a8\"], [0.3333333333333333, \"#9c179e\"], [0.4444444444444444, \"#bd3786\"], [0.5555555555555556, \"#d8576b\"], [0.6666666666666666, \"#ed7953\"], [0.7777777777777778, \"#fb9f3a\"], [0.8888888888888888, \"#fdca26\"], [1.0, \"#f0f921\"]], \"type\": \"histogram2dcontour\"}], \"mesh3d\": [{\"colorbar\": {\"outlinewidth\": 0, \"ticks\": \"\"}, \"type\": \"mesh3d\"}], \"parcoords\": [{\"line\": {\"colorbar\": {\"outlinewidth\": 0, \"ticks\": \"\"}}, \"type\": \"parcoords\"}], \"pie\": [{\"automargin\": true, \"type\": \"pie\"}], \"scatter\": [{\"marker\": {\"colorbar\": {\"outlinewidth\": 0, \"ticks\": \"\"}}, \"type\": \"scatter\"}], \"scatter3d\": [{\"line\": {\"colorbar\": {\"outlinewidth\": 0, \"ticks\": \"\"}}, \"marker\": {\"colorbar\": {\"outlinewidth\": 0, \"ticks\": \"\"}}, \"type\": \"scatter3d\"}], \"scattercarpet\": [{\"marker\": {\"colorbar\": {\"outlinewidth\": 0, \"ticks\": \"\"}}, \"type\": \"scattercarpet\"}], \"scattergeo\": [{\"marker\": {\"colorbar\": {\"outlinewidth\": 0, \"ticks\": \"\"}}, \"type\": \"scattergeo\"}], \"scattergl\": [{\"marker\": {\"colorbar\": {\"outlinewidth\": 0, \"ticks\": \"\"}}, \"type\": \"scattergl\"}], \"scattermapbox\": [{\"marker\": {\"colorbar\": {\"outlinewidth\": 0, \"ticks\": \"\"}}, \"type\": \"scattermapbox\"}], \"scatterpolar\": [{\"marker\": {\"colorbar\": {\"outlinewidth\": 0, \"ticks\": \"\"}}, \"type\": \"scatterpolar\"}], \"scatterpolargl\": [{\"marker\": {\"colorbar\": {\"outlinewidth\": 0, \"ticks\": \"\"}}, \"type\": \"scatterpolargl\"}], \"scatterternary\": [{\"marker\": {\"colorbar\": {\"outlinewidth\": 0, \"ticks\": \"\"}}, \"type\": \"scatterternary\"}], \"surface\": [{\"colorbar\": {\"outlinewidth\": 0, \"ticks\": \"\"}, \"colorscale\": [[0.0, \"#0d0887\"], [0.1111111111111111, \"#46039f\"], [0.2222222222222222, \"#7201a8\"], [0.3333333333333333, \"#9c179e\"], [0.4444444444444444, \"#bd3786\"], [0.5555555555555556, \"#d8576b\"], [0.6666666666666666, \"#ed7953\"], [0.7777777777777778, \"#fb9f3a\"], [0.8888888888888888, \"#fdca26\"], [1.0, \"#f0f921\"]], \"type\": \"surface\"}], \"table\": [{\"cells\": {\"fill\": {\"color\": \"#EBF0F8\"}, \"line\": {\"color\": \"white\"}}, \"header\": {\"fill\": {\"color\": \"#C8D4E3\"}, \"line\": {\"color\": \"white\"}}, \"type\": \"table\"}]}, \"layout\": {\"annotationdefaults\": {\"arrowcolor\": \"#2a3f5f\", \"arrowhead\": 0, \"arrowwidth\": 1}, \"coloraxis\": {\"colorbar\": {\"outlinewidth\": 0, \"ticks\": \"\"}}, \"colorscale\": {\"diverging\": [[0, \"#8e0152\"], [0.1, \"#c51b7d\"], [0.2, \"#de77ae\"], [0.3, \"#f1b6da\"], [0.4, \"#fde0ef\"], [0.5, \"#f7f7f7\"], [0.6, \"#e6f5d0\"], [0.7, \"#b8e186\"], [0.8, \"#7fbc41\"], [0.9, \"#4d9221\"], [1, \"#276419\"]], \"sequential\": [[0.0, \"#0d0887\"], [0.1111111111111111, \"#46039f\"], [0.2222222222222222, \"#7201a8\"], [0.3333333333333333, \"#9c179e\"], [0.4444444444444444, \"#bd3786\"], [0.5555555555555556, \"#d8576b\"], [0.6666666666666666, \"#ed7953\"], [0.7777777777777778, \"#fb9f3a\"], [0.8888888888888888, \"#fdca26\"], [1.0, \"#f0f921\"]], \"sequentialminus\": [[0.0, \"#0d0887\"], [0.1111111111111111, \"#46039f\"], [0.2222222222222222, \"#7201a8\"], [0.3333333333333333, \"#9c179e\"], [0.4444444444444444, \"#bd3786\"], [0.5555555555555556, \"#d8576b\"], [0.6666666666666666, \"#ed7953\"], [0.7777777777777778, \"#fb9f3a\"], [0.8888888888888888, \"#fdca26\"], [1.0, \"#f0f921\"]]}, \"colorway\": [\"#636efa\", \"#EF553B\", \"#00cc96\", \"#ab63fa\", \"#FFA15A\", \"#19d3f3\", \"#FF6692\", \"#B6E880\", \"#FF97FF\", \"#FECB52\"], \"font\": {\"color\": \"#2a3f5f\"}, \"geo\": {\"bgcolor\": \"white\", \"lakecolor\": \"white\", \"landcolor\": \"#E5ECF6\", \"showlakes\": true, \"showland\": true, \"subunitcolor\": \"white\"}, \"hoverlabel\": {\"align\": \"left\"}, \"hovermode\": \"closest\", \"mapbox\": {\"style\": \"light\"}, \"paper_bgcolor\": \"white\", \"plot_bgcolor\": \"#E5ECF6\", \"polar\": {\"angularaxis\": {\"gridcolor\": \"white\", \"linecolor\": \"white\", \"ticks\": \"\"}, \"bgcolor\": \"#E5ECF6\", \"radialaxis\": {\"gridcolor\": \"white\", \"linecolor\": \"white\", \"ticks\": \"\"}}, \"scene\": {\"xaxis\": {\"backgroundcolor\": \"#E5ECF6\", \"gridcolor\": \"white\", \"gridwidth\": 2, \"linecolor\": \"white\", \"showbackground\": true, \"ticks\": \"\", \"zerolinecolor\": \"white\"}, \"yaxis\": {\"backgroundcolor\": \"#E5ECF6\", \"gridcolor\": \"white\", \"gridwidth\": 2, \"linecolor\": \"white\", \"showbackground\": true, \"ticks\": \"\", \"zerolinecolor\": \"white\"}, \"zaxis\": {\"backgroundcolor\": \"#E5ECF6\", \"gridcolor\": \"white\", \"gridwidth\": 2, \"linecolor\": \"white\", \"showbackground\": true, \"ticks\": \"\", \"zerolinecolor\": \"white\"}}, \"shapedefaults\": {\"line\": {\"color\": \"#2a3f5f\"}}, \"ternary\": {\"aaxis\": {\"gridcolor\": \"white\", \"linecolor\": \"white\", \"ticks\": \"\"}, \"baxis\": {\"gridcolor\": \"white\", \"linecolor\": \"white\", \"ticks\": \"\"}, \"bgcolor\": \"#E5ECF6\", \"caxis\": {\"gridcolor\": \"white\", \"linecolor\": \"white\", \"ticks\": \"\"}}, \"title\": {\"x\": 0.05}, \"xaxis\": {\"automargin\": true, \"gridcolor\": \"white\", \"linecolor\": \"white\", \"ticks\": \"\", \"title\": {\"standoff\": 15}, \"zerolinecolor\": \"white\", \"zerolinewidth\": 2}, \"yaxis\": {\"automargin\": true, \"gridcolor\": \"white\", \"linecolor\": \"white\", \"ticks\": \"\", \"title\": {\"standoff\": 15}, \"zerolinecolor\": \"white\", \"zerolinewidth\": 2}}}, \"title\": {\"text\": \"Beacon VS Dosenet Histogram\"}, \"width\": 1000, \"xaxis\": {\"linecolor\": \"black\", \"tickfont\": {\"color\": \"black\", \"size\": 12}, \"title\": {\"font\": {\"color\": \"black\", \"size\": 20}, \"text\": \"PPM\"}}, \"yaxis\": {\"showgrid\": false, \"tickcolor\": \"black\", \"tickfont\": {\"color\": \"black\", \"size\": 16}, \"title\": {\"font\": {\"color\": \"black\", \"size\": 20}, \"text\": \"Counts\"}}},\n",
       "                        {\"responsive\": true}\n",
       "                    ).then(function(){\n",
       "                            \n",
       "var gd = document.getElementById('628dbabf-c6e1-49be-b241-191653dcb323');\n",
       "var x = new MutationObserver(function (mutations, observer) {{\n",
       "        var display = window.getComputedStyle(gd).display;\n",
       "        if (!display || display === 'none') {{\n",
       "            console.log([gd, 'removed!']);\n",
       "            Plotly.purge(gd);\n",
       "            observer.disconnect();\n",
       "        }}\n",
       "}});\n",
       "\n",
       "// Listen for the removal of the full notebook cells\n",
       "var notebookContainer = gd.closest('#notebook-container');\n",
       "if (notebookContainer) {{\n",
       "    x.observe(notebookContainer, {childList: true});\n",
       "}}\n",
       "\n",
       "// Listen for the clearing of the current output cell\n",
       "var outputEl = gd.closest('.output');\n",
       "if (outputEl) {{\n",
       "    x.observe(outputEl, {childList: true});\n",
       "}}\n",
       "\n",
       "                        })\n",
       "                };\n",
       "                });\n",
       "            </script>\n",
       "        </div>"
      ]
     },
     "metadata": {},
     "output_type": "display_data"
    }
   ],
   "source": [
    "fig2 = go.Figure()\n",
    "fig2.add_trace(go.Histogram(\n",
    "        x = all_data['CO2_ppm'], name = 'beacon'))\n",
    "fig2.add_trace(go.Histogram\n",
    "        (x = all_data['co2_ppm'], name = 'doesnet'))\n",
    "\n",
    "fig2.update_layout(plot_bgcolor='white',width=1000, height=450, title = 'Beacon VS Dosenet Histogram')\n",
    "fig2.update_yaxes(title=\"Counts\",titlefont=dict(color='black', size=20),\n",
    "                showgrid=False,tickcolor='black',\n",
    "                tickfont=dict(color='black', size=16))\n",
    "fig2.update_xaxes(title=\"PPM\",titlefont=dict(color='black', size=20),\n",
    "                linecolor='black',tickfont=dict(color='black',size=12))\n",
    "fig2.update_layout(legend_orientation=\"h\",\n",
    "                legend=dict(x=0,y=-.2, font=dict(size=13)))\n",
    "fig2.update_layout(barmode='group')\n",
    "    \n",
    "fig2"
   ]
  },
  {
   "cell_type": "code",
   "execution_count": 47,
   "metadata": {},
   "outputs": [
    {
     "name": "stdout",
     "output_type": "stream",
     "text": [
      "529.4049006784105\n"
     ]
    }
   ],
   "source": [
    "print(np.mean(all_data['co2_ppm']))"
   ]
  },
  {
   "cell_type": "code",
   "execution_count": 52,
   "metadata": {},
   "outputs": [
    {
     "name": "stdout",
     "output_type": "stream",
     "text": [
      "C:\\Users\\Richie Woo\\Documents\\python-scripts\n"
     ]
    }
   ],
   "source": [
    "print(os.getcwd())"
   ]
  },
  {
   "cell_type": "code",
   "execution_count": 58,
   "metadata": {},
   "outputs": [],
   "source": [
    "os.chdir(r'C:\\Users\\Richie Woo\\Documents\\python-scripts\\processed_data\\co2_graphs')"
   ]
  },
  {
   "cell_type": "code",
   "execution_count": 60,
   "metadata": {},
   "outputs": [],
   "source": [
    "fig2.write_html('etch_histogram.html')\n",
    "fig.write_html('etch_scatter.html')"
   ]
  },
  {
   "cell_type": "code",
   "execution_count": null,
   "metadata": {},
   "outputs": [],
   "source": []
  }
 ],
 "metadata": {
  "kernelspec": {
   "display_name": "Python 3",
   "language": "python",
   "name": "python3"
  },
  "language_info": {
   "codemirror_mode": {
    "name": "ipython",
    "version": 3
   },
   "file_extension": ".py",
   "mimetype": "text/x-python",
   "name": "python",
   "nbconvert_exporter": "python",
   "pygments_lexer": "ipython3",
   "version": "3.7.6"
  }
 },
 "nbformat": 4,
 "nbformat_minor": 4
}
