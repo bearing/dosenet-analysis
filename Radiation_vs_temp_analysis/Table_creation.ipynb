{
 "cells": [
  {
   "cell_type": "code",
   "execution_count": 17,
   "id": "fa255eb9-44f5-4281-a80c-a15ce342fc53",
   "metadata": {},
   "outputs": [
    {
     "name": "stdout",
     "output_type": "stream",
     "text": [
      "╒══════════════════════════╤══════════════════════╤═════════════╤═══════════╕\n",
      "│ Site Name                │   Linear Coefficient │   R^2 Value │   P-value │\n",
      "╞══════════════════════════╪══════════════════════╪═════════════╪═══════════╡\n",
      "│ Campolindo               │              -0.0083 │      0.0001 │  0.61     │\n",
      "├──────────────────────────┼──────────────────────┼─────────────┼───────────┤\n",
      "│ Etcheverry Roof          │               0.197  │      0.013  │  2.89e-42 │\n",
      "├──────────────────────────┼──────────────────────┼─────────────┼───────────┤\n",
      "│ Exploratorium            │              -0.347  │      0.132  │  6.26e-26 │\n",
      "├──────────────────────────┼──────────────────────┼─────────────┼───────────┤\n",
      "│ Miramonte                │               0.434  │      0.205  │  1.62e-78 │\n",
      "├──────────────────────────┼──────────────────────┼─────────────┼───────────┤\n",
      "│ Pinewood                 │              -0.182  │      0.08   │  1e-99    │\n",
      "├──────────────────────────┼──────────────────────┼─────────────┼───────────┤\n",
      "│ University of Washington │              -0.174  │      0.072  │  3.23e-71 │\n",
      "╘══════════════════════════╧══════════════════════╧═════════════╧═══════════╛\n"
     ]
    }
   ],
   "source": [
    "from tabulate import tabulate \n",
    "\n",
    "Titles = ['Site Name','Linear Coefficient','R^2 Value','P-value']\n",
    "Pinewood = ['Pinewood', -0.182, 0.080, 1.00e-99]\n",
    "UW = ['University of Washington', -0.174, 0.072, 3.23e-71]\n",
    "Miramonte = ['Miramonte', 0.434, 0.205, 1.62e-78]\n",
    "Etch_roof = ['Etcheverry Roof', 0.197, 0.013, 2.89e-42 ]\n",
    "Exploratorium = ['Exploratorium', -0.347, 0.132, 6.26e-26]\n",
    "Campolindo = ['Campolindo', -0.0083, 0.0001, 0.61]\n",
    "Table = [Titles, Campolindo, Etch_roof, Exploratorium, Miramonte, Pinewood, UW]\n",
    "print(tabulate(Table, headers = 'firstrow', tablefmt = 'fancy_grid'))"
   ]
  }
 ],
 "metadata": {
  "kernelspec": {
   "display_name": "Python 3",
   "language": "python",
   "name": "python3"
  },
  "language_info": {
   "codemirror_mode": {
    "name": "ipython",
    "version": 3
   },
   "file_extension": ".py",
   "mimetype": "text/x-python",
   "name": "python",
   "nbconvert_exporter": "python",
   "pygments_lexer": "ipython3",
   "version": "3.8.8"
  }
 },
 "nbformat": 4,
 "nbformat_minor": 5
}
