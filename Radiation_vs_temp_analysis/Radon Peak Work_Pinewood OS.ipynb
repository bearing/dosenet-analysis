{
 "cells": [
  {
   "cell_type": "markdown",
   "id": "0f3b73f8",
   "metadata": {},
   "source": [
    "# Data Import"
   ]
  },
  {
   "cell_type": "code",
   "execution_count": 1,
   "id": "a5142a30",
   "metadata": {
    "tags": []
   },
   "outputs": [
    {
     "data": {
      "text/html": [
       "<div>\n",
       "<style scoped>\n",
       "    .dataframe tbody tr th:only-of-type {\n",
       "        vertical-align: middle;\n",
       "    }\n",
       "\n",
       "    .dataframe tbody tr th {\n",
       "        vertical-align: top;\n",
       "    }\n",
       "\n",
       "    .dataframe thead th {\n",
       "        text-align: right;\n",
       "    }\n",
       "</style>\n",
       "<table border=\"1\" class=\"dataframe\">\n",
       "  <thead>\n",
       "    <tr style=\"text-align: right;\">\n",
       "      <th></th>\n",
       "      <th>deviceTime_utc</th>\n",
       "      <th>deviceTime_local</th>\n",
       "      <th>deviceTime_unix</th>\n",
       "      <th>cpm</th>\n",
       "      <th>cpmError</th>\n",
       "      <th>keV_per_ch</th>\n",
       "      <th>0</th>\n",
       "      <th>1</th>\n",
       "      <th>2</th>\n",
       "      <th>3</th>\n",
       "      <th>...</th>\n",
       "      <th>1015</th>\n",
       "      <th>1016</th>\n",
       "      <th>1017</th>\n",
       "      <th>1018</th>\n",
       "      <th>1019</th>\n",
       "      <th>1020</th>\n",
       "      <th>1021</th>\n",
       "      <th>1022</th>\n",
       "      <th>1023</th>\n",
       "      <th>error_flag</th>\n",
       "    </tr>\n",
       "  </thead>\n",
       "  <tbody>\n",
       "    <tr>\n",
       "      <th>0</th>\n",
       "      <td>2018-02-01 21:21:50+00:00</td>\n",
       "      <td>2018-02-01 13:21:50-08:00</td>\n",
       "      <td>1517520110</td>\n",
       "      <td>1148.4</td>\n",
       "      <td>15.155197</td>\n",
       "      <td>2.517241</td>\n",
       "      <td>0</td>\n",
       "      <td>0</td>\n",
       "      <td>0</td>\n",
       "      <td>0</td>\n",
       "      <td>...</td>\n",
       "      <td>0</td>\n",
       "      <td>0</td>\n",
       "      <td>0</td>\n",
       "      <td>0</td>\n",
       "      <td>0</td>\n",
       "      <td>0</td>\n",
       "      <td>0</td>\n",
       "      <td>0</td>\n",
       "      <td>75</td>\n",
       "      <td>NaN</td>\n",
       "    </tr>\n",
       "    <tr>\n",
       "      <th>1</th>\n",
       "      <td>2018-02-01 21:26:50+00:00</td>\n",
       "      <td>2018-02-01 13:26:50-08:00</td>\n",
       "      <td>1517520410</td>\n",
       "      <td>1173.2</td>\n",
       "      <td>15.317963</td>\n",
       "      <td>2.517241</td>\n",
       "      <td>0</td>\n",
       "      <td>0</td>\n",
       "      <td>0</td>\n",
       "      <td>0</td>\n",
       "      <td>...</td>\n",
       "      <td>0</td>\n",
       "      <td>0</td>\n",
       "      <td>0</td>\n",
       "      <td>0</td>\n",
       "      <td>0</td>\n",
       "      <td>0</td>\n",
       "      <td>0</td>\n",
       "      <td>0</td>\n",
       "      <td>59</td>\n",
       "      <td>NaN</td>\n",
       "    </tr>\n",
       "    <tr>\n",
       "      <th>2</th>\n",
       "      <td>2018-02-01 21:31:50+00:00</td>\n",
       "      <td>2018-02-01 13:31:50-08:00</td>\n",
       "      <td>1517520710</td>\n",
       "      <td>1173.6</td>\n",
       "      <td>15.320574</td>\n",
       "      <td>2.517241</td>\n",
       "      <td>0</td>\n",
       "      <td>0</td>\n",
       "      <td>0</td>\n",
       "      <td>0</td>\n",
       "      <td>...</td>\n",
       "      <td>0</td>\n",
       "      <td>0</td>\n",
       "      <td>0</td>\n",
       "      <td>0</td>\n",
       "      <td>0</td>\n",
       "      <td>0</td>\n",
       "      <td>0</td>\n",
       "      <td>0</td>\n",
       "      <td>72</td>\n",
       "      <td>NaN</td>\n",
       "    </tr>\n",
       "    <tr>\n",
       "      <th>3</th>\n",
       "      <td>2018-02-01 21:36:50+00:00</td>\n",
       "      <td>2018-02-01 13:36:50-08:00</td>\n",
       "      <td>1517521010</td>\n",
       "      <td>1174.4</td>\n",
       "      <td>15.325795</td>\n",
       "      <td>2.517241</td>\n",
       "      <td>0</td>\n",
       "      <td>0</td>\n",
       "      <td>0</td>\n",
       "      <td>0</td>\n",
       "      <td>...</td>\n",
       "      <td>0</td>\n",
       "      <td>1</td>\n",
       "      <td>0</td>\n",
       "      <td>0</td>\n",
       "      <td>0</td>\n",
       "      <td>0</td>\n",
       "      <td>0</td>\n",
       "      <td>0</td>\n",
       "      <td>65</td>\n",
       "      <td>NaN</td>\n",
       "    </tr>\n",
       "    <tr>\n",
       "      <th>4</th>\n",
       "      <td>2018-02-01 21:41:51+00:00</td>\n",
       "      <td>2018-02-01 13:41:51-08:00</td>\n",
       "      <td>1517521311</td>\n",
       "      <td>1163.6</td>\n",
       "      <td>15.255163</td>\n",
       "      <td>2.517241</td>\n",
       "      <td>0</td>\n",
       "      <td>0</td>\n",
       "      <td>0</td>\n",
       "      <td>0</td>\n",
       "      <td>...</td>\n",
       "      <td>0</td>\n",
       "      <td>0</td>\n",
       "      <td>0</td>\n",
       "      <td>0</td>\n",
       "      <td>0</td>\n",
       "      <td>0</td>\n",
       "      <td>0</td>\n",
       "      <td>0</td>\n",
       "      <td>60</td>\n",
       "      <td>NaN</td>\n",
       "    </tr>\n",
       "    <tr>\n",
       "      <th>...</th>\n",
       "      <td>...</td>\n",
       "      <td>...</td>\n",
       "      <td>...</td>\n",
       "      <td>...</td>\n",
       "      <td>...</td>\n",
       "      <td>...</td>\n",
       "      <td>...</td>\n",
       "      <td>...</td>\n",
       "      <td>...</td>\n",
       "      <td>...</td>\n",
       "      <td>...</td>\n",
       "      <td>...</td>\n",
       "      <td>...</td>\n",
       "      <td>...</td>\n",
       "      <td>...</td>\n",
       "      <td>...</td>\n",
       "      <td>...</td>\n",
       "      <td>...</td>\n",
       "      <td>...</td>\n",
       "      <td>...</td>\n",
       "      <td>...</td>\n",
       "    </tr>\n",
       "    <tr>\n",
       "      <th>116396</th>\n",
       "      <td>2019-04-15 06:35:58+00:00</td>\n",
       "      <td>2019-04-14 23:35:58-07:00</td>\n",
       "      <td>1555310158</td>\n",
       "      <td>1173.0</td>\n",
       "      <td>15.316658</td>\n",
       "      <td>2.584071</td>\n",
       "      <td>0</td>\n",
       "      <td>0</td>\n",
       "      <td>0</td>\n",
       "      <td>0</td>\n",
       "      <td>...</td>\n",
       "      <td>0</td>\n",
       "      <td>0</td>\n",
       "      <td>0</td>\n",
       "      <td>0</td>\n",
       "      <td>0</td>\n",
       "      <td>0</td>\n",
       "      <td>0</td>\n",
       "      <td>0</td>\n",
       "      <td>84</td>\n",
       "      <td>NaN</td>\n",
       "    </tr>\n",
       "    <tr>\n",
       "      <th>116397</th>\n",
       "      <td>2019-04-15 06:40:58+00:00</td>\n",
       "      <td>2019-04-14 23:40:58-07:00</td>\n",
       "      <td>1555310458</td>\n",
       "      <td>1166.4</td>\n",
       "      <td>15.273506</td>\n",
       "      <td>2.584071</td>\n",
       "      <td>0</td>\n",
       "      <td>0</td>\n",
       "      <td>0</td>\n",
       "      <td>0</td>\n",
       "      <td>...</td>\n",
       "      <td>0</td>\n",
       "      <td>0</td>\n",
       "      <td>0</td>\n",
       "      <td>0</td>\n",
       "      <td>0</td>\n",
       "      <td>0</td>\n",
       "      <td>0</td>\n",
       "      <td>0</td>\n",
       "      <td>82</td>\n",
       "      <td>NaN</td>\n",
       "    </tr>\n",
       "    <tr>\n",
       "      <th>116398</th>\n",
       "      <td>2019-04-15 06:45:58+00:00</td>\n",
       "      <td>2019-04-14 23:45:58-07:00</td>\n",
       "      <td>1555310758</td>\n",
       "      <td>1185.6</td>\n",
       "      <td>15.398701</td>\n",
       "      <td>2.584071</td>\n",
       "      <td>0</td>\n",
       "      <td>0</td>\n",
       "      <td>0</td>\n",
       "      <td>0</td>\n",
       "      <td>...</td>\n",
       "      <td>0</td>\n",
       "      <td>0</td>\n",
       "      <td>0</td>\n",
       "      <td>0</td>\n",
       "      <td>0</td>\n",
       "      <td>1</td>\n",
       "      <td>0</td>\n",
       "      <td>0</td>\n",
       "      <td>98</td>\n",
       "      <td>NaN</td>\n",
       "    </tr>\n",
       "    <tr>\n",
       "      <th>116399</th>\n",
       "      <td>2019-04-15 06:50:58+00:00</td>\n",
       "      <td>2019-04-14 23:50:58-07:00</td>\n",
       "      <td>1555311058</td>\n",
       "      <td>1181.8</td>\n",
       "      <td>15.374004</td>\n",
       "      <td>2.584071</td>\n",
       "      <td>0</td>\n",
       "      <td>0</td>\n",
       "      <td>0</td>\n",
       "      <td>0</td>\n",
       "      <td>...</td>\n",
       "      <td>0</td>\n",
       "      <td>0</td>\n",
       "      <td>0</td>\n",
       "      <td>0</td>\n",
       "      <td>0</td>\n",
       "      <td>0</td>\n",
       "      <td>0</td>\n",
       "      <td>0</td>\n",
       "      <td>93</td>\n",
       "      <td>NaN</td>\n",
       "    </tr>\n",
       "    <tr>\n",
       "      <th>116400</th>\n",
       "      <td>2019-04-15 06:55:58+00:00</td>\n",
       "      <td>2019-04-14 23:55:58-07:00</td>\n",
       "      <td>1555311358</td>\n",
       "      <td>1189.4</td>\n",
       "      <td>15.423359</td>\n",
       "      <td>2.584071</td>\n",
       "      <td>0</td>\n",
       "      <td>0</td>\n",
       "      <td>0</td>\n",
       "      <td>0</td>\n",
       "      <td>...</td>\n",
       "      <td>0</td>\n",
       "      <td>0</td>\n",
       "      <td>0</td>\n",
       "      <td>0</td>\n",
       "      <td>0</td>\n",
       "      <td>0</td>\n",
       "      <td>1</td>\n",
       "      <td>0</td>\n",
       "      <td>92</td>\n",
       "      <td>NaN</td>\n",
       "    </tr>\n",
       "  </tbody>\n",
       "</table>\n",
       "<p>116401 rows × 1031 columns</p>\n",
       "</div>"
      ],
      "text/plain": [
       "                   deviceTime_utc           deviceTime_local  deviceTime_unix  \\\n",
       "0       2018-02-01 21:21:50+00:00  2018-02-01 13:21:50-08:00       1517520110   \n",
       "1       2018-02-01 21:26:50+00:00  2018-02-01 13:26:50-08:00       1517520410   \n",
       "2       2018-02-01 21:31:50+00:00  2018-02-01 13:31:50-08:00       1517520710   \n",
       "3       2018-02-01 21:36:50+00:00  2018-02-01 13:36:50-08:00       1517521010   \n",
       "4       2018-02-01 21:41:51+00:00  2018-02-01 13:41:51-08:00       1517521311   \n",
       "...                           ...                        ...              ...   \n",
       "116396  2019-04-15 06:35:58+00:00  2019-04-14 23:35:58-07:00       1555310158   \n",
       "116397  2019-04-15 06:40:58+00:00  2019-04-14 23:40:58-07:00       1555310458   \n",
       "116398  2019-04-15 06:45:58+00:00  2019-04-14 23:45:58-07:00       1555310758   \n",
       "116399  2019-04-15 06:50:58+00:00  2019-04-14 23:50:58-07:00       1555311058   \n",
       "116400  2019-04-15 06:55:58+00:00  2019-04-14 23:55:58-07:00       1555311358   \n",
       "\n",
       "           cpm   cpmError  keV_per_ch  0  1  2  3  ...  1015  1016  1017  \\\n",
       "0       1148.4  15.155197    2.517241  0  0  0  0  ...     0     0     0   \n",
       "1       1173.2  15.317963    2.517241  0  0  0  0  ...     0     0     0   \n",
       "2       1173.6  15.320574    2.517241  0  0  0  0  ...     0     0     0   \n",
       "3       1174.4  15.325795    2.517241  0  0  0  0  ...     0     1     0   \n",
       "4       1163.6  15.255163    2.517241  0  0  0  0  ...     0     0     0   \n",
       "...        ...        ...         ... .. .. .. ..  ...   ...   ...   ...   \n",
       "116396  1173.0  15.316658    2.584071  0  0  0  0  ...     0     0     0   \n",
       "116397  1166.4  15.273506    2.584071  0  0  0  0  ...     0     0     0   \n",
       "116398  1185.6  15.398701    2.584071  0  0  0  0  ...     0     0     0   \n",
       "116399  1181.8  15.374004    2.584071  0  0  0  0  ...     0     0     0   \n",
       "116400  1189.4  15.423359    2.584071  0  0  0  0  ...     0     0     0   \n",
       "\n",
       "        1018  1019  1020  1021  1022  1023  error_flag  \n",
       "0          0     0     0     0     0    75         NaN  \n",
       "1          0     0     0     0     0    59         NaN  \n",
       "2          0     0     0     0     0    72         NaN  \n",
       "3          0     0     0     0     0    65         NaN  \n",
       "4          0     0     0     0     0    60         NaN  \n",
       "...      ...   ...   ...   ...   ...   ...         ...  \n",
       "116396     0     0     0     0     0    84         NaN  \n",
       "116397     0     0     0     0     0    82         NaN  \n",
       "116398     0     0     1     0     0    98         NaN  \n",
       "116399     0     0     0     0     0    93         NaN  \n",
       "116400     0     0     0     1     0    92         NaN  \n",
       "\n",
       "[116401 rows x 1031 columns]"
      ]
     },
     "execution_count": 1,
     "metadata": {},
     "output_type": "execute_result"
    }
   ],
   "source": [
    "### Imports the whole pinewood_os_d3s sheet, which is quite memory-intensive\n",
    "\n",
    "import pandas\n",
    "df_full=pandas.read_csv(('pinewood_os_d3s.csv'))\n",
    "df_full"
   ]
  },
  {
   "cell_type": "code",
   "execution_count": 2,
   "id": "bdbb2e4a",
   "metadata": {
    "tags": []
   },
   "outputs": [
    {
     "data": {
      "text/html": [
       "<div>\n",
       "<style scoped>\n",
       "    .dataframe tbody tr th:only-of-type {\n",
       "        vertical-align: middle;\n",
       "    }\n",
       "\n",
       "    .dataframe tbody tr th {\n",
       "        vertical-align: top;\n",
       "    }\n",
       "\n",
       "    .dataframe thead th {\n",
       "        text-align: right;\n",
       "    }\n",
       "</style>\n",
       "<table border=\"1\" class=\"dataframe\">\n",
       "  <thead>\n",
       "    <tr style=\"text-align: right;\">\n",
       "      <th></th>\n",
       "      <th>deviceTime_local</th>\n",
       "      <th>deviceTime_unix</th>\n",
       "      <th>temperature</th>\n",
       "    </tr>\n",
       "  </thead>\n",
       "  <tbody>\n",
       "    <tr>\n",
       "      <th>0</th>\n",
       "      <td>2018-02-01 13:21:45-08:00</td>\n",
       "      <td>1517520105</td>\n",
       "      <td>24.36</td>\n",
       "    </tr>\n",
       "    <tr>\n",
       "      <th>1</th>\n",
       "      <td>2018-02-01 13:26:45-08:00</td>\n",
       "      <td>1517520405</td>\n",
       "      <td>24.56</td>\n",
       "    </tr>\n",
       "    <tr>\n",
       "      <th>2</th>\n",
       "      <td>2018-02-01 13:31:45-08:00</td>\n",
       "      <td>1517520705</td>\n",
       "      <td>24.53</td>\n",
       "    </tr>\n",
       "    <tr>\n",
       "      <th>3</th>\n",
       "      <td>2018-02-01 13:36:45-08:00</td>\n",
       "      <td>1517521005</td>\n",
       "      <td>24.39</td>\n",
       "    </tr>\n",
       "    <tr>\n",
       "      <th>4</th>\n",
       "      <td>2018-02-01 13:41:45-08:00</td>\n",
       "      <td>1517521305</td>\n",
       "      <td>24.21</td>\n",
       "    </tr>\n",
       "    <tr>\n",
       "      <th>...</th>\n",
       "      <td>...</td>\n",
       "      <td>...</td>\n",
       "      <td>...</td>\n",
       "    </tr>\n",
       "    <tr>\n",
       "      <th>83374</th>\n",
       "      <td>2019-03-05 13:05:44-08:00</td>\n",
       "      <td>1551819944</td>\n",
       "      <td>15.42</td>\n",
       "    </tr>\n",
       "    <tr>\n",
       "      <th>83375</th>\n",
       "      <td>2019-03-05 13:10:44-08:00</td>\n",
       "      <td>1551820244</td>\n",
       "      <td>15.16</td>\n",
       "    </tr>\n",
       "    <tr>\n",
       "      <th>83376</th>\n",
       "      <td>2019-03-05 13:15:44-08:00</td>\n",
       "      <td>1551820544</td>\n",
       "      <td>14.95</td>\n",
       "    </tr>\n",
       "    <tr>\n",
       "      <th>83377</th>\n",
       "      <td>2019-03-05 13:20:44-08:00</td>\n",
       "      <td>1551820844</td>\n",
       "      <td>14.86</td>\n",
       "    </tr>\n",
       "    <tr>\n",
       "      <th>83378</th>\n",
       "      <td>2019-03-05 13:25:44-08:00</td>\n",
       "      <td>1551821144</td>\n",
       "      <td>15.29</td>\n",
       "    </tr>\n",
       "  </tbody>\n",
       "</table>\n",
       "<p>83379 rows × 3 columns</p>\n",
       "</div>"
      ],
      "text/plain": [
       "                deviceTime_local  deviceTime_unix  temperature\n",
       "0      2018-02-01 13:21:45-08:00       1517520105        24.36\n",
       "1      2018-02-01 13:26:45-08:00       1517520405        24.56\n",
       "2      2018-02-01 13:31:45-08:00       1517520705        24.53\n",
       "3      2018-02-01 13:36:45-08:00       1517521005        24.39\n",
       "4      2018-02-01 13:41:45-08:00       1517521305        24.21\n",
       "...                          ...              ...          ...\n",
       "83374  2019-03-05 13:05:44-08:00       1551819944        15.42\n",
       "83375  2019-03-05 13:10:44-08:00       1551820244        15.16\n",
       "83376  2019-03-05 13:15:44-08:00       1551820544        14.95\n",
       "83377  2019-03-05 13:20:44-08:00       1551820844        14.86\n",
       "83378  2019-03-05 13:25:44-08:00       1551821144        15.29\n",
       "\n",
       "[83379 rows x 3 columns]"
      ]
     },
     "execution_count": 2,
     "metadata": {},
     "output_type": "execute_result"
    }
   ],
   "source": [
    "### Importing temperature data from .csv file, change values in \"columns\" if more/different data is needed\n",
    "## Only needs to be run once for any number of time ranges being evaluated\n",
    "\n",
    "columns = ['deviceTime_local','deviceTime_unix','temperature']\n",
    "import pandas as pd\n",
    "Tdf = pd.read_csv('pinewood_os_weather.csv',usecols=columns)\n",
    "Tdf"
   ]
  },
  {
   "cell_type": "code",
   "execution_count": 3,
   "id": "ac323d28-5b78-45d5-b05e-65248151f5bc",
   "metadata": {},
   "outputs": [
    {
     "data": {
      "text/html": [
       "<div>\n",
       "<style scoped>\n",
       "    .dataframe tbody tr th:only-of-type {\n",
       "        vertical-align: middle;\n",
       "    }\n",
       "\n",
       "    .dataframe tbody tr th {\n",
       "        vertical-align: top;\n",
       "    }\n",
       "\n",
       "    .dataframe thead th {\n",
       "        text-align: right;\n",
       "    }\n",
       "</style>\n",
       "<table border=\"1\" class=\"dataframe\">\n",
       "  <thead>\n",
       "    <tr style=\"text-align: right;\">\n",
       "      <th></th>\n",
       "      <th>Date</th>\n",
       "      <th>Time</th>\n",
       "      <th>Temperature</th>\n",
       "    </tr>\n",
       "  </thead>\n",
       "  <tbody>\n",
       "    <tr>\n",
       "      <th>0</th>\n",
       "      <td>2018-1-1</td>\n",
       "      <td>1:53 AM</td>\n",
       "      <td>10.555556</td>\n",
       "    </tr>\n",
       "    <tr>\n",
       "      <th>1</th>\n",
       "      <td>2018-1-1</td>\n",
       "      <td>2:53 AM</td>\n",
       "      <td>9.444444</td>\n",
       "    </tr>\n",
       "    <tr>\n",
       "      <th>2</th>\n",
       "      <td>2018-1-1</td>\n",
       "      <td>3:53 AM</td>\n",
       "      <td>8.333333</td>\n",
       "    </tr>\n",
       "    <tr>\n",
       "      <th>3</th>\n",
       "      <td>2018-1-1</td>\n",
       "      <td>4:53 AM</td>\n",
       "      <td>8.333333</td>\n",
       "    </tr>\n",
       "    <tr>\n",
       "      <th>4</th>\n",
       "      <td>2018-1-1</td>\n",
       "      <td>5:53 AM</td>\n",
       "      <td>7.222222</td>\n",
       "    </tr>\n",
       "    <tr>\n",
       "      <th>...</th>\n",
       "      <td>...</td>\n",
       "      <td>...</td>\n",
       "      <td>...</td>\n",
       "    </tr>\n",
       "    <tr>\n",
       "      <th>9395</th>\n",
       "      <td>2018-12-31</td>\n",
       "      <td>8:53 PM</td>\n",
       "      <td>10.555556</td>\n",
       "    </tr>\n",
       "    <tr>\n",
       "      <th>9396</th>\n",
       "      <td>2018-12-31</td>\n",
       "      <td>9:53 PM</td>\n",
       "      <td>10.555556</td>\n",
       "    </tr>\n",
       "    <tr>\n",
       "      <th>9397</th>\n",
       "      <td>2018-12-31</td>\n",
       "      <td>10:53 PM</td>\n",
       "      <td>10.555556</td>\n",
       "    </tr>\n",
       "    <tr>\n",
       "      <th>9398</th>\n",
       "      <td>2018-12-31</td>\n",
       "      <td>11:53 PM</td>\n",
       "      <td>9.444444</td>\n",
       "    </tr>\n",
       "    <tr>\n",
       "      <th>9399</th>\n",
       "      <td>2018-12-31</td>\n",
       "      <td>12:53 AM</td>\n",
       "      <td>7.222222</td>\n",
       "    </tr>\n",
       "  </tbody>\n",
       "</table>\n",
       "<p>9400 rows × 3 columns</p>\n",
       "</div>"
      ],
      "text/plain": [
       "            Date      Time  Temperature\n",
       "0       2018-1-1   1:53 AM    10.555556\n",
       "1       2018-1-1   2:53 AM     9.444444\n",
       "2       2018-1-1   3:53 AM     8.333333\n",
       "3       2018-1-1   4:53 AM     8.333333\n",
       "4       2018-1-1   5:53 AM     7.222222\n",
       "...          ...       ...          ...\n",
       "9395  2018-12-31   8:53 PM    10.555556\n",
       "9396  2018-12-31   9:53 PM    10.555556\n",
       "9397  2018-12-31  10:53 PM    10.555556\n",
       "9398  2018-12-31  11:53 PM     9.444444\n",
       "9399  2018-12-31  12:53 AM     7.222222\n",
       "\n",
       "[9400 rows x 3 columns]"
      ]
     },
     "execution_count": 3,
     "metadata": {},
     "output_type": "execute_result"
    }
   ],
   "source": [
    "### Imports the temperature data collected from a weather station near Pinewood, and prepares the dataframe\n",
    "\n",
    "import pandas as pd\n",
    "Tdf_weather = pd.read_csv('pinewood_weather_2018.csv')\n",
    "Tdf_weather = Tdf_weather.drop(columns=['Unnamed: 0','Dew Point','Humidity','Wind','Wind Speed','Wind Gust','Pressure','Precip.','Condition'])\n",
    "\n",
    "### Converts the temperature strings to integers, placing them back in the original dataframe\n",
    "\n",
    "Tdf_weather['Temperature'] = Tdf_weather['Temperature'].str[0:2] # takes the first two characters in the temperature string\n",
    "Tdf_weather['Temperature'] = [int(i) for i in Tdf_weather['Temperature']] # Converts the temperature string to integer form\n",
    "Tdf_weather['Temperature'] = (Tdf_weather['Temperature']-32)/1.8 # Converts from Fahrenheit to Celsius\n",
    "Tdf_weather"
   ]
  },
  {
   "cell_type": "code",
   "execution_count": 4,
   "id": "2df3c3d3-e179-4ff6-998e-ca7b01c59a31",
   "metadata": {},
   "outputs": [],
   "source": [
    "### Collects unix time values for the weather station data\n",
    "\n",
    "from datetime import datetime as dati\n",
    "import datetime\n",
    "import numpy as np\n",
    "import pandas as pd\n",
    "\n",
    "size_Tdf = Tdf_weather.shape[0]\n",
    "unix_t = np.zeros(size_Tdf)\n",
    "\n",
    "for i in range(0,size_Tdf): #loops over each row of Tdf_weather, starting at 0, and ending at the last index\n",
    "    d_t = (Tdf_weather.iloc[i:i+1,0] + ' ' + Tdf_weather.iloc[i:i+1,1]).reset_index(drop=True) # combines the date and time from the weather station data into a single string\n",
    "    string = d_t[0] # extracts the string from the above row\n",
    "    date_time = dati.strptime(string, \"%Y-%m-%d %I:%M %p\") # converts the string to a datetime object\n",
    "    if date_time.hour==0: # issue with the 12 am hour, listed as prior day, when it should be the next\n",
    "        date_time += datetime.timedelta(days=1) #date_time.replace(day = date_time.day+1) # properly labels the hour just after midnight as the next day, not the prior\n",
    "    unix_t[i] = date_time.timestamp() # gets unix time for the given temperature datapoint and writes it into the unix array\n",
    "    \n",
    "unix = pd.DataFrame({'Unix Time':unix_t})"
   ]
  },
  {
   "cell_type": "code",
   "execution_count": 5,
   "id": "31fc1d9f-ca5c-42cc-b0f6-1c930f8ba728",
   "metadata": {},
   "outputs": [],
   "source": [
    "### Concatenating the unix timestamps with the temperature dataframe\n",
    "\n",
    "import pandas as pd\n",
    "\n",
    "Tdf_weather = pd.concat([Tdf_weather,unix],axis=1) #concatenates the unix time with the weather station data\n",
    "pd.options.display.float_format = '{:.3f}'.format"
   ]
  },
  {
   "cell_type": "markdown",
   "id": "83ad4d7d-cf47-4ffc-8221-901599c0ebbb",
   "metadata": {},
   "source": [
    "# Collecting Rad data from individual months"
   ]
  },
  {
   "cell_type": "markdown",
   "id": "5d20848b",
   "metadata": {},
   "source": [
    "# February 2018"
   ]
  },
  {
   "cell_type": "code",
   "execution_count": 6,
   "id": "358818a8",
   "metadata": {
    "tags": []
   },
   "outputs": [],
   "source": [
    "### WINTER MONTH (February)\n",
    "\n",
    "\n",
    "### Fits the radiation counts using a Gaussian + polynomial fit\n",
    "## Current Settings: 2nd order polynomial (quadratic), peak range of 600-650 keV, std dev max of 20 keV\n",
    "## Time range of this cell: 8/6-9/5/19 (midnight to midnight, exactly 1 month)\n",
    "## Expected runtime: ~2 min\n",
    "\n",
    "# If changing the timescale, the following variables must be redefined appropriately:\n",
    "# df_month (which slice of df_full is taken), radon_count (should be total number of hours in chosen set), start (convert to unix)\n",
    "# All other parts of the code should execute properly regardless of the size of the set, though runtime may increase greatly\n",
    "\n",
    "import pandas as pd\n",
    "from scipy.signal import find_peaks as fp\n",
    "import numpy as np\n",
    "from scipy.optimize import curve_fit\n",
    "\n",
    "### Creating a dataframe of exactly a month of collected data\n",
    "col = ['deviceTime_utc','cpmError','1023','error_flag']\n",
    "df_feb = df_full[131:8197].reset_index().drop(columns=col) # takes about a month, from 12:01 AM 2/2/18 to 11:59 PM 2/28/18 (local time)\n",
    "radon_count_feb = np.zeros(648) # creating an empty dataframe to add hourly radon counts to\n",
    "total_count_feb = np.zeros(648) # creating an empty dataframe to add hourly averaged gamma counts to\n",
    "start = 1517558400 # Setting a baseline time for the loop to start from (in this case it is 12:00:00 Local Time 11/15/18)\n",
    "end = start\n",
    "\n",
    "for i in range(0,648):\n",
    "    #start = df_month.at[i,'deviceTime_unix']-10 ####### change out the zero for the current for loop index\n",
    "    #end = start + 3600\n",
    "    \n",
    "    ### Sets an hour range for the data, and selecting those rows\n",
    "    start = end #setting start time based on current index\n",
    "    end = start + 3600 # end time falls 1 hour after the start time\n",
    "    hour_set = df_feb['deviceTime_unix'].between(start,end) # Boolean output of rows which fall between start and end times\n",
    "    hour = df_feb[hour_set].drop(columns=['index','deviceTime_local','deviceTime_unix'])#.sum(axis=0)\n",
    "\n",
    "    ### Grabs the total counts and puts it into a separate dataframe\n",
    "    total_count_feb[i] = hour['cpm'].mean()\n",
    "    \n",
    "    ### Finding the mean energy per channel from the input, and setting the appropriate energies as column names\n",
    "    channel_energy = hour['keV_per_ch'].mean(axis=0)\n",
    "    hour = hour.drop(columns=['cpm','keV_per_ch'])\n",
    "    col_energy = np.linspace(0,1022*channel_energy,1023)\n",
    "    hour.columns = col_energy\n",
    "\n",
    "    ### Taking the mean # of counts for each column (now an energy band)\n",
    "    hour = hour.mean(axis=0)\n",
    "    hour1 = pd.DataFrame({'Lower Energy Bounds':hour.index})\n",
    "    hour2 = pd.DataFrame({'Mean counts':hour}).reset_index(drop=True)\n",
    "    hour = pd.concat([hour1,hour2],axis=1) # creates a dataframe for the hour, including the energy threshold for each channel and its corresponding counts\n",
    "    hour = hour.dropna() # drops any empty rows from the dataframe\n",
    "    if hour.empty==True: # If the dataframe is now empty, there is no spectrum to observe, go to the next hour\n",
    "        continue\n",
    "\n",
    "    ### Need to find the peak using the appropriate energy value, not an index\n",
    "    peak_bounds = hour.iloc[(hour['Lower Energy Bounds']-609.3).abs().argsort()[:2]] # finds the two closest rows to 609.3 keV in energy\n",
    "    peak_id = peak_bounds.index.sort_values()[0] # outputs the index (channel) that the peak (609.3 keV) is contained in\n",
    "\n",
    "    ### Sets the window to find the peak based on the peak energy\n",
    "    window_start = peak_id-80\n",
    "    window_end = peak_id+80\n",
    "    window = np.linspace(window_start,window_end,161)\n",
    "    window_energies = hour.iloc[window_start:window_end+1,0]\n",
    "    window_counts = hour.iloc[window_start:window_end+1,1]\n",
    "\n",
    "    ### Defining a combined function of a gaussian and a polynomial, and fitting it to the data\n",
    "    def gaussian(x,amp,cen,sig):\n",
    "        return amp*np.exp(-(x-cen)**2/(2*sig**2))\n",
    "    def gaussian_plus_polynomial(x,amp,cen,sig,a,b,c): \n",
    "        return amp*np.exp(-(x-cen)**2/(2*sig**2)) + a*x**2 + b*x + c\n",
    "    popt,_ = curve_fit(gaussian_plus_polynomial,window_energies,window_counts,bounds =([0,600,0,-1000,-1000,-1000] ,[1000,650,20,1000,0,1000]))\n",
    "    popt_gaus = popt[0:3]\n",
    "    popt\n",
    "\n",
    "    ### Finding the average radon cpm for the hour, adding to overall array\n",
    "    predicted = gaussian_plus_polynomial(window_energies,*popt)\n",
    "    radon_count_feb[i] = gaussian(window_energies,*popt_gaus).sum()\n",
    "    #if i==350:\n",
    "        #break"
   ]
  },
  {
   "cell_type": "code",
   "execution_count": 7,
   "id": "f94367e8",
   "metadata": {
    "jupyter": {
     "source_hidden": true
    },
    "tags": []
   },
   "outputs": [],
   "source": [
    "### Creates an dataframe of date and time to align counts and temperatures with (purely for readability, is not used in plotting at all)\n",
    "\n",
    "import time\n",
    "import numpy as np\n",
    "import pandas as pd\n",
    "\n",
    "current_time = 1517554800 # 11:00 PM on 2/1/18\n",
    "dates = []\n",
    "hour = []\n",
    "    \n",
    "for i in range(0,648):\n",
    "    current_time = current_time + 3600\n",
    "    time1 = time.localtime(current_time) \n",
    "    \n",
    "    year = str(time1[0])\n",
    "    month = str(time1[1])\n",
    "    day = str(time1[2])\n",
    "    \n",
    "    date_string = [month,day,year]\n",
    "    #test_string\n",
    "    dates.append('-'.join(date_string))\n",
    "    hour.append(time1[3])\n",
    "    \n",
    "temp_date = pd.DataFrame({'Date':dates})\n",
    "temp_hour = pd.DataFrame({'Hour':hour})\n",
    "DS_Feb = pd.concat([temp_date,temp_hour],axis=1)"
   ]
  },
  {
   "cell_type": "code",
   "execution_count": 8,
   "id": "6d0b2b8c",
   "metadata": {
    "jupyter": {
     "source_hidden": true
    },
    "tags": []
   },
   "outputs": [],
   "source": [
    "### Turns Radon outputs into a dataframe, and concatenates with the overall data set\n",
    "import pandas as pd\n",
    "\n",
    "Output_Data = pd.DataFrame({'Radon Counts':radon_count_feb})\n",
    "Output2 = pd.DataFrame({'Total Counts':total_count_feb})\n",
    "DS_Feb = pd.concat([DS_Feb,Output_Data,Output2],axis=1)"
   ]
  },
  {
   "cell_type": "code",
   "execution_count": 9,
   "id": "c48ac36d",
   "metadata": {
    "jupyter": {
     "source_hidden": true
    },
    "tags": []
   },
   "outputs": [],
   "source": [
    "### Gathering appropriate average temperatures and concatenates with overall dataframe\n",
    "\n",
    "import pandas as pd\n",
    "import numpy as np\n",
    "\n",
    "T_feb = Tdf[128:7939].reset_index(drop=True)\n",
    "\n",
    "T_zeros = np.zeros(648)\n",
    "T_temp = pd.DataFrame({'Temperature':T_zeros})\n",
    "T_temp2 = pd.DataFrame({'Weather Station T':T_zeros})\n",
    "\n",
    "T_start = 1517558400\n",
    "T_end = T_start\n",
    "\n",
    "for j in range(0,648):\n",
    "    T_start = T_end\n",
    "    T_end = T_start + 3600\n",
    "    \n",
    "    T_bool = T_feb['deviceTime_unix'].between(T_start,T_end)\n",
    "    if T_bool.loc[T_bool==True].empty:\n",
    "        T_temp.iloc[j,0] = 0\n",
    "        continue\n",
    "    T_hourly = T_feb[T_bool].drop(columns=['deviceTime_local','deviceTime_unix'])\n",
    "    T_temp.iloc[j,0] = T_hourly.mean()\n",
    "\n",
    "#Resetting time to grab weather station temperatures as well\n",
    "T_start = 1517558400\n",
    "T_end = T_start\n",
    "\n",
    "for i in range(0,648):\n",
    "    T_start = T_end\n",
    "    T_end = T_start + 3600\n",
    "    \n",
    "    T_w_bool = Tdf_weather['Unix Time'].between(T_start,T_end)\n",
    "    if T_w_bool.loc[T_w_bool==True].empty:\n",
    "        T_temp2.iloc[j,0] = 0\n",
    "        continue\n",
    "    T_hourly_w = Tdf_weather[T_w_bool].drop(columns=['Date','Time','Unix Time'])\n",
    "    T_temp2.iloc[i,0] = T_hourly_w.mean()\n",
    "\n",
    "DS_Feb = pd.concat([DS_Feb,T_temp,T_temp2],axis=1)"
   ]
  },
  {
   "cell_type": "code",
   "execution_count": 10,
   "id": "c1b22824",
   "metadata": {
    "jupyter": {
     "source_hidden": true
    },
    "tags": []
   },
   "outputs": [],
   "source": [
    "### Dropping out any rows that have a zero value for temperature or radon counts\n",
    "\n",
    "DS_final_Feb = DS_Feb\n",
    "Radon_nonzero_Feb = (DS_final_Feb['Radon Counts'] > 0) # Boolean output of the rows that have positive values for radon count\n",
    "DS_final_Feb = DS_final_Feb[Radon_nonzero_Feb] # Removes rows with a zero value for radon count\n",
    "#Radon_negative = (Data_set_final['Radon Counts'] > 0)\n",
    "#Data_set_final = Data_set_final[Radon_negative]\n",
    "Temperature_nonzero = (DS_final_Feb['Temperature'] != 0) # same idea as Radon_nonzero, but now for temperature\n",
    "DS_final_Feb = DS_final_Feb[Temperature_nonzero] # Removes any additional rows that have a 0 value for temperature\n",
    "#Total_nonzero = (DS_final_Feb['Total Counts'] != 0) These rows shouldn't be necessary since any zeros would be in the same rows as radon counts\n",
    "#DS_final_Feb = DS_final_Feb[Total_nonzero]"
   ]
  },
  {
   "cell_type": "code",
   "execution_count": 11,
   "id": "f9aaeb3a",
   "metadata": {
    "jupyter": {
     "source_hidden": true
    },
    "tags": []
   },
   "outputs": [
    {
     "data": {
      "text/plain": [
       "Date                  0\n",
       "Hour                 27\n",
       "Radon Counts          0\n",
       "Total Counts          0\n",
       "Temperature           0\n",
       "Weather Station T     6\n",
       "dtype: int64"
      ]
     },
     "execution_count": 11,
     "metadata": {},
     "output_type": "execute_result"
    }
   ],
   "source": [
    "### Checking that the above cell worked properly, not necessary to run every time\n",
    "\n",
    "(DS_final_Feb == 0).sum()"
   ]
  },
  {
   "cell_type": "markdown",
   "id": "47f9440b",
   "metadata": {},
   "source": [
    "# March 2018"
   ]
  },
  {
   "cell_type": "code",
   "execution_count": 12,
   "id": "e36d7beb",
   "metadata": {
    "jupyter": {
     "source_hidden": true
    },
    "tags": []
   },
   "outputs": [],
   "source": [
    "### March 2018 Data\n",
    "\n",
    "### Fits the radiation counts using a Gaussian + polynomial fit\n",
    "## Current Settings: 2nd order polynomial (quadratic), peak range of 600-650 keV, std dev max of 20 keV\n",
    "## Time range of this cell: 8/1-8/31/18 (midnight to 11:59PM, exactly 1 month)\n",
    "## Expected runtime: ~2 min\n",
    "\n",
    "# If changing the timescale, the following variables must be redefined appropriately:\n",
    "# df_month (which slice of df_full is taken), radon_count (should be total number of hours in chosen set), start (convert to unix)\n",
    "# All other parts of the code should execute properly regardless of the size of the set, though runtime may increase greatly\n",
    "\n",
    "import pandas as pd\n",
    "from scipy.signal import find_peaks as fp\n",
    "import numpy as np\n",
    "from scipy.optimize import curve_fit\n",
    "\n",
    "### Creating a dataframe of exactly a month of collected data\n",
    "col = ['deviceTime_utc','cpmError','1023','error_flag']\n",
    "df_Mar = df_full[8197:14969].reset_index().drop(columns=col) # takes exactly a month, from 12:01 AM 8/1/18 to 11:59 PM 8/31/18 (local time)\n",
    "radon_count_Mar = np.zeros(744) # creating an empty dataframe to add hourly radon counts to\n",
    "total_count_Mar = np.zeros(744)\n",
    "start = 1519891200 # Setting a baseline time for the loop to start from (in this case it is 12:00:00 Local Time 8/1/18)\n",
    "end = start\n",
    "\n",
    "for i in range(0,744):\n",
    "    # Will eventually become a for loop, with an iteration for each hour\n",
    "    #start = df_month.at[i,'deviceTime_unix']-10 ####### change out the zero for the current for loop index\n",
    "    #end = start + 3600\n",
    "    \n",
    "    ### Sets an hour range for the data, and selecting those rows\n",
    "    start = end #setting start time based on current index\n",
    "    end = start + 3600 # end time falls 1 hour after the start time\n",
    "    hour_set = df_Mar['deviceTime_unix'].between(start,end) # Boolean output of rows which fall between start and end times\n",
    "    hour = df_Mar[hour_set].drop(columns=['index','deviceTime_local','deviceTime_unix'])#.sum(axis=0)\n",
    "    \n",
    "    ### Grabs the total counts and puts it into a separate dataframe\n",
    "    total_count_Mar[i] = hour['cpm'].mean()\n",
    "\n",
    "    ### Finding the mean energy per channel from the input, and setting the appropriate energies as column names\n",
    "    channel_energy = hour['keV_per_ch'].mean(axis=0)\n",
    "    hour = hour.drop(columns=['cpm','keV_per_ch'])\n",
    "    col_energy = np.linspace(0,1022*channel_energy,1023)\n",
    "    hour.columns = col_energy\n",
    "\n",
    "    ### Taking the mean # of counts for each column (now an energy band)\n",
    "    hour = hour.mean(axis=0)\n",
    "    hour1 = pd.DataFrame({'Lower Energy Bounds':hour.index})\n",
    "    hour2 = pd.DataFrame({'Mean counts':hour}).reset_index(drop=True)\n",
    "    hour = pd.concat([hour1,hour2],axis=1) # creates a dataframe for the hour, including the energy threshold for each channel and its corresponding counts\n",
    "    hour = hour.dropna() # drops any empty rows from the dataframe\n",
    "    if hour.empty==True: # If the dataframe is now empty, there is no spectrum to observe, go to the next hour\n",
    "        continue\n",
    "\n",
    "    ### Need to find the peak using the appropriate energy value, not an index\n",
    "    peak_bounds = hour.iloc[(hour['Lower Energy Bounds']-609.3).abs().argsort()[:2]] # finds the two closest rows to 609.3 keV in energy\n",
    "    peak_id = peak_bounds.index.sort_values()[0] # outputs the index (channel) that the peak (609.3 keV) is contained in\n",
    "\n",
    "    ### Sets the window to find the peak based on the peak energy\n",
    "    window_start = peak_id-80\n",
    "    window_end = peak_id+80\n",
    "    window = np.linspace(window_start,window_end,161)\n",
    "    window_energies = hour.iloc[window_start:window_end+1,0]\n",
    "    window_counts = hour.iloc[window_start:window_end+1,1]\n",
    "\n",
    "    ### Defining a combined function of a gaussian and a polynomial, and fitting it to the data\n",
    "    def gaussian(x,amp,cen,sig):\n",
    "        return amp*np.exp(-(x-cen)**2/(2*sig**2))\n",
    "    def gaussian_plus_polynomial(x,amp,cen,sig,a,b,c): \n",
    "        return amp*np.exp(-(x-cen)**2/(2*sig**2)) + a*x**2 + b*x + c\n",
    "    popt,_ = curve_fit(gaussian_plus_polynomial,window_energies,window_counts,bounds =([0,600,0,-1000,-1000,-1000] ,[1000,650,20,1000,0,1000]))\n",
    "    popt_gaus = popt[0:3]\n",
    "    popt\n",
    "\n",
    "    ### Finding the average radon cpm for the hour, adding to overall array\n",
    "    predicted = gaussian_plus_polynomial(window_energies,*popt)\n",
    "    radon_count_Mar[i] = gaussian(window_energies,*popt_gaus).sum()\n",
    "    #if i==491:\n",
    "        #break"
   ]
  },
  {
   "cell_type": "code",
   "execution_count": 13,
   "id": "9aaade54",
   "metadata": {
    "jupyter": {
     "source_hidden": true
    },
    "tags": []
   },
   "outputs": [],
   "source": [
    "### Creates an dataframe of date and time to align counts and temperatures with (purely for readability, is not used in plotting at all)\n",
    "\n",
    "import time\n",
    "import numpy as np\n",
    "import pandas as pd\n",
    "\n",
    "current_time = 1519887600 # 11:00 PM on 2/28/18\n",
    "dates = []\n",
    "hour = []\n",
    "    \n",
    "for i in range(0,744):\n",
    "    current_time = current_time + 3600\n",
    "    time1 = time.localtime(current_time) \n",
    "    \n",
    "    year = str(time1[0])\n",
    "    month = str(time1[1])\n",
    "    day = str(time1[2])\n",
    "    \n",
    "    date_string = [month,day,year]\n",
    "    #test_string\n",
    "    dates.append('-'.join(date_string))\n",
    "    hour.append(time1[3])\n",
    "    \n",
    "temp_date = pd.DataFrame({'Date':dates})\n",
    "temp_hour = pd.DataFrame({'Hour':hour})\n",
    "Data_set_Mar = pd.concat([temp_date,temp_hour],axis=1)"
   ]
  },
  {
   "cell_type": "code",
   "execution_count": 14,
   "id": "4007c07b",
   "metadata": {
    "jupyter": {
     "source_hidden": true
    },
    "tags": []
   },
   "outputs": [],
   "source": [
    "### Turns Radon outputs into a dataframe, and concatenates with the overall data set\n",
    "import pandas as pd\n",
    "\n",
    "Output_Data = pd.DataFrame({'Radon Counts':radon_count_Mar})\n",
    "Output2 = pd.DataFrame({'Total Counts':total_count_Mar})\n",
    "Data_set_Mar = pd.concat([Data_set_Mar,Output_Data,Output2],axis=1)"
   ]
  },
  {
   "cell_type": "code",
   "execution_count": 15,
   "id": "d8959d57",
   "metadata": {
    "jupyter": {
     "source_hidden": true
    },
    "tags": []
   },
   "outputs": [],
   "source": [
    "### Gathering appropriate average temperatures and concatenating with overall dataframe\n",
    "\n",
    "import pandas as pd\n",
    "import numpy as np\n",
    "\n",
    "T_Mar = Tdf[7939:15318].reset_index(drop=True)\n",
    "\n",
    "T_zeros = np.zeros(744)\n",
    "T_temp = pd.DataFrame({'Temperature':T_zeros})\n",
    "T_temp2 = pd.DataFrame({'Weather Station T':T_zeros})\n",
    "\n",
    "T_start = 1519891200\n",
    "T_end = T_start\n",
    "\n",
    "for j in range(0,744):\n",
    "    T_start = T_end\n",
    "    T_end = T_start + 3600\n",
    "    \n",
    "    T_bool = T_Mar['deviceTime_unix'].between(T_start,T_end)\n",
    "    if T_bool.loc[T_bool==True].empty:\n",
    "        T_temp.iloc[j,0] = 0\n",
    "        continue\n",
    "    T_hourly = T_Mar[T_bool].drop(columns=['deviceTime_local','deviceTime_unix'])\n",
    "    T_temp.iloc[j,0] = T_hourly.mean()\n",
    "    \n",
    "#Resetting time to grab weather station temperatures as well\n",
    "T_start = 1519891200\n",
    "T_end = T_start\n",
    "\n",
    "for i in range(0,744):\n",
    "    T_start = T_end\n",
    "    T_end = T_start + 3600\n",
    "    \n",
    "    T_w_bool = Tdf_weather['Unix Time'].between(T_start,T_end)\n",
    "    if T_w_bool.loc[T_w_bool==True].empty:\n",
    "        T_temp2.iloc[j,0] = 0\n",
    "        continue\n",
    "    T_hourly_w = Tdf_weather[T_w_bool].drop(columns=['Date','Time','Unix Time'])\n",
    "    T_temp2.iloc[i,0] = T_hourly_w.mean()\n",
    "\n",
    "Data_set_Mar = pd.concat([Data_set_Mar,T_temp,T_temp2],axis=1)"
   ]
  },
  {
   "cell_type": "code",
   "execution_count": 16,
   "id": "45c57d5c",
   "metadata": {
    "jupyter": {
     "source_hidden": true
    },
    "tags": []
   },
   "outputs": [],
   "source": [
    "### Dropping out any rows that have a zero value for temperature or radon counts\n",
    "\n",
    "DS_final_Mar = Data_set_Mar\n",
    "Radon_nonzero_Mar = (DS_final_Mar['Radon Counts'] > 0) # Boolean output of the rows that have positive values for radon count\n",
    "DS_final_Mar = DS_final_Mar[Radon_nonzero_Mar] # Removes rows with a zero value for radon count\n",
    "#Radon_negative = (Data_set_final['Radon Counts'] > 0)\n",
    "#Data_set_final = Data_set_final[Radon_negative]\n",
    "Temperature_nonzero = (DS_final_Mar['Temperature'] != 0) # same idea as Radon_nonzero, but now for temperature\n",
    "DS_final_Mar = DS_final_Mar[Temperature_nonzero] # Removes any additional rows that have a 0 value for temperature"
   ]
  },
  {
   "cell_type": "code",
   "execution_count": 17,
   "id": "69a4c7be",
   "metadata": {
    "jupyter": {
     "source_hidden": true
    },
    "tags": []
   },
   "outputs": [
    {
     "data": {
      "text/plain": [
       "Date                  0\n",
       "Hour                 21\n",
       "Radon Counts          0\n",
       "Total Counts          0\n",
       "Temperature           0\n",
       "Weather Station T     1\n",
       "dtype: int64"
      ]
     },
     "execution_count": 17,
     "metadata": {},
     "output_type": "execute_result"
    }
   ],
   "source": [
    "### Checking that the above cell worked properly, not necessary to run every time\n",
    "\n",
    "(DS_final_Mar == 0).sum()"
   ]
  },
  {
   "cell_type": "markdown",
   "id": "8d0ca53f",
   "metadata": {
    "tags": []
   },
   "source": [
    "# April 2018"
   ]
  },
  {
   "cell_type": "code",
   "execution_count": 18,
   "id": "7c7488a3",
   "metadata": {
    "jupyter": {
     "source_hidden": true
    },
    "tags": []
   },
   "outputs": [],
   "source": [
    "### April 2018\n",
    "\n",
    "\n",
    "### Fits the radiation counts using a Gaussian + polynomial fit\n",
    "## Current Settings: 2nd order polynomial (quadratic), peak range of 600-650 keV, std dev max of 20 keV\n",
    "## Time range of this cell: 4/1-4/30/18 (midnight to midnight, exactly 1 month)\n",
    "## Expected runtime: ~2 min\n",
    "\n",
    "# If changing the timescale, the following variables must be redefined appropriately:\n",
    "# df_month (which slice of df_full is taken), radon_count (should be total number of hours in chosen set), start (convert to unix)\n",
    "# All other parts of the code should execute properly regardless of the size of the set, though runtime may increase greatly\n",
    "\n",
    "import pandas as pd\n",
    "from scipy.signal import find_peaks as fp\n",
    "import numpy as np\n",
    "from scipy.optimize import curve_fit\n",
    "\n",
    "### Creating a dataframe of exactly a month of collected data\n",
    "col = ['deviceTime_utc','cpmError','1023','error_flag']\n",
    "df_apr = df_full[14969:22988].reset_index().drop(columns=col) # takes about a month, from 12:01 AM 2/2/18 to 11:59 PM 2/28/18 (local time)\n",
    "radon_count_apr = np.zeros(720) # creating an empty dataframe to add hourly radon counts to\n",
    "total_count_apr = np.zeros(720)\n",
    "start = 1522566000 # Setting a baseline time for the loop to start from (in this case it is 12:00:00 Local Time 11/15/18)\n",
    "end = start\n",
    "\n",
    "for i in range(0,720):\n",
    "    #start = df_month.at[i,'deviceTime_unix']-10 ####### change out the zero for the current for loop index\n",
    "    #end = start + 3600\n",
    "    \n",
    "    ### Sets an hour range for the data, and selecting those rows\n",
    "    start = end #setting start time based on current index\n",
    "    end = start + 3600 # end time falls 1 hour after the start time\n",
    "    hour_set = df_apr['deviceTime_unix'].between(start,end) # Boolean output of rows which fall between start and end times\n",
    "    hour = df_apr[hour_set].drop(columns=['index','deviceTime_local','deviceTime_unix'])#.sum(axis=0)\n",
    "    \n",
    "    ### Grabs the total counts and puts it into a separate dataframe\n",
    "    total_count_apr[i] = hour['cpm'].mean()\n",
    "\n",
    "    ### Finding the mean energy per channel from the input, and setting the appropriate energies as column names\n",
    "    channel_energy = hour['keV_per_ch'].mean(axis=0)\n",
    "    hour = hour.drop(columns=['cpm','keV_per_ch'])\n",
    "    col_energy = np.linspace(0,1022*channel_energy,1023)\n",
    "    hour.columns = col_energy\n",
    "\n",
    "    ### Taking the mean # of counts for each column (now an energy band)\n",
    "    hour = hour.mean(axis=0)\n",
    "    hour1 = pd.DataFrame({'Lower Energy Bounds':hour.index})\n",
    "    hour2 = pd.DataFrame({'Mean counts':hour}).reset_index(drop=True)\n",
    "    hour = pd.concat([hour1,hour2],axis=1) # creates a dataframe for the hour, including the energy threshold for each channel and its corresponding counts\n",
    "    hour = hour.dropna() # drops any empty rows from the dataframe\n",
    "    if hour.empty==True: # If the dataframe is now empty, there is no spectrum to observe, go to the next hour\n",
    "        continue\n",
    "\n",
    "    ### Need to find the peak using the appropriate energy value, not an index\n",
    "    peak_bounds = hour.iloc[(hour['Lower Energy Bounds']-609.3).abs().argsort()[:2]] # finds the two closest rows to 609.3 keV in energy\n",
    "    peak_id = peak_bounds.index.sort_values()[0] # outputs the index (channel) that the peak (609.3 keV) is contained in\n",
    "\n",
    "    ### Sets the window to find the peak based on the peak energy\n",
    "    window_start = peak_id-80\n",
    "    window_end = peak_id+80\n",
    "    window = np.linspace(window_start,window_end,161)\n",
    "    window_energies = hour.iloc[window_start:window_end+1,0]\n",
    "    window_counts = hour.iloc[window_start:window_end+1,1]\n",
    "\n",
    "    ### Defining a combined function of a gaussian and a polynomial, and fitting it to the data\n",
    "    def gaussian(x,amp,cen,sig):\n",
    "        return amp*np.exp(-(x-cen)**2/(2*sig**2))\n",
    "    def gaussian_plus_polynomial(x,amp,cen,sig,a,b,c): \n",
    "        return amp*np.exp(-(x-cen)**2/(2*sig**2)) + a*x**2 + b*x + c\n",
    "    popt,_ = curve_fit(gaussian_plus_polynomial,window_energies,window_counts,bounds =([0,600,0,-1000,-1000,-1000] ,[1000,650,20,1000,0,1000]))\n",
    "    popt_gaus = popt[0:3]\n",
    "    popt\n",
    "\n",
    "    ### Finding the average radon cpm for the hour, adding to overall array\n",
    "    predicted = gaussian_plus_polynomial(window_energies,*popt)\n",
    "    radon_count_apr[i] = gaussian(window_energies,*popt_gaus).sum()\n",
    "    #if i==350:\n",
    "        #break"
   ]
  },
  {
   "cell_type": "code",
   "execution_count": 19,
   "id": "b1b1671a",
   "metadata": {
    "jupyter": {
     "source_hidden": true
    },
    "tags": []
   },
   "outputs": [],
   "source": [
    "### Creates an dataframe of date and time to align counts and temperatures with (purely for readability, is not used in plotting at all)\n",
    "\n",
    "import time\n",
    "import numpy as np\n",
    "import pandas as pd\n",
    "\n",
    "current_time = 1522562400 # 11:00 PM on 3/31/18\n",
    "dates = []\n",
    "hour = []\n",
    "    \n",
    "for i in range(0,720):\n",
    "    current_time = current_time + 3600\n",
    "    time1 = time.localtime(current_time) \n",
    "    \n",
    "    year = str(time1[0])\n",
    "    month = str(time1[1])\n",
    "    day = str(time1[2])\n",
    "    \n",
    "    date_string = [month,day,year]\n",
    "    #test_string\n",
    "    dates.append('-'.join(date_string))\n",
    "    hour.append(time1[3])\n",
    "    \n",
    "temp_date = pd.DataFrame({'Date':dates})\n",
    "temp_hour = pd.DataFrame({'Hour':hour})\n",
    "DS_Apr = pd.concat([temp_date,temp_hour],axis=1)"
   ]
  },
  {
   "cell_type": "code",
   "execution_count": 20,
   "id": "44e2661e",
   "metadata": {
    "jupyter": {
     "source_hidden": true
    },
    "tags": []
   },
   "outputs": [],
   "source": [
    "### Turns Radon outputs into a dataframe, and concatenates with the overall data set\n",
    "import pandas as pd\n",
    "\n",
    "Output_Data = pd.DataFrame({'Radon Counts':radon_count_apr})\n",
    "Output2 = pd.DataFrame({'Total Counts':total_count_apr})\n",
    "DS_Apr = pd.concat([DS_Apr,Output_Data,Output2],axis=1)"
   ]
  },
  {
   "cell_type": "code",
   "execution_count": 21,
   "id": "7d179447",
   "metadata": {
    "jupyter": {
     "source_hidden": true
    },
    "tags": []
   },
   "outputs": [],
   "source": [
    "### Gathering appropriate average temperatures and concatenates with overall dataframe\n",
    "\n",
    "import pandas as pd\n",
    "import numpy as np\n",
    "\n",
    "T_apr = Tdf[15318:23327].reset_index(drop=True)\n",
    "\n",
    "T_zeros = np.zeros(720)\n",
    "T_temp = pd.DataFrame({'Temperature':T_zeros})\n",
    "T_temp2 = pd.DataFrame({'Weather Station T':T_zeros})\n",
    "\n",
    "T_start = 1522566000\n",
    "T_end = T_start\n",
    "\n",
    "for j in range(0,720):\n",
    "    T_start = T_end\n",
    "    T_end = T_start + 3600\n",
    "    \n",
    "    T_bool = T_apr['deviceTime_unix'].between(T_start,T_end)\n",
    "    if T_bool.loc[T_bool==True].empty:\n",
    "        T_temp.iloc[j,0] = 0\n",
    "        continue\n",
    "    T_hourly = T_apr[T_bool].drop(columns=['deviceTime_local','deviceTime_unix'])\n",
    "    T_temp.iloc[j,0] = T_hourly.mean()\n",
    "    \n",
    "#Resetting time to grab weather station temperatures as well\n",
    "T_start = 1522566000\n",
    "T_end = T_start\n",
    "\n",
    "for i in range(0,720):\n",
    "    T_start = T_end\n",
    "    T_end = T_start + 3600\n",
    "    \n",
    "    T_w_bool = Tdf_weather['Unix Time'].between(T_start,T_end)\n",
    "    if T_w_bool.loc[T_w_bool==True].empty:\n",
    "        T_temp2.iloc[j,0] = 0\n",
    "        continue\n",
    "    T_hourly_w = Tdf_weather[T_w_bool].drop(columns=['Date','Time','Unix Time'])\n",
    "    T_temp2.iloc[i,0] = T_hourly_w.mean()\n",
    "\n",
    "DS_Apr = pd.concat([DS_Apr,T_temp,T_temp2],axis=1)"
   ]
  },
  {
   "cell_type": "code",
   "execution_count": 22,
   "id": "99309589",
   "metadata": {
    "jupyter": {
     "source_hidden": true
    },
    "tags": []
   },
   "outputs": [],
   "source": [
    "### Dropping out any rows that have a zero value for temperature or radon counts\n",
    "\n",
    "DS_final_Apr = DS_Apr\n",
    "Radon_nonzero_Apr = (DS_final_Apr['Radon Counts'] > 0) # Boolean output of the rows that have positive values for radon count\n",
    "DS_final_Apr = DS_final_Apr[Radon_nonzero_Apr] # Removes rows with a zero value for radon count\n",
    "#Radon_negative = (Data_set_final['Radon Counts'] > 0)\n",
    "#Data_set_final = Data_set_final[Radon_negative]\n",
    "Temperature_nonzero = (DS_final_Apr['Temperature'] != 0) # same idea as Radon_nonzero, but now for temperature\n",
    "DS_final_Apr = DS_final_Apr[Temperature_nonzero] # Removes any additional rows that have a 0 value for temperature"
   ]
  },
  {
   "cell_type": "code",
   "execution_count": 23,
   "id": "ad861cc0",
   "metadata": {
    "jupyter": {
     "source_hidden": true
    },
    "tags": []
   },
   "outputs": [
    {
     "data": {
      "text/plain": [
       "Date                  0\n",
       "Hour                 28\n",
       "Radon Counts          0\n",
       "Total Counts          0\n",
       "Temperature           0\n",
       "Weather Station T     2\n",
       "dtype: int64"
      ]
     },
     "execution_count": 23,
     "metadata": {},
     "output_type": "execute_result"
    }
   ],
   "source": [
    "### Checking that the above cell worked properly, not necessary to run every time\n",
    "\n",
    "(DS_final_Apr == 0).sum()"
   ]
  },
  {
   "cell_type": "markdown",
   "id": "062f9fcd",
   "metadata": {},
   "source": [
    "# May 2018"
   ]
  },
  {
   "cell_type": "code",
   "execution_count": 24,
   "id": "a452b00c",
   "metadata": {
    "jupyter": {
     "source_hidden": true
    },
    "tags": []
   },
   "outputs": [],
   "source": [
    "### May 2018\n",
    "\n",
    "\n",
    "### Fits the radiation counts using a Gaussian + polynomial fit\n",
    "## Current Settings: 2nd order polynomial (quadratic), peak range of 600-650 keV, std dev max of 20 keV\n",
    "## Time range of this cell: 4/1-4/30/18 (midnight to midnight, exactly 1 month)\n",
    "## Expected runtime: ~2 min\n",
    "\n",
    "# If changing the timescale, the following variables must be redefined appropriately:\n",
    "# df_month (which slice of df_full is taken), radon_count (should be total number of hours in chosen set), start (convert to unix)\n",
    "# All other parts of the code should execute properly regardless of the size of the set, though runtime may increase greatly\n",
    "\n",
    "import pandas as pd\n",
    "from scipy.signal import find_peaks as fp\n",
    "import numpy as np\n",
    "from scipy.optimize import curve_fit\n",
    "\n",
    "### Creating a dataframe of exactly a month of collected data\n",
    "col = ['deviceTime_utc','cpmError','1023','error_flag']\n",
    "df_may = df_full[22988:31314].reset_index().drop(columns=col) # takes about a month, from 12:01 AM 2/2/18 to 11:59 PM 2/28/18 (local time)\n",
    "radon_count_may = np.zeros(744) # creating an empty dataframe to add hourly radon counts to\n",
    "total_count_may = np.zeros(744)\n",
    "start = 1525158000 # Setting a baseline time for the loop to start from (in this case it is 12:00:00 Local Time 11/15/18)\n",
    "end = start\n",
    "\n",
    "for i in range(0,744):\n",
    "    #start = df_month.at[i,'deviceTime_unix']-10 ####### change out the zero for the current for loop index\n",
    "    #end = start + 3600\n",
    "    \n",
    "    ### Sets an hour range for the data, and selecting those rows\n",
    "    start = end #setting start time based on current index\n",
    "    end = start + 3600 # end time falls 1 hour after the start time\n",
    "    hour_set = df_may['deviceTime_unix'].between(start,end) # Boolean output of rows which fall between start and end times\n",
    "    hour = df_may[hour_set].drop(columns=['index','deviceTime_local','deviceTime_unix'])#.sum(axis=0)\n",
    "    \n",
    "    ### Grabs the total counts and puts it into a separate dataframe\n",
    "    total_count_may[i] = hour['cpm'].mean()\n",
    "\n",
    "    ### Finding the mean energy per channel from the input, and setting the appropriate energies as column names\n",
    "    channel_energy = hour['keV_per_ch'].mean(axis=0)\n",
    "    hour = hour.drop(columns=['cpm','keV_per_ch'])\n",
    "    col_energy = np.linspace(0,1022*channel_energy,1023)\n",
    "    hour.columns = col_energy\n",
    "\n",
    "    ### Taking the mean # of counts for each column (now an energy band)\n",
    "    hour = hour.mean(axis=0)\n",
    "    hour1 = pd.DataFrame({'Lower Energy Bounds':hour.index})\n",
    "    hour2 = pd.DataFrame({'Mean counts':hour}).reset_index(drop=True)\n",
    "    hour = pd.concat([hour1,hour2],axis=1) # creates a dataframe for the hour, including the energy threshold for each channel and its corresponding counts\n",
    "    hour = hour.dropna() # drops any empty rows from the dataframe\n",
    "    if hour.empty==True: # If the dataframe is now empty, there is no spectrum to observe, go to the next hour\n",
    "        continue\n",
    "\n",
    "    ### Need to find the peak using the appropriate energy value, not an index\n",
    "    peak_bounds = hour.iloc[(hour['Lower Energy Bounds']-609.3).abs().argsort()[:2]] # finds the two closest rows to 609.3 keV in energy\n",
    "    peak_id = peak_bounds.index.sort_values()[0] # outputs the index (channel) that the peak (609.3 keV) is contained in\n",
    "\n",
    "    ### Sets the window to find the peak based on the peak energy\n",
    "    window_start = peak_id-80\n",
    "    window_end = peak_id+80\n",
    "    window = np.linspace(window_start,window_end,161)\n",
    "    window_energies = hour.iloc[window_start:window_end+1,0]\n",
    "    window_counts = hour.iloc[window_start:window_end+1,1]\n",
    "\n",
    "    ### Defining a combined function of a gaussian and a polynomial, and fitting it to the data\n",
    "    def gaussian(x,amp,cen,sig):\n",
    "        return amp*np.exp(-(x-cen)**2/(2*sig**2))\n",
    "    def gaussian_plus_polynomial(x,amp,cen,sig,a,b,c): \n",
    "        return amp*np.exp(-(x-cen)**2/(2*sig**2)) + a*x**2 + b*x + c\n",
    "    popt,_ = curve_fit(gaussian_plus_polynomial,window_energies,window_counts,bounds =([0,600,0,-1000,-1000,-1000] ,[1000,650,20,1000,0,1000]))\n",
    "    popt_gaus = popt[0:3]\n",
    "    popt\n",
    "\n",
    "    ### Finding the average radon cpm for the hour, adding to overall array\n",
    "    predicted = gaussian_plus_polynomial(window_energies,*popt)\n",
    "    radon_count_may[i] = gaussian(window_energies,*popt_gaus).sum()\n",
    "    #if i==350:\n",
    "        #break"
   ]
  },
  {
   "cell_type": "code",
   "execution_count": 25,
   "id": "7d7f673a",
   "metadata": {
    "jupyter": {
     "source_hidden": true
    },
    "tags": []
   },
   "outputs": [],
   "source": [
    "### Creates an dataframe of date and time to align counts and temperatures with (purely for readability, is not used in plotting at all)\n",
    "\n",
    "import time\n",
    "import numpy as np\n",
    "import pandas as pd\n",
    "\n",
    "current_time = 1525154400 # 11:00 PM on 4/30/18\n",
    "dates = []\n",
    "hour = []\n",
    "    \n",
    "for i in range(0,744):\n",
    "    current_time = current_time + 3600\n",
    "    time1 = time.localtime(current_time) \n",
    "    \n",
    "    year = str(time1[0])\n",
    "    month = str(time1[1])\n",
    "    day = str(time1[2])\n",
    "    \n",
    "    date_string = [month,day,year]\n",
    "    #test_string\n",
    "    dates.append('-'.join(date_string))\n",
    "    hour.append(time1[3])\n",
    "    \n",
    "temp_date = pd.DataFrame({'Date':dates})\n",
    "temp_hour = pd.DataFrame({'Hour':hour})\n",
    "DS_May = pd.concat([temp_date,temp_hour],axis=1)"
   ]
  },
  {
   "cell_type": "code",
   "execution_count": 26,
   "id": "2de80203",
   "metadata": {
    "jupyter": {
     "source_hidden": true
    },
    "tags": []
   },
   "outputs": [],
   "source": [
    "### Turns Radon outputs into a dataframe, and concatenates with the overall data set\n",
    "import pandas as pd\n",
    "\n",
    "Output_Data = pd.DataFrame({'Radon Counts':radon_count_may})\n",
    "Output2 = pd.DataFrame({'Total Counts':total_count_may})\n",
    "DS_May = pd.concat([DS_May,Output_Data,Output2],axis=1)"
   ]
  },
  {
   "cell_type": "code",
   "execution_count": 27,
   "id": "516d797b",
   "metadata": {
    "jupyter": {
     "source_hidden": true
    },
    "tags": []
   },
   "outputs": [],
   "source": [
    "### Gathering appropriate average temperatures and concatenates with overall dataframe\n",
    "\n",
    "import pandas as pd\n",
    "import numpy as np\n",
    "\n",
    "T_may = Tdf[23327:29480].reset_index(drop=True)\n",
    "\n",
    "T_zeros = np.zeros(744)\n",
    "T_temp = pd.DataFrame({'Temperature':T_zeros})\n",
    "T_temp2 = pd.DataFrame({'Weather Station T':T_zeros})\n",
    "\n",
    "T_start = 1525158000\n",
    "T_end = T_start\n",
    "\n",
    "for j in range(0,744):\n",
    "    T_start = T_end\n",
    "    T_end = T_start + 3600\n",
    "    \n",
    "    T_bool = T_may['deviceTime_unix'].between(T_start,T_end)\n",
    "    if T_bool.loc[T_bool==True].empty:\n",
    "        T_temp.iloc[j,0] = 0\n",
    "        continue\n",
    "    T_hourly = T_may[T_bool].drop(columns=['deviceTime_local','deviceTime_unix'])\n",
    "    T_temp.iloc[j,0] = T_hourly.mean()\n",
    "    \n",
    "#Resetting time to grab weather station temperatures as well\n",
    "T_start = 1525158000\n",
    "T_end = T_start\n",
    "\n",
    "for i in range(0,744):\n",
    "    T_start = T_end\n",
    "    T_end = T_start + 3600\n",
    "    \n",
    "    T_w_bool = Tdf_weather['Unix Time'].between(T_start,T_end)\n",
    "    if T_w_bool.loc[T_w_bool==True].empty:\n",
    "        T_temp2.iloc[j,0] = 0\n",
    "        continue\n",
    "    T_hourly_w = Tdf_weather[T_w_bool].drop(columns=['Date','Time','Unix Time'])\n",
    "    T_temp2.iloc[i,0] = T_hourly_w.mean()\n",
    "\n",
    "DS_May = pd.concat([DS_May,T_temp,T_temp2],axis=1)"
   ]
  },
  {
   "cell_type": "code",
   "execution_count": 28,
   "id": "b625ef60",
   "metadata": {
    "jupyter": {
     "source_hidden": true
    },
    "tags": []
   },
   "outputs": [],
   "source": [
    "### Dropping out any rows that have a zero value for temperature or radon counts\n",
    "\n",
    "DS_final_May = DS_May\n",
    "Radon_nonzero_May = (DS_final_May['Radon Counts'] > 0) # Boolean output of the rows that have positive values for radon count\n",
    "DS_final_May = DS_final_May[Radon_nonzero_May] # Removes rows with a zero value for radon count\n",
    "#Radon_negative = (Data_set_final['Radon Counts'] > 0)\n",
    "#Data_set_final = Data_set_final[Radon_negative]\n",
    "Temperature_nonzero = (DS_final_May['Temperature'] != 0) # same idea as Radon_nonzero, but now for temperature\n",
    "DS_final_May = DS_final_May[Temperature_nonzero] # Removes any additional rows that have a 0 value for temperature"
   ]
  },
  {
   "cell_type": "code",
   "execution_count": 29,
   "id": "38dfde4d",
   "metadata": {
    "jupyter": {
     "source_hidden": true
    },
    "tags": []
   },
   "outputs": [
    {
     "data": {
      "text/plain": [
       "Date                  0\n",
       "Hour                 21\n",
       "Radon Counts          0\n",
       "Total Counts          0\n",
       "Temperature           0\n",
       "Weather Station T     5\n",
       "dtype: int64"
      ]
     },
     "execution_count": 29,
     "metadata": {},
     "output_type": "execute_result"
    }
   ],
   "source": [
    "### Checking that the above cell worked properly, not necessary to run every time\n",
    "\n",
    "(DS_final_May == 0).sum()"
   ]
  },
  {
   "cell_type": "markdown",
   "id": "1e8f6a0a",
   "metadata": {},
   "source": [
    "# June 2018\n",
    "## Candidate for exclusion from overall data"
   ]
  },
  {
   "cell_type": "code",
   "execution_count": 30,
   "id": "8b7260ab",
   "metadata": {
    "jupyter": {
     "source_hidden": true
    },
    "tags": []
   },
   "outputs": [],
   "source": [
    "### June 2018\n",
    "\n",
    "\n",
    "### Fits the radiation counts using a Gaussian + polynomial fit\n",
    "## Current Settings: 2nd order polynomial (quadratic), peak range of 600-650 keV, std dev max of 20 keV\n",
    "## Time range of this cell: 6/1-6/30/18 (midnight to midnight, exactly 1 month)\n",
    "## Expected runtime: ~2 min\n",
    "\n",
    "# If changing the timescale, the following variables must be redefined appropriately:\n",
    "# df_month (which slice of df_full is taken), radon_count (should be total number of hours in chosen set), start (convert to unix)\n",
    "# All other parts of the code should execute properly regardless of the size of the set, though runtime may increase greatly\n",
    "\n",
    "import pandas as pd\n",
    "from scipy.signal import find_peaks as fp\n",
    "import numpy as np\n",
    "from scipy.optimize import curve_fit\n",
    "\n",
    "### Creating a dataframe of exactly a month of collected data\n",
    "col = ['deviceTime_utc','cpmError','1023','error_flag']\n",
    "df_june = df_full[31314:39403].reset_index().drop(columns=col) # takes about a month, from 12:01 AM 2/2/18 to 11:59 PM 2/28/18 (local time)\n",
    "radon_count_june = np.zeros(720) # creating an empty dataframe to add hourly radon counts to\n",
    "total_count_june = np.zeros(720)\n",
    "start = 1527836400 # Setting a baseline time for the loop to start from (in this case it is 12:00:00 Local Time 11/15/18)\n",
    "end = start\n",
    "\n",
    "for i in range(0,720):\n",
    "    #start = df_month.at[i,'deviceTime_unix']-10 ####### change out the zero for the current for loop index\n",
    "    #end = start + 3600\n",
    "    \n",
    "    ### Sets an hour range for the data, and selecting those rows\n",
    "    start = end #setting start time based on current index\n",
    "    end = start + 3600 # end time falls 1 hour after the start time\n",
    "    hour_set = df_june['deviceTime_unix'].between(start,end) # Boolean output of rows which fall between start and end times\n",
    "    hour = df_june[hour_set].drop(columns=['index','deviceTime_local','deviceTime_unix'])#.sum(axis=0)\n",
    "    \n",
    "    ### Grabs the total counts and puts it into a separate dataframe\n",
    "    total_count_june[i] = hour['cpm'].mean()\n",
    "\n",
    "    ### Finding the mean energy per channel from the input, and setting the appropriate energies as column names\n",
    "    channel_energy = hour['keV_per_ch'].mean(axis=0)\n",
    "    hour = hour.drop(columns=['cpm','keV_per_ch'])\n",
    "    col_energy = np.linspace(0,1022*channel_energy,1023)\n",
    "    hour.columns = col_energy\n",
    "\n",
    "    ### Taking the mean # of counts for each column (now an energy band)\n",
    "    hour = hour.mean(axis=0)\n",
    "    hour1 = pd.DataFrame({'Lower Energy Bounds':hour.index})\n",
    "    hour2 = pd.DataFrame({'Mean counts':hour}).reset_index(drop=True)\n",
    "    hour = pd.concat([hour1,hour2],axis=1) # creates a dataframe for the hour, including the energy threshold for each channel and its corresponding counts\n",
    "    hour = hour.dropna() # drops any empty rows from the dataframe\n",
    "    if hour.empty==True: # If the dataframe is now empty, there is no spectrum to observe, go to the next hour\n",
    "        continue\n",
    "\n",
    "    ### Need to find the peak using the appropriate energy value, not an index\n",
    "    peak_bounds = hour.iloc[(hour['Lower Energy Bounds']-609.3).abs().argsort()[:2]] # finds the two closest rows to 609.3 keV in energy\n",
    "    peak_id = peak_bounds.index.sort_values()[0] # outputs the index (channel) that the peak (609.3 keV) is contained in\n",
    "\n",
    "    ### Sets the window to find the peak based on the peak energy\n",
    "    window_start = peak_id-80\n",
    "    window_end = peak_id+80\n",
    "    window = np.linspace(window_start,window_end,161)\n",
    "    window_energies = hour.iloc[window_start:window_end+1,0]\n",
    "    window_counts = hour.iloc[window_start:window_end+1,1]\n",
    "\n",
    "    ### Defining a combined function of a gaussian and a polynomial, and fitting it to the data\n",
    "    def gaussian(x,amp,cen,sig):\n",
    "        return amp*np.exp(-(x-cen)**2/(2*sig**2))\n",
    "    def gaussian_plus_polynomial(x,amp,cen,sig,a,b,c): \n",
    "        return amp*np.exp(-(x-cen)**2/(2*sig**2)) + a*x**2 + b*x + c\n",
    "    popt,_ = curve_fit(gaussian_plus_polynomial,window_energies,window_counts,bounds =([0,600,0,-1000,-1000,-1000] ,[1000,650,20,1000,0,1000]))\n",
    "    popt_gaus = popt[0:3]\n",
    "    popt\n",
    "\n",
    "    ### Finding the average radon cpm for the hour, adding to overall array\n",
    "    predicted = gaussian_plus_polynomial(window_energies,*popt)\n",
    "    radon_count_june[i] = gaussian(window_energies,*popt_gaus).sum()\n",
    "    #if i==350:\n",
    "        #break"
   ]
  },
  {
   "cell_type": "code",
   "execution_count": 31,
   "id": "5ec7bdcc",
   "metadata": {
    "jupyter": {
     "source_hidden": true
    },
    "tags": []
   },
   "outputs": [],
   "source": [
    "### Creates an dataframe of date and time to align counts and temperatures with (purely for readability, is not used in plotting at all)\n",
    "\n",
    "import time\n",
    "import numpy as np\n",
    "import pandas as pd\n",
    "\n",
    "current_time = 1527832800 # 11:00 PM on 5/31/18\n",
    "dates = []\n",
    "hour = []\n",
    "    \n",
    "for i in range(0,720):\n",
    "    current_time = current_time + 3600\n",
    "    time1 = time.localtime(current_time) \n",
    "    \n",
    "    year = str(time1[0])\n",
    "    month = str(time1[1])\n",
    "    day = str(time1[2])\n",
    "    \n",
    "    date_string = [month,day,year]\n",
    "    #test_string\n",
    "    dates.append('-'.join(date_string))\n",
    "    hour.append(time1[3])\n",
    "    \n",
    "temp_date = pd.DataFrame({'Date':dates})\n",
    "temp_hour = pd.DataFrame({'Hour':hour})\n",
    "DS_June = pd.concat([temp_date,temp_hour],axis=1)"
   ]
  },
  {
   "cell_type": "code",
   "execution_count": 32,
   "id": "5d086579",
   "metadata": {
    "jupyter": {
     "source_hidden": true
    },
    "tags": []
   },
   "outputs": [],
   "source": [
    "### Turns Radon outputs into a dataframe, and concatenates with the overall data set\n",
    "import pandas as pd\n",
    "\n",
    "Output_Data = pd.DataFrame({'Radon Counts':radon_count_june})\n",
    "Output2 = pd.DataFrame({'Total Counts':total_count_june})\n",
    "DS_June = pd.concat([DS_June,Output_Data,Output2],axis=1)"
   ]
  },
  {
   "cell_type": "code",
   "execution_count": 33,
   "id": "a58a38b8",
   "metadata": {
    "jupyter": {
     "source_hidden": true
    },
    "tags": []
   },
   "outputs": [],
   "source": [
    "### Gathering appropriate average temperatures and concatenates with overall dataframe\n",
    "\n",
    "import pandas as pd\n",
    "import numpy as np\n",
    "\n",
    "T_june = Tdf[29480:35369].reset_index(drop=True)\n",
    "\n",
    "T_zeros = np.zeros(720)\n",
    "T_temp = pd.DataFrame({'Temperature':T_zeros})\n",
    "T_temp2 = pd.DataFrame({'Weather Station T':T_zeros})\n",
    "\n",
    "\n",
    "T_start = 1527836400\n",
    "T_end = T_start\n",
    "\n",
    "for j in range(0,720):\n",
    "    T_start = T_end\n",
    "    T_end = T_start + 3600\n",
    "    \n",
    "    T_bool = T_june['deviceTime_unix'].between(T_start,T_end)\n",
    "    if T_bool.loc[T_bool==True].empty:\n",
    "        T_temp.iloc[j,0] = 0\n",
    "        continue\n",
    "    T_hourly = T_june[T_bool].drop(columns=['deviceTime_local','deviceTime_unix'])\n",
    "    T_temp.iloc[j,0] = T_hourly.mean()\n",
    "\n",
    "#Resetting time to grab weather station temperatures as well\n",
    "T_start = 1527836400\n",
    "T_end = T_start\n",
    "\n",
    "for i in range(0,720):\n",
    "    T_start = T_end\n",
    "    T_end = T_start + 3600\n",
    "    \n",
    "    T_w_bool = Tdf_weather['Unix Time'].between(T_start,T_end)\n",
    "    if T_w_bool.loc[T_w_bool==True].empty:\n",
    "        T_temp2.iloc[j,0] = 0\n",
    "        continue\n",
    "    T_hourly_w = Tdf_weather[T_w_bool].drop(columns=['Date','Time','Unix Time'])\n",
    "    T_temp2.iloc[i,0] = T_hourly_w.mean()\n",
    "    \n",
    "DS_June = pd.concat([DS_June,T_temp,T_temp2],axis=1)"
   ]
  },
  {
   "cell_type": "code",
   "execution_count": 34,
   "id": "72dc9619",
   "metadata": {
    "jupyter": {
     "source_hidden": true
    },
    "tags": []
   },
   "outputs": [],
   "source": [
    "### Dropping out any rows that have a zero value for temperature or radon counts\n",
    "\n",
    "DS_final_June = DS_June\n",
    "Radon_nonzero_June = (DS_final_June['Radon Counts'] > 0) # Boolean output of the rows that have positive values for radon count\n",
    "DS_final_June = DS_final_June[Radon_nonzero_June] # Removes rows with a zero value for radon count\n",
    "#Radon_negative = (Data_set_final['Radon Counts'] > 0)\n",
    "#Data_set_final = Data_set_final[Radon_negative]\n",
    "Temperature_nonzero = (DS_final_June['Temperature'] != 0) # same idea as Radon_nonzero, but now for temperature\n",
    "DS_final_June = DS_final_June[Temperature_nonzero] # Removes any additional rows that have a 0 value for temperature"
   ]
  },
  {
   "cell_type": "code",
   "execution_count": 35,
   "id": "85939515",
   "metadata": {
    "jupyter": {
     "source_hidden": true
    },
    "tags": []
   },
   "outputs": [
    {
     "data": {
      "text/plain": [
       "Date                  0\n",
       "Hour                 21\n",
       "Radon Counts          0\n",
       "Total Counts          0\n",
       "Temperature           0\n",
       "Weather Station T     1\n",
       "dtype: int64"
      ]
     },
     "execution_count": 35,
     "metadata": {},
     "output_type": "execute_result"
    }
   ],
   "source": [
    "### Checking that the above cell worked properly, not necessary to run every time\n",
    "\n",
    "(DS_final_June == 0).sum()"
   ]
  },
  {
   "cell_type": "markdown",
   "id": "fc745f15",
   "metadata": {},
   "source": [
    "# July 2018\n",
    "## Candidate for exclusion from overall data"
   ]
  },
  {
   "cell_type": "code",
   "execution_count": 36,
   "id": "946e54a2",
   "metadata": {
    "jupyter": {
     "source_hidden": true
    },
    "tags": []
   },
   "outputs": [],
   "source": [
    "### July 2018\n",
    "\n",
    "\n",
    "### Fits the radiation counts using a Gaussian + polynomial fit\n",
    "## Current Settings: 2nd order polynomial (quadratic), peak range of 600-650 keV, std dev max of 20 keV\n",
    "## Time range of this cell: 6/1-6/30/18 (midnight to midnight, exactly 1 month)\n",
    "## Expected runtime: ~2 min\n",
    "\n",
    "# If changing the timescale, the following variables must be redefined appropriately:\n",
    "# df_month (which slice of df_full is taken), radon_count (should be total number of hours in chosen set), start (convert to unix)\n",
    "# All other parts of the code should execute properly regardless of the size of the set, though runtime may increase greatly\n",
    "\n",
    "import pandas as pd\n",
    "from scipy.signal import find_peaks as fp\n",
    "import numpy as np\n",
    "from scipy.optimize import curve_fit\n",
    "\n",
    "### Creating a dataframe of exactly a month of collected data\n",
    "col = ['deviceTime_utc','cpmError','1023','error_flag']\n",
    "df_july = df_full[39403:48330].reset_index().drop(columns=col) # takes about a month, from 12:01 AM 2/2/18 to 11:59 PM 2/28/18 (local time)\n",
    "radon_count_july = np.zeros(744) # creating an empty dataframe to add hourly radon counts to\n",
    "total_count_july = np.zeros(744)\n",
    "start = 1530428400 # Setting a baseline time for the loop to start from (in this case it is 12:00:00 Local Time 11/15/18)\n",
    "end = start\n",
    "\n",
    "for i in range(0,744):\n",
    "    #start = df_month.at[i,'deviceTime_unix']-10 ####### change out the zero for the current for loop index\n",
    "    #end = start + 3600\n",
    "    \n",
    "    ### Sets an hour range for the data, and selecting those rows\n",
    "    start = end #setting start time based on current index\n",
    "    end = start + 3600 # end time falls 1 hour after the start time\n",
    "    hour_set = df_july['deviceTime_unix'].between(start,end) # Boolean output of rows which fall between start and end times\n",
    "    hour = df_july[hour_set].drop(columns=['index','deviceTime_local','deviceTime_unix'])#.sum(axis=0)\n",
    "    \n",
    "    ### Grabs the total counts and puts it into a separate dataframe\n",
    "    total_count_july[i] = hour['cpm'].mean()\n",
    "\n",
    "    ### Finding the mean energy per channel from the input, and setting the appropriate energies as column names\n",
    "    channel_energy = hour['keV_per_ch'].mean(axis=0)\n",
    "    hour = hour.drop(columns=['cpm','keV_per_ch'])\n",
    "    col_energy = np.linspace(0,1022*channel_energy,1023)\n",
    "    hour.columns = col_energy\n",
    "\n",
    "    ### Taking the mean # of counts for each column (now an energy band)\n",
    "    hour = hour.mean(axis=0)\n",
    "    hour1 = pd.DataFrame({'Lower Energy Bounds':hour.index})\n",
    "    hour2 = pd.DataFrame({'Mean counts':hour}).reset_index(drop=True)\n",
    "    hour = pd.concat([hour1,hour2],axis=1) # creates a dataframe for the hour, including the energy threshold for each channel and its corresponding counts\n",
    "    hour = hour.dropna() # drops any empty rows from the dataframe\n",
    "    if hour.empty==True: # If the dataframe is now empty, there is no spectrum to observe, go to the next hour\n",
    "        continue\n",
    "\n",
    "    ### Need to find the peak using the appropriate energy value, not an index\n",
    "    peak_bounds = hour.iloc[(hour['Lower Energy Bounds']-609.3).abs().argsort()[:2]] # finds the two closest rows to 609.3 keV in energy\n",
    "    peak_id = peak_bounds.index.sort_values()[0] # outputs the index (channel) that the peak (609.3 keV) is contained in\n",
    "\n",
    "    ### Sets the window to find the peak based on the peak energy\n",
    "    window_start = peak_id-80\n",
    "    window_end = peak_id+80\n",
    "    window = np.linspace(window_start,window_end,161)\n",
    "    window_energies = hour.iloc[window_start:window_end+1,0]\n",
    "    window_counts = hour.iloc[window_start:window_end+1,1]\n",
    "\n",
    "    ### Defining a combined function of a gaussian and a polynomial, and fitting it to the data\n",
    "    def gaussian(x,amp,cen,sig):\n",
    "        return amp*np.exp(-(x-cen)**2/(2*sig**2))\n",
    "    def gaussian_plus_polynomial(x,amp,cen,sig,a,b,c): \n",
    "        return amp*np.exp(-(x-cen)**2/(2*sig**2)) + a*x**2 + b*x + c\n",
    "    popt,_ = curve_fit(gaussian_plus_polynomial,window_energies,window_counts,bounds =([0,600,0,-1000,-1000,-1000] ,[1000,650,20,1000,0,1000]))\n",
    "    popt_gaus = popt[0:3]\n",
    "    popt\n",
    "\n",
    "    ### Finding the average radon cpm for the hour, adding to overall array\n",
    "    predicted = gaussian_plus_polynomial(window_energies,*popt)\n",
    "    radon_count_july[i] = gaussian(window_energies,*popt_gaus).sum()\n",
    "    #if i==350:\n",
    "        #break"
   ]
  },
  {
   "cell_type": "code",
   "execution_count": 37,
   "id": "bb41db40",
   "metadata": {
    "jupyter": {
     "source_hidden": true
    },
    "tags": []
   },
   "outputs": [],
   "source": [
    "### Creates an dataframe of date and time to align counts and temperatures with (purely for readability, is not used in plotting at all)\n",
    "\n",
    "import time\n",
    "import numpy as np\n",
    "import pandas as pd\n",
    "\n",
    "current_time = 1530424800 # 11:00 PM on 6/30/18\n",
    "dates = []\n",
    "hour = []\n",
    "    \n",
    "for i in range(0,744):\n",
    "    current_time = current_time + 3600\n",
    "    time1 = time.localtime(current_time) \n",
    "    \n",
    "    year = str(time1[0])\n",
    "    month = str(time1[1])\n",
    "    day = str(time1[2])\n",
    "    \n",
    "    date_string = [month,day,year]\n",
    "    #test_string\n",
    "    dates.append('-'.join(date_string))\n",
    "    hour.append(time1[3])\n",
    "    \n",
    "temp_date = pd.DataFrame({'Date':dates})\n",
    "temp_hour = pd.DataFrame({'Hour':hour})\n",
    "DS_July = pd.concat([temp_date,temp_hour],axis=1)"
   ]
  },
  {
   "cell_type": "code",
   "execution_count": 38,
   "id": "0fd8ceeb",
   "metadata": {
    "jupyter": {
     "source_hidden": true
    },
    "tags": []
   },
   "outputs": [],
   "source": [
    "### Turns Radon outputs into a dataframe, and concatenates with the overall data set\n",
    "import pandas as pd\n",
    "\n",
    "Output_Data = pd.DataFrame({'Radon Counts':radon_count_july})\n",
    "Output2 = pd.DataFrame({'Total Counts':total_count_july})\n",
    "DS_July = pd.concat([DS_July,Output_Data,Output2],axis=1)"
   ]
  },
  {
   "cell_type": "code",
   "execution_count": 39,
   "id": "993a648c",
   "metadata": {
    "jupyter": {
     "source_hidden": true
    },
    "tags": []
   },
   "outputs": [],
   "source": [
    "### Gathering appropriate average temperatures and concatenates with overall dataframe\n",
    "\n",
    "import pandas as pd\n",
    "import numpy as np\n",
    "\n",
    "T_july = Tdf[35369:40423].reset_index(drop=True)\n",
    "\n",
    "T_zeros = np.zeros(744)\n",
    "T_temp = pd.DataFrame({'Temperature':T_zeros})\n",
    "T_temp2 = pd.DataFrame({'Weather Station T':T_zeros})\n",
    "\n",
    "T_start = 1530428400\n",
    "T_end = T_start\n",
    "\n",
    "for j in range(0,744):\n",
    "    T_start = T_end\n",
    "    T_end = T_start + 3600\n",
    "    \n",
    "    T_bool = T_july['deviceTime_unix'].between(T_start,T_end)\n",
    "    if T_bool.loc[T_bool==True].empty:\n",
    "        T_temp.iloc[j,0] = 0\n",
    "        continue\n",
    "    T_hourly = T_july[T_bool].drop(columns=['deviceTime_local','deviceTime_unix'])\n",
    "    T_temp.iloc[j,0] = T_hourly.mean()\n",
    "\n",
    "#Resetting time to grab weather station temperatures as well\n",
    "T_start = 1530428400\n",
    "T_end = T_start\n",
    "\n",
    "for i in range(0,744):\n",
    "    T_start = T_end\n",
    "    T_end = T_start + 3600\n",
    "    \n",
    "    T_w_bool = Tdf_weather['Unix Time'].between(T_start,T_end)\n",
    "    if T_w_bool.loc[T_w_bool==True].empty:\n",
    "        T_temp2.iloc[j,0] = 0\n",
    "        continue\n",
    "    T_hourly_w = Tdf_weather[T_w_bool].drop(columns=['Date','Time','Unix Time'])\n",
    "    T_temp2.iloc[i,0] = T_hourly_w.mean()\n",
    "    \n",
    "DS_July = pd.concat([DS_July,T_temp,T_temp2],axis=1)"
   ]
  },
  {
   "cell_type": "code",
   "execution_count": 40,
   "id": "73b10e4f",
   "metadata": {
    "jupyter": {
     "source_hidden": true
    },
    "tags": []
   },
   "outputs": [],
   "source": [
    "### Dropping out any rows that have a zero value for temperature or radon counts\n",
    "\n",
    "DS_final_July = DS_July\n",
    "Radon_nonzero_July = (DS_final_July['Radon Counts'] > 0) # Boolean output of the rows that have positive values for radon count\n",
    "DS_final_July = DS_final_July[Radon_nonzero_July] # Removes rows with a zero value for radon count\n",
    "#Radon_negative = (Data_set_final['Radon Counts'] > 0)\n",
    "#Data_set_final = Data_set_final[Radon_negative]\n",
    "Temperature_nonzero = (DS_final_July['Temperature'] != 0) # same idea as Radon_nonzero, but now for temperature\n",
    "DS_final_July = DS_final_July[Temperature_nonzero] # Removes any additional rows that have a 0 value for temperature"
   ]
  },
  {
   "cell_type": "code",
   "execution_count": 41,
   "id": "cbf11006",
   "metadata": {
    "jupyter": {
     "source_hidden": true
    },
    "tags": []
   },
   "outputs": [
    {
     "data": {
      "text/plain": [
       "Date                  0\n",
       "Hour                 18\n",
       "Radon Counts          0\n",
       "Total Counts          0\n",
       "Temperature           0\n",
       "Weather Station T     0\n",
       "dtype: int64"
      ]
     },
     "execution_count": 41,
     "metadata": {},
     "output_type": "execute_result"
    }
   ],
   "source": [
    "### Checking that the above cell worked properly, not necessary to run every time\n",
    "\n",
    "(DS_final_July == 0).sum()"
   ]
  },
  {
   "cell_type": "markdown",
   "id": "0a824ba0",
   "metadata": {},
   "source": [
    "# August 2018"
   ]
  },
  {
   "cell_type": "code",
   "execution_count": 42,
   "id": "d6605046",
   "metadata": {
    "jupyter": {
     "source_hidden": true
    },
    "tags": []
   },
   "outputs": [],
   "source": [
    "### August 2018\n",
    "\n",
    "### Fits the radiation counts using a Gaussian + polynomial fit\n",
    "## Current Settings: 2nd order polynomial (quadratic), peak range of 600-650 keV, std dev max of 20 keV\n",
    "## Time range of this cell: 8/1-8/31/18 (midnight to 11:59PM, exactly 1 month)\n",
    "## Expected runtime: ~2 min\n",
    "\n",
    "# If changing the timescale, the following variables must be redefined appropriately:\n",
    "# df_month (which slice of df_full is taken), radon_count (should be total number of hours in chosen set), start (convert to unix)\n",
    "# All other parts of the code should execute properly regardless of the size of the set, though runtime may increase greatly\n",
    "\n",
    "import pandas as pd\n",
    "from scipy.signal import find_peaks as fp\n",
    "import numpy as np\n",
    "from scipy.optimize import curve_fit\n",
    "\n",
    "### Creating a dataframe of exactly a month of collected data\n",
    "col = ['deviceTime_utc','cpmError','1023','error_flag']\n",
    "df_Aug = df_full[48330:57254].reset_index().drop(columns=col) # takes exactly a month, from 12:01 AM 8/1/18 to 11:59 PM 8/31/19 (local time)\n",
    "radon_count_Aug = np.zeros(744) # creating an empty dataframe to add hourly radon counts to\n",
    "total_count_Aug = np.zeros(744)\n",
    "start = 1533106800 # Setting a baseline time for the loop to start from (in this case it is 12:00:00 Local Time 8/1/18)\n",
    "end = start\n",
    "\n",
    "for i in range(0,24*31):\n",
    "    # Will eventually become a for loop, with an iteration for each hour\n",
    "    #start = df_month.at[i,'deviceTime_unix']-10 ####### change out the zero for the current for loop index\n",
    "    #end = start + 3600\n",
    "    \n",
    "    ### Sets an hour range for the data, and selecting those rows\n",
    "    start = end #setting start time based on current index\n",
    "    end = start + 3600 # end time falls 1 hour after the start time\n",
    "    hour_set = df_Aug['deviceTime_unix'].between(start,end) # Boolean output of rows which fall between start and end times\n",
    "    hour = df_Aug[hour_set].drop(columns=['index','deviceTime_local','deviceTime_unix'])#.sum(axis=0)\n",
    "    \n",
    "    ### Grabs the total counts and puts it into a separate dataframe\n",
    "    total_count_Aug[i] = hour['cpm'].mean()\n",
    "\n",
    "    ### Finding the mean energy per channel from the input, and setting the appropriate energies as column names\n",
    "    channel_energy = hour['keV_per_ch'].mean(axis=0)\n",
    "    hour = hour.drop(columns=['cpm','keV_per_ch'])\n",
    "    col_energy = np.linspace(0,1022*channel_energy,1023)\n",
    "    hour.columns = col_energy\n",
    "\n",
    "    ### Taking the mean # of counts for each column (now an energy band)\n",
    "    hour = hour.mean(axis=0)\n",
    "    hour1 = pd.DataFrame({'Lower Energy Bounds':hour.index})\n",
    "    hour2 = pd.DataFrame({'Mean counts':hour}).reset_index(drop=True)\n",
    "    hour = pd.concat([hour1,hour2],axis=1) # creates a dataframe for the hour, including the energy threshold for each channel and its corresponding counts\n",
    "    hour = hour.dropna() # drops any empty rows from the dataframe\n",
    "    if hour.empty==True: # If the dataframe is now empty, there is no spectrum to observe, go to the next hour\n",
    "        continue\n",
    "\n",
    "    ### Need to find the peak using the appropriate energy value, not an index\n",
    "    peak_bounds = hour.iloc[(hour['Lower Energy Bounds']-609.3).abs().argsort()[:2]] # finds the two closest rows to 609.3 keV in energy\n",
    "    peak_id = peak_bounds.index.sort_values()[0] # outputs the index (channel) that the peak (609.3 keV) is contained in\n",
    "\n",
    "    ### Sets the window to find the peak based on the peak energy\n",
    "    window_start = peak_id-80\n",
    "    window_end = peak_id+80\n",
    "    window = np.linspace(window_start,window_end,161)\n",
    "    window_energies = hour.iloc[window_start:window_end+1,0]\n",
    "    window_counts = hour.iloc[window_start:window_end+1,1]\n",
    "\n",
    "    ### Defining a combined function of a gaussian and a polynomial, and fitting it to the data\n",
    "    def gaussian(x,amp,cen,sig):\n",
    "        return amp*np.exp(-(x-cen)**2/(2*sig**2))\n",
    "    def gaussian_plus_polynomial(x,amp,cen,sig,a,b,c): \n",
    "        return amp*np.exp(-(x-cen)**2/(2*sig**2)) + a*x**2 + b*x + c\n",
    "    popt,_ = curve_fit(gaussian_plus_polynomial,window_energies,window_counts,bounds =([0,600,0,-1000,-1000,-1000] ,[1000,650,20,1000,0,1000]))\n",
    "    popt_gaus = popt[0:3]\n",
    "    popt\n",
    "\n",
    "    ### Finding the average radon cpm for the hour, adding to overall array\n",
    "    predicted = gaussian_plus_polynomial(window_energies,*popt)\n",
    "    radon_count_Aug[i] = gaussian(window_energies,*popt_gaus).sum()\n",
    "    #if i==491:\n",
    "        #break"
   ]
  },
  {
   "cell_type": "code",
   "execution_count": 43,
   "id": "22fe8937",
   "metadata": {
    "jupyter": {
     "source_hidden": true
    },
    "tags": []
   },
   "outputs": [],
   "source": [
    "### Creates an dataframe of date and time to align counts and temperatures with (purely for readability, is not used in plotting at all)\n",
    "\n",
    "import time\n",
    "import numpy as np\n",
    "import pandas as pd\n",
    "\n",
    "current_time = 1533103200 # 11:00 PM on 7/31/18\n",
    "dates = []\n",
    "hour = []\n",
    "    \n",
    "for i in range(0,24*31):\n",
    "    current_time = current_time + 3600\n",
    "    time1 = time.localtime(current_time) \n",
    "    \n",
    "    year = str(time1[0])\n",
    "    month = str(time1[1])\n",
    "    day = str(time1[2])\n",
    "    \n",
    "    date_string = [month,day,year]\n",
    "    #test_string\n",
    "    dates.append('-'.join(date_string))\n",
    "    hour.append(time1[3])\n",
    "    \n",
    "temp_date = pd.DataFrame({'Date':dates})\n",
    "temp_hour = pd.DataFrame({'Hour':hour})\n",
    "Data_set_Aug = pd.concat([temp_date,temp_hour],axis=1)"
   ]
  },
  {
   "cell_type": "code",
   "execution_count": 44,
   "id": "b2cc72fb",
   "metadata": {
    "jupyter": {
     "source_hidden": true
    },
    "tags": []
   },
   "outputs": [],
   "source": [
    "### Turns Radon outputs into a dataframe, and concatenates with the overall data set\n",
    "import pandas as pd\n",
    "\n",
    "Output_Data = pd.DataFrame({'Radon Counts':radon_count_Aug})\n",
    "Output2 = pd.DataFrame({'Total Counts':total_count_Aug})\n",
    "Data_set_Aug = pd.concat([Data_set_Aug,Output_Data,Output2],axis=1)"
   ]
  },
  {
   "cell_type": "code",
   "execution_count": 45,
   "id": "ca88f212",
   "metadata": {
    "jupyter": {
     "source_hidden": true
    },
    "tags": []
   },
   "outputs": [],
   "source": [
    "### Gathering appropriate average temperatures and concatenating with overall dataframe\n",
    "\n",
    "import pandas as pd\n",
    "import numpy as np\n",
    "\n",
    "T_Aug = Tdf[40423:48878].reset_index(drop=True)\n",
    "\n",
    "T_zeros = np.zeros(744)\n",
    "T_temp = pd.DataFrame({'Temperature':T_zeros})\n",
    "T_temp2 = pd.DataFrame({'Weather Station T':T_zeros})\n",
    "\n",
    "T_start = 1533106800\n",
    "T_end = T_start\n",
    "\n",
    "for j in range(0,744):\n",
    "    T_start = T_end\n",
    "    T_end = T_start + 3600\n",
    "    \n",
    "    T_bool = T_Aug['deviceTime_unix'].between(T_start,T_end)\n",
    "    if T_bool.loc[T_bool==True].empty:\n",
    "        T_temp.iloc[j,0] = 0\n",
    "        continue\n",
    "    T_hourly = T_Aug[T_bool].drop(columns=['deviceTime_local','deviceTime_unix'])\n",
    "    T_temp.iloc[j,0] = T_hourly.mean()\n",
    "    \n",
    "#Resetting time to grab weather station temperatures as well\n",
    "T_start = 1533106800\n",
    "T_end = T_start\n",
    "\n",
    "for i in range(0,744):\n",
    "    T_start = T_end\n",
    "    T_end = T_start + 3600\n",
    "    \n",
    "    T_w_bool = Tdf_weather['Unix Time'].between(T_start,T_end)\n",
    "    if T_w_bool.loc[T_w_bool==True].empty:\n",
    "        T_temp2.iloc[j,0] = 0\n",
    "        continue\n",
    "    T_hourly_w = Tdf_weather[T_w_bool].drop(columns=['Date','Time','Unix Time'])\n",
    "    T_temp2.iloc[i,0] = T_hourly_w.mean()\n",
    "    \n",
    "Data_set_Aug = pd.concat([Data_set_Aug,T_temp,T_temp2],axis=1)"
   ]
  },
  {
   "cell_type": "code",
   "execution_count": 46,
   "id": "6baf5ec4",
   "metadata": {
    "jupyter": {
     "source_hidden": true
    },
    "tags": []
   },
   "outputs": [],
   "source": [
    "### Dropping out any rows that have a zero value for temperature or radon counts\n",
    "\n",
    "DS_final_Aug = Data_set_Aug\n",
    "Radon_nonzero_Aug = (DS_final_Aug['Radon Counts'] > 0) # Boolean output of the rows that have positive values for radon count\n",
    "DS_final_Aug = DS_final_Aug[Radon_nonzero_Aug] # Removes rows with a zero value for radon count\n",
    "#Radon_negative = (Data_set_final['Radon Counts'] > 0)\n",
    "#Data_set_final = Data_set_final[Radon_negative]\n",
    "Temperature_nonzero = (DS_final_Aug['Temperature'] != 0) # same idea as Radon_nonzero, but now for temperature\n",
    "DS_final_Aug = DS_final_Aug[Temperature_nonzero] # Removes any additional rows that have a 0 value for temperature"
   ]
  },
  {
   "cell_type": "code",
   "execution_count": 47,
   "id": "7fe9763e",
   "metadata": {
    "jupyter": {
     "source_hidden": true
    },
    "tags": []
   },
   "outputs": [
    {
     "data": {
      "text/plain": [
       "Date                  0\n",
       "Hour                 30\n",
       "Radon Counts          0\n",
       "Total Counts          0\n",
       "Temperature           0\n",
       "Weather Station T     9\n",
       "dtype: int64"
      ]
     },
     "execution_count": 47,
     "metadata": {},
     "output_type": "execute_result"
    }
   ],
   "source": [
    "### Checking that the above cell worked properly, not necessary to run every time\n",
    "\n",
    "(DS_final_Aug == 0).sum()"
   ]
  },
  {
   "cell_type": "markdown",
   "id": "ff439c6c-c8b8-4e0e-a709-8a37f95c8c92",
   "metadata": {},
   "source": [
    "# September 2018"
   ]
  },
  {
   "cell_type": "code",
   "execution_count": 48,
   "id": "ec05e2e2-a254-4866-966f-1bf8314f254b",
   "metadata": {
    "jupyter": {
     "source_hidden": true
    },
    "tags": []
   },
   "outputs": [],
   "source": [
    "### September 2018\n",
    "\n",
    "### Fits the radiation counts using a Gaussian + polynomial fit\n",
    "## Current Settings: 2nd order polynomial (quadratic), peak range of 600-650 keV, std dev max of 20 keV\n",
    "## Time range of this cell: 8/1-8/31/18 (midnight to 11:59PM, exactly 1 month)\n",
    "## Expected runtime: ~2 min\n",
    "\n",
    "# If changing the timescale, the following variables must be redefined appropriately:\n",
    "# df_month (which slice of df_full is taken), radon_count (should be total number of hours in chosen set), start (convert to unix)\n",
    "# All other parts of the code should execute properly regardless of the size of the set, though runtime may increase greatly\n",
    "\n",
    "import pandas as pd\n",
    "from scipy.signal import find_peaks as fp\n",
    "import numpy as np\n",
    "from scipy.optimize import curve_fit\n",
    "\n",
    "### Creating a dataframe of exactly a month of collected data\n",
    "col = ['deviceTime_utc','cpmError','1023','error_flag']\n",
    "df_Sep = df_full[57254:65890].reset_index().drop(columns=col) # takes exactly a month, from 12:01 AM 8/1/18 to 11:59 PM 8/31/19 (local time)\n",
    "radon_count_Sep = np.zeros(720) # creating an empty dataframe to add hourly radon counts to\n",
    "total_count_Sep = np.zeros(720)\n",
    "start = 1535785200 # Setting a baseline time for the loop to start from (in this case it is 12:00:00 Local Time 8/1/18)\n",
    "end = start\n",
    "\n",
    "for i in range(0,720):\n",
    "    # Will eventually become a for loop, with an iteration for each hour\n",
    "    #start = df_month.at[i,'deviceTime_unix']-10 ####### change out the zero for the current for loop index\n",
    "    #end = start + 3600\n",
    "    \n",
    "    ### Sets an hour range for the data, and selecting those rows\n",
    "    start = end #setting start time based on current index\n",
    "    end = start + 3600 # end time falls 1 hour after the start time\n",
    "    hour_set = df_Sep['deviceTime_unix'].between(start,end) # Boolean output of rows which fall between start and end times\n",
    "    hour = df_Sep[hour_set].drop(columns=['index','deviceTime_local','deviceTime_unix'])#.sum(axis=0)\n",
    "    \n",
    "    ### Grabs the total counts and puts it into a separate dataframe\n",
    "    total_count_Sep[i] = hour['cpm'].mean()\n",
    "\n",
    "    ### Finding the mean energy per channel from the input, and setting the appropriate energies as column names\n",
    "    channel_energy = hour['keV_per_ch'].mean(axis=0)\n",
    "    hour = hour.drop(columns=['cpm','keV_per_ch'])\n",
    "    col_energy = np.linspace(0,1022*channel_energy,1023)\n",
    "    hour.columns = col_energy\n",
    "\n",
    "    ### Taking the mean # of counts for each column (now an energy band)\n",
    "    hour = hour.mean(axis=0)\n",
    "    hour1 = pd.DataFrame({'Lower Energy Bounds':hour.index})\n",
    "    hour2 = pd.DataFrame({'Mean counts':hour}).reset_index(drop=True)\n",
    "    hour = pd.concat([hour1,hour2],axis=1) # creates a dataframe for the hour, including the energy threshold for each channel and its corresponding counts\n",
    "    hour = hour.dropna() # drops any empty rows from the dataframe\n",
    "    if hour.empty==True: # If the dataframe is now empty, there is no spectrum to observe, go to the next hour\n",
    "        continue\n",
    "\n",
    "    ### Need to find the peak using the appropriate energy value, not an index\n",
    "    peak_bounds = hour.iloc[(hour['Lower Energy Bounds']-609.3).abs().argsort()[:2]] # finds the two closest rows to 609.3 keV in energy\n",
    "    peak_id = peak_bounds.index.sort_values()[0] # outputs the index (channel) that the peak (609.3 keV) is contained in\n",
    "\n",
    "    ### Sets the window to find the peak based on the peak energy\n",
    "    window_start = peak_id-80\n",
    "    window_end = peak_id+80\n",
    "    window = np.linspace(window_start,window_end,161)\n",
    "    window_energies = hour.iloc[window_start:window_end+1,0]\n",
    "    window_counts = hour.iloc[window_start:window_end+1,1]\n",
    "\n",
    "    ### Defining a combined function of a gaussian and a polynomial, and fitting it to the data\n",
    "    def gaussian(x,amp,cen,sig):\n",
    "        return amp*np.exp(-(x-cen)**2/(2*sig**2))\n",
    "    def gaussian_plus_polynomial(x,amp,cen,sig,a,b,c): \n",
    "        return amp*np.exp(-(x-cen)**2/(2*sig**2)) + a*x**2 + b*x + c\n",
    "    popt,_ = curve_fit(gaussian_plus_polynomial,window_energies,window_counts,bounds =([0,600,0,-1000,-1000,-1000] ,[1000,650,20,1000,0,1000]))\n",
    "    popt_gaus = popt[0:3]\n",
    "    popt\n",
    "\n",
    "    ### Finding the average radon cpm for the hour, adding to overall array\n",
    "    predicted = gaussian_plus_polynomial(window_energies,*popt)\n",
    "    radon_count_Sep[i] = gaussian(window_energies,*popt_gaus).sum()\n",
    "    #if i==491:\n",
    "        #break"
   ]
  },
  {
   "cell_type": "code",
   "execution_count": 49,
   "id": "eaecaee4-bfc4-4b4e-9c40-1e037bef480e",
   "metadata": {
    "jupyter": {
     "source_hidden": true
    },
    "tags": []
   },
   "outputs": [],
   "source": [
    "### Creates an dataframe of date and time to align counts and temperatures with (purely for readability, is not used in plotting at all)\n",
    "\n",
    "import time\n",
    "import numpy as np\n",
    "import pandas as pd\n",
    "\n",
    "current_time = 1535781600 # 11:00 PM on 8/30/18\n",
    "dates = []\n",
    "hour = []\n",
    "    \n",
    "for i in range(0,720):\n",
    "    current_time = current_time + 3600\n",
    "    time1 = time.localtime(current_time) \n",
    "    \n",
    "    year = str(time1[0])\n",
    "    month = str(time1[1])\n",
    "    day = str(time1[2])\n",
    "    \n",
    "    date_string = [month,day,year]\n",
    "    #test_string\n",
    "    dates.append('-'.join(date_string))\n",
    "    hour.append(time1[3])\n",
    "    \n",
    "temp_date = pd.DataFrame({'Date':dates})\n",
    "temp_hour = pd.DataFrame({'Hour':hour})\n",
    "Data_set_Sep = pd.concat([temp_date,temp_hour],axis=1)"
   ]
  },
  {
   "cell_type": "code",
   "execution_count": 50,
   "id": "9bec9f43-a3e9-45ba-816b-90462833a687",
   "metadata": {
    "jupyter": {
     "source_hidden": true
    },
    "tags": []
   },
   "outputs": [],
   "source": [
    "### Turns Radon outputs into a dataframe, and concatenates with the overall data set\n",
    "import pandas as pd\n",
    "\n",
    "Output_Data = pd.DataFrame({'Radon Counts':radon_count_Sep})\n",
    "Output2 = pd.DataFrame({'Total Counts':total_count_Sep})\n",
    "Data_set_Sep = pd.concat([Data_set_Sep,Output_Data,Output2],axis=1)"
   ]
  },
  {
   "cell_type": "code",
   "execution_count": 51,
   "id": "10f6d6c4-7472-4f59-8cb8-c43953dfc54b",
   "metadata": {
    "jupyter": {
     "source_hidden": true
    },
    "tags": []
   },
   "outputs": [],
   "source": [
    "### Gathering appropriate average temperatures and concatenating with overall dataframe\n",
    "\n",
    "import pandas as pd\n",
    "import numpy as np\n",
    "\n",
    "T_Sep = Tdf[48878:57511].reset_index(drop=True)\n",
    "\n",
    "T_zeros = np.zeros(720)\n",
    "T_temp = pd.DataFrame({'Temperature':T_zeros})\n",
    "T_temp2 = pd.DataFrame({'Weather Station T':T_zeros})\n",
    "\n",
    "T_start = 1535785200\n",
    "T_end = T_start\n",
    "\n",
    "for j in range(0,720):\n",
    "    T_start = T_end\n",
    "    T_end = T_start + 3600\n",
    "    \n",
    "    T_bool = T_Sep['deviceTime_unix'].between(T_start,T_end)\n",
    "    if T_bool.loc[T_bool==True].empty:\n",
    "        T_temp.iloc[j,0] = 0\n",
    "        continue\n",
    "    T_hourly = T_Sep[T_bool].drop(columns=['deviceTime_local','deviceTime_unix'])\n",
    "    T_temp.iloc[j,0] = T_hourly.mean()\n",
    "\n",
    "#Resetting time to grab weather station temperatures as well\n",
    "T_start = 1535785200\n",
    "T_end = T_start\n",
    "\n",
    "for i in range(0,720):\n",
    "    T_start = T_end\n",
    "    T_end = T_start + 3600\n",
    "    \n",
    "    T_w_bool = Tdf_weather['Unix Time'].between(T_start,T_end)\n",
    "    if T_w_bool.loc[T_w_bool==True].empty:\n",
    "        T_temp2.iloc[j,0] = 0\n",
    "        continue\n",
    "    T_hourly_w = Tdf_weather[T_w_bool].drop(columns=['Date','Time','Unix Time'])\n",
    "    T_temp2.iloc[i,0] = T_hourly_w.mean()\n",
    "    \n",
    "Data_set_Sep = pd.concat([Data_set_Sep,T_temp,T_temp2],axis=1)"
   ]
  },
  {
   "cell_type": "code",
   "execution_count": 52,
   "id": "7c6325fc-8aa4-4e21-b32a-00c628a20ee5",
   "metadata": {
    "jupyter": {
     "source_hidden": true
    },
    "tags": []
   },
   "outputs": [],
   "source": [
    "### Dropping out any rows that have a zero value for temperature or radon counts\n",
    "\n",
    "DS_final_Sep = Data_set_Sep\n",
    "Radon_nonzero_Sep = (DS_final_Sep['Radon Counts'] > 0) # Boolean output of the rows that have positive values for radon count\n",
    "DS_final_Sep = DS_final_Sep[Radon_nonzero_Sep] # Removes rows with a zero value for radon count\n",
    "#Radon_negative = (Data_set_final['Radon Counts'] > 0)\n",
    "#Data_set_final = Data_set_final[Radon_negative]\n",
    "Temperature_nonzero = (DS_final_Sep['Temperature'] != 0) # same idea as Radon_nonzero, but now for temperature\n",
    "DS_final_Sep = DS_final_Sep[Temperature_nonzero] # Removes any additional rows that have a 0 value for temperature"
   ]
  },
  {
   "cell_type": "code",
   "execution_count": 53,
   "id": "8e5b5cfa-a1ef-403c-bba1-6acc0e97fb5f",
   "metadata": {
    "jupyter": {
     "source_hidden": true
    },
    "tags": []
   },
   "outputs": [
    {
     "data": {
      "text/plain": [
       "Date                  0\n",
       "Hour                 30\n",
       "Radon Counts          0\n",
       "Total Counts          0\n",
       "Temperature           0\n",
       "Weather Station T     7\n",
       "dtype: int64"
      ]
     },
     "execution_count": 53,
     "metadata": {},
     "output_type": "execute_result"
    }
   ],
   "source": [
    "### Checking that the above cell worked properly, not necessary to run every time\n",
    "\n",
    "(DS_final_Sep == 0).sum()"
   ]
  },
  {
   "cell_type": "markdown",
   "id": "e50d0138-8bba-4a1c-8162-fdd00c99e6f3",
   "metadata": {},
   "source": [
    "# October 2018"
   ]
  },
  {
   "cell_type": "code",
   "execution_count": 54,
   "id": "f523be68-fec6-44d4-b37e-df42e9e74ab3",
   "metadata": {
    "jupyter": {
     "source_hidden": true
    },
    "tags": []
   },
   "outputs": [],
   "source": [
    "### October 2018\n",
    "\n",
    "### Fits the radiation counts using a Gaussian + polynomial fit\n",
    "## Current Settings: 2nd order polynomial (quadratic), peak range of 600-650 keV, std dev max of 20 keV\n",
    "## Time range of this cell: 8/1-8/31/18 (midnight to 11:59PM, exactly 1 month)\n",
    "## Expected runtime: ~2 min\n",
    "\n",
    "# If changing the timescale, the following variables must be redefined appropriately:\n",
    "# df_month (which slice of df_full is taken), radon_count (should be total number of hours in chosen set), start (convert to unix)\n",
    "# All other parts of the code should execute properly regardless of the size of the set, though runtime may increase greatly\n",
    "\n",
    "import pandas as pd\n",
    "from scipy.signal import find_peaks as fp\n",
    "import numpy as np\n",
    "from scipy.optimize import curve_fit\n",
    "\n",
    "### Creating a dataframe of exactly a month of collected data\n",
    "col = ['deviceTime_utc','cpmError','1023','error_flag']\n",
    "df_Oct = df_full[65890:74947].reset_index().drop(columns=col) # takes exactly a month, from 12:01 AM 8/1/18 to 11:59 PM 8/31/19 (local time)\n",
    "radon_count_Oct = np.zeros(744) # creating an empty dataframe to add hourly radon counts to\n",
    "total_count_Oct = np.zeros(744)\n",
    "start = 1538377200 # Setting a baseline time for the loop to start from (in this case it is 12:00:00 Local Time 8/1/18)\n",
    "end = start\n",
    "\n",
    "for i in range(0,744):\n",
    "    # Will eventually become a for loop, with an iteration for each hour\n",
    "    #start = df_month.at[i,'deviceTime_unix']-10 ####### change out the zero for the current for loop index\n",
    "    #end = start + 3600\n",
    "    \n",
    "    ### Sets an hour range for the data, and selecting those rows\n",
    "    start = end #setting start time based on current index\n",
    "    end = start + 3600 # end time falls 1 hour after the start time\n",
    "    hour_set = df_Oct['deviceTime_unix'].between(start,end) # Boolean output of rows which fall between start and end times\n",
    "    hour = df_Oct[hour_set].drop(columns=['index','deviceTime_local','deviceTime_unix'])#.sum(axis=0)\n",
    "    \n",
    "    ### Grabs the total counts and puts it into a separate dataframe\n",
    "    total_count_Oct[i] = hour['cpm'].mean()\n",
    "\n",
    "    ### Finding the mean energy per channel from the input, and setting the appropriate energies as column names\n",
    "    channel_energy = hour['keV_per_ch'].mean(axis=0)\n",
    "    hour = hour.drop(columns=['cpm','keV_per_ch'])\n",
    "    col_energy = np.linspace(0,1022*channel_energy,1023)\n",
    "    hour.columns = col_energy\n",
    "\n",
    "    ### Taking the mean # of counts for each column (now an energy band)\n",
    "    hour = hour.mean(axis=0)\n",
    "    hour1 = pd.DataFrame({'Lower Energy Bounds':hour.index})\n",
    "    hour2 = pd.DataFrame({'Mean counts':hour}).reset_index(drop=True)\n",
    "    hour = pd.concat([hour1,hour2],axis=1) # creates a dataframe for the hour, including the energy threshold for each channel and its corresponding counts\n",
    "    hour = hour.dropna() # drops any empty rows from the dataframe\n",
    "    if hour.empty==True: # If the dataframe is now empty, there is no spectrum to observe, go to the next hour\n",
    "        continue\n",
    "\n",
    "    ### Need to find the peak using the appropriate energy value, not an index\n",
    "    peak_bounds = hour.iloc[(hour['Lower Energy Bounds']-609.3).abs().argsort()[:2]] # finds the two closest rows to 609.3 keV in energy\n",
    "    peak_id = peak_bounds.index.sort_values()[0] # outputs the index (channel) that the peak (609.3 keV) is contained in\n",
    "\n",
    "    ### Sets the window to find the peak based on the peak energy\n",
    "    window_start = peak_id-80\n",
    "    window_end = peak_id+80\n",
    "    window = np.linspace(window_start,window_end,161)\n",
    "    window_energies = hour.iloc[window_start:window_end+1,0]\n",
    "    window_counts = hour.iloc[window_start:window_end+1,1]\n",
    "\n",
    "    ### Defining a combined function of a gaussian and a polynomial, and fitting it to the data\n",
    "    def gaussian(x,amp,cen,sig):\n",
    "        return amp*np.exp(-(x-cen)**2/(2*sig**2))\n",
    "    def gaussian_plus_polynomial(x,amp,cen,sig,a,b,c): \n",
    "        return amp*np.exp(-(x-cen)**2/(2*sig**2)) + a*x**2 + b*x + c\n",
    "    popt,_ = curve_fit(gaussian_plus_polynomial,window_energies,window_counts,bounds =([0,600,0,-1000,-1000,-1000] ,[1000,650,20,1000,0,1000]))\n",
    "    popt_gaus = popt[0:3]\n",
    "    popt\n",
    "\n",
    "    ### Finding the average radon cpm for the hour, adding to overall array\n",
    "    predicted = gaussian_plus_polynomial(window_energies,*popt)\n",
    "    radon_count_Oct[i] = gaussian(window_energies,*popt_gaus).sum()\n",
    "    #if i==491:\n",
    "        #break"
   ]
  },
  {
   "cell_type": "code",
   "execution_count": 55,
   "id": "f8148f2c-a153-4c9b-9f9d-4e14ec648815",
   "metadata": {
    "jupyter": {
     "source_hidden": true
    },
    "tags": []
   },
   "outputs": [],
   "source": [
    "### Creates an dataframe of date and time to align counts and temperatures with (purely for readability, is not used in plotting at all)\n",
    "\n",
    "import time\n",
    "import numpy as np\n",
    "import pandas as pd\n",
    "\n",
    "current_time = 1538373600 # 11:00 PM on 9/30/18\n",
    "dates = []\n",
    "hour = []\n",
    "    \n",
    "for i in range(0,744):\n",
    "    current_time = current_time + 3600\n",
    "    time1 = time.localtime(current_time) \n",
    "    \n",
    "    year = str(time1[0])\n",
    "    month = str(time1[1])\n",
    "    day = str(time1[2])\n",
    "    \n",
    "    date_string = [month,day,year]\n",
    "    #test_string\n",
    "    dates.append('-'.join(date_string))\n",
    "    hour.append(time1[3])\n",
    "    \n",
    "temp_date = pd.DataFrame({'Date':dates})\n",
    "temp_hour = pd.DataFrame({'Hour':hour})\n",
    "Data_set_Oct = pd.concat([temp_date,temp_hour],axis=1)"
   ]
  },
  {
   "cell_type": "code",
   "execution_count": 56,
   "id": "533a07a2-1567-4bc2-b0e2-48d0475076ed",
   "metadata": {
    "jupyter": {
     "source_hidden": true
    },
    "tags": []
   },
   "outputs": [],
   "source": [
    "### Turns Radon outputs into a dataframe, and concatenates with the overall data set\n",
    "import pandas as pd\n",
    "\n",
    "Output_Data = pd.DataFrame({'Radon Counts':radon_count_Oct})\n",
    "Output2 = pd.DataFrame({'Total Counts':total_count_Oct})\n",
    "Data_set_Oct = pd.concat([Data_set_Oct,Output_Data,Output2],axis=1)"
   ]
  },
  {
   "cell_type": "code",
   "execution_count": 57,
   "id": "6417666f-d182-4d23-b455-cfc55a0ea80f",
   "metadata": {
    "jupyter": {
     "source_hidden": true
    },
    "tags": []
   },
   "outputs": [],
   "source": [
    "### Gathering appropriate average temperatures and concatenating with overall dataframe\n",
    "\n",
    "import pandas as pd\n",
    "import numpy as np\n",
    "\n",
    "T_Oct = Tdf[57511:63084].reset_index(drop=True)\n",
    "\n",
    "T_zeros = np.zeros(744)\n",
    "T_temp = pd.DataFrame({'Temperature':T_zeros})\n",
    "T_temp2 = pd.DataFrame({'Weather Station T':T_zeros})\n",
    "\n",
    "T_start = 1538377200\n",
    "T_end = T_start\n",
    "\n",
    "for j in range(0,744):\n",
    "    T_start = T_end\n",
    "    T_end = T_start + 3600\n",
    "    \n",
    "    T_bool = T_Oct['deviceTime_unix'].between(T_start,T_end)\n",
    "    if T_bool.loc[T_bool==True].empty:\n",
    "        T_temp.iloc[j,0] = 0\n",
    "        continue\n",
    "    T_hourly = T_Oct[T_bool].drop(columns=['deviceTime_local','deviceTime_unix'])\n",
    "    T_temp.iloc[j,0] = T_hourly.mean()\n",
    "\n",
    "#Resetting time to grab weather station temperatures as well\n",
    "T_start = 1538377200\n",
    "T_end = T_start\n",
    "\n",
    "for i in range(0,744):\n",
    "    T_start = T_end\n",
    "    T_end = T_start + 3600\n",
    "    \n",
    "    T_w_bool = Tdf_weather['Unix Time'].between(T_start,T_end)\n",
    "    if T_w_bool.loc[T_w_bool==True].empty:\n",
    "        T_temp2.iloc[j,0] = 0\n",
    "        continue\n",
    "    T_hourly_w = Tdf_weather[T_w_bool].drop(columns=['Date','Time','Unix Time'])\n",
    "    T_temp2.iloc[i,0] = T_hourly_w.mean()\n",
    "    \n",
    "Data_set_Oct = pd.concat([Data_set_Oct,T_temp,T_temp2],axis=1)"
   ]
  },
  {
   "cell_type": "code",
   "execution_count": 58,
   "id": "1dddd5b5-2e7e-40fc-85ce-ed22a789302c",
   "metadata": {
    "jupyter": {
     "source_hidden": true
    },
    "tags": []
   },
   "outputs": [],
   "source": [
    "### Dropping out any rows that have a zero value for temperature or radon counts\n",
    "\n",
    "DS_final_Oct = Data_set_Oct\n",
    "Radon_nonzero_Oct = (DS_final_Oct['Radon Counts'] > 0) # Boolean output of the rows that have positive values for radon count\n",
    "DS_final_Oct = DS_final_Oct[Radon_nonzero_Oct] # Removes rows with a zero value for radon count\n",
    "#Radon_negative = (Data_set_final['Radon Counts'] > 0)\n",
    "#Data_set_final = Data_set_final[Radon_negative]\n",
    "Temperature_nonzero = (DS_final_Oct['Temperature'] != 0) # same idea as Radon_nonzero, but now for temperature\n",
    "DS_final_Oct = DS_final_Oct[Temperature_nonzero] # Removes any additional rows that have a 0 value for temperature"
   ]
  },
  {
   "cell_type": "code",
   "execution_count": 59,
   "id": "3ef07aaf-c888-4305-ab76-e4168914aab1",
   "metadata": {
    "jupyter": {
     "source_hidden": true
    },
    "tags": []
   },
   "outputs": [
    {
     "data": {
      "text/plain": [
       "Date                  0\n",
       "Hour                 20\n",
       "Radon Counts          0\n",
       "Total Counts          0\n",
       "Temperature           0\n",
       "Weather Station T     0\n",
       "dtype: int64"
      ]
     },
     "execution_count": 59,
     "metadata": {},
     "output_type": "execute_result"
    }
   ],
   "source": [
    "### Checking that the above cell worked properly, not necessary to run every time\n",
    "\n",
    "(DS_final_Oct == 0).sum()"
   ]
  },
  {
   "cell_type": "markdown",
   "id": "a7ed5366-1ae6-4f4a-a665-bb09d2240703",
   "metadata": {
    "tags": []
   },
   "source": [
    "# Skipping November because of Air Quality"
   ]
  },
  {
   "cell_type": "markdown",
   "id": "dfe18dd1-1b9c-46f6-b0a0-0506203295fa",
   "metadata": {},
   "source": [
    "# December 2018"
   ]
  },
  {
   "cell_type": "code",
   "execution_count": 60,
   "id": "f8a51011-4102-4243-ae40-425d43941215",
   "metadata": {
    "jupyter": {
     "source_hidden": true
    },
    "tags": []
   },
   "outputs": [],
   "source": [
    "### December 2018\n",
    "\n",
    "### Fits the radiation counts using a Gaussian + polynomial fit\n",
    "## Current Settings: 2nd order polynomial (quadratic), peak range of 600-650 keV, std dev max of 20 keV\n",
    "## Time range of this cell: 8/1-8/31/18 (midnight to 11:59PM, exactly 1 month)\n",
    "## Expected runtime: ~2 min\n",
    "\n",
    "# If changing the timescale, the following variables must be redefined appropriately:\n",
    "# df_month (which slice of df_full is taken), radon_count (should be total number of hours in chosen set), start (convert to unix)\n",
    "# All other parts of the code should execute properly regardless of the size of the set, though runtime may increase greatly\n",
    "\n",
    "import pandas as pd\n",
    "from scipy.signal import find_peaks as fp\n",
    "import numpy as np\n",
    "from scipy.optimize import curve_fit\n",
    "\n",
    "### Creating a dataframe of exactly a month of collected data\n",
    "col = ['deviceTime_utc','cpmError','1023','error_flag']\n",
    "df_Dec = df_full[83141:89666].reset_index().drop(columns=col) # takes exactly a month, from 12:01 AM 8/1/18 to 11:59 PM 8/31/19 (local time)\n",
    "radon_count_Dec = np.zeros(744) # creating an empty dataframe to add hourly radon counts to\n",
    "total_count_Dec = np.zeros(744)\n",
    "start = 1543651200 # Setting a baseline time for the loop to start from (in this case it is 12:00:00 Local Time 8/1/18)\n",
    "end = start\n",
    "\n",
    "for i in range(0,744):\n",
    "    # Will eventually become a for loop, with an iteration for each hour\n",
    "    #start = df_month.at[i,'deviceTime_unix']-10 ####### change out the zero for the current for loop index\n",
    "    #end = start + 3600\n",
    "    \n",
    "    ### Sets an hour range for the data, and selecting those rows\n",
    "    start = end #setting start time based on current index\n",
    "    end = start + 3600 # end time falls 1 hour after the start time\n",
    "    hour_set = df_Dec['deviceTime_unix'].between(start,end) # Boolean output of rows which fall between start and end times\n",
    "    hour = df_Dec[hour_set].drop(columns=['index','deviceTime_local','deviceTime_unix'])#.sum(axis=0)\n",
    "    \n",
    "    ### Grabs the total counts and puts it into a separate dataframe\n",
    "    total_count_Dec[i] = hour['cpm'].mean()\n",
    "\n",
    "    ### Finding the mean energy per channel from the input, and setting the appropriate energies as column names\n",
    "    channel_energy = hour['keV_per_ch'].mean(axis=0)\n",
    "    hour = hour.drop(columns=['cpm','keV_per_ch'])\n",
    "    col_energy = np.linspace(0,1022*channel_energy,1023)\n",
    "    hour.columns = col_energy\n",
    "\n",
    "    ### Taking the mean # of counts for each column (now an energy band)\n",
    "    hour = hour.mean(axis=0)\n",
    "    hour1 = pd.DataFrame({'Lower Energy Bounds':hour.index})\n",
    "    hour2 = pd.DataFrame({'Mean counts':hour}).reset_index(drop=True)\n",
    "    hour = pd.concat([hour1,hour2],axis=1) # creates a dataframe for the hour, including the energy threshold for each channel and its corresponding counts\n",
    "    hour = hour.dropna() # drops any empty rows from the dataframe\n",
    "    if hour.empty==True: # If the dataframe is now empty, there is no spectrum to observe, go to the next hour\n",
    "        continue\n",
    "\n",
    "    ### Need to find the peak using the appropriate energy value, not an index\n",
    "    peak_bounds = hour.iloc[(hour['Lower Energy Bounds']-609.3).abs().argsort()[:2]] # finds the two closest rows to 609.3 keV in energy\n",
    "    peak_id = peak_bounds.index.sort_values()[0] # outputs the index (channel) that the peak (609.3 keV) is contained in\n",
    "\n",
    "    ### Sets the window to find the peak based on the peak energy\n",
    "    window_start = peak_id-80\n",
    "    window_end = peak_id+80\n",
    "    window = np.linspace(window_start,window_end,161)\n",
    "    window_energies = hour.iloc[window_start:window_end+1,0]\n",
    "    window_counts = hour.iloc[window_start:window_end+1,1]\n",
    "\n",
    "    ### Defining a combined function of a gaussian and a polynomial, and fitting it to the data\n",
    "    def gaussian(x,amp,cen,sig):\n",
    "        return amp*np.exp(-(x-cen)**2/(2*sig**2))\n",
    "    def gaussian_plus_polynomial(x,amp,cen,sig,a,b,c): \n",
    "        return amp*np.exp(-(x-cen)**2/(2*sig**2)) + a*x**2 + b*x + c\n",
    "    popt,_ = curve_fit(gaussian_plus_polynomial,window_energies,window_counts,bounds =([0,600,0,-1000,-1000,-1000] ,[1000,650,20,1000,0,1000]))\n",
    "    popt_gaus = popt[0:3]\n",
    "    popt\n",
    "\n",
    "    ### Finding the average radon cpm for the hour, adding to overall array\n",
    "    predicted = gaussian_plus_polynomial(window_energies,*popt)\n",
    "    radon_count_Dec[i] = gaussian(window_energies,*popt_gaus).sum()\n",
    "    #if i==491:\n",
    "        #break"
   ]
  },
  {
   "cell_type": "code",
   "execution_count": 61,
   "id": "9354eb31-e20a-4870-8e8e-2e9e2a1253e2",
   "metadata": {
    "jupyter": {
     "source_hidden": true
    },
    "tags": []
   },
   "outputs": [],
   "source": [
    "### Creates an dataframe of date and time to align counts and temperatures with (purely for readability, is not used in plotting at all)\n",
    "\n",
    "import time\n",
    "import numpy as np\n",
    "import pandas as pd\n",
    "\n",
    "current_time = 1543647600 # 11:00 PM on 11/30/18\n",
    "dates = []\n",
    "hour = []\n",
    "    \n",
    "for i in range(0,744):\n",
    "    current_time = current_time + 3600\n",
    "    time1 = time.localtime(current_time) \n",
    "    \n",
    "    year = str(time1[0])\n",
    "    month = str(time1[1])\n",
    "    day = str(time1[2])\n",
    "    \n",
    "    date_string = [month,day,year]\n",
    "    #test_string\n",
    "    dates.append('-'.join(date_string))\n",
    "    hour.append(time1[3])\n",
    "    \n",
    "temp_date = pd.DataFrame({'Date':dates})\n",
    "temp_hour = pd.DataFrame({'Hour':hour})\n",
    "Data_set_Dec = pd.concat([temp_date,temp_hour],axis=1)"
   ]
  },
  {
   "cell_type": "code",
   "execution_count": 62,
   "id": "c77d7f61-3c5f-4664-9f76-af160a177fd0",
   "metadata": {
    "jupyter": {
     "source_hidden": true
    },
    "tags": []
   },
   "outputs": [],
   "source": [
    "### Turns Radon outputs into a dataframe, and concatenates with the overall data set\n",
    "import pandas as pd\n",
    "\n",
    "Output_Data = pd.DataFrame({'Radon Counts':radon_count_Dec})\n",
    "Output2 = pd.DataFrame({'Total Counts':total_count_Dec})\n",
    "Data_set_Dec = pd.concat([Data_set_Dec,Output_Data],axis=1)"
   ]
  },
  {
   "cell_type": "code",
   "execution_count": 63,
   "id": "5bc4b5aa-da09-41e1-b939-84b785e63d5a",
   "metadata": {
    "jupyter": {
     "source_hidden": true
    },
    "tags": []
   },
   "outputs": [],
   "source": [
    "### Gathering appropriate average temperatures and concatenating with overall dataframe\n",
    "\n",
    "import pandas as pd\n",
    "import numpy as np\n",
    "\n",
    "T_Dec = Tdf[69609:72535].reset_index(drop=True)\n",
    "\n",
    "T_zeros = np.zeros(744)\n",
    "T_temp = pd.DataFrame({'Temperature':T_zeros})\n",
    "T_temp2 = pd.DataFrame({'Weather Station T':T_zeros})\n",
    "\n",
    "T_start = 1543651200\n",
    "T_end = T_start\n",
    "\n",
    "for j in range(0,744):\n",
    "    T_start = T_end\n",
    "    T_end = T_start + 3600\n",
    "    \n",
    "    T_bool = T_Dec['deviceTime_unix'].between(T_start,T_end)\n",
    "    if T_bool.loc[T_bool==True].empty:\n",
    "        T_temp.iloc[j,0] = 0\n",
    "        continue\n",
    "    T_hourly = T_Dec[T_bool].drop(columns=['deviceTime_local','deviceTime_unix'])\n",
    "    T_temp.iloc[j,0] = T_hourly.mean()\n",
    "\n",
    "#Resetting time to grab weather station temperatures as well\n",
    "T_start = 1543651200\n",
    "T_end = T_start\n",
    "\n",
    "for i in range(0,744):\n",
    "    T_start = T_end\n",
    "    T_end = T_start + 3600\n",
    "    \n",
    "    T_w_bool = Tdf_weather['Unix Time'].between(T_start,T_end)\n",
    "    if T_w_bool.loc[T_w_bool==True].empty:\n",
    "        T_temp2.iloc[j,0] = 0\n",
    "        continue\n",
    "    T_hourly_w = Tdf_weather[T_w_bool].drop(columns=['Date','Time','Unix Time'])\n",
    "    T_temp2.iloc[i,0] = T_hourly_w.mean()\n",
    "    \n",
    "Data_set_Dec = pd.concat([Data_set_Dec,T_temp,T_temp2],axis=1)"
   ]
  },
  {
   "cell_type": "code",
   "execution_count": 64,
   "id": "989b4c36-d651-40d8-a51c-5a1f7f31f95c",
   "metadata": {
    "jupyter": {
     "source_hidden": true
    },
    "tags": []
   },
   "outputs": [],
   "source": [
    "### Dropping out any rows that have a zero value for temperature or radon counts\n",
    "\n",
    "DS_final_Dec = Data_set_Dec\n",
    "Radon_nonzero_Dec = (DS_final_Dec['Radon Counts'] > 0) # Boolean output of the rows that have positive values for radon count\n",
    "DS_final_Dec = DS_final_Dec[Radon_nonzero_Dec] # Removes rows with a zero value for radon count\n",
    "#Radon_negative = (Data_set_final['Radon Counts'] > 0)\n",
    "#Data_set_final = Data_set_final[Radon_negative]\n",
    "Temperature_nonzero = (DS_final_Dec['Temperature'] != 0) # same idea as Radon_nonzero, but now for temperature\n",
    "DS_final_Dec = DS_final_Dec[Temperature_nonzero] # Removes any additional rows that have a 0 value for temperature"
   ]
  },
  {
   "cell_type": "code",
   "execution_count": 65,
   "id": "60f895cb-29a0-4825-8078-4095d44a985b",
   "metadata": {
    "jupyter": {
     "source_hidden": true
    },
    "tags": []
   },
   "outputs": [
    {
     "data": {
      "text/plain": [
       "Date                  0\n",
       "Hour                 14\n",
       "Radon Counts          0\n",
       "Temperature           0\n",
       "Weather Station T    13\n",
       "dtype: int64"
      ]
     },
     "execution_count": 65,
     "metadata": {},
     "output_type": "execute_result"
    }
   ],
   "source": [
    "### Checking that the above cell worked properly, not necessary to run every time\n",
    "\n",
    "(DS_final_Dec == 0).sum()"
   ]
  },
  {
   "cell_type": "markdown",
   "id": "8050d873-8b5d-4ac8-8a82-4621e87abc9f",
   "metadata": {},
   "source": [
    "# January 2019"
   ]
  },
  {
   "cell_type": "code",
   "execution_count": 66,
   "id": "3976a153-8609-4c90-9fbe-1ac0a3bb34d0",
   "metadata": {
    "jupyter": {
     "source_hidden": true
    },
    "tags": []
   },
   "outputs": [],
   "source": [
    "### January 2019\n",
    "\n",
    "### Fits the radiation counts using a Gaussian + polynomial fit\n",
    "## Current Settings: 2nd order polynomial (quadratic), peak range of 600-650 keV, std dev max of 20 keV\n",
    "## Time range of this cell: 8/1-8/31/18 (midnight to 11:59PM, exactly 1 month)\n",
    "## Expected runtime: ~2 min\n",
    "\n",
    "# If changing the timescale, the following variables must be redefined appropriately:\n",
    "# df_month (which slice of df_full is taken), radon_count (should be total number of hours in chosen set), start (convert to unix)\n",
    "# All other parts of the code should execute properly regardless of the size of the set, though runtime may increase greatly\n",
    "\n",
    "import pandas as pd\n",
    "from scipy.signal import find_peaks as fp\n",
    "import numpy as np\n",
    "from scipy.optimize import curve_fit\n",
    "\n",
    "### Creating a dataframe of exactly a month of collected data\n",
    "col = ['deviceTime_utc','cpmError','1023','error_flag']\n",
    "df_Jan19 = df_full[89666:97342].reset_index().drop(columns=col) # takes exactly a month, from 12:01 AM 8/1/18 to 11:59 PM 8/31/19 (local time)\n",
    "radon_count_Jan19 = np.zeros(744) # creating an empty dataframe to add hourly radon counts to\n",
    "total_count_Jan19 = np.zeros(744)\n",
    "start = 1546329600 # Setting a baseline time for the loop to start from (in this case it is 12:00:00 Local Time 8/1/18)\n",
    "end = start\n",
    "\n",
    "for i in range(0,744):\n",
    "    # Will eventually become a for loop, with an iteration for each hour\n",
    "    #start = df_month.at[i,'deviceTime_unix']-10 ####### change out the zero for the current for loop index\n",
    "    #end = start + 3600\n",
    "    \n",
    "    ### Sets an hour range for the data, and selecting those rows\n",
    "    start = end #setting start time based on current index\n",
    "    end = start + 3600 # end time falls 1 hour after the start time\n",
    "    hour_set = df_Jan19['deviceTime_unix'].between(start,end) # Boolean output of rows which fall between start and end times\n",
    "    hour = df_Jan19[hour_set].drop(columns=['index','deviceTime_local','deviceTime_unix'])#.sum(axis=0)\n",
    "    \n",
    "    ### Grabs the total counts and puts it into a separate dataframe\n",
    "    total_count_Jan19[i] = hour['cpm'].mean()\n",
    "\n",
    "    ### Finding the mean energy per channel from the input, and setting the appropriate energies as column names\n",
    "    channel_energy = hour['keV_per_ch'].mean(axis=0)\n",
    "    hour = hour.drop(columns=['cpm','keV_per_ch'])\n",
    "    col_energy = np.linspace(0,1022*channel_energy,1023)\n",
    "    hour.columns = col_energy\n",
    "\n",
    "    ### Taking the mean # of counts for each column (now an energy band)\n",
    "    hour = hour.mean(axis=0)\n",
    "    hour1 = pd.DataFrame({'Lower Energy Bounds':hour.index})\n",
    "    hour2 = pd.DataFrame({'Mean counts':hour}).reset_index(drop=True)\n",
    "    hour = pd.concat([hour1,hour2],axis=1) # creates a dataframe for the hour, including the energy threshold for each channel and its corresponding counts\n",
    "    hour = hour.dropna() # drops any empty rows from the dataframe\n",
    "    if hour.empty==True: # If the dataframe is now empty, there is no spectrum to observe, go to the next hour\n",
    "        continue\n",
    "\n",
    "    ### Need to find the peak using the appropriate energy value, not an index\n",
    "    peak_bounds = hour.iloc[(hour['Lower Energy Bounds']-609.3).abs().argsort()[:2]] # finds the two closest rows to 609.3 keV in energy\n",
    "    peak_id = peak_bounds.index.sort_values()[0] # outputs the index (channel) that the peak (609.3 keV) is contained in\n",
    "\n",
    "    ### Sets the window to find the peak based on the peak energy\n",
    "    window_start = peak_id-80\n",
    "    window_end = peak_id+80\n",
    "    window = np.linspace(window_start,window_end,161)\n",
    "    window_energies = hour.iloc[window_start:window_end+1,0]\n",
    "    window_counts = hour.iloc[window_start:window_end+1,1]\n",
    "\n",
    "    ### Defining a combined function of a gaussian and a polynomial, and fitting it to the data\n",
    "    def gaussian(x,amp,cen,sig):\n",
    "        return amp*np.exp(-(x-cen)**2/(2*sig**2))\n",
    "    def gaussian_plus_polynomial(x,amp,cen,sig,a,b,c): \n",
    "        return amp*np.exp(-(x-cen)**2/(2*sig**2)) + a*x**2 + b*x + c\n",
    "    popt,_ = curve_fit(gaussian_plus_polynomial,window_energies,window_counts,bounds =([0,600,0,-1000,-1000,-1000] ,[1000,650,20,1000,0,1000]))\n",
    "    popt_gaus = popt[0:3]\n",
    "    popt\n",
    "\n",
    "    ### Finding the average radon cpm for the hour, adding to overall array\n",
    "    predicted = gaussian_plus_polynomial(window_energies,*popt)\n",
    "    radon_count_Jan19[i] = gaussian(window_energies,*popt_gaus).sum()\n",
    "    #if i==491:\n",
    "        #break"
   ]
  },
  {
   "cell_type": "code",
   "execution_count": 67,
   "id": "de368583-68d0-42a3-bcf1-729111c5ced3",
   "metadata": {
    "jupyter": {
     "source_hidden": true
    },
    "tags": []
   },
   "outputs": [],
   "source": [
    "### Creates an dataframe of date and time to align counts and temperatures with (purely for readability, is not used in plotting at all)\n",
    "\n",
    "import time\n",
    "import numpy as np\n",
    "import pandas as pd\n",
    "\n",
    "current_time = 1546326000 # 11:00 PM on 12/31/18\n",
    "dates = []\n",
    "hour = []\n",
    "    \n",
    "for i in range(0,744):\n",
    "    current_time = current_time + 3600\n",
    "    time1 = time.localtime(current_time) \n",
    "    \n",
    "    year = str(time1[0])\n",
    "    month = str(time1[1])\n",
    "    day = str(time1[2])\n",
    "    \n",
    "    date_string = [month,day,year]\n",
    "    #test_string\n",
    "    dates.append('-'.join(date_string))\n",
    "    hour.append(time1[3])\n",
    "    \n",
    "temp_date = pd.DataFrame({'Date':dates})\n",
    "temp_hour = pd.DataFrame({'Hour':hour})\n",
    "Data_set_Jan19 = pd.concat([temp_date,temp_hour],axis=1)"
   ]
  },
  {
   "cell_type": "code",
   "execution_count": 68,
   "id": "703efaea-f77b-426a-a865-cd55b1bcb465",
   "metadata": {
    "jupyter": {
     "source_hidden": true
    },
    "tags": []
   },
   "outputs": [],
   "source": [
    "### Turns Radon outputs into a dataframe, and concatenates with the overall data set\n",
    "import pandas as pd\n",
    "\n",
    "Output_Data = pd.DataFrame({'Radon Counts':radon_count_Jan19})\n",
    "Output2 = pd.DataFrame({'Total Counts':total_count_Jan19})\n",
    "Data_set_Jan19 = pd.concat([Data_set_Jan19,Output_Data,Output2],axis=1)"
   ]
  },
  {
   "cell_type": "code",
   "execution_count": 69,
   "id": "bdc2e30d-c06e-4290-89a8-64dcdfacbe93",
   "metadata": {
    "jupyter": {
     "source_hidden": true
    },
    "tags": []
   },
   "outputs": [],
   "source": [
    "### Gathering appropriate average temperatures and concatenating with overall dataframe\n",
    "\n",
    "import pandas as pd\n",
    "import numpy as np\n",
    "\n",
    "T_Jan19 = Tdf[72535:75174].reset_index(drop=True)\n",
    "\n",
    "T_zeros = np.zeros(744)\n",
    "T_temp = pd.DataFrame({'Temperature':T_zeros})\n",
    "\n",
    "T_start = 1546329600\n",
    "T_end = T_start\n",
    "\n",
    "for j in range(0,744):\n",
    "    T_start = T_end\n",
    "    T_end = T_start + 3600\n",
    "    \n",
    "    T_bool = T_Jan19['deviceTime_unix'].between(T_start,T_end)\n",
    "    if T_bool.loc[T_bool==True].empty:\n",
    "        T_temp.iloc[j,0] = 0\n",
    "        continue\n",
    "    T_hourly = T_Jan19[T_bool].drop(columns=['deviceTime_local','deviceTime_unix'])\n",
    "    T_temp.iloc[j,0] = T_hourly.mean()\n",
    "\n",
    "Data_set_Jan19 = pd.concat([Data_set_Jan19,T_temp],axis=1)"
   ]
  },
  {
   "cell_type": "code",
   "execution_count": 70,
   "id": "183fb8b7-1f2b-42d0-8e31-aad88ca6ad7a",
   "metadata": {
    "jupyter": {
     "source_hidden": true
    },
    "tags": []
   },
   "outputs": [],
   "source": [
    "### Dropping out any rows that have a zero value for temperature or radon counts\n",
    "\n",
    "DS_final_Jan19 = Data_set_Jan19\n",
    "Radon_nonzero_Jan19 = (DS_final_Jan19['Radon Counts'] > 0) # Boolean output of the rows that have positive values for radon count\n",
    "DS_final_Jan19 = DS_final_Jan19[Radon_nonzero_Jan19] # Removes rows with a zero value for radon count\n",
    "#Radon_negative = (Data_set_final['Radon Counts'] > 0)\n",
    "#Data_set_final = Data_set_final[Radon_negative]\n",
    "Temperature_nonzero = (DS_final_Jan19['Temperature'] != 0) # same idea as Radon_nonzero, but now for temperature\n",
    "DS_final_Jan19 = DS_final_Jan19[Temperature_nonzero] # Removes any additional rows that have a 0 value for temperature"
   ]
  },
  {
   "cell_type": "code",
   "execution_count": 71,
   "id": "12e2728b-7cb2-4cd7-b128-411ce497e7d3",
   "metadata": {
    "jupyter": {
     "source_hidden": true
    },
    "tags": []
   },
   "outputs": [
    {
     "data": {
      "text/plain": [
       "Date             0\n",
       "Hour            12\n",
       "Radon Counts     0\n",
       "Total Counts     0\n",
       "Temperature      0\n",
       "dtype: int64"
      ]
     },
     "execution_count": 71,
     "metadata": {},
     "output_type": "execute_result"
    }
   ],
   "source": [
    "### Checking that the above cell worked properly, not necessary to run every time\n",
    "\n",
    "(DS_final_Jan19 == 0).sum()"
   ]
  },
  {
   "cell_type": "markdown",
   "id": "5e6b83e7-7e17-4c3a-957e-c866b59538b1",
   "metadata": {},
   "source": [
    "# February 2019"
   ]
  },
  {
   "cell_type": "code",
   "execution_count": 72,
   "id": "d2126509-9edd-4217-a933-72b527d73f9b",
   "metadata": {
    "jupyter": {
     "source_hidden": true
    },
    "tags": []
   },
   "outputs": [],
   "source": [
    "### February 2019\n",
    "\n",
    "### Fits the radiation counts using a Gaussian + polynomial fit\n",
    "## Current Settings: 2nd order polynomial (quadratic), peak range of 600-650 keV, std dev max of 20 keV\n",
    "## Time range of this cell: 8/1-8/31/18 (midnight to 11:59PM, exactly 1 month)\n",
    "## Expected runtime: ~2 min\n",
    "\n",
    "# If changing the timescale, the following variables must be redefined appropriately:\n",
    "# df_month (which slice of df_full is taken), radon_count (should be total number of hours in chosen set), start (convert to unix)\n",
    "# All other parts of the code should execute properly regardless of the size of the set, though runtime may increase greatly\n",
    "\n",
    "import pandas as pd\n",
    "from scipy.signal import find_peaks as fp\n",
    "import numpy as np\n",
    "from scipy.optimize import curve_fit\n",
    "\n",
    "### Creating a dataframe of exactly a month of collected data\n",
    "col = ['deviceTime_utc','cpmError','1023','error_flag']\n",
    "df_Feb19 = df_full[97342:104987].reset_index().drop(columns=col) # takes exactly a month, from 12:01 AM 8/1/18 to 11:59 PM 8/31/19 (local time)\n",
    "radon_count_Feb19 = np.zeros(672) # creating an empty dataframe to add hourly radon counts to\n",
    "total_count_Feb19 = np.zeros(672)\n",
    "start = 1549008000 # Setting a baseline time for the loop to start from (in this case it is 12:00:00 Local Time 2/1/19)\n",
    "end = start\n",
    "\n",
    "for i in range(0,672):\n",
    "    # Will eventually become a for loop, with an iteration for each hour\n",
    "    #start = df_month.at[i,'deviceTime_unix']-10 ####### change out the zero for the current for loop index\n",
    "    #end = start + 3600\n",
    "    \n",
    "    ### Sets an hour range for the data, and selecting those rows\n",
    "    start = end #setting start time based on current index\n",
    "    end = start + 3600 # end time falls 1 hour after the start time\n",
    "    hour_set = df_Feb19['deviceTime_unix'].between(start,end) # Boolean output of rows which fall between start and end times\n",
    "    hour = df_Feb19[hour_set].drop(columns=['index','deviceTime_local','deviceTime_unix'])#.sum(axis=0)\n",
    "    \n",
    "    ### Grabs the total counts and puts it into a separate dataframe\n",
    "    total_count_Feb19[i] = hour['cpm'].mean()\n",
    "\n",
    "    ### Finding the mean energy per channel from the input, and setting the appropriate energies as column names\n",
    "    channel_energy = hour['keV_per_ch'].mean(axis=0)\n",
    "    hour = hour.drop(columns=['cpm','keV_per_ch'])\n",
    "    col_energy = np.linspace(0,1022*channel_energy,1023)\n",
    "    hour.columns = col_energy\n",
    "\n",
    "    ### Taking the mean # of counts for each column (now an energy band)\n",
    "    hour = hour.mean(axis=0)\n",
    "    hour1 = pd.DataFrame({'Lower Energy Bounds':hour.index})\n",
    "    hour2 = pd.DataFrame({'Mean counts':hour}).reset_index(drop=True)\n",
    "    hour = pd.concat([hour1,hour2],axis=1) # creates a dataframe for the hour, including the energy threshold for each channel and its corresponding counts\n",
    "    hour = hour.dropna() # drops any empty rows from the dataframe\n",
    "    if hour.empty==True: # If the dataframe is now empty, there is no spectrum to observe, go to the next hour\n",
    "        continue\n",
    "\n",
    "    ### Need to find the peak using the appropriate energy value, not an index\n",
    "    peak_bounds = hour.iloc[(hour['Lower Energy Bounds']-609.3).abs().argsort()[:2]] # finds the two closest rows to 609.3 keV in energy\n",
    "    peak_id = peak_bounds.index.sort_values()[0] # outputs the index (channel) that the peak (609.3 keV) is contained in\n",
    "\n",
    "    ### Sets the window to find the peak based on the peak energy\n",
    "    window_start = peak_id-80\n",
    "    window_end = peak_id+80\n",
    "    window = np.linspace(window_start,window_end,161)\n",
    "    window_energies = hour.iloc[window_start:window_end+1,0]\n",
    "    window_counts = hour.iloc[window_start:window_end+1,1]\n",
    "\n",
    "    ### Defining a combined function of a gaussian and a polynomial, and fitting it to the data\n",
    "    def gaussian(x,amp,cen,sig):\n",
    "        return amp*np.exp(-(x-cen)**2/(2*sig**2))\n",
    "    def gaussian_plus_polynomial(x,amp,cen,sig,a,b,c): \n",
    "        return amp*np.exp(-(x-cen)**2/(2*sig**2)) + a*x**2 + b*x + c\n",
    "    popt,_ = curve_fit(gaussian_plus_polynomial,window_energies,window_counts,bounds =([0,600,0,-1000,-1000,-1000] ,[1000,650,20,1000,0,1000]))\n",
    "    popt_gaus = popt[0:3]\n",
    "    popt\n",
    "\n",
    "    ### Finding the average radon cpm for the hour, adding to overall array\n",
    "    predicted = gaussian_plus_polynomial(window_energies,*popt)\n",
    "    radon_count_Feb19[i] = gaussian(window_energies,*popt_gaus).sum()\n",
    "    #if i==491:\n",
    "        #break"
   ]
  },
  {
   "cell_type": "code",
   "execution_count": 73,
   "id": "919f973f-75b9-4cbe-8c04-3d702b31db1c",
   "metadata": {
    "jupyter": {
     "source_hidden": true
    },
    "tags": []
   },
   "outputs": [],
   "source": [
    "### Creates an dataframe of date and time to align counts and temperatures with (purely for readability, is not used in plotting at all)\n",
    "\n",
    "import time\n",
    "import numpy as np\n",
    "import pandas as pd\n",
    "\n",
    "current_time = 1549004400 # 11:00 PM on 12/31/18\n",
    "dates = []\n",
    "hour = []\n",
    "    \n",
    "for i in range(0,672):\n",
    "    current_time = current_time + 3600\n",
    "    time1 = time.localtime(current_time) \n",
    "    \n",
    "    year = str(time1[0])\n",
    "    month = str(time1[1])\n",
    "    day = str(time1[2])\n",
    "    \n",
    "    date_string = [month,day,year]\n",
    "    #test_string\n",
    "    dates.append('-'.join(date_string))\n",
    "    hour.append(time1[3])\n",
    "    \n",
    "temp_date = pd.DataFrame({'Date':dates})\n",
    "temp_hour = pd.DataFrame({'Hour':hour})\n",
    "Data_set_Feb19 = pd.concat([temp_date,temp_hour],axis=1)"
   ]
  },
  {
   "cell_type": "code",
   "execution_count": 74,
   "id": "21c3f14d-0c88-4ea0-8ed8-ad75a907d09e",
   "metadata": {
    "jupyter": {
     "source_hidden": true
    },
    "tags": []
   },
   "outputs": [],
   "source": [
    "### Turns Radon outputs into a dataframe, and concatenates with the overall data set\n",
    "import pandas as pd\n",
    "\n",
    "Output_Data = pd.DataFrame({'Radon Counts':radon_count_Feb19})\n",
    "Output2 = pd.DataFrame({'Total Counts':total_count_Feb19})\n",
    "Data_set_Feb19 = pd.concat([Data_set_Feb19,Output_Data,Output2],axis=1)"
   ]
  },
  {
   "cell_type": "code",
   "execution_count": 75,
   "id": "eb3a1c73-3bd2-45ae-83e1-38ee3baf6bb8",
   "metadata": {
    "jupyter": {
     "source_hidden": true
    },
    "tags": []
   },
   "outputs": [],
   "source": [
    "### Gathering appropriate average temperatures and concatenating with overall dataframe\n",
    "\n",
    "import pandas as pd\n",
    "import numpy as np\n",
    "\n",
    "T_Feb19 = Tdf[75174:82066].reset_index(drop=True)\n",
    "\n",
    "T_zeros = np.zeros(672)\n",
    "T_temp = pd.DataFrame({'Temperature':T_zeros})\n",
    "\n",
    "T_start = 1549008000\n",
    "T_end = T_start\n",
    "\n",
    "for j in range(0,672):\n",
    "    T_start = T_end\n",
    "    T_end = T_start + 3600\n",
    "    \n",
    "    T_bool = T_Feb19['deviceTime_unix'].between(T_start,T_end)\n",
    "    if T_bool.loc[T_bool==True].empty:\n",
    "        T_temp.iloc[j,0] = 0\n",
    "        continue\n",
    "    T_hourly = T_Feb19[T_bool].drop(columns=['deviceTime_local','deviceTime_unix'])\n",
    "    T_temp.iloc[j,0] = T_hourly.mean()\n",
    "\n",
    "Data_set_Feb19 = pd.concat([Data_set_Feb19,T_temp],axis=1)"
   ]
  },
  {
   "cell_type": "code",
   "execution_count": 76,
   "id": "145ebc34-7d31-4566-b599-ca79edbcf0a9",
   "metadata": {
    "jupyter": {
     "source_hidden": true
    },
    "tags": []
   },
   "outputs": [],
   "source": [
    "### Dropping out any rows that have a zero value for temperature or radon counts\n",
    "\n",
    "DS_final_Feb19 = Data_set_Feb19\n",
    "Radon_nonzero_Feb19 = (DS_final_Feb19['Radon Counts'] > 0) # Boolean output of the rows that have positive values for radon count\n",
    "DS_final_Feb19 = DS_final_Feb19[Radon_nonzero_Feb19] # Removes rows with a zero value for radon count\n",
    "#Radon_negative = (Data_set_final['Radon Counts'] > 0)\n",
    "#Data_set_final = Data_set_final[Radon_negative]\n",
    "Temperature_nonzero = (DS_final_Feb19['Temperature'] != 0) # same idea as Radon_nonzero, but now for temperature\n",
    "DS_final_Feb19 = DS_final_Feb19[Temperature_nonzero] # Removes any additional rows that have a 0 value for temperature"
   ]
  },
  {
   "cell_type": "code",
   "execution_count": 77,
   "id": "c80eb978-42e0-4e40-ad9b-26ccf4d23b6c",
   "metadata": {
    "jupyter": {
     "source_hidden": true
    },
    "tags": []
   },
   "outputs": [
    {
     "data": {
      "text/plain": [
       "Date             0\n",
       "Hour            22\n",
       "Radon Counts     0\n",
       "Total Counts     0\n",
       "Temperature      0\n",
       "dtype: int64"
      ]
     },
     "execution_count": 77,
     "metadata": {},
     "output_type": "execute_result"
    }
   ],
   "source": [
    "### Checking that the above cell worked properly, not necessary to run every time\n",
    "\n",
    "(DS_final_Feb19 == 0).sum()"
   ]
  },
  {
   "cell_type": "markdown",
   "id": "8dcb5588-7b2c-4a11-82ee-ef0c3bfce9e3",
   "metadata": {},
   "source": [
    "## With more temperature data, March 2019 and part of April 2019 would also potentially be useful (the radiation data exists)"
   ]
  },
  {
   "cell_type": "markdown",
   "id": "b33cd832",
   "metadata": {},
   "source": [
    "# Combining multiple chunks of data"
   ]
  },
  {
   "cell_type": "code",
   "execution_count": 78,
   "id": "674e0fb7",
   "metadata": {},
   "outputs": [
    {
     "data": {
      "text/html": [
       "<div>\n",
       "<style scoped>\n",
       "    .dataframe tbody tr th:only-of-type {\n",
       "        vertical-align: middle;\n",
       "    }\n",
       "\n",
       "    .dataframe tbody tr th {\n",
       "        vertical-align: top;\n",
       "    }\n",
       "\n",
       "    .dataframe thead th {\n",
       "        text-align: right;\n",
       "    }\n",
       "</style>\n",
       "<table border=\"1\" class=\"dataframe\">\n",
       "  <thead>\n",
       "    <tr style=\"text-align: right;\">\n",
       "      <th></th>\n",
       "      <th>Date</th>\n",
       "      <th>Hour</th>\n",
       "      <th>Radon Counts</th>\n",
       "      <th>Total Counts</th>\n",
       "      <th>Temperature</th>\n",
       "      <th>Weather Station T</th>\n",
       "    </tr>\n",
       "  </thead>\n",
       "  <tbody>\n",
       "    <tr>\n",
       "      <th>0</th>\n",
       "      <td>2-2-2018</td>\n",
       "      <td>0</td>\n",
       "      <td>21.049</td>\n",
       "      <td>1190.569</td>\n",
       "      <td>10.475</td>\n",
       "      <td>12.778</td>\n",
       "    </tr>\n",
       "    <tr>\n",
       "      <th>1</th>\n",
       "      <td>2-2-2018</td>\n",
       "      <td>1</td>\n",
       "      <td>15.575</td>\n",
       "      <td>1193.483</td>\n",
       "      <td>10.187</td>\n",
       "      <td>11.111</td>\n",
       "    </tr>\n",
       "    <tr>\n",
       "      <th>2</th>\n",
       "      <td>2-2-2018</td>\n",
       "      <td>2</td>\n",
       "      <td>18.781</td>\n",
       "      <td>1195.733</td>\n",
       "      <td>9.742</td>\n",
       "      <td>11.111</td>\n",
       "    </tr>\n",
       "    <tr>\n",
       "      <th>3</th>\n",
       "      <td>2-2-2018</td>\n",
       "      <td>3</td>\n",
       "      <td>23.484</td>\n",
       "      <td>1193.383</td>\n",
       "      <td>9.344</td>\n",
       "      <td>10.556</td>\n",
       "    </tr>\n",
       "    <tr>\n",
       "      <th>4</th>\n",
       "      <td>2-2-2018</td>\n",
       "      <td>4</td>\n",
       "      <td>21.372</td>\n",
       "      <td>1184.917</td>\n",
       "      <td>8.905</td>\n",
       "      <td>10.556</td>\n",
       "    </tr>\n",
       "    <tr>\n",
       "      <th>...</th>\n",
       "      <td>...</td>\n",
       "      <td>...</td>\n",
       "      <td>...</td>\n",
       "      <td>...</td>\n",
       "      <td>...</td>\n",
       "      <td>...</td>\n",
       "    </tr>\n",
       "    <tr>\n",
       "      <th>385</th>\n",
       "      <td>12-17-2018</td>\n",
       "      <td>1</td>\n",
       "      <td>21.443</td>\n",
       "      <td>NaN</td>\n",
       "      <td>13.572</td>\n",
       "      <td>11.111</td>\n",
       "    </tr>\n",
       "    <tr>\n",
       "      <th>386</th>\n",
       "      <td>12-17-2018</td>\n",
       "      <td>2</td>\n",
       "      <td>24.192</td>\n",
       "      <td>NaN</td>\n",
       "      <td>13.616</td>\n",
       "      <td>11.111</td>\n",
       "    </tr>\n",
       "    <tr>\n",
       "      <th>387</th>\n",
       "      <td>12-17-2018</td>\n",
       "      <td>3</td>\n",
       "      <td>12.980</td>\n",
       "      <td>NaN</td>\n",
       "      <td>13.350</td>\n",
       "      <td>11.667</td>\n",
       "    </tr>\n",
       "    <tr>\n",
       "      <th>388</th>\n",
       "      <td>12-17-2018</td>\n",
       "      <td>4</td>\n",
       "      <td>13.906</td>\n",
       "      <td>NaN</td>\n",
       "      <td>12.744</td>\n",
       "      <td>11.111</td>\n",
       "    </tr>\n",
       "    <tr>\n",
       "      <th>389</th>\n",
       "      <td>12-17-2018</td>\n",
       "      <td>5</td>\n",
       "      <td>16.277</td>\n",
       "      <td>NaN</td>\n",
       "      <td>11.913</td>\n",
       "      <td>10.556</td>\n",
       "    </tr>\n",
       "  </tbody>\n",
       "</table>\n",
       "<p>5359 rows × 6 columns</p>\n",
       "</div>"
      ],
      "text/plain": [
       "           Date  Hour  Radon Counts  Total Counts  Temperature  \\\n",
       "0      2-2-2018     0        21.049      1190.569       10.475   \n",
       "1      2-2-2018     1        15.575      1193.483       10.187   \n",
       "2      2-2-2018     2        18.781      1195.733        9.742   \n",
       "3      2-2-2018     3        23.484      1193.383        9.344   \n",
       "4      2-2-2018     4        21.372      1184.917        8.905   \n",
       "..          ...   ...           ...           ...          ...   \n",
       "385  12-17-2018     1        21.443           NaN       13.572   \n",
       "386  12-17-2018     2        24.192           NaN       13.616   \n",
       "387  12-17-2018     3        12.980           NaN       13.350   \n",
       "388  12-17-2018     4        13.906           NaN       12.744   \n",
       "389  12-17-2018     5        16.277           NaN       11.913   \n",
       "\n",
       "     Weather Station T  \n",
       "0               12.778  \n",
       "1               11.111  \n",
       "2               11.111  \n",
       "3               10.556  \n",
       "4               10.556  \n",
       "..                 ...  \n",
       "385             11.111  \n",
       "386             11.111  \n",
       "387             11.667  \n",
       "388             11.111  \n",
       "389             10.556  \n",
       "\n",
       "[5359 rows x 6 columns]"
      ]
     },
     "execution_count": 78,
     "metadata": {},
     "output_type": "execute_result"
    }
   ],
   "source": [
    "import pandas as pd\n",
    "DS_combined = pd.concat([DS_final_Feb, DS_final_Mar, DS_final_Apr, DS_final_May, DS_final_June, DS_final_July, DS_final_Aug, DS_final_Sep, DS_final_Oct, DS_final_Dec]) #, DS_final_Jan19, DS_final_Feb19])\n",
    "DS_combined"
   ]
  },
  {
   "cell_type": "code",
   "execution_count": 114,
   "id": "8e04d982-6845-4dcb-bf35-c1b02c05e5c0",
   "metadata": {},
   "outputs": [
    {
     "data": {
      "text/html": [
       "<div>\n",
       "<style scoped>\n",
       "    .dataframe tbody tr th:only-of-type {\n",
       "        vertical-align: middle;\n",
       "    }\n",
       "\n",
       "    .dataframe tbody tr th {\n",
       "        vertical-align: top;\n",
       "    }\n",
       "\n",
       "    .dataframe thead th {\n",
       "        text-align: right;\n",
       "    }\n",
       "</style>\n",
       "<table border=\"1\" class=\"dataframe\">\n",
       "  <thead>\n",
       "    <tr style=\"text-align: right;\">\n",
       "      <th></th>\n",
       "      <th>Date</th>\n",
       "      <th>Hour</th>\n",
       "      <th>Radon Counts</th>\n",
       "      <th>Total Counts</th>\n",
       "      <th>Temperature</th>\n",
       "      <th>Weather Station T</th>\n",
       "    </tr>\n",
       "  </thead>\n",
       "  <tbody>\n",
       "    <tr>\n",
       "      <th>0</th>\n",
       "      <td>2-2-2018</td>\n",
       "      <td>0</td>\n",
       "      <td>21.049</td>\n",
       "      <td>1190.569</td>\n",
       "      <td>10.475</td>\n",
       "      <td>12.778</td>\n",
       "    </tr>\n",
       "    <tr>\n",
       "      <th>1</th>\n",
       "      <td>2-2-2018</td>\n",
       "      <td>1</td>\n",
       "      <td>15.575</td>\n",
       "      <td>1193.483</td>\n",
       "      <td>10.187</td>\n",
       "      <td>11.111</td>\n",
       "    </tr>\n",
       "    <tr>\n",
       "      <th>2</th>\n",
       "      <td>2-2-2018</td>\n",
       "      <td>2</td>\n",
       "      <td>18.781</td>\n",
       "      <td>1195.733</td>\n",
       "      <td>9.742</td>\n",
       "      <td>11.111</td>\n",
       "    </tr>\n",
       "    <tr>\n",
       "      <th>3</th>\n",
       "      <td>2-2-2018</td>\n",
       "      <td>3</td>\n",
       "      <td>23.484</td>\n",
       "      <td>1193.383</td>\n",
       "      <td>9.344</td>\n",
       "      <td>10.556</td>\n",
       "    </tr>\n",
       "    <tr>\n",
       "      <th>4</th>\n",
       "      <td>2-2-2018</td>\n",
       "      <td>4</td>\n",
       "      <td>21.372</td>\n",
       "      <td>1184.917</td>\n",
       "      <td>8.905</td>\n",
       "      <td>10.556</td>\n",
       "    </tr>\n",
       "    <tr>\n",
       "      <th>...</th>\n",
       "      <td>...</td>\n",
       "      <td>...</td>\n",
       "      <td>...</td>\n",
       "      <td>...</td>\n",
       "      <td>...</td>\n",
       "      <td>...</td>\n",
       "    </tr>\n",
       "    <tr>\n",
       "      <th>385</th>\n",
       "      <td>12-17-2018</td>\n",
       "      <td>1</td>\n",
       "      <td>21.443</td>\n",
       "      <td>NaN</td>\n",
       "      <td>13.572</td>\n",
       "      <td>11.111</td>\n",
       "    </tr>\n",
       "    <tr>\n",
       "      <th>386</th>\n",
       "      <td>12-17-2018</td>\n",
       "      <td>2</td>\n",
       "      <td>24.192</td>\n",
       "      <td>NaN</td>\n",
       "      <td>13.616</td>\n",
       "      <td>11.111</td>\n",
       "    </tr>\n",
       "    <tr>\n",
       "      <th>387</th>\n",
       "      <td>12-17-2018</td>\n",
       "      <td>3</td>\n",
       "      <td>12.980</td>\n",
       "      <td>NaN</td>\n",
       "      <td>13.350</td>\n",
       "      <td>11.667</td>\n",
       "    </tr>\n",
       "    <tr>\n",
       "      <th>388</th>\n",
       "      <td>12-17-2018</td>\n",
       "      <td>4</td>\n",
       "      <td>13.906</td>\n",
       "      <td>NaN</td>\n",
       "      <td>12.744</td>\n",
       "      <td>11.111</td>\n",
       "    </tr>\n",
       "    <tr>\n",
       "      <th>389</th>\n",
       "      <td>12-17-2018</td>\n",
       "      <td>5</td>\n",
       "      <td>16.277</td>\n",
       "      <td>NaN</td>\n",
       "      <td>11.913</td>\n",
       "      <td>10.556</td>\n",
       "    </tr>\n",
       "  </tbody>\n",
       "</table>\n",
       "<p>5305 rows × 6 columns</p>\n",
       "</div>"
      ],
      "text/plain": [
       "           Date  Hour  Radon Counts  Total Counts  Temperature  \\\n",
       "0      2-2-2018     0        21.049      1190.569       10.475   \n",
       "1      2-2-2018     1        15.575      1193.483       10.187   \n",
       "2      2-2-2018     2        18.781      1195.733        9.742   \n",
       "3      2-2-2018     3        23.484      1193.383        9.344   \n",
       "4      2-2-2018     4        21.372      1184.917        8.905   \n",
       "..          ...   ...           ...           ...          ...   \n",
       "385  12-17-2018     1        21.443           NaN       13.572   \n",
       "386  12-17-2018     2        24.192           NaN       13.616   \n",
       "387  12-17-2018     3        12.980           NaN       13.350   \n",
       "388  12-17-2018     4        13.906           NaN       12.744   \n",
       "389  12-17-2018     5        16.277           NaN       11.913   \n",
       "\n",
       "     Weather Station T  \n",
       "0               12.778  \n",
       "1               11.111  \n",
       "2               11.111  \n",
       "3               10.556  \n",
       "4               10.556  \n",
       "..                 ...  \n",
       "385             11.111  \n",
       "386             11.111  \n",
       "387             11.667  \n",
       "388             11.111  \n",
       "389             10.556  \n",
       "\n",
       "[5305 rows x 6 columns]"
      ]
     },
     "execution_count": 114,
     "metadata": {},
     "output_type": "execute_result"
    }
   ],
   "source": [
    "Station_real = (DS_combined['Weather Station T'] > 0)\n",
    "DS_combined_mod = DS_combined[Station_real]\n",
    "DS_combined_mod"
   ]
  },
  {
   "cell_type": "markdown",
   "id": "d6f281aa",
   "metadata": {},
   "source": [
    "## Spot-checking cells"
   ]
  },
  {
   "cell_type": "code",
   "execution_count": 89,
   "id": "068a3b0d-3dd5-4aea-b211-fc1ff871f6d2",
   "metadata": {},
   "outputs": [],
   "source": [
    "mod_fix = DS_combined['Total Counts'].between(0,1500)\n",
    "DS_combined = DS_combined[mod_fix]"
   ]
  },
  {
   "cell_type": "code",
   "execution_count": 90,
   "id": "78f610f1",
   "metadata": {},
   "outputs": [
    {
     "data": {
      "text/plain": [
       "Text(0, 0.5, 'Weather Station')"
      ]
     },
     "execution_count": 90,
     "metadata": {},
     "output_type": "execute_result"
    },
    {
     "data": {
      "image/png": "[encoded data removed]",
      "text/plain": [
       "<Figure size 432x288 with 1 Axes>"
      ]
     },
     "metadata": {
      "needs_background": "light"
     },
     "output_type": "display_data"
    }
   ],
   "source": [
    "### Plotting radon counts vs temperature for the generated data set\n",
    "\n",
    "import matplotlib.pyplot as mp\n",
    "import numpy as np\n",
    "mp.scatter(DS_combined['Temperature'],DS_combined['Total Counts'])\n",
    "#x = np.linspace(0,25,1000)\n",
    "#y = x\n",
    "#mp.plot(x,y,'red')\n",
    "#mp.legend(['y=x','Temperature Data'])\n",
    "mp.title('%PRELIMINARY% Radon Counts vs Temperature (BME 280) for August 2018 \\n at Pinewood OS ')\n",
    "mp.xlabel('Temperature (C) (BME 280)')\n",
    "mp.ylabel('Total Radon Counts')"
   ]
  },
  {
   "cell_type": "code",
   "execution_count": 142,
   "id": "2d299b5a",
   "metadata": {},
   "outputs": [
    {
     "data": {
      "text/plain": [
       "Text(0.5, 0, 'Energy level (keV)')"
      ]
     },
     "execution_count": 142,
     "metadata": {},
     "output_type": "execute_result"
    },
    {
     "data": {
      "image/png": "[encoded data removed]",
      "text/plain": [
       "<Figure size 432x288 with 1 Axes>"
      ]
     },
     "metadata": {
      "needs_background": "light"
     },
     "output_type": "display_data"
    }
   ],
   "source": [
    "### Plotting whatever spectrum was most recently output from the loop cell to visualize whether or not it was a good fit\n",
    "\n",
    "import matplotlib.pyplot as mp\n",
    "%matplotlib inline\n",
    "mp.plot(window_energies,window_counts)\n",
    "mp.yscale(\"log\")\n",
    "mp.plot(window_energies,predicted)\n",
    "#mp.plot(window_energies,gaussian_predicted)\n",
    "mp.title('Spot check of spectrum from June 2018')\n",
    "mp.ylabel('Hourly averaged Counts')\n",
    "mp.xlabel('Energy level (keV)')"
   ]
  },
  {
   "cell_type": "markdown",
   "id": "171ac35e",
   "metadata": {},
   "source": [
    "## Statistical Analysis"
   ]
  },
  {
   "cell_type": "code",
   "execution_count": 85,
   "id": "b036303f-5e34-45ba-a23c-785599edc41b",
   "metadata": {},
   "outputs": [
    {
     "name": "stdout",
     "output_type": "stream",
     "text": [
      "-0.18188265613791924 1.0017328758985975e-99 0.08046545615377401\n"
     ]
    }
   ],
   "source": [
    "### Finding various stat parameters of the data set\n",
    "\n",
    "from scipy import stats\n",
    "import numpy as np\n",
    "x = DS_combined['Temperature'].to_numpy()\n",
    "y = DS_combined['Radon Counts'].to_numpy()\n",
    "slope, intercept, r_value, p_value, std_err = stats.linregress(x,y)\n",
    "print(slope,p_value,r_value**2)"
   ]
  },
  {
   "cell_type": "code",
   "execution_count": 81,
   "id": "13460b35",
   "metadata": {},
   "outputs": [
    {
     "name": "stdout",
     "output_type": "stream",
     "text": [
      "alpha = 19.554052352870755\n",
      "beta = -0.18188265613791924\n"
     ]
    },
    {
     "data": {
      "text/plain": [
       "0.08046545615377401"
      ]
     },
     "execution_count": 81,
     "metadata": {},
     "output_type": "execute_result"
    }
   ],
   "source": [
    "### Simple linear regression on the data set\n",
    "import numpy as np\n",
    "\n",
    "## Reading each column of data, and converting to a numpy array\n",
    "x=DS_combined['Temperature'].to_numpy()\n",
    "y=DS_combined['Radon Counts'].to_numpy()\n",
    "\n",
    "## Calculating the mean of each array\n",
    "xmean = np.mean(x)\n",
    "ymean = np.mean(y)\n",
    "\n",
    "## Calculating covariance\n",
    "xycov = (x-xmean)*(y-ymean)\n",
    "xvar = (x-xmean)**2\n",
    "\n",
    "## Calculating regression coefficients\n",
    "beta = xycov.sum()/xvar.sum()\n",
    "alpha = ymean - (beta*xmean)\n",
    "print('alpha =',alpha)\n",
    "print('beta =',beta)\n",
    "\n",
    "## Predicting y-values based on the model\n",
    "ypred = alpha + beta*x\n",
    "\n",
    "## Finding R^2 value for the data set\n",
    "r = np.corrcoef(x,y)[0,1]\n",
    "r_squared = r**2\n",
    "r_squared"
   ]
  },
  {
   "cell_type": "code",
   "execution_count": 93,
   "id": "f1eedd4a",
   "metadata": {},
   "outputs": [
    {
     "data": {
      "image/png": "[encoded data removed]",
      "text/plain": [
       "<Figure size 432x288 with 1 Axes>"
      ]
     },
     "metadata": {
      "needs_background": "light"
     },
     "output_type": "display_data"
    }
   ],
   "source": [
    "### Plotting regression model alonside original data\n",
    "\n",
    "import matplotlib.pyplot as mp\n",
    "\n",
    "mp.scatter(x,y)\n",
    "mp.plot(x,ypred,color = 'red')\n",
    "mp.xlabel('Temperature')\n",
    "mp.ylabel('Total Counts')\n",
    "mp.title('Linear regression on total counts for Pinewood OS site \\n (Gaussian+, Letting the function choose the peak, sigma<=20)')\n",
    "mp.show()"
   ]
  },
  {
   "cell_type": "code",
   "execution_count": null,
   "id": "5bcd499a",
   "metadata": {},
   "outputs": [],
   "source": [
    "df_full"
   ]
  }
 ],
 "metadata": {
  "kernelspec": {
   "display_name": "Python 3",
   "language": "python",
   "name": "python3"
  },
  "language_info": {
   "codemirror_mode": {
    "name": "ipython",
    "version": 3
   },
   "file_extension": ".py",
   "mimetype": "text/x-python",
   "name": "python",
   "nbconvert_exporter": "python",
   "pygments_lexer": "ipython3",
   "version": "3.8.8"
  }
 },
 "nbformat": 4,
 "nbformat_minor": 5
}
