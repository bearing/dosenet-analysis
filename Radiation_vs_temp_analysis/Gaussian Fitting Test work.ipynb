{
 "cells": [
  {
   "cell_type": "code",
   "execution_count": null,
   "id": "6dc7eaf5",
   "metadata": {},
   "outputs": [],
   "source": [
    "import numpy as np\n",
    "\n",
    "np.random.seed(1)\n",
    "data= np.random.normal(loc=0,scale=2,size=3000)"
   ]
  },
  {
   "cell_type": "code",
   "execution_count": null,
   "id": "9428c382",
   "metadata": {},
   "outputs": [],
   "source": [
    "import matplotlib.pyplot as mp\n",
    "data\n",
    "mp.hist(data)"
   ]
  },
  {
   "cell_type": "code",
   "execution_count": null,
   "id": "e539d4ea",
   "metadata": {},
   "outputs": [],
   "source": [
    "import numpy as np\n",
    "import matplotlib.pyplot as mp\n",
    "data_sorted = np.sort(data)\n",
    "mp.plot(data_sorted)\n",
    "\n",
    "xbins = np.linspace(-6.5,8,146)\n",
    "points = np.zeros(146)\n",
    "start = -6.5\n",
    "end = -6.4\n",
    "index = 0\n",
    "bin_index = 0\n",
    "\n",
    "while index<3000:\n",
    "    if data_sorted[index]<end and data_sorted[index]>start:\n",
    "        points[bin_index] += 1\n",
    "        index = index + 1\n",
    "    else:\n",
    "        start = end\n",
    "        end = start + 0.1\n",
    "        bin_index += 1\n",
    "        "
   ]
  },
  {
   "cell_type": "code",
   "execution_count": null,
   "id": "0b9267d8",
   "metadata": {},
   "outputs": [],
   "source": [
    "import matplotlib.pyplot as mp\n",
    "mp.plot(xbins,points)"
   ]
  },
  {
   "cell_type": "code",
   "execution_count": null,
   "id": "300f166b",
   "metadata": {},
   "outputs": [],
   "source": [
    "import numpy as np\n",
    "def gaussian(x,amp,cen,sig):\n",
    "    return amp*np.exp(-(x-cen)**2/(2*sig**2)) ### The function to match a gaussian distribution\n",
    "\n",
    "from scipy.optimize import curve_fit as cf\n",
    "\n",
    "val,cov = cf(gaussian,xbins,points) ### Val outputs are: a coefficient for the function (amplitude), the mean (center), and standard deviation (sigma)"
   ]
  },
  {
   "cell_type": "code",
   "execution_count": null,
   "id": "5b29664c",
   "metadata": {},
   "outputs": [],
   "source": [
    "val"
   ]
  }
 ],
 "metadata": {
  "kernelspec": {
   "display_name": "Python 3",
   "language": "python",
   "name": "python3"
  },
  "language_info": {
   "codemirror_mode": {
    "name": "ipython",
    "version": 3
   },
   "file_extension": ".py",
   "mimetype": "text/x-python",
   "name": "python",
   "nbconvert_exporter": "python",
   "pygments_lexer": "ipython3",
   "version": "3.9.5"
  }
 },
 "nbformat": 4,
 "nbformat_minor": 5
}
