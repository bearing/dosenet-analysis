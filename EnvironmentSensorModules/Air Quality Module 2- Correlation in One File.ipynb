{
 "cells": [
  {
   "cell_type": "markdown",
   "metadata": {},
   "source": [
    "#### Air Quality Module\n",
    "Author: Jennifer Atkins\n",
    "\n",
    "This is an example of plotting the correlation between two different types of air quality data from one csv file."
   ]
  },
  {
   "cell_type": "code",
   "execution_count": 1,
   "metadata": {
    "collapsed": true
   },
   "outputs": [],
   "source": [
    "# Plotting related python libraries\n",
    "import matplotlib.pyplot as plt\n",
    "\n",
    "# Standard csv python library\n",
    "import csv\n",
    "\n",
    "# Main python library for mathematical calculations\n",
    "import numpy as np\n",
    "\n",
    "# Python library for calculating the p value in correlation\n",
    "from scipy.stats.stats import pearsonr"
   ]
  },
  {
   "cell_type": "code",
   "execution_count": 2,
   "metadata": {
    "collapsed": true
   },
   "outputs": [],
   "source": [
    "def correlation_coefficient(xdata,ydata):\n",
    "    #Calculates the correlation coefficient between the two data types\n",
    "    # 'x' and 'y' data respresent the two data sets being compared\n",
    "\txmean = np.mean(xdata) #Calculating the average in each data set\n",
    "\tymean = np.mean(ydata)\n",
    "\txsigma = np.sqrt(np.var(xdata)) #Calculating the standard deviation in each data\n",
    "\tysigma = np.sqrt(np.var(ydata))\n",
    "\txysums = 0\n",
    "\tfor i in range(len(xdata)):\n",
    "\t\txdiff = xdata[i] - xmean\n",
    "\t\tydiff = ydata[i] - ymean\n",
    "\t\txysums = xdiff * ydiff +xysums\n",
    "\tstnddevs = xsigma * ysigma\n",
    "\tcoeff = xysums/stnddevs/len(xdata)\n",
    "\treturn coeff"
   ]
  },
  {
   "cell_type": "code",
   "execution_count": null,
   "metadata": {},
   "outputs": [],
   "source": [
    "#Opens csv file chosen by the user\n",
    "user_file = input(\"File Name: \")\n",
    "results = csv.reader(open(user_file), delimiter=',')"
   ]
  },
  {
   "cell_type": "code",
   "execution_count": null,
   "metadata": {
    "collapsed": true
   },
   "outputs": [],
   "source": [
    "#Tells user that each number (1-9) represents a collumn in the data file, the collumn numbers correspond with one type of data\n",
    "print(\"KEY: 1 = 0.3um, 2 = 0.5um, 3 = 1.0um, 4 = 2.5um, 5 = 5.0um, 6 = 10um, 7 = PM 1.0, 8 = PM 2.5, 9 = PM 10\")\n",
    "\n",
    "#User indicates which data types to compare\n",
    "data_a = int(input(\"Particulate Size 1 (Enter a number between 1 and 9): \"))\n",
    "data_b = int(input(\"Particulate Size 2 (Enter a different number between 1 and 9): \"))"
   ]
  },
  {
   "cell_type": "code",
   "execution_count": null,
   "metadata": {
    "collapsed": true
   },
   "outputs": [],
   "source": [
    "labelA = []\n",
    "labelB = []\n",
    "\n",
    "#Depending on which data type chosen, the types' names are appended to the x/y-axis labels\n",
    "if data_a == 1:\n",
    "\tlabelA.append(\"0.3 um\")\n",
    "elif data_a == 2:\n",
    "\tlabelA.append(\"0.5 um\")\n",
    "elif data_a == 3:\n",
    "\tlabelA.append(\"1.0 um\")\n",
    "elif data_a == 4:\n",
    "\tlabelA.append(\"2.5 um\")\n",
    "elif data_a == 5:\n",
    "\tlabelA.append(\"5.0 um\")\n",
    "elif data_a == 6:\n",
    "\tlabelA.append(\"10 um\")\n",
    "elif data_a == 7:\n",
    "\tlabelA.append(\"PM 1.0\")\n",
    "elif data_a == 8:\n",
    "\tlabelA.append(\"PM 2.5\")\n",
    "elif data_a == 9:\n",
    "\tlabelA.append(\"PM 10\")\n",
    "\n",
    "if data_b == 1:\n",
    "\tlabelB.append(\"0.3 um\")\n",
    "elif data_b == 2:\n",
    "\tlabelB.append(\"0.5 um\")\n",
    "elif data_b == 3:\n",
    "\tlabelB.append(\"1.0 um\")\n",
    "elif data_b == 4:\n",
    "\tlabelB.append(\"2.5 um\")\n",
    "elif data_b == 5:\n",
    "\tlabelB.append(\"5.0 um\")\n",
    "elif data_b == 6:\n",
    "\tlabelB.append(\"10 um\")\n",
    "elif data_b == 7:\n",
    "\tlabelB.append(\"PM 1.0\")\n",
    "elif data_b == 8:\n",
    "\tlabelB.append(\"PM 2.5\")\n",
    "elif data_b == 9:\n",
    "\tlabelB.append(\"PM 10\")\n",
    "\n",
    "#Converts list to string\n",
    "Alabel = ''.join(labelA)\n",
    "Blabel = ''.join(labelB)"
   ]
  },
  {
   "cell_type": "code",
   "execution_count": null,
   "metadata": {
    "collapsed": true
   },
   "outputs": [],
   "source": [
    "ValA = []\n",
    "ValB = []\n",
    "\n",
    "row_counter= 0\n",
    "for r in results:\n",
    "    #Skip first row (Row that specifies fields)\n",
    "    row_counter += 1\n",
    "    if row_counter>1:\n",
    "        #Append each column in CSV to a separate list\n",
    "        ValA.append(int(r[data_a])) #data_a/b stands for the collumn number chosen by user\n",
    "        ValB.append(int(r[data_b]))"
   ]
  },
  {
   "cell_type": "code",
   "execution_count": null,
   "metadata": {
    "collapsed": true
   },
   "outputs": [],
   "source": [
    "#Choose the number of data points to combine and average\n",
    "n_merge = int(input(\"n data points to combine:\"))\n",
    "ndata_a = len(ValA)\n",
    "ndata_b = len(ValB)\n",
    "nsum_data_a= int(ndata_a/n_merge)\n",
    "nsum_data_b= int(ndata_b/n_merge)"
   ]
  },
  {
   "cell_type": "code",
   "execution_count": null,
   "metadata": {
    "collapsed": true
   },
   "outputs": [],
   "source": [
    "data_ave_a = []\n",
    "data_ave_b = []\n",
    "data_unc_a = []\n",
    "data_unc_b = []\n",
    "\n",
    "for i in range(nsum_data_a):\n",
    "    #Calculate the mean and standard deviation\n",
    "\tidata = ValA[i*n_merge:(i+1)*n_merge]\n",
    "\tidata_array = np.asarray(idata) #Convert 'idata' to a numpy array\n",
    "\taqmeana = np.mean(idata_array)\n",
    "\taqsigmaA = np.sqrt(np.var(idata_array))\n",
    "\tdata_ave_a.append(aqmeana)\n",
    "\tdata_unc_a.append(aqsigmaA)\n",
    "\n",
    "for i in range(nsum_data_b):\n",
    "\tidata = ValB[i*n_merge:(i+1)*n_merge]\n",
    "\tidata_array = np.asarray(idata)\n",
    "\taqmeanb = np.mean(idata_array)\n",
    "\taqsigmaB = np.sqrt(np.var(idata_array))\n",
    "\tdata_ave_b.append(aqmeanb)\n",
    "\tdata_unc_b.append(aqsigmaB)"
   ]
  },
  {
   "cell_type": "code",
   "execution_count": null,
   "metadata": {
    "collapsed": true
   },
   "outputs": [],
   "source": [
    "#Calculate the correlation coefficient and p value of the two data types\n",
    "correlation_values = pearsonr(data_ave_a, data_ave_b)\n",
    "p_value = (\"p Value =\", correlation_values[1])\n",
    "\n",
    "corr_coeff = correlation_coefficient(np.asarray(data_ave_a),np.asarray(data_ave_b))\n",
    "corr_statemnt = \"Correlation coefficient = \", corr_coeff"
   ]
  },
  {
   "cell_type": "code",
   "execution_count": null,
   "metadata": {
    "collapsed": true
   },
   "outputs": [],
   "source": [
    "#Plot the correlation\n",
    "plt.figure(1)\n",
    "plt.plot(data_ave_a, data_ave_b, \"b.\")\n",
    "plt.xlabel(Alabel)\n",
    "plt.ylabel(Blabel)\n",
    "file_title = \"Air Quality Correlation Results\"\n",
    "plt.annotate(corr_statemnt, xy=(0, 1), xytext=(12, -12), va='top', #Print correlation coefficient in top left corner of graph\n",
    "\txycoords='axes fraction', textcoords='offset points')\n",
    "plt.annotate(p_value, xy=(0, .94), xytext=(12, -12), va='top', #Print p value underneath the correlation coeff.\n",
    "\txycoords='axes fraction', textcoords='offset points')\n",
    "plt.title(file_title)\n",
    "\n",
    "plt.show()"
   ]
  }
 ],
 "metadata": {
  "kernelspec": {
   "display_name": "Python 3",
   "language": "python",
   "name": "python3"
  },
  "language_info": {
   "codemirror_mode": {
    "name": "ipython",
    "version": 3
   },
   "file_extension": ".py",
   "mimetype": "text/x-python",
   "name": "python",
   "nbconvert_exporter": "python",
   "pygments_lexer": "ipython3",
   "version": "3.6.5"
  }
 },
 "nbformat": 4,
 "nbformat_minor": 2
}
