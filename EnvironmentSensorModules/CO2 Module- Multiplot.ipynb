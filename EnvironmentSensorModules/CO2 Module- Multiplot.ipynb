{
 "cells": [
  {
   "cell_type": "markdown",
   "metadata": {},
   "source": [
    "#### CO2 Sensor Module\n",
    "\n",
    "Author: Maddie Robinson\n",
    "\n",
    "This is an example of plotting CO2 data from two different csv files and the correlation between them."
   ]
  },
  {
   "cell_type": "code",
   "execution_count": 1,
   "metadata": {
    "collapsed": true
   },
   "outputs": [],
   "source": [
    "# Plotting related python libraries\n",
    "import matplotlib.pyplot as plt\n",
    "from matplotlib import style\n",
    "\n",
    "# Standard csv python libraries\n",
    "import csv\n",
    "\n",
    "# Python libraries for manipulating dates and times as objects\n",
    "import dateutil\n",
    "import time\n",
    "import datetime\n",
    "\n",
    "# Main python library for mathematical calculations\n",
    "import numpy as np\n",
    "\n",
    "# Python library for calculating p value in correlation\n",
    "from scipy.stats.stats import pearsonr"
   ]
  },
  {
   "cell_type": "code",
   "execution_count": 2,
   "metadata": {
    "collapsed": true
   },
   "outputs": [],
   "source": [
    "def get_covariance(yfile1, yfile2):\n",
    "# Calculate the correlation coefficient between the CO2 values from two separate files \n",
    "\n",
    "\tyfile1_sigma = np.sqrt(np.var(yfile1))\n",
    "\tyfile2_sigma = np.sqrt(np.var(yfile2))\n",
    "\tyfile1_mean = np.mean(yfile1)\n",
    "\tyfile2_mean = np.mean(yfile2)\n",
    "\n",
    "\tfiles1and2_sum = 0\n",
    "\tfor i in range(len(yfile1)):\n",
    "\t\tfiles1and2_sum = files1and2_sum + (yfile1[i]-yfile1_mean)*(yfile2[i]-yfile2_mean)\n",
    "\tcorrelation_coef = files1and2_sum / ((yfile1_sigma)*(yfile2_sigma)) / len(yfile1)\n",
    "\treturn correlation_coef"
   ]
  },
  {
   "cell_type": "code",
   "execution_count": null,
   "metadata": {},
   "outputs": [],
   "source": [
    "# User imputs name of first file\n",
    "user_file = input(\"File Name 1: \")\n",
    "\n",
    "# Store time and CO2 raw data from first file\n",
    "results = csv.reader(open(user_file), delimiter=',')\n",
    "times = []\n",
    "CO2 = []\n",
    "row_counter = 0\n",
    "for r in results:\n",
    "\trow_counter += 1\n",
    "\tif row_counter>1:\n",
    "\t\ttimes.append(dateutil.parser.parse(r[0]))\n",
    "\t\tCO2.append(int(r[1]))\n",
    "\n",
    "# Merge n CO2 data points\n",
    "n_merge = int(input(\"n data points to combine:\"))\n",
    "ndata = len(CO2)\n",
    "nsum_data = int(ndata/n_merge)\n",
    "\n",
    "data_ave = []\n",
    "data_unc = []\n",
    "merge_times = []\n",
    "\n",
    "# Calculate mean and standard deviation of first file data\n",
    "# Merge times to match merged data points\n",
    "for i in range(nsum_data):\n",
    "\tidata = CO2[i*n_merge:(i+1)*n_merge]\n",
    "\tidata_array = np.asarray(idata)\n",
    "\tCO2mean = np.mean(idata_array)\n",
    "\tCO2sigma = np.sqrt(np.var(idata_array))\n",
    "\tdata_ave.append(CO2mean)\n",
    "\tdata_unc.append(CO2sigma)\n",
    "\titimes = times[i*n_merge:(i+1)*n_merge]\n",
    "\titime = itimes[int(len(itimes)/2)]\n",
    "\tmerge_times.append(itime)"
   ]
  },
  {
   "cell_type": "code",
   "execution_count": null,
   "metadata": {
    "collapsed": true
   },
   "outputs": [],
   "source": [
    "# User imputs name of second file\n",
    "user_file_2 = input(\"File Name 2: \")\n",
    "\n",
    "# Store time and CO2 raw data from second file\n",
    "results_2 = csv.reader(open(user_file_2), delimiter=',')\n",
    "times_2 = []\n",
    "CO2_2 = []\n",
    "row_counter = 0\n",
    "for r in results_2:\n",
    "\trow_counter += 1\n",
    "\tif row_counter>1:\n",
    "\t\ttimes_2.append(dateutil.parser.parse(r[0]))\n",
    "\t\tCO2_2.append(int(r[1]))\n",
    "\n",
    "# Merge n CO2 data points        \n",
    "n_merge_2 = int(input(\"n data points to combine:\"))\n",
    "ndata_2 = len(CO2_2)\n",
    "nsum_data_2 = int(ndata_2/n_merge_2)\n",
    "\n",
    "data_ave_2 = []\n",
    "data_unc_2 = []\n",
    "merge_times_2 = []\n",
    "\n",
    "# Calculate mean and standard deviation of second file data\n",
    "# Merge times to match merged data points\n",
    "for i in range(nsum_data_2):\n",
    "\tidata_2 = CO2_2[i*n_merge_2:(i+1)*n_merge_2]\n",
    "\tidata_array_2 = np.asarray(idata_2)\n",
    "\tCO2mean_2 = np.mean(idata_array_2)\n",
    "\tCO2sigma_2 = np.sqrt(np.var(idata_array_2))\n",
    "\tdata_ave_2.append(CO2mean_2)\n",
    "\tdata_unc_2.append(CO2sigma_2)\n",
    "\titimes_2 = times_2[i*n_merge_2:(i+1)*n_merge_2]\n",
    "\titime_2 = itimes_2[int(len(itimes_2)/2)]\n",
    "\tmerge_times_2.append(itime_2)"
   ]
  },
  {
   "cell_type": "code",
   "execution_count": null,
   "metadata": {
    "collapsed": true
   },
   "outputs": [],
   "source": [
    "# Convert data averages into arrays\n",
    "CO2file1_array = np.asarray(data_ave)\n",
    "CO2file2_array = np.asarray(data_ave_2)\n",
    "correlation_coef = get_covariance(CO2file1_array, CO2file2_array)\n",
    "\n",
    "# Print correlation coefficient to terminal\n",
    "print(\"Correlation: {}\".format(correlation_coef))\n",
    "\n",
    "# Print length of data averages to terminal\n",
    "print(\"Length of touch data: {}, Length of open data: {}\".format(len(data_ave),len(data_ave_2)))\n",
    "\n",
    "# Calculate and print p value to terminal\n",
    "correlation_values = pearsonr(CO2file1_array, CO2file2_array)\n",
    "print(\"p value =\", correlation_values[1])"
   ]
  },
  {
   "cell_type": "code",
   "execution_count": null,
   "metadata": {
    "collapsed": true
   },
   "outputs": [],
   "source": [
    "# Plot time vs CO2 data\n",
    "fig = plt.figure()\n",
    "plt.plot(merge_times, data_ave, \"b.\", label=\"File 1\")\n",
    "plt.plot(merge_times_2, data_ave_2, \"g.\", label=\"File 2\")\n",
    "plt.errorbar(merge_times, data_ave, yerr = data_unc)\n",
    "plt.errorbar(merge_times_2, data_ave_2, yerr = data_unc_2)\n",
    "plt.xlabel(\"Time\")\n",
    "plt.ylabel(\"CO2 (ppm)\")\n",
    "plt.legend()\n",
    "plt.grid(True,color='k')\n",
    "fig.autofmt_xdate()\n",
    "\n",
    "# Plot CO2 correlation between files\n",
    "fig = plt.figure()\n",
    "plt.plot(CO2file1_array, CO2file2_array, \"b.\")\n",
    "plt.xlabel(\"CO2 file 1\")\n",
    "plt.ylabel(\"CO2 file 2\")\n",
    "\n",
    "# Print correlation coefficient to CO2 correlation figure\n",
    "# Print p vlaue to CO2 correlation figure\n",
    "corr_statement = \"Correlation Coefficient =\", correlation_coef\n",
    "p_value = \"P Value =\", correlation_values[1]\n",
    "plt.annotate(corr_statement, xy=(0,1), xytext=(12,-12), va='top',\n",
    "\txycoords='axes fraction', textcoords='offset points')\n",
    "plt.annotate(p_value, xy=(0,0.94), xytext=(12,-12), va='top',\n",
    "\txycoords='axes fraction', textcoords='offset points')\n",
    "plt.show()"
   ]
  }
 ],
 "metadata": {
  "kernelspec": {
   "display_name": "Python 3",
   "language": "python",
   "name": "python3"
  },
  "language_info": {
   "codemirror_mode": {
    "name": "ipython",
    "version": 3
   },
   "file_extension": ".py",
   "mimetype": "text/x-python",
   "name": "python",
   "nbconvert_exporter": "python",
   "pygments_lexer": "ipython3",
   "version": "3.6.5"
  }
 },
 "nbformat": 4,
 "nbformat_minor": 2
}
