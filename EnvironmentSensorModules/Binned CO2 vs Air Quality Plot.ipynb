{
 "cells": [
  {
   "cell_type": "markdown",
   "metadata": {},
   "source": [
    "# Binned CO2 vs Air Quality Plot"
   ]
  },
  {
   "cell_type": "code",
   "execution_count": 1,
   "metadata": {
    "collapsed": false
   },
   "outputs": [
    {
     "name": "stdout",
     "output_type": "stream",
     "text": [
      "How many minutes would you like to bin by? Type that number followed by a capital T, all enclosed in single quotes '40T'\n"
     ]
    }
   ],
   "source": [
    "import pandas as pd\n",
    "from bokeh.plotting import figure\n",
    "from bokeh.io import show\n",
    "\n",
    "bin = input(\"How many minutes would you like to bin by? Type that number followed by a capital T, all enclosed in single quotes \")\n"
   ]
  },
  {
   "cell_type": "markdown",
   "metadata": {},
   "source": [
    "Use the pandas resample method to bin the file according to time"
   ]
  },
  {
   "cell_type": "code",
   "execution_count": 2,
   "metadata": {
    "collapsed": false
   },
   "outputs": [
    {
     "name": "stdout",
     "output_type": "stream",
     "text": [
      "Name of CO2 file: 'chs_os_adc.csv'\n"
     ]
    }
   ],
   "source": [
    "df1 = pd.read_csv(input(\"Name of CO2 file: \"))\n",
    "\n",
    "df1 = df1[['deviceTime_unix','co2_ppm']].copy()\n",
    "\n",
    "df1 = df1.set_index(['deviceTime_unix'])\n",
    "df1.index = pd.to_datetime(df1.index, unit='s')\n",
    "\n",
    "df_binned = df1.resample(bin).mean().dropna().reset_index()"
   ]
  },
  {
   "cell_type": "code",
   "execution_count": 3,
   "metadata": {
    "collapsed": false
   },
   "outputs": [
    {
     "name": "stdout",
     "output_type": "stream",
     "text": [
      "Name of Air Quality File: 'chs_os_aq.csv'\n",
      "Name the air quality data you would like to use'PM25'\n"
     ]
    }
   ],
   "source": [
    "df2 = pd.read_csv(input('Name of Air Quality File: '))\n",
    "aqType = input(\"Name the air quality data you would like to use\")\n",
    "\n",
    "df2 = df2[['deviceTime_unix',aqType]].copy()\n",
    "\n",
    "df2 = df2.set_index(['deviceTime_unix'])\n",
    "df2.index = pd.to_datetime(df2.index, unit='s')\n",
    "df2_binned = df2.resample(bin).mean().dropna().reset_index()\n"
   ]
  },
  {
   "cell_type": "code",
   "execution_count": 4,
   "metadata": {
    "collapsed": false
   },
   "outputs": [
    {
     "name": "stderr",
     "output_type": "stream",
     "text": [
      "/Users/albertqiang/anaconda2/lib/python2.7/site-packages/bokeh/models/sources.py:89: BokehUserWarning: ColumnDataSource's columns must be of the same length\n",
      "  lambda: warnings.warn(\"ColumnDataSource's columns must be of the same length\", BokehUserWarning))\n"
     ]
    }
   ],
   "source": [
    "p = figure()\n",
    "p.circle(y=df2_binned['PM25'],x=df_binned['co2_ppm'], color = \"red\")\n",
    "\n",
    "show(p)"
   ]
  }
 ],
 "metadata": {
  "kernelspec": {
   "display_name": "Python 2",
   "language": "python",
   "name": "python2"
  },
  "language_info": {
   "codemirror_mode": {
    "name": "ipython",
    "version": 2
   },
   "file_extension": ".py",
   "mimetype": "text/x-python",
   "name": "python",
   "nbconvert_exporter": "python",
   "pygments_lexer": "ipython2",
   "version": "2.7.13"
  }
 },
 "nbformat": 4,
 "nbformat_minor": 2
}
