{
 "cells": [
  {
   "cell_type": "markdown",
   "metadata": {},
   "source": [
    "# Plotting the Correlation between different Weather Data (Single Sensor)"
   ]
  },
  {
   "cell_type": "markdown",
   "metadata": {},
   "source": [
    "This program is meant to plot the correlation between two types of weather data (temperature, pressure, or humidity) obtained from a single sensor"
   ]
  },
  {
   "cell_type": "code",
   "execution_count": null,
   "metadata": {
    "collapsed": true
   },
   "outputs": [],
   "source": [
    "# Shoutout to my homies at StackOverFlow - you da real MVPs\n",
    "\n",
    "import pandas as pd\n",
    "import scipy.stats\n",
    "from bokeh.plotting import figure\n",
    "from bokeh.io import show\n",
    "from bokeh.models import HoverTool , Label\n"
   ]
  },
  {
   "cell_type": "code",
   "execution_count": null,
   "metadata": {
    "collapsed": true
   },
   "outputs": [],
   "source": [
    "weather_file = input(\"Write the name of the weather file you want to use: \")\n",
    "df = pd.read_csv(weather_file)\n",
    "\n",
    "# Ravel converts the columns that have been read in to 1-d arrays\n",
    "\n",
    "temp = df.as_matrix(columns=df.columns[3:4])\n",
    "temp = temp.ravel()\n",
    "humidity = df.as_matrix(columns=df.columns[4:5])\n",
    "humidity = humidity.ravel()\n",
    "pressure = df.as_matrix(columns=df.columns[5:])\n",
    "pressure = pressure.ravel()"
   ]
  },
  {
   "cell_type": "markdown",
   "metadata": {},
   "source": [
    "This program uses bokeh, so the resulting plot is an HTML file "
   ]
  },
  {
   "cell_type": "code",
   "execution_count": null,
   "metadata": {
    "collapsed": true
   },
   "outputs": [],
   "source": [
    "# User is asked which two variables to plot against each other\n",
    "\n",
    "xaxis = input(\"X axis plots: temp, humidity, or pressure: \")\n",
    "yaxis = input(\"Y axis plots: temp, humidity, or pressure: \")\n",
    "\n",
    "# The plot is made, and the Pearson correlation coefficient is calculated and added to the plot\n",
    "\n",
    "p = figure(tools = \"pan,wheel_zoom,box_zoom,reset\")\n",
    "p.add_tools(HoverTool(tooltips=[(\"(x,y)\", \"($x, $y)\")]))\n",
    "\n",
    "correlation = Label(x=50, y=50, x_units='screen', y_units='screen', text=\"Pearson r and p: \"+ str(scipy.stats.pearsonr(xaxis, yaxis)))\n",
    "\n",
    "p.add_layout(correlation)\n",
    "\n",
    "p.circle(x = xaxis, y = yaxis, color = \"firebrick\", size = 0.5)\n",
    "\n",
    "show(p)\n"
   ]
  }
 ],
 "metadata": {
  "kernelspec": {
   "display_name": "Python 2",
   "language": "python",
   "name": "python2"
  },
  "language_info": {
   "codemirror_mode": {
    "name": "ipython",
    "version": 2
   },
   "file_extension": ".py",
   "mimetype": "text/x-python",
   "name": "python",
   "nbconvert_exporter": "python",
   "pygments_lexer": "ipython2",
   "version": "2.7.13"
  }
 },
 "nbformat": 4,
 "nbformat_minor": 2
}
